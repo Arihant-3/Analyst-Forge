{
 "cells": [
  {
   "cell_type": "markdown",
   "id": "e12271c0",
   "metadata": {},
   "source": [
    "DATA CREATION"
   ]
  },
  {
   "cell_type": "markdown",
   "id": "671b1122",
   "metadata": {},
   "source": [
    "You're simulating a pricing experiment for a freemium productivity app.\n",
    "The company wants to test how different price points affect conversion rate and revenue."
   ]
  },
  {
   "cell_type": "code",
   "execution_count": 1,
   "id": "29441693",
   "metadata": {},
   "outputs": [],
   "source": [
    "import pandas as pd\n",
    "import numpy as np\n",
    "\n",
    "np.random.seed(25)\n",
    "\n",
    "n = 3000\n",
    "\n",
    "# Simulate 3 price points: $5, $10, $15\n",
    "prices = np.random.choice([5, 10, 15], size=n, p=[0.3, 0.4, 0.3])\n",
    "\n",
    "# Simulate conversion probabilities\n",
    "def simulate_conversion(p):\n",
    "    if p == 5:\n",
    "        return np.random.binomial(1, 0.18)\n",
    "    elif p == 10:\n",
    "        return np.random.binomial(1, 0.12)\n",
    "    else:\n",
    "        return np.random.binomial(1, 0.06)\n",
    "\n",
    "df = pd.DataFrame({\n",
    "    'User_ID': np.arange(1, n + 1),\n",
    "    'Price_Offered': prices\n",
    "})\n",
    "\n",
    "df['Converted'] = df['Price_Offered'].apply(simulate_conversion)\n",
    "df['Revenue'] = df['Converted'] * df['Price_Offered']\n",
    "\n",
    "df.to_csv(\"pricing_experiment.csv\", index=False)\n"
   ]
  },
  {
   "cell_type": "markdown",
   "id": "11f15dfc",
   "metadata": {},
   "source": [
    "## Task:\n",
    "1. Conversion & Revenue Breakdown:\n",
    "    - What is the conversion rate at each price point?\n",
    "    - What is the total revenue generated from each?\n",
    "    - Create a visual trade-off chart (price vs. conversion vs. revenue).\n",
    "\n",
    "2. Find the Sweet Spot:\n",
    "    - Which price gives the best revenue?\n",
    "    - Which price gives best conversion?\n",
    "    - What would you recommend to maximize total revenue while maintaining user base?\n",
    "\n",
    "3. Run a What-If Scenario:\n",
    "    - Imagine a fourth price point: $7\n",
    "        - Estimate its conversion using linear interpolation between $5 and $10.\n",
    "        - Add it to your analysis: how would it change the revenue curve?"
   ]
  },
  {
   "cell_type": "code",
   "execution_count": 2,
   "id": "0da9604a",
   "metadata": {},
   "outputs": [
    {
     "data": {
      "application/vnd.microsoft.datawrangler.viewer.v0+json": {
       "columns": [
        {
         "name": "index",
         "rawType": "int64",
         "type": "integer"
        },
        {
         "name": "User_ID",
         "rawType": "int64",
         "type": "integer"
        },
        {
         "name": "Price_Offered",
         "rawType": "int64",
         "type": "integer"
        },
        {
         "name": "Converted",
         "rawType": "int64",
         "type": "integer"
        },
        {
         "name": "Revenue",
         "rawType": "int64",
         "type": "integer"
        }
       ],
       "ref": "4211309f-53cb-4d30-a2ba-7355627ec4ab",
       "rows": [
        [
         "0",
         "1",
         "15",
         "0",
         "0"
        ],
        [
         "1",
         "2",
         "10",
         "0",
         "0"
        ],
        [
         "2",
         "3",
         "5",
         "0",
         "0"
        ],
        [
         "3",
         "4",
         "5",
         "1",
         "5"
        ],
        [
         "4",
         "5",
         "10",
         "0",
         "0"
        ]
       ],
       "shape": {
        "columns": 4,
        "rows": 5
       }
      },
      "text/html": [
       "<div>\n",
       "<style scoped>\n",
       "    .dataframe tbody tr th:only-of-type {\n",
       "        vertical-align: middle;\n",
       "    }\n",
       "\n",
       "    .dataframe tbody tr th {\n",
       "        vertical-align: top;\n",
       "    }\n",
       "\n",
       "    .dataframe thead th {\n",
       "        text-align: right;\n",
       "    }\n",
       "</style>\n",
       "<table border=\"1\" class=\"dataframe\">\n",
       "  <thead>\n",
       "    <tr style=\"text-align: right;\">\n",
       "      <th></th>\n",
       "      <th>User_ID</th>\n",
       "      <th>Price_Offered</th>\n",
       "      <th>Converted</th>\n",
       "      <th>Revenue</th>\n",
       "    </tr>\n",
       "  </thead>\n",
       "  <tbody>\n",
       "    <tr>\n",
       "      <th>0</th>\n",
       "      <td>1</td>\n",
       "      <td>15</td>\n",
       "      <td>0</td>\n",
       "      <td>0</td>\n",
       "    </tr>\n",
       "    <tr>\n",
       "      <th>1</th>\n",
       "      <td>2</td>\n",
       "      <td>10</td>\n",
       "      <td>0</td>\n",
       "      <td>0</td>\n",
       "    </tr>\n",
       "    <tr>\n",
       "      <th>2</th>\n",
       "      <td>3</td>\n",
       "      <td>5</td>\n",
       "      <td>0</td>\n",
       "      <td>0</td>\n",
       "    </tr>\n",
       "    <tr>\n",
       "      <th>3</th>\n",
       "      <td>4</td>\n",
       "      <td>5</td>\n",
       "      <td>1</td>\n",
       "      <td>5</td>\n",
       "    </tr>\n",
       "    <tr>\n",
       "      <th>4</th>\n",
       "      <td>5</td>\n",
       "      <td>10</td>\n",
       "      <td>0</td>\n",
       "      <td>0</td>\n",
       "    </tr>\n",
       "  </tbody>\n",
       "</table>\n",
       "</div>"
      ],
      "text/plain": [
       "   User_ID  Price_Offered  Converted  Revenue\n",
       "0        1             15          0        0\n",
       "1        2             10          0        0\n",
       "2        3              5          0        0\n",
       "3        4              5          1        5\n",
       "4        5             10          0        0"
      ]
     },
     "execution_count": 2,
     "metadata": {},
     "output_type": "execute_result"
    }
   ],
   "source": [
    "df.head()"
   ]
  },
  {
   "cell_type": "code",
   "execution_count": 3,
   "id": "0290ab88",
   "metadata": {},
   "outputs": [
    {
     "name": "stdout",
     "output_type": "stream",
     "text": [
      "<class 'pandas.core.frame.DataFrame'>\n",
      "RangeIndex: 3000 entries, 0 to 2999\n",
      "Data columns (total 4 columns):\n",
      " #   Column         Non-Null Count  Dtype\n",
      "---  ------         --------------  -----\n",
      " 0   User_ID        3000 non-null   int64\n",
      " 1   Price_Offered  3000 non-null   int64\n",
      " 2   Converted      3000 non-null   int64\n",
      " 3   Revenue        3000 non-null   int64\n",
      "dtypes: int64(4)\n",
      "memory usage: 93.9 KB\n"
     ]
    }
   ],
   "source": [
    "df.info()"
   ]
  },
  {
   "cell_type": "code",
   "execution_count": 4,
   "id": "d7ca4941",
   "metadata": {},
   "outputs": [
    {
     "data": {
      "application/vnd.microsoft.datawrangler.viewer.v0+json": {
       "columns": [
        {
         "name": "Converted",
         "rawType": "int64",
         "type": "integer"
        },
        {
         "name": "count",
         "rawType": "int64",
         "type": "integer"
        }
       ],
       "ref": "1956621d-bc92-4803-8f24-343e5c4d400a",
       "rows": [
        [
         "0",
         "2610"
        ],
        [
         "1",
         "390"
        ]
       ],
       "shape": {
        "columns": 1,
        "rows": 2
       }
      },
      "text/plain": [
       "Converted\n",
       "0    2610\n",
       "1     390\n",
       "Name: count, dtype: int64"
      ]
     },
     "execution_count": 4,
     "metadata": {},
     "output_type": "execute_result"
    }
   ],
   "source": [
    "df['Converted'].value_counts()"
   ]
  },
  {
   "cell_type": "code",
   "execution_count": 5,
   "id": "6f2b8db5",
   "metadata": {},
   "outputs": [
    {
     "data": {
      "application/vnd.microsoft.datawrangler.viewer.v0+json": {
       "columns": [
        {
         "name": "Price_Offered",
         "rawType": "int64",
         "type": "integer"
        },
        {
         "name": "count",
         "rawType": "int64",
         "type": "integer"
        }
       ],
       "ref": "54665a8a-3225-4a39-9188-28611eab5eea",
       "rows": [
        [
         "10",
         "1221"
        ],
        [
         "15",
         "903"
        ],
        [
         "5",
         "876"
        ]
       ],
       "shape": {
        "columns": 1,
        "rows": 3
       }
      },
      "text/plain": [
       "Price_Offered\n",
       "10    1221\n",
       "15     903\n",
       "5      876\n",
       "Name: count, dtype: int64"
      ]
     },
     "execution_count": 5,
     "metadata": {},
     "output_type": "execute_result"
    }
   ],
   "source": [
    "df['Price_Offered'].value_counts()"
   ]
  },
  {
   "cell_type": "code",
   "execution_count": 6,
   "id": "e0e4bfa9",
   "metadata": {},
   "outputs": [
    {
     "data": {
      "application/vnd.microsoft.datawrangler.viewer.v0+json": {
       "columns": [
        {
         "name": "Price_Offered",
         "rawType": "int64",
         "type": "integer"
        },
        {
         "name": "0",
         "rawType": "float64",
         "type": "float"
        }
       ],
       "ref": "ac490abb-0aed-439a-a1af-8935d8b061a9",
       "rows": [
        [
         "5",
         "18.72146118721461"
        ],
        [
         "10",
         "14.250614250614252"
        ],
        [
         "15",
         "5.758582502768549"
        ]
       ],
       "shape": {
        "columns": 1,
        "rows": 3
       }
      },
      "text/plain": [
       "Price_Offered\n",
       "5     18.721461\n",
       "10    14.250614\n",
       "15     5.758583\n",
       "dtype: float64"
      ]
     },
     "execution_count": 6,
     "metadata": {},
     "output_type": "execute_result"
    }
   ],
   "source": [
    "df_converted = df.groupby('Price_Offered')['Converted'].sum() / df.groupby('Price_Offered')['Price_Offered'].count() *100\n",
    "df_converted"
   ]
  },
  {
   "cell_type": "code",
   "execution_count": 7,
   "id": "1fcf1df9",
   "metadata": {},
   "outputs": [
    {
     "data": {
      "application/vnd.microsoft.datawrangler.viewer.v0+json": {
       "columns": [
        {
         "name": "Price_Offered",
         "rawType": "int64",
         "type": "integer"
        },
        {
         "name": "Revenue",
         "rawType": "int64",
         "type": "integer"
        }
       ],
       "ref": "0823b54e-4b61-484b-ac49-ee99ae3930ad",
       "rows": [
        [
         "5",
         "820"
        ],
        [
         "10",
         "1740"
        ],
        [
         "15",
         "780"
        ]
       ],
       "shape": {
        "columns": 1,
        "rows": 3
       }
      },
      "text/plain": [
       "Price_Offered\n",
       "5      820\n",
       "10    1740\n",
       "15     780\n",
       "Name: Revenue, dtype: int64"
      ]
     },
     "execution_count": 7,
     "metadata": {},
     "output_type": "execute_result"
    }
   ],
   "source": [
    "df_revenue = df.groupby('Price_Offered')['Revenue'].sum()\n",
    "df_revenue"
   ]
  },
  {
   "cell_type": "code",
   "execution_count": 8,
   "id": "eec477a2",
   "metadata": {},
   "outputs": [
    {
     "data": {
      "application/vnd.microsoft.datawrangler.viewer.v0+json": {
       "columns": [
        {
         "name": "Price_Offered",
         "rawType": "int64",
         "type": "integer"
        },
        {
         "name": "count",
         "rawType": "int64",
         "type": "integer"
        }
       ],
       "ref": "67b86d60-1029-491b-aecd-803d1b933aca",
       "rows": [
        [
         "5",
         "876"
        ],
        [
         "10",
         "1221"
        ],
        [
         "15",
         "903"
        ]
       ],
       "shape": {
        "columns": 1,
        "rows": 3
       }
      },
      "text/plain": [
       "Price_Offered\n",
       "5      876\n",
       "10    1221\n",
       "15     903\n",
       "Name: count, dtype: int64"
      ]
     },
     "execution_count": 8,
     "metadata": {},
     "output_type": "execute_result"
    }
   ],
   "source": [
    "df_price = df['Price_Offered'].value_counts().sort_index()\n",
    "df_price"
   ]
  },
  {
   "cell_type": "code",
   "execution_count": 9,
   "id": "cdf77d74",
   "metadata": {},
   "outputs": [],
   "source": [
    "df_summary = pd.DataFrame({\n",
    "    'Total_users' : df_price,\n",
    "    'Total_Revenue' : df_revenue,\n",
    "    'Conversion_Rate' : df_converted\n",
    "})\n",
    "\n",
    "# Calculate ARPU (Average Revenue Per User)\n",
    "df_summary['ARPU'] = df_summary['Total_Revenue'] / df_summary['Total_users']\n",
    "df_summary.reset_index(inplace=True)  # So that Price_Offered becomes a column"
   ]
  },
  {
   "cell_type": "code",
   "execution_count": 10,
   "id": "c3ff4ba4",
   "metadata": {},
   "outputs": [
    {
     "data": {
      "application/vnd.microsoft.datawrangler.viewer.v0+json": {
       "columns": [
        {
         "name": "index",
         "rawType": "int64",
         "type": "integer"
        },
        {
         "name": "Price_Offered",
         "rawType": "int64",
         "type": "integer"
        },
        {
         "name": "Total_users",
         "rawType": "int64",
         "type": "integer"
        },
        {
         "name": "Total_Revenue",
         "rawType": "int64",
         "type": "integer"
        },
        {
         "name": "Conversion_Rate",
         "rawType": "float64",
         "type": "float"
        },
        {
         "name": "ARPU",
         "rawType": "float64",
         "type": "float"
        }
       ],
       "ref": "2b495980-4b91-45cc-9ac2-e35510c68621",
       "rows": [
        [
         "0",
         "5",
         "876",
         "820",
         "18.72146118721461",
         "0.9360730593607306"
        ],
        [
         "1",
         "10",
         "1221",
         "1740",
         "14.250614250614252",
         "1.425061425061425"
        ],
        [
         "2",
         "15",
         "903",
         "780",
         "5.758582502768549",
         "0.8637873754152824"
        ]
       ],
       "shape": {
        "columns": 5,
        "rows": 3
       }
      },
      "text/html": [
       "<div>\n",
       "<style scoped>\n",
       "    .dataframe tbody tr th:only-of-type {\n",
       "        vertical-align: middle;\n",
       "    }\n",
       "\n",
       "    .dataframe tbody tr th {\n",
       "        vertical-align: top;\n",
       "    }\n",
       "\n",
       "    .dataframe thead th {\n",
       "        text-align: right;\n",
       "    }\n",
       "</style>\n",
       "<table border=\"1\" class=\"dataframe\">\n",
       "  <thead>\n",
       "    <tr style=\"text-align: right;\">\n",
       "      <th></th>\n",
       "      <th>Price_Offered</th>\n",
       "      <th>Total_users</th>\n",
       "      <th>Total_Revenue</th>\n",
       "      <th>Conversion_Rate</th>\n",
       "      <th>ARPU</th>\n",
       "    </tr>\n",
       "  </thead>\n",
       "  <tbody>\n",
       "    <tr>\n",
       "      <th>0</th>\n",
       "      <td>5</td>\n",
       "      <td>876</td>\n",
       "      <td>820</td>\n",
       "      <td>18.721461</td>\n",
       "      <td>0.936073</td>\n",
       "    </tr>\n",
       "    <tr>\n",
       "      <th>1</th>\n",
       "      <td>10</td>\n",
       "      <td>1221</td>\n",
       "      <td>1740</td>\n",
       "      <td>14.250614</td>\n",
       "      <td>1.425061</td>\n",
       "    </tr>\n",
       "    <tr>\n",
       "      <th>2</th>\n",
       "      <td>15</td>\n",
       "      <td>903</td>\n",
       "      <td>780</td>\n",
       "      <td>5.758583</td>\n",
       "      <td>0.863787</td>\n",
       "    </tr>\n",
       "  </tbody>\n",
       "</table>\n",
       "</div>"
      ],
      "text/plain": [
       "   Price_Offered  Total_users  Total_Revenue  Conversion_Rate      ARPU\n",
       "0              5          876            820        18.721461  0.936073\n",
       "1             10         1221           1740        14.250614  1.425061\n",
       "2             15          903            780         5.758583  0.863787"
      ]
     },
     "execution_count": 10,
     "metadata": {},
     "output_type": "execute_result"
    }
   ],
   "source": [
    "df_summary"
   ]
  },
  {
   "cell_type": "code",
   "execution_count": 11,
   "id": "2b0b7887",
   "metadata": {},
   "outputs": [],
   "source": [
    "import matplotlib.pyplot as plt\n",
    "import seaborn as sns\n",
    "%matplotlib inline"
   ]
  },
  {
   "cell_type": "code",
   "execution_count": 12,
   "id": "0daa108a",
   "metadata": {},
   "outputs": [
    {
     "data": {
      "image/png": "[encoded data removed]",
      "text/plain": [
       "<Figure size 1000x600 with 2 Axes>"
      ]
     },
     "metadata": {},
     "output_type": "display_data"
    }
   ],
   "source": [
    "fig, ax1 = plt.subplots(figsize=(10, 6))\n",
    "\n",
    "# Bar chart: Conversion Rate\n",
    "sns.barplot(x='Price_Offered', y='Conversion_Rate', data=df_summary, ax=ax1, color='skyblue')\n",
    "ax1.set_ylabel('Conversion Rate (%)', color='blue')\n",
    "ax1.set_xlabel('Price Offered')\n",
    "ax1.set_ylim(0, df_summary['Conversion_Rate'].max() + 5)\n",
    "\n",
    "# Line chart: ARPU\n",
    "ax2 = ax1.twinx()\n",
    "sns.lineplot(x='Price_Offered', y='ARPU', data=df_summary, ax=ax2, color='green', marker='o')\n",
    "ax2.set_ylabel('ARPU (₹)', color='green')\n",
    "ax2.set_ylim(0, df_summary['ARPU'].max() + 1)\n",
    "\n",
    "plt.title('Price vs Conversion Rate (%) and ARPU')\n",
    "ax1.grid(axis='y', linestyle='--')\n",
    "plt.tight_layout()\n",
    "plt.show()\n"
   ]
  },
  {
   "cell_type": "code",
   "execution_count": 13,
   "id": "6d5dcf4b",
   "metadata": {},
   "outputs": [],
   "source": [
    "# Existing price point and conversion rates\n",
    "existing = {\n",
    "    5 : 18.7,\n",
    "    10 : 14.2\n",
    "}"
   ]
  },
  {
   "cell_type": "code",
   "execution_count": 14,
   "id": "b4d04bf9",
   "metadata": {},
   "outputs": [],
   "source": [
    "# Linear Interpolation for price 7\n",
    "\n",
    "x0, y0 = 5, existing[5]\n",
    "x1, y1 = 10, existing[10]\n",
    "\n",
    "x_new = 7\n",
    "y_new = y0 + (x_new - x0) * (y1 - y0)/(x1 - x0)\n",
    "conversion_7 = y_new"
   ]
  },
  {
   "cell_type": "code",
   "execution_count": 15,
   "id": "bd46eb4a",
   "metadata": {},
   "outputs": [
    {
     "data": {
      "application/vnd.microsoft.datawrangler.viewer.v0+json": {
       "columns": [
        {
         "name": "index",
         "rawType": "int64",
         "type": "integer"
        },
        {
         "name": "Price_Offered",
         "rawType": "int64",
         "type": "integer"
        },
        {
         "name": "Total_users",
         "rawType": "float64",
         "type": "float"
        },
        {
         "name": "Total_Revenue",
         "rawType": "int64",
         "type": "integer"
        },
        {
         "name": "Conversion_Rate",
         "rawType": "float64",
         "type": "float"
        },
        {
         "name": "ARPU",
         "rawType": "float64",
         "type": "float"
        }
       ],
       "ref": "2df39281-5f21-4c8b-9829-6b0839471160",
       "rows": [
        [
         "0",
         "7",
         "1000.0",
         "1183",
         "16.9",
         "1.183"
        ]
       ],
       "shape": {
        "columns": 5,
        "rows": 1
       }
      },
      "text/html": [
       "<div>\n",
       "<style scoped>\n",
       "    .dataframe tbody tr th:only-of-type {\n",
       "        vertical-align: middle;\n",
       "    }\n",
       "\n",
       "    .dataframe tbody tr th {\n",
       "        vertical-align: top;\n",
       "    }\n",
       "\n",
       "    .dataframe thead th {\n",
       "        text-align: right;\n",
       "    }\n",
       "</style>\n",
       "<table border=\"1\" class=\"dataframe\">\n",
       "  <thead>\n",
       "    <tr style=\"text-align: right;\">\n",
       "      <th></th>\n",
       "      <th>Price_Offered</th>\n",
       "      <th>Total_users</th>\n",
       "      <th>Total_Revenue</th>\n",
       "      <th>Conversion_Rate</th>\n",
       "      <th>ARPU</th>\n",
       "    </tr>\n",
       "  </thead>\n",
       "  <tbody>\n",
       "    <tr>\n",
       "      <th>0</th>\n",
       "      <td>7</td>\n",
       "      <td>1000.0</td>\n",
       "      <td>1183</td>\n",
       "      <td>16.9</td>\n",
       "      <td>1.183</td>\n",
       "    </tr>\n",
       "  </tbody>\n",
       "</table>\n",
       "</div>"
      ],
      "text/plain": [
       "   Price_Offered  Total_users  Total_Revenue  Conversion_Rate   ARPU\n",
       "0              7       1000.0           1183             16.9  1.183"
      ]
     },
     "execution_count": 15,
     "metadata": {},
     "output_type": "execute_result"
    }
   ],
   "source": [
    "# Simulate for 1000 users at price 7\n",
    "\n",
    "n_user_7 = df_summary['Total_users'].mean()\n",
    "converted_7 = int((conversion_7*n_user_7)/100)\n",
    "revenue_7 = converted_7*7\n",
    "arpu_7 = revenue_7/n_user_7\n",
    "\n",
    "df_new_7 = pd.DataFrame({\n",
    "    'Price_Offered' : [7],\n",
    "    'Total_users' : [n_user_7],\n",
    "    'Total_Revenue' : [revenue_7],\n",
    "    'Conversion_Rate' : [conversion_7],\n",
    "    'ARPU' : [arpu_7]\n",
    "})\n",
    "\n",
    "df_new_7"
   ]
  },
  {
   "cell_type": "code",
   "execution_count": 16,
   "id": "aa824b1e",
   "metadata": {},
   "outputs": [
    {
     "data": {
      "application/vnd.microsoft.datawrangler.viewer.v0+json": {
       "columns": [
        {
         "name": "index",
         "rawType": "int64",
         "type": "integer"
        },
        {
         "name": "Price_Offered",
         "rawType": "int64",
         "type": "integer"
        },
        {
         "name": "Total_users",
         "rawType": "float64",
         "type": "float"
        },
        {
         "name": "Total_Revenue",
         "rawType": "int64",
         "type": "integer"
        },
        {
         "name": "Conversion_Rate",
         "rawType": "float64",
         "type": "float"
        },
        {
         "name": "ARPU",
         "rawType": "float64",
         "type": "float"
        }
       ],
       "ref": "fe0ec11c-303c-43bf-9ee6-13ac3865b275",
       "rows": [
        [
         "0",
         "5",
         "876.0",
         "820",
         "18.72146118721461",
         "0.9360730593607306"
        ],
        [
         "3",
         "7",
         "1000.0",
         "1183",
         "16.9",
         "1.183"
        ],
        [
         "1",
         "10",
         "1221.0",
         "1740",
         "14.250614250614252",
         "1.425061425061425"
        ],
        [
         "2",
         "15",
         "903.0",
         "780",
         "5.758582502768549",
         "0.8637873754152824"
        ]
       ],
       "shape": {
        "columns": 5,
        "rows": 4
       }
      },
      "text/html": [
       "<div>\n",
       "<style scoped>\n",
       "    .dataframe tbody tr th:only-of-type {\n",
       "        vertical-align: middle;\n",
       "    }\n",
       "\n",
       "    .dataframe tbody tr th {\n",
       "        vertical-align: top;\n",
       "    }\n",
       "\n",
       "    .dataframe thead th {\n",
       "        text-align: right;\n",
       "    }\n",
       "</style>\n",
       "<table border=\"1\" class=\"dataframe\">\n",
       "  <thead>\n",
       "    <tr style=\"text-align: right;\">\n",
       "      <th></th>\n",
       "      <th>Price_Offered</th>\n",
       "      <th>Total_users</th>\n",
       "      <th>Total_Revenue</th>\n",
       "      <th>Conversion_Rate</th>\n",
       "      <th>ARPU</th>\n",
       "    </tr>\n",
       "  </thead>\n",
       "  <tbody>\n",
       "    <tr>\n",
       "      <th>0</th>\n",
       "      <td>5</td>\n",
       "      <td>876.0</td>\n",
       "      <td>820</td>\n",
       "      <td>18.721461</td>\n",
       "      <td>0.936073</td>\n",
       "    </tr>\n",
       "    <tr>\n",
       "      <th>3</th>\n",
       "      <td>7</td>\n",
       "      <td>1000.0</td>\n",
       "      <td>1183</td>\n",
       "      <td>16.900000</td>\n",
       "      <td>1.183000</td>\n",
       "    </tr>\n",
       "    <tr>\n",
       "      <th>1</th>\n",
       "      <td>10</td>\n",
       "      <td>1221.0</td>\n",
       "      <td>1740</td>\n",
       "      <td>14.250614</td>\n",
       "      <td>1.425061</td>\n",
       "    </tr>\n",
       "    <tr>\n",
       "      <th>2</th>\n",
       "      <td>15</td>\n",
       "      <td>903.0</td>\n",
       "      <td>780</td>\n",
       "      <td>5.758583</td>\n",
       "      <td>0.863787</td>\n",
       "    </tr>\n",
       "  </tbody>\n",
       "</table>\n",
       "</div>"
      ],
      "text/plain": [
       "   Price_Offered  Total_users  Total_Revenue  Conversion_Rate      ARPU\n",
       "0              5        876.0            820        18.721461  0.936073\n",
       "3              7       1000.0           1183        16.900000  1.183000\n",
       "1             10       1221.0           1740        14.250614  1.425061\n",
       "2             15        903.0            780         5.758583  0.863787"
      ]
     },
     "execution_count": 16,
     "metadata": {},
     "output_type": "execute_result"
    }
   ],
   "source": [
    "df_all = pd.concat([df_summary, df_new_7], ignore_index = True).sort_values('Price_Offered')\n",
    "df_all"
   ]
  },
  {
   "cell_type": "code",
   "execution_count": 17,
   "id": "3377ed84",
   "metadata": {},
   "outputs": [
    {
     "data": {
      "image/png": "[encoded data removed]",
      "text/plain": [
       "<Figure size 1000x600 with 2 Axes>"
      ]
     },
     "metadata": {},
     "output_type": "display_data"
    }
   ],
   "source": [
    "fig, ax1 = plt.subplots(figsize=(10, 6))\n",
    "\n",
    "# Bar chart: Conversion Rate\n",
    "sns.barplot(x='Price_Offered', y='Conversion_Rate', data=df_all, ax=ax1, color='skyblue')\n",
    "ax1.set_ylabel('Conversion Rate (%)', color='blue')\n",
    "ax1.set_xlabel('Price Offered')\n",
    "ax1.set_ylim(0, df_summary['Conversion_Rate'].max() + 5)\n",
    "\n",
    "# Line chart: ARPU\n",
    "ax2 = ax1.twinx()\n",
    "sns.lineplot(x='Price_Offered', y='ARPU', data=df_all, ax=ax2, color='green', marker='o')\n",
    "ax2.set_ylabel('ARPU (₹)', color='green')\n",
    "ax2.set_ylim(0, df_summary['ARPU'].max() + 1)\n",
    "\n",
    "plt.title('Price vs Conversion Rate (%) and ARPU')\n",
    "ax1.grid(axis='y', linestyle='--')\n",
    "plt.tight_layout()\n",
    "plt.show()\n"
   ]
  },
  {
   "cell_type": "code",
   "execution_count": 18,
   "id": "f187bcf0",
   "metadata": {},
   "outputs": [
    {
     "data": {
      "image/png": "[encoded data removed]",
      "text/plain": [
       "<Figure size 640x480 with 1 Axes>"
      ]
     },
     "metadata": {},
     "output_type": "display_data"
    }
   ],
   "source": [
    "sns.lineplot(x='Price_Offered', y='Total_Revenue', data=df_summary, marker='o', color='purple')\n",
    "plt.title('Revenue Curve: Price vs Total Revenue')\n",
    "plt.xlabel('Price Offered (₹)')\n",
    "plt.ylabel('Total Revenue (₹)')\n",
    "plt.grid(True, linestyle='--', alpha=0.6)\n",
    "plt.tight_layout()\n",
    "plt.show()\n"
   ]
  },
  {
   "cell_type": "code",
   "execution_count": 19,
   "id": "2ac844d0",
   "metadata": {},
   "outputs": [
    {
     "data": {
      "image/png": "[encoded data removed]",
      "text/plain": [
       "<Figure size 640x480 with 1 Axes>"
      ]
     },
     "metadata": {},
     "output_type": "display_data"
    }
   ],
   "source": [
    "sns.lineplot(x='Price_Offered', y='Total_Revenue', data=df_all, marker='o', color='purple')\n",
    "plt.title('Revenue Curve: Price vs Total Revenue')\n",
    "plt.xlabel('Price Offered (₹)')\n",
    "plt.ylabel('Total Revenue (₹)')\n",
    "plt.grid(True, linestyle='--', alpha=0.6)\n",
    "plt.tight_layout()\n",
    "plt.show()\n"
   ]
  },
  {
   "cell_type": "code",
   "execution_count": null,
   "id": "0802bf18",
   "metadata": {},
   "outputs": [],
   "source": []
  },
  {
   "cell_type": "code",
   "execution_count": null,
   "id": "5a20c9dc",
   "metadata": {},
   "outputs": [],
   "source": []
  },
  {
   "cell_type": "code",
   "execution_count": null,
   "id": "ffe1006b",
   "metadata": {},
   "outputs": [],
   "source": []
  }
 ],
 "metadata": {
  "kernelspec": {
   "display_name": "Python 3",
   "language": "python",
   "name": "python3"
  },
  "language_info": {
   "codemirror_mode": {
    "name": "ipython",
    "version": 3
   },
   "file_extension": ".py",
   "mimetype": "text/x-python",
   "name": "python",
   "nbconvert_exporter": "python",
   "pygments_lexer": "ipython3",
   "version": "3.10.0"
  }
 },
 "nbformat": 4,
 "nbformat_minor": 5
}
