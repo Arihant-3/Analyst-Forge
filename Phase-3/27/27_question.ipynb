{
 "cells": [
  {
   "cell_type": "markdown",
   "id": "a8cbc65a",
   "metadata": {},
   "source": [
    "DATA CREATION"
   ]
  },
  {
   "cell_type": "markdown",
   "id": "4abe0a01",
   "metadata": {},
   "source": [
    "You're given synthetic user behavior data from a subscription-based learning app.  \n",
    "You’ll classify users into personas based on engagement and value."
   ]
  },
  {
   "cell_type": "code",
   "execution_count": 1,
   "id": "e56bc375",
   "metadata": {},
   "outputs": [],
   "source": [
    "import pandas as pd\n",
    "import numpy as np\n",
    "\n",
    "np.random.seed(27)\n",
    "\n",
    "n = 1000\n",
    "\n",
    "df = pd.DataFrame({\n",
    "    'User_ID': np.arange(1, n + 1),\n",
    "    'Total_Sessions': np.random.poisson(25, n),\n",
    "    'Avg_Session_Length_Min': np.round(np.random.normal(15, 5, n), 1),\n",
    "    'Courses_Completed': np.random.poisson(3, n),\n",
    "    'Subscription_Tier': np.random.choice(['Free', 'Basic', 'Premium'], p=[0.5, 0.3, 0.2], size=n),\n",
    "    'Last_Login_Days_Ago': np.random.randint(1, 60, n),\n",
    "    'Is_Referral_User': np.random.choice([0, 1], size=n, p=[0.7, 0.3])\n",
    "})\n",
    "\n",
    "df.to_csv(\"user_behavior_data.csv\", index=False)\n"
   ]
  },
  {
   "cell_type": "markdown",
   "id": "8b0e3991",
   "metadata": {},
   "source": [
    "## Task:\n",
    "1. User Segmentation:  \n",
    "- Create 3 or 4 meaningful user segments (e.g., “Loyal Learners”, “Ghost Users”, “Referral Stars”) based on:\n",
    "    - Engagement (sessions, courses)\n",
    "    - Recency (last login)\n",
    "    - Tier and referral status\n",
    "\n",
    "- Use either:\n",
    "    - Logic-based bucketing (if-else)\n",
    "    - OR unsupervised clustering (KMeans)\n",
    "\n",
    "2. Segment Summary Table:  \n",
    "- For each segment, show:\n",
    "    - Avg. sessions\n",
    "    - Avg. course completion\n",
    "    - Avg. session time\n",
    "    - % of referral users \n",
    "    - Churn risk (proxy: Last_Login_Days_Ago > 30)\n",
    "\n",
    "3. Targeting Strategy:  \n",
    "- Recommend which segment(s) to target for:\n",
    "    - Upsell to premium\n",
    "    - Winback via reactivation email\n",
    "    - Referral campaign push"
   ]
  },
  {
   "cell_type": "code",
   "execution_count": 2,
   "id": "9cdcb9cd",
   "metadata": {},
   "outputs": [
    {
     "data": {
      "application/vnd.microsoft.datawrangler.viewer.v0+json": {
       "columns": [
        {
         "name": "index",
         "rawType": "int64",
         "type": "integer"
        },
        {
         "name": "User_ID",
         "rawType": "int64",
         "type": "integer"
        },
        {
         "name": "Total_Sessions",
         "rawType": "int32",
         "type": "integer"
        },
        {
         "name": "Avg_Session_Length_Min",
         "rawType": "float64",
         "type": "float"
        },
        {
         "name": "Courses_Completed",
         "rawType": "int32",
         "type": "integer"
        },
        {
         "name": "Subscription_Tier",
         "rawType": "object",
         "type": "string"
        },
        {
         "name": "Last_Login_Days_Ago",
         "rawType": "int32",
         "type": "integer"
        },
        {
         "name": "Is_Referral_User",
         "rawType": "int64",
         "type": "integer"
        }
       ],
       "ref": "e6e131a8-9210-4adf-a319-5923490f91fd",
       "rows": [
        [
         "0",
         "1",
         "24",
         "20.1",
         "1",
         "Premium",
         "43",
         "0"
        ],
        [
         "1",
         "2",
         "32",
         "15.0",
         "3",
         "Premium",
         "28",
         "0"
        ],
        [
         "2",
         "3",
         "29",
         "17.4",
         "4",
         "Free",
         "13",
         "0"
        ],
        [
         "3",
         "4",
         "20",
         "24.3",
         "5",
         "Basic",
         "48",
         "0"
        ],
        [
         "4",
         "5",
         "23",
         "6.7",
         "2",
         "Basic",
         "24",
         "0"
        ]
       ],
       "shape": {
        "columns": 7,
        "rows": 5
       }
      },
      "text/html": [
       "<div>\n",
       "<style scoped>\n",
       "    .dataframe tbody tr th:only-of-type {\n",
       "        vertical-align: middle;\n",
       "    }\n",
       "\n",
       "    .dataframe tbody tr th {\n",
       "        vertical-align: top;\n",
       "    }\n",
       "\n",
       "    .dataframe thead th {\n",
       "        text-align: right;\n",
       "    }\n",
       "</style>\n",
       "<table border=\"1\" class=\"dataframe\">\n",
       "  <thead>\n",
       "    <tr style=\"text-align: right;\">\n",
       "      <th></th>\n",
       "      <th>User_ID</th>\n",
       "      <th>Total_Sessions</th>\n",
       "      <th>Avg_Session_Length_Min</th>\n",
       "      <th>Courses_Completed</th>\n",
       "      <th>Subscription_Tier</th>\n",
       "      <th>Last_Login_Days_Ago</th>\n",
       "      <th>Is_Referral_User</th>\n",
       "    </tr>\n",
       "  </thead>\n",
       "  <tbody>\n",
       "    <tr>\n",
       "      <th>0</th>\n",
       "      <td>1</td>\n",
       "      <td>24</td>\n",
       "      <td>20.1</td>\n",
       "      <td>1</td>\n",
       "      <td>Premium</td>\n",
       "      <td>43</td>\n",
       "      <td>0</td>\n",
       "    </tr>\n",
       "    <tr>\n",
       "      <th>1</th>\n",
       "      <td>2</td>\n",
       "      <td>32</td>\n",
       "      <td>15.0</td>\n",
       "      <td>3</td>\n",
       "      <td>Premium</td>\n",
       "      <td>28</td>\n",
       "      <td>0</td>\n",
       "    </tr>\n",
       "    <tr>\n",
       "      <th>2</th>\n",
       "      <td>3</td>\n",
       "      <td>29</td>\n",
       "      <td>17.4</td>\n",
       "      <td>4</td>\n",
       "      <td>Free</td>\n",
       "      <td>13</td>\n",
       "      <td>0</td>\n",
       "    </tr>\n",
       "    <tr>\n",
       "      <th>3</th>\n",
       "      <td>4</td>\n",
       "      <td>20</td>\n",
       "      <td>24.3</td>\n",
       "      <td>5</td>\n",
       "      <td>Basic</td>\n",
       "      <td>48</td>\n",
       "      <td>0</td>\n",
       "    </tr>\n",
       "    <tr>\n",
       "      <th>4</th>\n",
       "      <td>5</td>\n",
       "      <td>23</td>\n",
       "      <td>6.7</td>\n",
       "      <td>2</td>\n",
       "      <td>Basic</td>\n",
       "      <td>24</td>\n",
       "      <td>0</td>\n",
       "    </tr>\n",
       "  </tbody>\n",
       "</table>\n",
       "</div>"
      ],
      "text/plain": [
       "   User_ID  Total_Sessions  Avg_Session_Length_Min  Courses_Completed  \\\n",
       "0        1              24                    20.1                  1   \n",
       "1        2              32                    15.0                  3   \n",
       "2        3              29                    17.4                  4   \n",
       "3        4              20                    24.3                  5   \n",
       "4        5              23                     6.7                  2   \n",
       "\n",
       "  Subscription_Tier  Last_Login_Days_Ago  Is_Referral_User  \n",
       "0           Premium                   43                 0  \n",
       "1           Premium                   28                 0  \n",
       "2              Free                   13                 0  \n",
       "3             Basic                   48                 0  \n",
       "4             Basic                   24                 0  "
      ]
     },
     "execution_count": 2,
     "metadata": {},
     "output_type": "execute_result"
    }
   ],
   "source": [
    "df.head()"
   ]
  },
  {
   "cell_type": "code",
   "execution_count": 4,
   "id": "6b8fb0b1",
   "metadata": {},
   "outputs": [
    {
     "name": "stdout",
     "output_type": "stream",
     "text": [
      "<class 'pandas.core.frame.DataFrame'>\n",
      "RangeIndex: 1000 entries, 0 to 999\n",
      "Data columns (total 7 columns):\n",
      " #   Column                  Non-Null Count  Dtype  \n",
      "---  ------                  --------------  -----  \n",
      " 0   User_ID                 1000 non-null   int64  \n",
      " 1   Total_Sessions          1000 non-null   int32  \n",
      " 2   Avg_Session_Length_Min  1000 non-null   float64\n",
      " 3   Courses_Completed       1000 non-null   int32  \n",
      " 4   Subscription_Tier       1000 non-null   object \n",
      " 5   Last_Login_Days_Ago     1000 non-null   int32  \n",
      " 6   Is_Referral_User        1000 non-null   int64  \n",
      "dtypes: float64(1), int32(3), int64(2), object(1)\n",
      "memory usage: 43.1+ KB\n"
     ]
    }
   ],
   "source": [
    "df.info()"
   ]
  },
  {
   "cell_type": "code",
   "execution_count": 3,
   "id": "8d66c984",
   "metadata": {},
   "outputs": [
    {
     "data": {
      "application/vnd.microsoft.datawrangler.viewer.v0+json": {
       "columns": [
        {
         "name": "index",
         "rawType": "object",
         "type": "string"
        },
        {
         "name": "User_ID",
         "rawType": "float64",
         "type": "float"
        },
        {
         "name": "Total_Sessions",
         "rawType": "float64",
         "type": "float"
        },
        {
         "name": "Avg_Session_Length_Min",
         "rawType": "float64",
         "type": "float"
        },
        {
         "name": "Courses_Completed",
         "rawType": "float64",
         "type": "float"
        },
        {
         "name": "Last_Login_Days_Ago",
         "rawType": "float64",
         "type": "float"
        },
        {
         "name": "Is_Referral_User",
         "rawType": "float64",
         "type": "float"
        }
       ],
       "ref": "3e63ab3d-a62c-4a7a-9a8c-d3b0a4115bd5",
       "rows": [
        [
         "count",
         "1000.0",
         "1000.0",
         "1000.0",
         "1000.0",
         "1000.0",
         "1000.0"
        ],
        [
         "mean",
         "500.5",
         "24.999",
         "15.107400000000002",
         "2.943",
         "30.253",
         "0.267"
        ],
        [
         "std",
         "288.8194360957494",
         "5.09872493825623",
         "4.964257153803486",
         "1.7305333703068964",
         "16.774754346439277",
         "0.44261372200475996"
        ],
        [
         "min",
         "1.0",
         "9.0",
         "-2.7",
         "0.0",
         "1.0",
         "0.0"
        ],
        [
         "25%",
         "250.75",
         "21.0",
         "11.775",
         "2.0",
         "15.0",
         "0.0"
        ],
        [
         "50%",
         "500.5",
         "25.0",
         "15.1",
         "3.0",
         "31.0",
         "0.0"
        ],
        [
         "75%",
         "750.25",
         "28.0",
         "18.3",
         "4.0",
         "44.25",
         "1.0"
        ],
        [
         "max",
         "1000.0",
         "44.0",
         "28.5",
         "9.0",
         "59.0",
         "1.0"
        ]
       ],
       "shape": {
        "columns": 6,
        "rows": 8
       }
      },
      "text/html": [
       "<div>\n",
       "<style scoped>\n",
       "    .dataframe tbody tr th:only-of-type {\n",
       "        vertical-align: middle;\n",
       "    }\n",
       "\n",
       "    .dataframe tbody tr th {\n",
       "        vertical-align: top;\n",
       "    }\n",
       "\n",
       "    .dataframe thead th {\n",
       "        text-align: right;\n",
       "    }\n",
       "</style>\n",
       "<table border=\"1\" class=\"dataframe\">\n",
       "  <thead>\n",
       "    <tr style=\"text-align: right;\">\n",
       "      <th></th>\n",
       "      <th>User_ID</th>\n",
       "      <th>Total_Sessions</th>\n",
       "      <th>Avg_Session_Length_Min</th>\n",
       "      <th>Courses_Completed</th>\n",
       "      <th>Last_Login_Days_Ago</th>\n",
       "      <th>Is_Referral_User</th>\n",
       "    </tr>\n",
       "  </thead>\n",
       "  <tbody>\n",
       "    <tr>\n",
       "      <th>count</th>\n",
       "      <td>1000.000000</td>\n",
       "      <td>1000.000000</td>\n",
       "      <td>1000.000000</td>\n",
       "      <td>1000.000000</td>\n",
       "      <td>1000.000000</td>\n",
       "      <td>1000.000000</td>\n",
       "    </tr>\n",
       "    <tr>\n",
       "      <th>mean</th>\n",
       "      <td>500.500000</td>\n",
       "      <td>24.999000</td>\n",
       "      <td>15.107400</td>\n",
       "      <td>2.943000</td>\n",
       "      <td>30.253000</td>\n",
       "      <td>0.267000</td>\n",
       "    </tr>\n",
       "    <tr>\n",
       "      <th>std</th>\n",
       "      <td>288.819436</td>\n",
       "      <td>5.098725</td>\n",
       "      <td>4.964257</td>\n",
       "      <td>1.730533</td>\n",
       "      <td>16.774754</td>\n",
       "      <td>0.442614</td>\n",
       "    </tr>\n",
       "    <tr>\n",
       "      <th>min</th>\n",
       "      <td>1.000000</td>\n",
       "      <td>9.000000</td>\n",
       "      <td>-2.700000</td>\n",
       "      <td>0.000000</td>\n",
       "      <td>1.000000</td>\n",
       "      <td>0.000000</td>\n",
       "    </tr>\n",
       "    <tr>\n",
       "      <th>25%</th>\n",
       "      <td>250.750000</td>\n",
       "      <td>21.000000</td>\n",
       "      <td>11.775000</td>\n",
       "      <td>2.000000</td>\n",
       "      <td>15.000000</td>\n",
       "      <td>0.000000</td>\n",
       "    </tr>\n",
       "    <tr>\n",
       "      <th>50%</th>\n",
       "      <td>500.500000</td>\n",
       "      <td>25.000000</td>\n",
       "      <td>15.100000</td>\n",
       "      <td>3.000000</td>\n",
       "      <td>31.000000</td>\n",
       "      <td>0.000000</td>\n",
       "    </tr>\n",
       "    <tr>\n",
       "      <th>75%</th>\n",
       "      <td>750.250000</td>\n",
       "      <td>28.000000</td>\n",
       "      <td>18.300000</td>\n",
       "      <td>4.000000</td>\n",
       "      <td>44.250000</td>\n",
       "      <td>1.000000</td>\n",
       "    </tr>\n",
       "    <tr>\n",
       "      <th>max</th>\n",
       "      <td>1000.000000</td>\n",
       "      <td>44.000000</td>\n",
       "      <td>28.500000</td>\n",
       "      <td>9.000000</td>\n",
       "      <td>59.000000</td>\n",
       "      <td>1.000000</td>\n",
       "    </tr>\n",
       "  </tbody>\n",
       "</table>\n",
       "</div>"
      ],
      "text/plain": [
       "           User_ID  Total_Sessions  Avg_Session_Length_Min  Courses_Completed  \\\n",
       "count  1000.000000     1000.000000             1000.000000        1000.000000   \n",
       "mean    500.500000       24.999000               15.107400           2.943000   \n",
       "std     288.819436        5.098725                4.964257           1.730533   \n",
       "min       1.000000        9.000000               -2.700000           0.000000   \n",
       "25%     250.750000       21.000000               11.775000           2.000000   \n",
       "50%     500.500000       25.000000               15.100000           3.000000   \n",
       "75%     750.250000       28.000000               18.300000           4.000000   \n",
       "max    1000.000000       44.000000               28.500000           9.000000   \n",
       "\n",
       "       Last_Login_Days_Ago  Is_Referral_User  \n",
       "count          1000.000000       1000.000000  \n",
       "mean             30.253000          0.267000  \n",
       "std              16.774754          0.442614  \n",
       "min               1.000000          0.000000  \n",
       "25%              15.000000          0.000000  \n",
       "50%              31.000000          0.000000  \n",
       "75%              44.250000          1.000000  \n",
       "max              59.000000          1.000000  "
      ]
     },
     "execution_count": 3,
     "metadata": {},
     "output_type": "execute_result"
    }
   ],
   "source": [
    "df.describe()"
   ]
  },
  {
   "cell_type": "code",
   "execution_count": 8,
   "id": "4e5e0a78",
   "metadata": {},
   "outputs": [
    {
     "data": {
      "application/vnd.microsoft.datawrangler.viewer.v0+json": {
       "columns": [
        {
         "name": "Subscription_Tier",
         "rawType": "object",
         "type": "string"
        },
        {
         "name": "count",
         "rawType": "int64",
         "type": "integer"
        }
       ],
       "ref": "52d4ab49-34d3-4e94-9a1e-966b20a09c3e",
       "rows": [
        [
         "Free",
         "495"
        ],
        [
         "Basic",
         "295"
        ],
        [
         "Premium",
         "210"
        ]
       ],
       "shape": {
        "columns": 1,
        "rows": 3
       }
      },
      "text/plain": [
       "Subscription_Tier\n",
       "Free       495\n",
       "Basic      295\n",
       "Premium    210\n",
       "Name: count, dtype: int64"
      ]
     },
     "execution_count": 8,
     "metadata": {},
     "output_type": "execute_result"
    }
   ],
   "source": [
    "df['Subscription_Tier'].value_counts()"
   ]
  },
  {
   "cell_type": "code",
   "execution_count": 22,
   "id": "f0da8ee0",
   "metadata": {},
   "outputs": [],
   "source": [
    "# For categorical features\n",
    "tier_map = {'Free':0,'Basic':1,'Premium':2}\n",
    "df['Tier_encoded'] = df['Subscription_Tier'].map(tier_map)\n",
    "\n",
    "# For numerical features\n",
    "num_features = df[['Total_Sessions', 'Courses_Completed', 'Avg_Session_Length_Min',\n",
    "               'Last_Login_Days_Ago', 'Is_Referral_User', 'Tier_encoded']]\n"
   ]
  },
  {
   "cell_type": "code",
   "execution_count": 23,
   "id": "afda3aad",
   "metadata": {},
   "outputs": [],
   "source": [
    "from sklearn.preprocessing import StandardScaler\n",
    "from sklearn.cluster import KMeans\n",
    "from sklearn.metrics import silhouette_score\n",
    "import matplotlib.pyplot as plt\n",
    "import seaborn as sns\n",
    "\n",
    "scaler = StandardScaler()\n",
    "scaled_features = scaler.fit_transform(num_features)"
   ]
  },
  {
   "cell_type": "code",
   "execution_count": 24,
   "id": "a29053c7",
   "metadata": {},
   "outputs": [],
   "source": [
    "sil_scores = []\n",
    "k_range = range(2, 8)\n",
    "\n",
    "for k in k_range:\n",
    "    km = KMeans(n_clusters=k, random_state=42)\n",
    "    labels = km.fit_predict(scaled_features)\n",
    "    \n",
    "    score = silhouette_score(scaled_features, labels)\n",
    "    sil_scores.append(score)\n",
    "    \n"
   ]
  },
  {
   "cell_type": "code",
   "execution_count": 25,
   "id": "7ba97ca2",
   "metadata": {},
   "outputs": [
    {
     "data": {
      "image/png": "[encoded data removed]",
      "text/plain": [
       "<Figure size 640x480 with 1 Axes>"
      ]
     },
     "metadata": {},
     "output_type": "display_data"
    }
   ],
   "source": [
    "# Plot silhouette scores\n",
    "plt.plot(k_range, sil_scores, marker='o')\n",
    "plt.xlabel(\"Number of Clusters (k)\")\n",
    "plt.ylabel(\"Silhouette Score\")\n",
    "plt.title(\"Optimal k Selection\")\n",
    "plt.show()"
   ]
  },
  {
   "cell_type": "code",
   "execution_count": 27,
   "id": "60a41aae",
   "metadata": {},
   "outputs": [],
   "source": [
    "# Choose optimal k i.e 4\n",
    "optimal_k = 4\n",
    "Kmeans = KMeans(n_clusters=optimal_k, random_state=42)\n",
    "df['cluster'] = Kmeans.fit_predict(scaled_features)"
   ]
  },
  {
   "cell_type": "code",
   "execution_count": 32,
   "id": "14e130af",
   "metadata": {},
   "outputs": [
    {
     "data": {
      "application/vnd.microsoft.datawrangler.viewer.v0+json": {
       "columns": [
        {
         "name": "cluster",
         "rawType": "int32",
         "type": "integer"
        },
        {
         "name": "Total_Sessions",
         "rawType": "float64",
         "type": "float"
        },
        {
         "name": "Courses_Completed",
         "rawType": "float64",
         "type": "float"
        },
        {
         "name": "Avg_Session_Length_Min",
         "rawType": "float64",
         "type": "float"
        },
        {
         "name": "Last_Login_Days_Ago",
         "rawType": "float64",
         "type": "float"
        },
        {
         "name": "Is_Referral_User",
         "rawType": "float64",
         "type": "float"
        },
        {
         "name": "Tier_encoded",
         "rawType": "float64",
         "type": "float"
        }
       ],
       "ref": "29e689e8-7e75-4e7c-a348-e85ed26beb77",
       "rows": [
        [
         "0",
         "26.474747474747474",
         "2.8333333333333335",
         "14.667171717171717",
         "29.11111111111111",
         "0.0",
         "1.7676767676767677"
        ],
        [
         "1",
         "24.17391304347826",
         "3.239130434782609",
         "16.542028985507248",
         "44.166666666666664",
         "0.0",
         "0.32971014492753625"
        ],
        [
         "2",
         "25.003861003861005",
         "2.6563706563706564",
         "14.066409266409266",
         "15.096525096525097",
         "0.0",
         "0.28185328185328185"
        ],
        [
         "3",
         "24.752808988764045",
         "2.9962546816479403",
         "14.960674157303371",
         "31.419475655430713",
         "1.0",
         "0.7528089887640449"
        ]
       ],
       "shape": {
        "columns": 6,
        "rows": 4
       }
      },
      "text/html": [
       "<div>\n",
       "<style scoped>\n",
       "    .dataframe tbody tr th:only-of-type {\n",
       "        vertical-align: middle;\n",
       "    }\n",
       "\n",
       "    .dataframe tbody tr th {\n",
       "        vertical-align: top;\n",
       "    }\n",
       "\n",
       "    .dataframe thead th {\n",
       "        text-align: right;\n",
       "    }\n",
       "</style>\n",
       "<table border=\"1\" class=\"dataframe\">\n",
       "  <thead>\n",
       "    <tr style=\"text-align: right;\">\n",
       "      <th></th>\n",
       "      <th>Total_Sessions</th>\n",
       "      <th>Courses_Completed</th>\n",
       "      <th>Avg_Session_Length_Min</th>\n",
       "      <th>Last_Login_Days_Ago</th>\n",
       "      <th>Is_Referral_User</th>\n",
       "      <th>Tier_encoded</th>\n",
       "    </tr>\n",
       "    <tr>\n",
       "      <th>cluster</th>\n",
       "      <th></th>\n",
       "      <th></th>\n",
       "      <th></th>\n",
       "      <th></th>\n",
       "      <th></th>\n",
       "      <th></th>\n",
       "    </tr>\n",
       "  </thead>\n",
       "  <tbody>\n",
       "    <tr>\n",
       "      <th>0</th>\n",
       "      <td>26.474747</td>\n",
       "      <td>2.833333</td>\n",
       "      <td>14.667172</td>\n",
       "      <td>29.111111</td>\n",
       "      <td>0.0</td>\n",
       "      <td>1.767677</td>\n",
       "    </tr>\n",
       "    <tr>\n",
       "      <th>1</th>\n",
       "      <td>24.173913</td>\n",
       "      <td>3.239130</td>\n",
       "      <td>16.542029</td>\n",
       "      <td>44.166667</td>\n",
       "      <td>0.0</td>\n",
       "      <td>0.329710</td>\n",
       "    </tr>\n",
       "    <tr>\n",
       "      <th>2</th>\n",
       "      <td>25.003861</td>\n",
       "      <td>2.656371</td>\n",
       "      <td>14.066409</td>\n",
       "      <td>15.096525</td>\n",
       "      <td>0.0</td>\n",
       "      <td>0.281853</td>\n",
       "    </tr>\n",
       "    <tr>\n",
       "      <th>3</th>\n",
       "      <td>24.752809</td>\n",
       "      <td>2.996255</td>\n",
       "      <td>14.960674</td>\n",
       "      <td>31.419476</td>\n",
       "      <td>1.0</td>\n",
       "      <td>0.752809</td>\n",
       "    </tr>\n",
       "  </tbody>\n",
       "</table>\n",
       "</div>"
      ],
      "text/plain": [
       "         Total_Sessions  Courses_Completed  Avg_Session_Length_Min  \\\n",
       "cluster                                                              \n",
       "0             26.474747           2.833333               14.667172   \n",
       "1             24.173913           3.239130               16.542029   \n",
       "2             25.003861           2.656371               14.066409   \n",
       "3             24.752809           2.996255               14.960674   \n",
       "\n",
       "         Last_Login_Days_Ago  Is_Referral_User  Tier_encoded  \n",
       "cluster                                                       \n",
       "0                  29.111111               0.0      1.767677  \n",
       "1                  44.166667               0.0      0.329710  \n",
       "2                  15.096525               0.0      0.281853  \n",
       "3                  31.419476               1.0      0.752809  "
      ]
     },
     "execution_count": 32,
     "metadata": {},
     "output_type": "execute_result"
    }
   ],
   "source": [
    "cluster_summary = df.groupby('cluster')[['Total_Sessions', 'Courses_Completed', 'Avg_Session_Length_Min',\n",
    "                                         'Last_Login_Days_Ago', 'Is_Referral_User', 'Tier_encoded']].mean()\n",
    "cluster_summary\n"
   ]
  },
  {
   "cell_type": "code",
   "execution_count": 34,
   "id": "b8aecec9",
   "metadata": {},
   "outputs": [],
   "source": [
    "# Based on summary stats \n",
    "\n",
    "cluster_map = {\n",
    "    0: \"Loyal Learner\",\n",
    "    1: \"Ghost User\",\n",
    "    2: \"Returning Freebies\",\n",
    "    3: \"Referral Stars\"\n",
    "}\n",
    "df['User_Segment'] = df['cluster'].map(cluster_map)\n"
   ]
  },
  {
   "cell_type": "code",
   "execution_count": 37,
   "id": "6cb9c303",
   "metadata": {},
   "outputs": [
    {
     "data": {
      "image/png": "[encoded data removed]",
      "text/plain": [
       "<Figure size 640x480 with 1 Axes>"
      ]
     },
     "metadata": {},
     "output_type": "display_data"
    }
   ],
   "source": [
    "sns.countplot(data=df, x='User_Segment', order=df['User_Segment'].value_counts().index)\n",
    "plt.title(\"KMeans-Based User Segmentation\")\n",
    "plt.xticks(rotation=30)\n",
    "plt.ylabel(\"Number of Users\")\n",
    "plt.show()\n"
   ]
  },
  {
   "cell_type": "code",
   "execution_count": 38,
   "id": "3ace4c05",
   "metadata": {},
   "outputs": [
    {
     "data": {
      "application/vnd.microsoft.datawrangler.viewer.v0+json": {
       "columns": [
        {
         "name": "index",
         "rawType": "int64",
         "type": "integer"
        },
        {
         "name": "User_ID",
         "rawType": "int64",
         "type": "integer"
        },
        {
         "name": "Total_Sessions",
         "rawType": "int32",
         "type": "integer"
        },
        {
         "name": "Avg_Session_Length_Min",
         "rawType": "float64",
         "type": "float"
        },
        {
         "name": "Courses_Completed",
         "rawType": "int32",
         "type": "integer"
        },
        {
         "name": "Subscription_Tier",
         "rawType": "object",
         "type": "string"
        },
        {
         "name": "Last_Login_Days_Ago",
         "rawType": "int32",
         "type": "integer"
        },
        {
         "name": "Is_Referral_User",
         "rawType": "int64",
         "type": "integer"
        },
        {
         "name": "Tier_encoded",
         "rawType": "int64",
         "type": "integer"
        },
        {
         "name": "cluster",
         "rawType": "int32",
         "type": "integer"
        },
        {
         "name": "User_Segment",
         "rawType": "object",
         "type": "string"
        }
       ],
       "ref": "bf003898-5fa6-400c-a5a0-c594d118c896",
       "rows": [
        [
         "0",
         "1",
         "24",
         "20.1",
         "1",
         "Premium",
         "43",
         "0",
         "2",
         "0",
         "Loyal Learner"
        ],
        [
         "1",
         "2",
         "32",
         "15.0",
         "3",
         "Premium",
         "28",
         "0",
         "2",
         "0",
         "Loyal Learner"
        ],
        [
         "2",
         "3",
         "29",
         "17.4",
         "4",
         "Free",
         "13",
         "0",
         "0",
         "2",
         "Returning Freebies"
        ],
        [
         "3",
         "4",
         "20",
         "24.3",
         "5",
         "Basic",
         "48",
         "0",
         "1",
         "1",
         "Ghost User"
        ],
        [
         "4",
         "5",
         "23",
         "6.7",
         "2",
         "Basic",
         "24",
         "0",
         "1",
         "2",
         "Returning Freebies"
        ]
       ],
       "shape": {
        "columns": 10,
        "rows": 5
       }
      },
      "text/html": [
       "<div>\n",
       "<style scoped>\n",
       "    .dataframe tbody tr th:only-of-type {\n",
       "        vertical-align: middle;\n",
       "    }\n",
       "\n",
       "    .dataframe tbody tr th {\n",
       "        vertical-align: top;\n",
       "    }\n",
       "\n",
       "    .dataframe thead th {\n",
       "        text-align: right;\n",
       "    }\n",
       "</style>\n",
       "<table border=\"1\" class=\"dataframe\">\n",
       "  <thead>\n",
       "    <tr style=\"text-align: right;\">\n",
       "      <th></th>\n",
       "      <th>User_ID</th>\n",
       "      <th>Total_Sessions</th>\n",
       "      <th>Avg_Session_Length_Min</th>\n",
       "      <th>Courses_Completed</th>\n",
       "      <th>Subscription_Tier</th>\n",
       "      <th>Last_Login_Days_Ago</th>\n",
       "      <th>Is_Referral_User</th>\n",
       "      <th>Tier_encoded</th>\n",
       "      <th>cluster</th>\n",
       "      <th>User_Segment</th>\n",
       "    </tr>\n",
       "  </thead>\n",
       "  <tbody>\n",
       "    <tr>\n",
       "      <th>0</th>\n",
       "      <td>1</td>\n",
       "      <td>24</td>\n",
       "      <td>20.1</td>\n",
       "      <td>1</td>\n",
       "      <td>Premium</td>\n",
       "      <td>43</td>\n",
       "      <td>0</td>\n",
       "      <td>2</td>\n",
       "      <td>0</td>\n",
       "      <td>Loyal Learner</td>\n",
       "    </tr>\n",
       "    <tr>\n",
       "      <th>1</th>\n",
       "      <td>2</td>\n",
       "      <td>32</td>\n",
       "      <td>15.0</td>\n",
       "      <td>3</td>\n",
       "      <td>Premium</td>\n",
       "      <td>28</td>\n",
       "      <td>0</td>\n",
       "      <td>2</td>\n",
       "      <td>0</td>\n",
       "      <td>Loyal Learner</td>\n",
       "    </tr>\n",
       "    <tr>\n",
       "      <th>2</th>\n",
       "      <td>3</td>\n",
       "      <td>29</td>\n",
       "      <td>17.4</td>\n",
       "      <td>4</td>\n",
       "      <td>Free</td>\n",
       "      <td>13</td>\n",
       "      <td>0</td>\n",
       "      <td>0</td>\n",
       "      <td>2</td>\n",
       "      <td>Returning Freebies</td>\n",
       "    </tr>\n",
       "    <tr>\n",
       "      <th>3</th>\n",
       "      <td>4</td>\n",
       "      <td>20</td>\n",
       "      <td>24.3</td>\n",
       "      <td>5</td>\n",
       "      <td>Basic</td>\n",
       "      <td>48</td>\n",
       "      <td>0</td>\n",
       "      <td>1</td>\n",
       "      <td>1</td>\n",
       "      <td>Ghost User</td>\n",
       "    </tr>\n",
       "    <tr>\n",
       "      <th>4</th>\n",
       "      <td>5</td>\n",
       "      <td>23</td>\n",
       "      <td>6.7</td>\n",
       "      <td>2</td>\n",
       "      <td>Basic</td>\n",
       "      <td>24</td>\n",
       "      <td>0</td>\n",
       "      <td>1</td>\n",
       "      <td>2</td>\n",
       "      <td>Returning Freebies</td>\n",
       "    </tr>\n",
       "  </tbody>\n",
       "</table>\n",
       "</div>"
      ],
      "text/plain": [
       "   User_ID  Total_Sessions  Avg_Session_Length_Min  Courses_Completed  \\\n",
       "0        1              24                    20.1                  1   \n",
       "1        2              32                    15.0                  3   \n",
       "2        3              29                    17.4                  4   \n",
       "3        4              20                    24.3                  5   \n",
       "4        5              23                     6.7                  2   \n",
       "\n",
       "  Subscription_Tier  Last_Login_Days_Ago  Is_Referral_User  Tier_encoded  \\\n",
       "0           Premium                   43                 0             2   \n",
       "1           Premium                   28                 0             2   \n",
       "2              Free                   13                 0             0   \n",
       "3             Basic                   48                 0             1   \n",
       "4             Basic                   24                 0             1   \n",
       "\n",
       "   cluster        User_Segment  \n",
       "0        0       Loyal Learner  \n",
       "1        0       Loyal Learner  \n",
       "2        2  Returning Freebies  \n",
       "3        1          Ghost User  \n",
       "4        2  Returning Freebies  "
      ]
     },
     "execution_count": 38,
     "metadata": {},
     "output_type": "execute_result"
    }
   ],
   "source": [
    "df.head()"
   ]
  },
  {
   "cell_type": "code",
   "execution_count": 45,
   "id": "1a3e220c",
   "metadata": {},
   "outputs": [
    {
     "data": {
      "text/plain": [
       "np.float64(26.700000000000003)"
      ]
     },
     "execution_count": 45,
     "metadata": {},
     "output_type": "execute_result"
    }
   ],
   "source": [
    "df['Is_Referral_User'].mean() * 100"
   ]
  },
  {
   "cell_type": "code",
   "execution_count": 54,
   "id": "57d9b962",
   "metadata": {},
   "outputs": [],
   "source": [
    "summary = pd.DataFrame({\n",
    "    'Avg_session': [df['Total_Sessions'].mean()],\n",
    "    'Avg_course_completion': [df['Courses_Completed'].mean()],\n",
    "    'Avg_session_time': [df['Avg_Session_Length_Min'].mean()],\n",
    "    'Referral_use_%': [df['Is_Referral_User'].mean() * 100],\n",
    "    'Churn_risk': [np.mean(df['Last_Login_Days_Ago'] > 30) * 100]  \n",
    "})"
   ]
  },
  {
   "cell_type": "code",
   "execution_count": 59,
   "id": "bf765e45",
   "metadata": {},
   "outputs": [
    {
     "data": {
      "application/vnd.microsoft.datawrangler.viewer.v0+json": {
       "columns": [
        {
         "name": "index",
         "rawType": "int64",
         "type": "integer"
        },
        {
         "name": "Avg_session",
         "rawType": "float64",
         "type": "float"
        },
        {
         "name": "Avg_course_completion",
         "rawType": "float64",
         "type": "float"
        },
        {
         "name": "Avg_session_time",
         "rawType": "float64",
         "type": "float"
        },
        {
         "name": "Referral_use_%",
         "rawType": "float64",
         "type": "float"
        },
        {
         "name": "Churn_risk",
         "rawType": "float64",
         "type": "float"
        }
       ],
       "ref": "0ea3094c-4149-452e-b047-0425db6d3840",
       "rows": [
        [
         "0",
         "25.0",
         "2.94",
         "15.11",
         "26.7",
         "50.5"
        ]
       ],
       "shape": {
        "columns": 5,
        "rows": 1
       }
      },
      "text/html": [
       "<div>\n",
       "<style scoped>\n",
       "    .dataframe tbody tr th:only-of-type {\n",
       "        vertical-align: middle;\n",
       "    }\n",
       "\n",
       "    .dataframe tbody tr th {\n",
       "        vertical-align: top;\n",
       "    }\n",
       "\n",
       "    .dataframe thead th {\n",
       "        text-align: right;\n",
       "    }\n",
       "</style>\n",
       "<table border=\"1\" class=\"dataframe\">\n",
       "  <thead>\n",
       "    <tr style=\"text-align: right;\">\n",
       "      <th></th>\n",
       "      <th>Avg_session</th>\n",
       "      <th>Avg_course_completion</th>\n",
       "      <th>Avg_session_time</th>\n",
       "      <th>Referral_use_%</th>\n",
       "      <th>Churn_risk</th>\n",
       "    </tr>\n",
       "  </thead>\n",
       "  <tbody>\n",
       "    <tr>\n",
       "      <th>0</th>\n",
       "      <td>25.0</td>\n",
       "      <td>2.94</td>\n",
       "      <td>15.11</td>\n",
       "      <td>26.7</td>\n",
       "      <td>50.5</td>\n",
       "    </tr>\n",
       "  </tbody>\n",
       "</table>\n",
       "</div>"
      ],
      "text/plain": [
       "   Avg_session  Avg_course_completion  Avg_session_time  Referral_use_%  \\\n",
       "0         25.0                   2.94             15.11            26.7   \n",
       "\n",
       "   Churn_risk  \n",
       "0        50.5  "
      ]
     },
     "execution_count": 59,
     "metadata": {},
     "output_type": "execute_result"
    }
   ],
   "source": [
    "summary.round(2)"
   ]
  },
  {
   "cell_type": "code",
   "execution_count": null,
   "id": "32ade593",
   "metadata": {},
   "outputs": [],
   "source": []
  },
  {
   "cell_type": "code",
   "execution_count": null,
   "id": "8c2f01ce",
   "metadata": {},
   "outputs": [],
   "source": []
  },
  {
   "cell_type": "code",
   "execution_count": null,
   "id": "0b92a623",
   "metadata": {},
   "outputs": [],
   "source": []
  }
 ],
 "metadata": {
  "kernelspec": {
   "display_name": "Python 3",
   "language": "python",
   "name": "python3"
  },
  "language_info": {
   "codemirror_mode": {
    "name": "ipython",
    "version": 3
   },
   "file_extension": ".py",
   "mimetype": "text/x-python",
   "name": "python",
   "nbconvert_exporter": "python",
   "pygments_lexer": "ipython3",
   "version": "3.10.0"
  }
 },
 "nbformat": 4,
 "nbformat_minor": 5
}
