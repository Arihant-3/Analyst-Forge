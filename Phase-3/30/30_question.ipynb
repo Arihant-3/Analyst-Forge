{
 "cells": [
  {
   "cell_type": "markdown",
   "id": "66047362",
   "metadata": {},
   "source": [
    "DATA CREATION"
   ]
  },
  {
   "cell_type": "markdown",
   "id": "1e2166a1",
   "metadata": {},
   "source": [
    "You’ll simulate product usage + feedback to answer:\n",
    "\n",
    "> “Why is our retention dropping, and what should we do about it?”"
   ]
  },
  {
   "cell_type": "code",
   "execution_count": 1,
   "id": "cacdd0a0",
   "metadata": {},
   "outputs": [],
   "source": [
    "import pandas as pd\n",
    "import numpy as np\n",
    "\n",
    "np.random.seed(30)\n",
    "\n",
    "n = 1000\n",
    "\n",
    "df = pd.DataFrame({\n",
    "    'User_ID': np.arange(1, n + 1),\n",
    "    'Signup_Week': np.random.choice(range(1, 13), n),  # 12-week cohort\n",
    "    'Active_Weeks': np.random.poisson(4, n),\n",
    "    'Avg_Session_Length_Min': np.round(np.random.normal(12, 3, n), 1),\n",
    "    'Referral': np.random.choice([0, 1], size=n, p=[0.75, 0.25]),\n",
    "    'Feedback': np.random.choice([\n",
    "        'Too many bugs', 'I love the app', 'Needs more features',\n",
    "        'Very slow to load', 'Great for learning', 'Content is outdated',\n",
    "        'Crashes often', 'Helpful interface', 'Too expensive', 'More languages please'\n",
    "    ], size=n)\n",
    "})\n",
    "\n",
    "df['Churned'] = (df['Active_Weeks'] < 3).astype(int)\n",
    "\n",
    "df.to_csv(\"final_retention_dataset.csv\", index=False)\n"
   ]
  },
  {
   "cell_type": "markdown",
   "id": "75396bab",
   "metadata": {},
   "source": [
    "## Task:\n",
    "1. Cohort Retention Analysis\n",
    "    - Analyze churn rate by Signup_Week\n",
    "    - Identify weak vs. strong signup cohorts\n",
    "\n",
    "2. Behavioral Drivers of Churn\n",
    "    - How does churn correlate with:\n",
    "        - Session length\n",
    "        - Referral status\n",
    "        - Feedback text\n",
    "    - Group feedback into themes and compare churn across themes.\n",
    "\n",
    "3. Tell a Story (Most Important Part)\n",
    "    - Use visuals + headline-style takeaways\n",
    "    - Answer:\n",
    "        > “Why is retention dropping, who is churning, and what should we do?”\n",
    "\n",
    "Think like a product analyst giving a high-stakes briefing."
   ]
  },
  {
   "cell_type": "code",
   "execution_count": 2,
   "id": "bd6ab37d",
   "metadata": {},
   "outputs": [
    {
     "name": "stdout",
     "output_type": "stream",
     "text": [
      "<class 'pandas.core.frame.DataFrame'>\n",
      "RangeIndex: 1000 entries, 0 to 999\n",
      "Data columns (total 7 columns):\n",
      " #   Column                  Non-Null Count  Dtype  \n",
      "---  ------                  --------------  -----  \n",
      " 0   User_ID                 1000 non-null   int64  \n",
      " 1   Signup_Week             1000 non-null   int64  \n",
      " 2   Active_Weeks            1000 non-null   int32  \n",
      " 3   Avg_Session_Length_Min  1000 non-null   float64\n",
      " 4   Referral                1000 non-null   int64  \n",
      " 5   Feedback                1000 non-null   object \n",
      " 6   Churned                 1000 non-null   int64  \n",
      "dtypes: float64(1), int32(1), int64(4), object(1)\n",
      "memory usage: 50.9+ KB\n"
     ]
    }
   ],
   "source": [
    "df.info()"
   ]
  },
  {
   "cell_type": "code",
   "execution_count": 3,
   "id": "752b18c7",
   "metadata": {},
   "outputs": [
    {
     "data": {
      "application/vnd.microsoft.datawrangler.viewer.v0+json": {
       "columns": [
        {
         "name": "index",
         "rawType": "int64",
         "type": "integer"
        },
        {
         "name": "User_ID",
         "rawType": "int64",
         "type": "integer"
        },
        {
         "name": "Signup_Week",
         "rawType": "int64",
         "type": "integer"
        },
        {
         "name": "Active_Weeks",
         "rawType": "int32",
         "type": "integer"
        },
        {
         "name": "Avg_Session_Length_Min",
         "rawType": "float64",
         "type": "float"
        },
        {
         "name": "Referral",
         "rawType": "int64",
         "type": "integer"
        },
        {
         "name": "Feedback",
         "rawType": "object",
         "type": "string"
        },
        {
         "name": "Churned",
         "rawType": "int64",
         "type": "integer"
        }
       ],
       "ref": "40c3c049-abe2-4182-a866-d264fe42edaa",
       "rows": [
        [
         "0",
         "1",
         "6",
         "2",
         "0.7",
         "0",
         "Content is outdated",
         "1"
        ],
        [
         "1",
         "2",
         "6",
         "6",
         "11.0",
         "0",
         "Content is outdated",
         "0"
        ],
        [
         "2",
         "3",
         "5",
         "4",
         "8.7",
         "0",
         "Content is outdated",
         "0"
        ],
        [
         "3",
         "4",
         "8",
         "3",
         "8.5",
         "0",
         "More languages please",
         "0"
        ],
        [
         "4",
         "5",
         "3",
         "2",
         "11.9",
         "0",
         "More languages please",
         "1"
        ]
       ],
       "shape": {
        "columns": 7,
        "rows": 5
       }
      },
      "text/html": [
       "<div>\n",
       "<style scoped>\n",
       "    .dataframe tbody tr th:only-of-type {\n",
       "        vertical-align: middle;\n",
       "    }\n",
       "\n",
       "    .dataframe tbody tr th {\n",
       "        vertical-align: top;\n",
       "    }\n",
       "\n",
       "    .dataframe thead th {\n",
       "        text-align: right;\n",
       "    }\n",
       "</style>\n",
       "<table border=\"1\" class=\"dataframe\">\n",
       "  <thead>\n",
       "    <tr style=\"text-align: right;\">\n",
       "      <th></th>\n",
       "      <th>User_ID</th>\n",
       "      <th>Signup_Week</th>\n",
       "      <th>Active_Weeks</th>\n",
       "      <th>Avg_Session_Length_Min</th>\n",
       "      <th>Referral</th>\n",
       "      <th>Feedback</th>\n",
       "      <th>Churned</th>\n",
       "    </tr>\n",
       "  </thead>\n",
       "  <tbody>\n",
       "    <tr>\n",
       "      <th>0</th>\n",
       "      <td>1</td>\n",
       "      <td>6</td>\n",
       "      <td>2</td>\n",
       "      <td>0.7</td>\n",
       "      <td>0</td>\n",
       "      <td>Content is outdated</td>\n",
       "      <td>1</td>\n",
       "    </tr>\n",
       "    <tr>\n",
       "      <th>1</th>\n",
       "      <td>2</td>\n",
       "      <td>6</td>\n",
       "      <td>6</td>\n",
       "      <td>11.0</td>\n",
       "      <td>0</td>\n",
       "      <td>Content is outdated</td>\n",
       "      <td>0</td>\n",
       "    </tr>\n",
       "    <tr>\n",
       "      <th>2</th>\n",
       "      <td>3</td>\n",
       "      <td>5</td>\n",
       "      <td>4</td>\n",
       "      <td>8.7</td>\n",
       "      <td>0</td>\n",
       "      <td>Content is outdated</td>\n",
       "      <td>0</td>\n",
       "    </tr>\n",
       "    <tr>\n",
       "      <th>3</th>\n",
       "      <td>4</td>\n",
       "      <td>8</td>\n",
       "      <td>3</td>\n",
       "      <td>8.5</td>\n",
       "      <td>0</td>\n",
       "      <td>More languages please</td>\n",
       "      <td>0</td>\n",
       "    </tr>\n",
       "    <tr>\n",
       "      <th>4</th>\n",
       "      <td>5</td>\n",
       "      <td>3</td>\n",
       "      <td>2</td>\n",
       "      <td>11.9</td>\n",
       "      <td>0</td>\n",
       "      <td>More languages please</td>\n",
       "      <td>1</td>\n",
       "    </tr>\n",
       "  </tbody>\n",
       "</table>\n",
       "</div>"
      ],
      "text/plain": [
       "   User_ID  Signup_Week  Active_Weeks  Avg_Session_Length_Min  Referral  \\\n",
       "0        1            6             2                     0.7         0   \n",
       "1        2            6             6                    11.0         0   \n",
       "2        3            5             4                     8.7         0   \n",
       "3        4            8             3                     8.5         0   \n",
       "4        5            3             2                    11.9         0   \n",
       "\n",
       "                Feedback  Churned  \n",
       "0    Content is outdated        1  \n",
       "1    Content is outdated        0  \n",
       "2    Content is outdated        0  \n",
       "3  More languages please        0  \n",
       "4  More languages please        1  "
      ]
     },
     "execution_count": 3,
     "metadata": {},
     "output_type": "execute_result"
    }
   ],
   "source": [
    "df.head()"
   ]
  },
  {
   "cell_type": "code",
   "execution_count": 5,
   "id": "9e596aab",
   "metadata": {},
   "outputs": [],
   "source": [
    "import seaborn as sns\n",
    "import matplotlib.pyplot as plt \n",
    "%matplotlib inline"
   ]
  },
  {
   "cell_type": "code",
   "execution_count": 34,
   "id": "d889b84f",
   "metadata": {},
   "outputs": [
    {
     "data": {
      "image/png": "[encoded data removed]",
      "text/plain": [
       "<Figure size 800x400 with 1 Axes>"
      ]
     },
     "metadata": {},
     "output_type": "display_data"
    }
   ],
   "source": [
    "plt.figure(figsize=(8, 4))\n",
    "df.groupby('Signup_Week')['Churned'].mean().plot(kind='bar', color='steelblue')\n",
    "plt.title(\"Cohort-wise Churn Rate\")\n",
    "plt.xlabel(\"Signup Week\")\n",
    "plt.ylabel(\"Churn Rate\")\n",
    "# plt.ylim(0, 1)\n",
    "plt.grid(axis='y', linestyle='--', alpha=0.5)\n",
    "plt.tight_layout()\n",
    "plt.show()\n"
   ]
  },
  {
   "cell_type": "code",
   "execution_count": 44,
   "id": "1087aef4",
   "metadata": {},
   "outputs": [],
   "source": [
    "signup_cohort = df.groupby('Signup_Week')['Churned'].mean().reset_index()\n",
    "signup_cohort.rename(columns={'Churned': 'Churn_Rate'}, inplace=True)\n",
    "signup_cohort.sort_values('Signup_Week', inplace=True)"
   ]
  },
  {
   "cell_type": "code",
   "execution_count": 47,
   "id": "f08831ed",
   "metadata": {},
   "outputs": [
    {
     "name": "stdout",
     "output_type": "stream",
     "text": [
      "Mean Churn Rate: 0.225\n",
      "Std Deviation: 0.038\n"
     ]
    }
   ],
   "source": [
    "mean_churn = signup_cohort['Churn_Rate'].mean()\n",
    "std_churn = signup_cohort['Churn_Rate'].std()\n",
    "\n",
    "print(f\"Mean Churn Rate: {mean_churn:.3f}\")\n",
    "print(f\"Std Deviation: {std_churn:.3f}\")\n"
   ]
  },
  {
   "cell_type": "code",
   "execution_count": 52,
   "id": "ddfcb211",
   "metadata": {},
   "outputs": [
    {
     "data": {
      "application/vnd.microsoft.datawrangler.viewer.v0+json": {
       "columns": [
        {
         "name": "index",
         "rawType": "int64",
         "type": "integer"
        },
        {
         "name": "Signup_Week",
         "rawType": "int64",
         "type": "integer"
        },
        {
         "name": "Churn_Rate",
         "rawType": "float64",
         "type": "float"
        },
        {
         "name": "Cohort_Strength",
         "rawType": "object",
         "type": "string"
        },
        {
         "name": "Cohort_Type",
         "rawType": "object",
         "type": "string"
        }
       ],
       "ref": "f14a8fba-51c5-46f0-99c3-ccf56fec6e83",
       "rows": [
        [
         "0",
         "1",
         "0.22784810126582278",
         "Neutral",
         "Neutral"
        ],
        [
         "1",
         "2",
         "0.1935483870967742",
         "Neutral",
         "Neutral"
        ],
        [
         "2",
         "3",
         "0.24675324675324675",
         "Neutral",
         "Neutral"
        ],
        [
         "3",
         "4",
         "0.1595744680851064",
         "Strong",
         "Strong"
        ],
        [
         "4",
         "5",
         "0.21052631578947367",
         "Neutral",
         "Neutral"
        ],
        [
         "5",
         "6",
         "0.18571428571428572",
         "Strong",
         "Strong"
        ],
        [
         "6",
         "7",
         "0.25842696629213485",
         "Neutral",
         "Neutral"
        ],
        [
         "7",
         "8",
         "0.21176470588235294",
         "Neutral",
         "Neutral"
        ],
        [
         "8",
         "9",
         "0.20454545454545456",
         "Neutral",
         "Neutral"
        ],
        [
         "9",
         "10",
         "0.24675324675324675",
         "Neutral",
         "Neutral"
        ],
        [
         "10",
         "11",
         "0.2692307692307692",
         "Weak",
         "Weak"
        ],
        [
         "11",
         "12",
         "0.2872340425531915",
         "Weak",
         "Weak"
        ]
       ],
       "shape": {
        "columns": 4,
        "rows": 12
       }
      },
      "text/html": [
       "<div>\n",
       "<style scoped>\n",
       "    .dataframe tbody tr th:only-of-type {\n",
       "        vertical-align: middle;\n",
       "    }\n",
       "\n",
       "    .dataframe tbody tr th {\n",
       "        vertical-align: top;\n",
       "    }\n",
       "\n",
       "    .dataframe thead th {\n",
       "        text-align: right;\n",
       "    }\n",
       "</style>\n",
       "<table border=\"1\" class=\"dataframe\">\n",
       "  <thead>\n",
       "    <tr style=\"text-align: right;\">\n",
       "      <th></th>\n",
       "      <th>Signup_Week</th>\n",
       "      <th>Churn_Rate</th>\n",
       "      <th>Cohort_Strength</th>\n",
       "      <th>Cohort_Type</th>\n",
       "    </tr>\n",
       "  </thead>\n",
       "  <tbody>\n",
       "    <tr>\n",
       "      <th>0</th>\n",
       "      <td>1</td>\n",
       "      <td>0.227848</td>\n",
       "      <td>Neutral</td>\n",
       "      <td>Neutral</td>\n",
       "    </tr>\n",
       "    <tr>\n",
       "      <th>1</th>\n",
       "      <td>2</td>\n",
       "      <td>0.193548</td>\n",
       "      <td>Neutral</td>\n",
       "      <td>Neutral</td>\n",
       "    </tr>\n",
       "    <tr>\n",
       "      <th>2</th>\n",
       "      <td>3</td>\n",
       "      <td>0.246753</td>\n",
       "      <td>Neutral</td>\n",
       "      <td>Neutral</td>\n",
       "    </tr>\n",
       "    <tr>\n",
       "      <th>3</th>\n",
       "      <td>4</td>\n",
       "      <td>0.159574</td>\n",
       "      <td>Strong</td>\n",
       "      <td>Strong</td>\n",
       "    </tr>\n",
       "    <tr>\n",
       "      <th>4</th>\n",
       "      <td>5</td>\n",
       "      <td>0.210526</td>\n",
       "      <td>Neutral</td>\n",
       "      <td>Neutral</td>\n",
       "    </tr>\n",
       "    <tr>\n",
       "      <th>5</th>\n",
       "      <td>6</td>\n",
       "      <td>0.185714</td>\n",
       "      <td>Strong</td>\n",
       "      <td>Strong</td>\n",
       "    </tr>\n",
       "    <tr>\n",
       "      <th>6</th>\n",
       "      <td>7</td>\n",
       "      <td>0.258427</td>\n",
       "      <td>Neutral</td>\n",
       "      <td>Neutral</td>\n",
       "    </tr>\n",
       "    <tr>\n",
       "      <th>7</th>\n",
       "      <td>8</td>\n",
       "      <td>0.211765</td>\n",
       "      <td>Neutral</td>\n",
       "      <td>Neutral</td>\n",
       "    </tr>\n",
       "    <tr>\n",
       "      <th>8</th>\n",
       "      <td>9</td>\n",
       "      <td>0.204545</td>\n",
       "      <td>Neutral</td>\n",
       "      <td>Neutral</td>\n",
       "    </tr>\n",
       "    <tr>\n",
       "      <th>9</th>\n",
       "      <td>10</td>\n",
       "      <td>0.246753</td>\n",
       "      <td>Neutral</td>\n",
       "      <td>Neutral</td>\n",
       "    </tr>\n",
       "    <tr>\n",
       "      <th>10</th>\n",
       "      <td>11</td>\n",
       "      <td>0.269231</td>\n",
       "      <td>Weak</td>\n",
       "      <td>Weak</td>\n",
       "    </tr>\n",
       "    <tr>\n",
       "      <th>11</th>\n",
       "      <td>12</td>\n",
       "      <td>0.287234</td>\n",
       "      <td>Weak</td>\n",
       "      <td>Weak</td>\n",
       "    </tr>\n",
       "  </tbody>\n",
       "</table>\n",
       "</div>"
      ],
      "text/plain": [
       "    Signup_Week  Churn_Rate Cohort_Strength Cohort_Type\n",
       "0             1    0.227848         Neutral     Neutral\n",
       "1             2    0.193548         Neutral     Neutral\n",
       "2             3    0.246753         Neutral     Neutral\n",
       "3             4    0.159574          Strong      Strong\n",
       "4             5    0.210526         Neutral     Neutral\n",
       "5             6    0.185714          Strong      Strong\n",
       "6             7    0.258427         Neutral     Neutral\n",
       "7             8    0.211765         Neutral     Neutral\n",
       "8             9    0.204545         Neutral     Neutral\n",
       "9            10    0.246753         Neutral     Neutral\n",
       "10           11    0.269231            Weak        Weak\n",
       "11           12    0.287234            Weak        Weak"
      ]
     },
     "execution_count": 52,
     "metadata": {},
     "output_type": "execute_result"
    }
   ],
   "source": [
    "# Define logic: Strong = low churn, Weak = high churn\n",
    "def label_cohort(churn):\n",
    "    if churn > mean_churn + std_churn:\n",
    "        return 'Weak'\n",
    "    elif churn < mean_churn - std_churn:\n",
    "        return 'Strong'\n",
    "    else:\n",
    "        return 'Neutral'\n",
    "\n",
    "# Apply to each row\n",
    "signup_cohort['Cohort_Type'] = signup_cohort['Churn_Rate'].apply(label_cohort)\n",
    "\n",
    "signup_cohort"
   ]
  },
  {
   "cell_type": "code",
   "execution_count": 57,
   "id": "9b742381",
   "metadata": {},
   "outputs": [
    {
     "data": {
      "image/png": "[encoded data removed]",
      "text/plain": [
       "<Figure size 1000x500 with 1 Axes>"
      ]
     },
     "metadata": {},
     "output_type": "display_data"
    }
   ],
   "source": [
    "# Choose colors based on label\n",
    "colors = signup_cohort['Cohort_Type'].map({\n",
    "    'Weak': 'red',\n",
    "    'Strong': 'green',\n",
    "    'Neutral': 'gray'\n",
    "})\n",
    "\n",
    "# Make bar chart\n",
    "plt.figure(figsize=(10, 5))\n",
    "plt.bar(signup_cohort['Signup_Week'], signup_cohort['Churn_Rate'], color=colors)\n",
    "\n",
    "# Add average lines\n",
    "plt.axhline(mean_churn, linestyle='--', color='blue', label='Mean Churn')\n",
    "plt.axhline(mean_churn + std_churn, linestyle='--', color='red', label='Weak Threshold')\n",
    "plt.axhline(mean_churn - std_churn, linestyle='--', color='green', label='Strong Threshold')\n",
    "\n",
    "plt.title(\"Churn Rate by Signup Week (with Strength Labels)\")\n",
    "plt.xlabel(\"Signup Week\")\n",
    "plt.ylabel(\"Churn Rate\")\n",
    "plt.legend()\n",
    "plt.tight_layout()\n",
    "plt.show()\n"
   ]
  },
  {
   "cell_type": "code",
   "execution_count": 60,
   "id": "3e91008a",
   "metadata": {},
   "outputs": [
    {
     "data": {
      "text/plain": [
       "array(['Content is outdated', 'More languages please',\n",
       "       'Very slow to load', 'Needs more features', 'Great for learning',\n",
       "       'I love the app', 'Too expensive', 'Too many bugs',\n",
       "       'Helpful interface', 'Crashes often'], dtype=object)"
      ]
     },
     "execution_count": 60,
     "metadata": {},
     "output_type": "execute_result"
    }
   ],
   "source": [
    "df['Feedback'].unique()"
   ]
  },
  {
   "cell_type": "code",
   "execution_count": 101,
   "id": "dd69c240",
   "metadata": {},
   "outputs": [],
   "source": [
    "# As the feature has limited words we can use bucketing other wise we have to use NLP techniques\n",
    "\n",
    "theme_map = {\n",
    "    'Too many bugs': 'Bugs and Crashes',\n",
    "    'Crashes often': 'Bugs and Crashes',\n",
    "    'Very slow to load': 'Performance',\n",
    "    'Content is outdated': 'Content',\n",
    "    'Needs more features': 'Feature Requests',\n",
    "    'More languages please': 'Feature Requests',\n",
    "    'Too expensive': 'Pricing',\n",
    "    'I love the app': 'Positive',\n",
    "    'Great for learning': 'Positive',\n",
    "    'Helpful interface': 'Positive'\n",
    "}\n",
    "\n",
    "df['Feedback_Theme'] = df['Feedback'].map(theme_map)\n"
   ]
  },
  {
   "cell_type": "code",
   "execution_count": 59,
   "id": "76dc8d82",
   "metadata": {},
   "outputs": [
    {
     "data": {
      "application/vnd.microsoft.datawrangler.viewer.v0+json": {
       "columns": [
        {
         "name": "index",
         "rawType": "int64",
         "type": "integer"
        },
        {
         "name": "User_ID",
         "rawType": "int64",
         "type": "integer"
        },
        {
         "name": "Signup_Week",
         "rawType": "int64",
         "type": "integer"
        },
        {
         "name": "Active_Weeks",
         "rawType": "int32",
         "type": "integer"
        },
        {
         "name": "Avg_Session_Length_Min",
         "rawType": "float64",
         "type": "float"
        },
        {
         "name": "Referral",
         "rawType": "int64",
         "type": "integer"
        },
        {
         "name": "Feedback",
         "rawType": "object",
         "type": "string"
        },
        {
         "name": "Churned",
         "rawType": "int64",
         "type": "integer"
        },
        {
         "name": "Feedback_Theme",
         "rawType": "object",
         "type": "string"
        }
       ],
       "ref": "14370d19-e36a-4efe-a417-d2b65a921f40",
       "rows": [
        [
         "0",
         "1",
         "6",
         "2",
         "0.7",
         "0",
         "Content is outdated",
         "1",
         "Other"
        ],
        [
         "1",
         "2",
         "6",
         "6",
         "11.0",
         "0",
         "Content is outdated",
         "0",
         "Other"
        ],
        [
         "2",
         "3",
         "5",
         "4",
         "8.7",
         "0",
         "Content is outdated",
         "0",
         "Other"
        ],
        [
         "3",
         "4",
         "8",
         "3",
         "8.5",
         "0",
         "More languages please",
         "0",
         "Missing Features"
        ],
        [
         "4",
         "5",
         "3",
         "2",
         "11.9",
         "0",
         "More languages please",
         "1",
         "Missing Features"
        ]
       ],
       "shape": {
        "columns": 8,
        "rows": 5
       }
      },
      "text/html": [
       "<div>\n",
       "<style scoped>\n",
       "    .dataframe tbody tr th:only-of-type {\n",
       "        vertical-align: middle;\n",
       "    }\n",
       "\n",
       "    .dataframe tbody tr th {\n",
       "        vertical-align: top;\n",
       "    }\n",
       "\n",
       "    .dataframe thead th {\n",
       "        text-align: right;\n",
       "    }\n",
       "</style>\n",
       "<table border=\"1\" class=\"dataframe\">\n",
       "  <thead>\n",
       "    <tr style=\"text-align: right;\">\n",
       "      <th></th>\n",
       "      <th>User_ID</th>\n",
       "      <th>Signup_Week</th>\n",
       "      <th>Active_Weeks</th>\n",
       "      <th>Avg_Session_Length_Min</th>\n",
       "      <th>Referral</th>\n",
       "      <th>Feedback</th>\n",
       "      <th>Churned</th>\n",
       "      <th>Feedback_Theme</th>\n",
       "    </tr>\n",
       "  </thead>\n",
       "  <tbody>\n",
       "    <tr>\n",
       "      <th>0</th>\n",
       "      <td>1</td>\n",
       "      <td>6</td>\n",
       "      <td>2</td>\n",
       "      <td>0.7</td>\n",
       "      <td>0</td>\n",
       "      <td>Content is outdated</td>\n",
       "      <td>1</td>\n",
       "      <td>Other</td>\n",
       "    </tr>\n",
       "    <tr>\n",
       "      <th>1</th>\n",
       "      <td>2</td>\n",
       "      <td>6</td>\n",
       "      <td>6</td>\n",
       "      <td>11.0</td>\n",
       "      <td>0</td>\n",
       "      <td>Content is outdated</td>\n",
       "      <td>0</td>\n",
       "      <td>Other</td>\n",
       "    </tr>\n",
       "    <tr>\n",
       "      <th>2</th>\n",
       "      <td>3</td>\n",
       "      <td>5</td>\n",
       "      <td>4</td>\n",
       "      <td>8.7</td>\n",
       "      <td>0</td>\n",
       "      <td>Content is outdated</td>\n",
       "      <td>0</td>\n",
       "      <td>Other</td>\n",
       "    </tr>\n",
       "    <tr>\n",
       "      <th>3</th>\n",
       "      <td>4</td>\n",
       "      <td>8</td>\n",
       "      <td>3</td>\n",
       "      <td>8.5</td>\n",
       "      <td>0</td>\n",
       "      <td>More languages please</td>\n",
       "      <td>0</td>\n",
       "      <td>Missing Features</td>\n",
       "    </tr>\n",
       "    <tr>\n",
       "      <th>4</th>\n",
       "      <td>5</td>\n",
       "      <td>3</td>\n",
       "      <td>2</td>\n",
       "      <td>11.9</td>\n",
       "      <td>0</td>\n",
       "      <td>More languages please</td>\n",
       "      <td>1</td>\n",
       "      <td>Missing Features</td>\n",
       "    </tr>\n",
       "  </tbody>\n",
       "</table>\n",
       "</div>"
      ],
      "text/plain": [
       "   User_ID  Signup_Week  Active_Weeks  Avg_Session_Length_Min  Referral  \\\n",
       "0        1            6             2                     0.7         0   \n",
       "1        2            6             6                    11.0         0   \n",
       "2        3            5             4                     8.7         0   \n",
       "3        4            8             3                     8.5         0   \n",
       "4        5            3             2                    11.9         0   \n",
       "\n",
       "                Feedback  Churned    Feedback_Theme  \n",
       "0    Content is outdated        1             Other  \n",
       "1    Content is outdated        0             Other  \n",
       "2    Content is outdated        0             Other  \n",
       "3  More languages please        0  Missing Features  \n",
       "4  More languages please        1  Missing Features  "
      ]
     },
     "execution_count": 59,
     "metadata": {},
     "output_type": "execute_result"
    }
   ],
   "source": [
    "df.head()"
   ]
  },
  {
   "cell_type": "code",
   "execution_count": 79,
   "id": "0f2a0b18",
   "metadata": {},
   "outputs": [
    {
     "data": {
      "image/png": "[encoded data removed]",
      "text/plain": [
       "<Figure size 640x480 with 2 Axes>"
      ]
     },
     "metadata": {},
     "output_type": "display_data"
    }
   ],
   "source": [
    "df_corr = df[['Avg_Session_Length_Min', 'Referral', 'Churned']]\n",
    "\n",
    "sns.heatmap(data=df_corr.corr(), annot=True, cmap='Spectral')\n",
    "plt.title(\"Correlation with Churn\")\n",
    "plt.show()"
   ]
  },
  {
   "cell_type": "code",
   "execution_count": 88,
   "id": "1c9bbe81",
   "metadata": {},
   "outputs": [
    {
     "data": {
      "application/vnd.microsoft.datawrangler.viewer.v0+json": {
       "columns": [
        {
         "name": "index",
         "rawType": "object",
         "type": "string"
        },
        {
         "name": "Churned",
         "rawType": "float64",
         "type": "float"
        }
       ],
       "ref": "dc4dde7a-9bec-4a34-976e-fd82ab11accb",
       "rows": [
        [
         "Churned",
         "1.0"
        ],
        [
         "Referral",
         "0.02624481943734451"
        ],
        [
         "Avg_Session_Length_Min",
         "-0.021224052387987455"
        ]
       ],
       "shape": {
        "columns": 1,
        "rows": 3
       }
      },
      "text/plain": [
       "Churned                   1.000000\n",
       "Referral                  0.026245\n",
       "Avg_Session_Length_Min   -0.021224\n",
       "Name: Churned, dtype: float64"
      ]
     },
     "execution_count": 88,
     "metadata": {},
     "output_type": "execute_result"
    }
   ],
   "source": [
    "df_corr.corr()['Churned'].sort_values(ascending=False)"
   ]
  },
  {
   "cell_type": "code",
   "execution_count": 102,
   "id": "317d5149",
   "metadata": {},
   "outputs": [
    {
     "data": {
      "image/png": "[encoded data removed]",
      "text/plain": [
       "<Figure size 1000x500 with 1 Axes>"
      ]
     },
     "metadata": {},
     "output_type": "display_data"
    }
   ],
   "source": [
    "# Average churn rate by theme\n",
    "theme_churn = df.groupby('Feedback_Theme')['Churned'].mean().reset_index()\n",
    "theme_churn.sort_values('Churned', ascending=False, inplace=True)\n",
    "\n",
    "# Bar plot\n",
    "plt.figure(figsize=(10,5))\n",
    "sns.barplot(data=theme_churn, x='Churned', y='Feedback_Theme',hue='Feedback_Theme', palette='magma', legend=False)\n",
    "# sns.barplot(data=theme_churn, x='Feedback_Theme', y='Churned',hue='Churned', palette='magma', legend=False)\n",
    "plt.title(\"Churn Rate by Feedback Theme\")\n",
    "plt.xlabel(\"Churn Rate\")\n",
    "plt.ylabel(\"Feedback Theme\")\n",
    "plt.tight_layout()\n",
    "plt.show()\n"
   ]
  },
  {
   "cell_type": "code",
   "execution_count": 89,
   "id": "8b55d0bf",
   "metadata": {},
   "outputs": [
    {
     "data": {
      "text/plain": [
       "np.float64(0.225)"
      ]
     },
     "execution_count": 89,
     "metadata": {},
     "output_type": "execute_result"
    }
   ],
   "source": [
    "df['Churned'].mean()"
   ]
  },
  {
   "cell_type": "code",
   "execution_count": 92,
   "id": "67fd0272",
   "metadata": {},
   "outputs": [
    {
     "data": {
      "image/png": "[encoded data removed]",
      "text/plain": [
       "<Figure size 1000x500 with 1 Axes>"
      ]
     },
     "metadata": {},
     "output_type": "display_data"
    }
   ],
   "source": [
    "df['Retained'] = 1 - df['Churned']\n",
    "retention_by_week = df.groupby('Signup_Week')['Retained'].mean().reset_index()\n",
    "\n",
    "plt.figure(figsize=(10,5))\n",
    "sns.lineplot(data=retention_by_week, x='Signup_Week', y='Retained', marker='o')\n",
    "plt.title(\"Retention Rate by Signup Week\")\n",
    "plt.xlabel(\"Signup Week\")\n",
    "plt.ylabel(\"Retention Rate\")\n",
    "plt.grid(True)\n",
    "plt.tight_layout()\n",
    "plt.show()"
   ]
  },
  {
   "cell_type": "code",
   "execution_count": 111,
   "id": "bad38440",
   "metadata": {},
   "outputs": [
    {
     "data": {
      "application/vnd.microsoft.datawrangler.viewer.v0+json": {
       "columns": [
        {
         "name": "Signup_Week",
         "rawType": "int64",
         "type": "integer"
        },
        {
         "name": "Retained",
         "rawType": "float64",
         "type": "float"
        }
       ],
       "ref": "950f2770-58a8-4a3a-93a0-53e5768f5a3a",
       "rows": [
        [
         "1",
         "77.21518987341773"
        ],
        [
         "2",
         "80.64516129032258"
        ],
        [
         "3",
         "75.32467532467533"
        ],
        [
         "4",
         "84.04255319148936"
        ],
        [
         "5",
         "78.94736842105263"
        ],
        [
         "6",
         "81.42857142857143"
        ],
        [
         "7",
         "74.15730337078652"
        ],
        [
         "8",
         "78.82352941176471"
        ],
        [
         "9",
         "79.54545454545455"
        ],
        [
         "10",
         "75.32467532467533"
        ],
        [
         "11",
         "73.07692307692307"
        ],
        [
         "12",
         "71.27659574468085"
        ]
       ],
       "shape": {
        "columns": 1,
        "rows": 12
       }
      },
      "text/plain": [
       "Signup_Week\n",
       "1     77.215190\n",
       "2     80.645161\n",
       "3     75.324675\n",
       "4     84.042553\n",
       "5     78.947368\n",
       "6     81.428571\n",
       "7     74.157303\n",
       "8     78.823529\n",
       "9     79.545455\n",
       "10    75.324675\n",
       "11    73.076923\n",
       "12    71.276596\n",
       "Name: Retained, dtype: float64"
      ]
     },
     "execution_count": 111,
     "metadata": {},
     "output_type": "execute_result"
    }
   ],
   "source": [
    "df.groupby('Signup_Week')['Retained'].mean() * 100"
   ]
  },
  {
   "cell_type": "code",
   "execution_count": null,
   "id": "42b525ab",
   "metadata": {},
   "outputs": [],
   "source": []
  },
  {
   "cell_type": "code",
   "execution_count": null,
   "metadata": {},
   "outputs": [],
   "source": []
  },
  {
   "cell_type": "code",
   "execution_count": null,
   "id": "90fb5c6b",
   "metadata": {},
   "outputs": [],
   "source": []
  }
 ],
 "metadata": {
  "kernelspec": {
   "display_name": "Python 3",
   "language": "python",
   "name": "python3"
  },
  "language_info": {
   "codemirror_mode": {
    "name": "ipython",
    "version": 3
   },
   "file_extension": ".py",
   "mimetype": "text/x-python",
   "name": "python",
   "nbconvert_exporter": "python",
   "pygments_lexer": "ipython3",
   "version": "3.10.0"
  }
 },
 "nbformat": 4,
 "nbformat_minor": 5
}
