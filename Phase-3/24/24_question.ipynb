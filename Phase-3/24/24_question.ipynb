{
 "cells": [
  {
   "cell_type": "markdown",
   "id": "523c3c3f",
   "metadata": {},
   "source": [
    "DATA CREATION"
   ]
  },
  {
   "cell_type": "markdown",
   "id": "ba89733f",
   "metadata": {},
   "source": [
    "Simulate an A/B experiment on a website's “Start Free Trial” button redesign.\n",
    "The goal is to test whether Version B (new design) leads to better conversion than Version A."
   ]
  },
  {
   "cell_type": "code",
   "execution_count": 1,
   "id": "d2614fb6",
   "metadata": {},
   "outputs": [],
   "source": [
    "import pandas as pd\n",
    "import numpy as np\n",
    "\n",
    "np.random.seed(24)\n",
    "\n",
    "n = 2000\n",
    "\n",
    "df = pd.DataFrame({\n",
    "    'User_ID': np.arange(1, n+1),\n",
    "    'Group': np.random.choice(['A', 'B'], size=n),\n",
    "    'Page_Load_Time': np.round(np.random.normal(2.5, 0.5, n), 2),\n",
    "})\n",
    "\n",
    "# Simulate conversion rates\n",
    "df['Converted'] = df.apply(lambda row: \n",
    "    np.random.binomial(1, 0.11) if row['Group'] == 'A' else np.random.binomial(1, 0.13), axis=1)\n",
    "\n",
    "df.to_csv(\"ab_test_data.csv\", index=False)\n"
   ]
  },
  {
   "cell_type": "markdown",
   "id": "157dd747",
   "metadata": {},
   "source": [
    "## Task:\n",
    "1. Analyze Results:\n",
    "    - What’s the conversion rate for A vs B?\n",
    "    - Did the change make a statistically significant difference?\n",
    "        - Use z-test or chi-square test for proportions.\n",
    "        - Show your hypothesis clearly.\n",
    "\n",
    "2. Dig Deeper:\n",
    "    - Analyze conversion by Page_Load_Time — does slower loading affect conversions more for one group?\n",
    "    - Visualize this (e.g., bins of load time vs conversion rate).\n",
    "\n",
    "3. Make a Recommendation:\n",
    "    - Should the company roll out Version B?\n",
    "    - If not, what would you test next?"
   ]
  },
  {
   "cell_type": "code",
   "execution_count": 2,
   "id": "f539890e",
   "metadata": {},
   "outputs": [
    {
     "name": "stdout",
     "output_type": "stream",
     "text": [
      "<class 'pandas.core.frame.DataFrame'>\n",
      "RangeIndex: 2000 entries, 0 to 1999\n",
      "Data columns (total 4 columns):\n",
      " #   Column          Non-Null Count  Dtype  \n",
      "---  ------          --------------  -----  \n",
      " 0   User_ID         2000 non-null   int64  \n",
      " 1   Group           2000 non-null   object \n",
      " 2   Page_Load_Time  2000 non-null   float64\n",
      " 3   Converted       2000 non-null   int64  \n",
      "dtypes: float64(1), int64(2), object(1)\n",
      "memory usage: 62.6+ KB\n"
     ]
    }
   ],
   "source": [
    "df.info()"
   ]
  },
  {
   "cell_type": "code",
   "execution_count": 3,
   "id": "d16997d0",
   "metadata": {},
   "outputs": [
    {
     "data": {
      "application/vnd.microsoft.datawrangler.viewer.v0+json": {
       "columns": [
        {
         "name": "index",
         "rawType": "int64",
         "type": "integer"
        },
        {
         "name": "User_ID",
         "rawType": "int64",
         "type": "integer"
        },
        {
         "name": "Group",
         "rawType": "object",
         "type": "string"
        },
        {
         "name": "Page_Load_Time",
         "rawType": "float64",
         "type": "float"
        },
        {
         "name": "Converted",
         "rawType": "int64",
         "type": "integer"
        }
       ],
       "ref": "d393e2fa-0465-4f46-ada9-89fe12e7e81d",
       "rows": [
        [
         "0",
         "1",
         "A",
         "1.87",
         "0"
        ],
        [
         "1",
         "2",
         "B",
         "3.16",
         "0"
        ],
        [
         "2",
         "3",
         "A",
         "2.06",
         "0"
        ],
        [
         "3",
         "4",
         "B",
         "1.91",
         "0"
        ],
        [
         "4",
         "5",
         "B",
         "2.97",
         "0"
        ]
       ],
       "shape": {
        "columns": 4,
        "rows": 5
       }
      },
      "text/html": [
       "<div>\n",
       "<style scoped>\n",
       "    .dataframe tbody tr th:only-of-type {\n",
       "        vertical-align: middle;\n",
       "    }\n",
       "\n",
       "    .dataframe tbody tr th {\n",
       "        vertical-align: top;\n",
       "    }\n",
       "\n",
       "    .dataframe thead th {\n",
       "        text-align: right;\n",
       "    }\n",
       "</style>\n",
       "<table border=\"1\" class=\"dataframe\">\n",
       "  <thead>\n",
       "    <tr style=\"text-align: right;\">\n",
       "      <th></th>\n",
       "      <th>User_ID</th>\n",
       "      <th>Group</th>\n",
       "      <th>Page_Load_Time</th>\n",
       "      <th>Converted</th>\n",
       "    </tr>\n",
       "  </thead>\n",
       "  <tbody>\n",
       "    <tr>\n",
       "      <th>0</th>\n",
       "      <td>1</td>\n",
       "      <td>A</td>\n",
       "      <td>1.87</td>\n",
       "      <td>0</td>\n",
       "    </tr>\n",
       "    <tr>\n",
       "      <th>1</th>\n",
       "      <td>2</td>\n",
       "      <td>B</td>\n",
       "      <td>3.16</td>\n",
       "      <td>0</td>\n",
       "    </tr>\n",
       "    <tr>\n",
       "      <th>2</th>\n",
       "      <td>3</td>\n",
       "      <td>A</td>\n",
       "      <td>2.06</td>\n",
       "      <td>0</td>\n",
       "    </tr>\n",
       "    <tr>\n",
       "      <th>3</th>\n",
       "      <td>4</td>\n",
       "      <td>B</td>\n",
       "      <td>1.91</td>\n",
       "      <td>0</td>\n",
       "    </tr>\n",
       "    <tr>\n",
       "      <th>4</th>\n",
       "      <td>5</td>\n",
       "      <td>B</td>\n",
       "      <td>2.97</td>\n",
       "      <td>0</td>\n",
       "    </tr>\n",
       "  </tbody>\n",
       "</table>\n",
       "</div>"
      ],
      "text/plain": [
       "   User_ID Group  Page_Load_Time  Converted\n",
       "0        1     A            1.87          0\n",
       "1        2     B            3.16          0\n",
       "2        3     A            2.06          0\n",
       "3        4     B            1.91          0\n",
       "4        5     B            2.97          0"
      ]
     },
     "execution_count": 3,
     "metadata": {},
     "output_type": "execute_result"
    }
   ],
   "source": [
    "df.head()"
   ]
  },
  {
   "cell_type": "code",
   "execution_count": 7,
   "id": "b6ea4834",
   "metadata": {},
   "outputs": [
    {
     "data": {
      "application/vnd.microsoft.datawrangler.viewer.v0+json": {
       "columns": [
        {
         "name": "Group",
         "rawType": "object",
         "type": "string"
        },
        {
         "name": "count",
         "rawType": "int64",
         "type": "integer"
        }
       ],
       "ref": "f1030b23-dea4-418f-b61e-b77573e8fd4c",
       "rows": [
        [
         "B",
         "1014"
        ],
        [
         "A",
         "986"
        ]
       ],
       "shape": {
        "columns": 1,
        "rows": 2
       }
      },
      "text/plain": [
       "Group\n",
       "B    1014\n",
       "A     986\n",
       "Name: count, dtype: int64"
      ]
     },
     "execution_count": 7,
     "metadata": {},
     "output_type": "execute_result"
    }
   ],
   "source": [
    "df['Group'].value_counts()"
   ]
  },
  {
   "cell_type": "code",
   "execution_count": 8,
   "metadata": {},
   "outputs": [
    {
     "data": {
      "application/vnd.microsoft.datawrangler.viewer.v0+json": {
       "columns": [
        {
         "name": "Group",
         "rawType": "object",
         "type": "string"
        },
        {
         "name": "Page_Load_Time",
         "rawType": "float64",
         "type": "float"
        }
       ],
       "ref": "ddda3a04-9b98-4557-8a1d-3125bd55caa0",
       "rows": [
        [
         "A",
         "2.480385395537525"
        ],
        [
         "B",
         "2.4976824457593687"
        ]
       ],
       "shape": {
        "columns": 1,
        "rows": 2
       }
      },
      "text/plain": [
       "Group\n",
       "A    2.480385\n",
       "B    2.497682\n",
       "Name: Page_Load_Time, dtype: float64"
      ]
     },
     "execution_count": 8,
     "metadata": {},
     "output_type": "execute_result"
    }
   ],
   "source": [
    "df.groupby('Group')['Page_Load_Time'].mean()"
   ]
  },
  {
   "cell_type": "code",
   "execution_count": 13,
   "id": "6d1878f9",
   "metadata": {},
   "outputs": [
    {
     "data": {
      "application/vnd.microsoft.datawrangler.viewer.v0+json": {
       "columns": [
        {
         "name": "('Group', 'Converted')",
         "rawType": "object",
         "type": "unknown"
        },
        {
         "name": "count",
         "rawType": "int64",
         "type": "integer"
        }
       ],
       "ref": "be3c73cf-e25e-497d-b6be-28eb26a8f1d6",
       "rows": [
        [
         "('A', np.int64(0))",
         "880"
        ],
        [
         "('A', np.int64(1))",
         "106"
        ],
        [
         "('B', np.int64(0))",
         "884"
        ],
        [
         "('B', np.int64(1))",
         "130"
        ]
       ],
       "shape": {
        "columns": 1,
        "rows": 4
       }
      },
      "text/plain": [
       "Group  Converted\n",
       "A      0            880\n",
       "       1            106\n",
       "B      0            884\n",
       "       1            130\n",
       "Name: count, dtype: int64"
      ]
     },
     "execution_count": 13,
     "metadata": {},
     "output_type": "execute_result"
    }
   ],
   "source": [
    "df.groupby('Group')['Converted'].value_counts()"
   ]
  },
  {
   "cell_type": "code",
   "execution_count": 38,
   "id": "ea8f391c",
   "metadata": {},
   "outputs": [
    {
     "name": "stdout",
     "output_type": "stream",
     "text": [
      "Conversion Rate for Group A: 10.75%\n",
      "Conversion Rate for Group B: 12.82%\n"
     ]
    }
   ],
   "source": [
    "# Conversion rate\n",
    "\n",
    "Rate_A = df[df['Group'] == 'A']['Converted'].mean() * 100\n",
    "print(f\"Conversion Rate for Group A: {Rate_A:.2f}%\")\n",
    "\n",
    "Rate_B = df[df['Group'] == 'B']['Converted'].mean() * 100\n",
    "print(f\"Conversion Rate for Group B: {Rate_B:.2f}%\")\n",
    "\n"
   ]
  },
  {
   "cell_type": "code",
   "execution_count": 40,
   "id": "c0de35df",
   "metadata": {},
   "outputs": [
    {
     "name": "stdout",
     "output_type": "stream",
     "text": [
      "Z-Statistic: -1.4346\n",
      "P-Value: 0.9243\n"
     ]
    }
   ],
   "source": [
    "from statsmodels.stats.proportion import proportions_ztest\n",
    "\n",
    "# Get conversion counts and total counts\n",
    "conversion_counts = df.groupby('Group')['Converted'].sum().values\n",
    "n_obs = df.groupby('Group')['Converted'].count().values\n",
    "\n",
    "z_stat, p_val = proportions_ztest(count=conversion_counts, nobs=n_obs, alternative='larger')\n",
    "\n",
    "print(f\"Z-Statistic: {z_stat:.4f}\")\n",
    "print(f\"P-Value: {p_val:.4f}\")\n"
   ]
  },
  {
   "cell_type": "code",
   "execution_count": 41,
   "id": "829b641c",
   "metadata": {},
   "outputs": [],
   "source": [
    "df['Load_Bin'] = pd.cut(df['Page_Load_Time'], bins=[0, 1.5, 2.0, 2.5, 3.0, 3.5, 5], \n",
    "                        labels=['<1.5s', '1.5–2s', '2–2.5s', '2.5–3s', '3–3.5s', '3.5–5s'])\n"
   ]
  },
  {
   "cell_type": "code",
   "execution_count": 49,
   "id": "413dfd1a",
   "metadata": {},
   "outputs": [
    {
     "name": "stdout",
     "output_type": "stream",
     "text": [
      "Load_Bin      <1.5s     1.5–2s     2–2.5s     2.5–3s     3–3.5s   3.5–5s\n",
      "Group                                                                   \n",
      "A         19.047619   8.270677  11.420613  10.115607  12.264151  9.52381\n",
      "B         10.714286  14.062500  12.834225  12.345679  13.669065  9.52381\n"
     ]
    }
   ],
   "source": [
    "conversion_by_bin = df.groupby(['Group', 'Load_Bin'], observed = False)['Converted'].mean().unstack() * 100\n",
    "print(conversion_by_bin)\n"
   ]
  },
  {
   "cell_type": "code",
   "execution_count": 65,
   "id": "d3fb4d20",
   "metadata": {},
   "outputs": [
    {
     "data": {
      "image/png": "[encoded data removed]",
      "text/plain": [
       "<Figure size 1000x600 with 1 Axes>"
      ]
     },
     "metadata": {},
     "output_type": "display_data"
    }
   ],
   "source": [
    "import matplotlib.pyplot as plt\n",
    "\n",
    "conversion_by_bin.T.plot(kind='bar', figsize=(10,6))\n",
    "plt.ylabel(\"Conversion Rate (%)\")\n",
    "plt.title(\"Conversion Rate by Page Load Time (Grouped by A/B)\")\n",
    "plt.xticks(rotation=45)\n",
    "plt.grid(axis='y')\n",
    "plt.tight_layout()\n",
    "plt.show()\n"
   ]
  },
  {
   "cell_type": "code",
   "execution_count": null,
   "id": "3d06ac2c",
   "metadata": {},
   "outputs": [],
   "source": []
  },
  {
   "cell_type": "code",
   "execution_count": null,
   "id": "cfc1d546",
   "metadata": {},
   "outputs": [],
   "source": []
  },
  {
   "cell_type": "code",
   "execution_count": null,
   "id": "5916ea37",
   "metadata": {},
   "outputs": [],
   "source": []
  }
 ],
 "metadata": {
  "kernelspec": {
   "display_name": "Python 3",
   "language": "python",
   "name": "python3"
  },
  "language_info": {
   "codemirror_mode": {
    "name": "ipython",
    "version": 3
   },
   "file_extension": ".py",
   "mimetype": "text/x-python",
   "name": "python",
   "nbconvert_exporter": "python",
   "pygments_lexer": "ipython3",
   "version": "3.10.0"
  }
 },
 "nbformat": 4,
 "nbformat_minor": 5
}
