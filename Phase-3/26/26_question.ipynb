{
 "cells": [
  {
   "cell_type": "markdown",
   "id": "ddf57287",
   "metadata": {},
   "source": [
    "DATA CREATION"
   ]
  },
  {
   "cell_type": "markdown",
   "id": "d0117ccc",
   "metadata": {},
   "source": [
    "You're working with a synthetic dataset from a pan-India e-commerce platform tracking revenue, orders, and returns across major states."
   ]
  },
  {
   "cell_type": "code",
   "execution_count": 1,
   "id": "56cdd363",
   "metadata": {},
   "outputs": [],
   "source": [
    "import pandas as pd\n",
    "import numpy as np\n",
    "\n",
    "np.random.seed(26)\n",
    "\n",
    "states = ['Maharashtra', 'Delhi', 'Karnataka', 'Tamil Nadu', 'Gujarat',\n",
    "          'West Bengal', 'Rajasthan', 'Kerala', 'Telangana', 'Uttar Pradesh']\n",
    "\n",
    "df = pd.DataFrame({\n",
    "    'State': np.random.choice(states, 1000),\n",
    "    'Orders': np.random.poisson(20, 1000),\n",
    "    'Return_Rate': np.round(np.random.uniform(0.01, 0.3, 1000), 2),\n",
    "    'Revenue': np.round(np.random.normal(5000, 800, 1000), 2)\n",
    "})\n",
    "\n",
    "df.to_csv(\"regional_sales_data.csv\", index=False)\n"
   ]
  },
  {
   "cell_type": "markdown",
   "id": "45224082",
   "metadata": {},
   "source": [
    "## Task:\n",
    "1. Identify Winners and Losers:\n",
    "\n",
    "    - Which 3 states generate the highest revenue?\n",
    "    - Which 3 have the highest return rates?\n",
    "    - Any states with high orders but low revenue or vice versa?\n",
    "\n",
    "2. Make a Regional Decision:\n",
    "\n",
    "    - Recommend:\n",
    "        - 1 region to invest more in (growth opportunity)\n",
    "        - 1 region to optimize or cut due to inefficiencies\n",
    "\n",
    "3. Optional Bonus: Build a Map\n",
    "\n",
    "    - If using Python:\n",
    "        - Use plotly.express.choropleth() or folium to show regional revenue heatmap.\n",
    "\n",
    "    - If using Power BI:\n",
    "        - Create a custom shape map or filled map of India."
   ]
  },
  {
   "cell_type": "code",
   "execution_count": 2,
   "id": "18a6b7ca",
   "metadata": {},
   "outputs": [
    {
     "name": "stdout",
     "output_type": "stream",
     "text": [
      "<class 'pandas.core.frame.DataFrame'>\n",
      "RangeIndex: 1000 entries, 0 to 999\n",
      "Data columns (total 4 columns):\n",
      " #   Column       Non-Null Count  Dtype  \n",
      "---  ------       --------------  -----  \n",
      " 0   State        1000 non-null   object \n",
      " 1   Orders       1000 non-null   int32  \n",
      " 2   Return_Rate  1000 non-null   float64\n",
      " 3   Revenue      1000 non-null   float64\n",
      "dtypes: float64(2), int32(1), object(1)\n",
      "memory usage: 27.5+ KB\n"
     ]
    }
   ],
   "source": [
    "df.info()"
   ]
  },
  {
   "cell_type": "code",
   "execution_count": 3,
   "id": "764021df",
   "metadata": {},
   "outputs": [
    {
     "data": {
      "application/vnd.microsoft.datawrangler.viewer.v0+json": {
       "columns": [
        {
         "name": "index",
         "rawType": "int64",
         "type": "integer"
        },
        {
         "name": "State",
         "rawType": "object",
         "type": "string"
        },
        {
         "name": "Orders",
         "rawType": "int32",
         "type": "integer"
        },
        {
         "name": "Return_Rate",
         "rawType": "float64",
         "type": "float"
        },
        {
         "name": "Revenue",
         "rawType": "float64",
         "type": "float"
        }
       ],
       "ref": "ed0ef364-9b89-4365-9553-0e4f4e384aa8",
       "rows": [
        [
         "0",
         "West Bengal",
         "28",
         "0.25",
         "4559.96"
        ],
        [
         "1",
         "Rajasthan",
         "14",
         "0.03",
         "4351.12"
        ],
        [
         "2",
         "Maharashtra",
         "18",
         "0.12",
         "4763.64"
        ],
        [
         "3",
         "Delhi",
         "14",
         "0.02",
         "6998.95"
        ],
        [
         "4",
         "Rajasthan",
         "15",
         "0.18",
         "5324.31"
        ]
       ],
       "shape": {
        "columns": 4,
        "rows": 5
       }
      },
      "text/html": [
       "<div>\n",
       "<style scoped>\n",
       "    .dataframe tbody tr th:only-of-type {\n",
       "        vertical-align: middle;\n",
       "    }\n",
       "\n",
       "    .dataframe tbody tr th {\n",
       "        vertical-align: top;\n",
       "    }\n",
       "\n",
       "    .dataframe thead th {\n",
       "        text-align: right;\n",
       "    }\n",
       "</style>\n",
       "<table border=\"1\" class=\"dataframe\">\n",
       "  <thead>\n",
       "    <tr style=\"text-align: right;\">\n",
       "      <th></th>\n",
       "      <th>State</th>\n",
       "      <th>Orders</th>\n",
       "      <th>Return_Rate</th>\n",
       "      <th>Revenue</th>\n",
       "    </tr>\n",
       "  </thead>\n",
       "  <tbody>\n",
       "    <tr>\n",
       "      <th>0</th>\n",
       "      <td>West Bengal</td>\n",
       "      <td>28</td>\n",
       "      <td>0.25</td>\n",
       "      <td>4559.96</td>\n",
       "    </tr>\n",
       "    <tr>\n",
       "      <th>1</th>\n",
       "      <td>Rajasthan</td>\n",
       "      <td>14</td>\n",
       "      <td>0.03</td>\n",
       "      <td>4351.12</td>\n",
       "    </tr>\n",
       "    <tr>\n",
       "      <th>2</th>\n",
       "      <td>Maharashtra</td>\n",
       "      <td>18</td>\n",
       "      <td>0.12</td>\n",
       "      <td>4763.64</td>\n",
       "    </tr>\n",
       "    <tr>\n",
       "      <th>3</th>\n",
       "      <td>Delhi</td>\n",
       "      <td>14</td>\n",
       "      <td>0.02</td>\n",
       "      <td>6998.95</td>\n",
       "    </tr>\n",
       "    <tr>\n",
       "      <th>4</th>\n",
       "      <td>Rajasthan</td>\n",
       "      <td>15</td>\n",
       "      <td>0.18</td>\n",
       "      <td>5324.31</td>\n",
       "    </tr>\n",
       "  </tbody>\n",
       "</table>\n",
       "</div>"
      ],
      "text/plain": [
       "         State  Orders  Return_Rate  Revenue\n",
       "0  West Bengal      28         0.25  4559.96\n",
       "1    Rajasthan      14         0.03  4351.12\n",
       "2  Maharashtra      18         0.12  4763.64\n",
       "3        Delhi      14         0.02  6998.95\n",
       "4    Rajasthan      15         0.18  5324.31"
      ]
     },
     "execution_count": 3,
     "metadata": {},
     "output_type": "execute_result"
    }
   ],
   "source": [
    "df.head()"
   ]
  },
  {
   "cell_type": "code",
   "execution_count": 4,
   "id": "ca12401a",
   "metadata": {},
   "outputs": [
    {
     "data": {
      "text/plain": [
       "array(['West Bengal', 'Rajasthan', 'Maharashtra', 'Delhi', 'Tamil Nadu',\n",
       "       'Gujarat', 'Karnataka', 'Kerala', 'Uttar Pradesh', 'Telangana'],\n",
       "      dtype=object)"
      ]
     },
     "execution_count": 4,
     "metadata": {},
     "output_type": "execute_result"
    }
   ],
   "source": [
    "df['State'].unique()"
   ]
  },
  {
   "cell_type": "code",
   "execution_count": 5,
   "id": "5fcb4ebc",
   "metadata": {},
   "outputs": [
    {
     "data": {
      "application/vnd.microsoft.datawrangler.viewer.v0+json": {
       "columns": [
        {
         "name": "State",
         "rawType": "object",
         "type": "string"
        },
        {
         "name": "Revenue",
         "rawType": "float64",
         "type": "float"
        }
       ],
       "ref": "68066e22-de66-45c8-9363-a63fcd4e8d2f",
       "rows": [
        [
         "Rajasthan",
         "598599.55"
        ],
        [
         "Maharashtra",
         "586270.66"
        ],
        [
         "Kerala",
         "514884.05"
        ],
        [
         "Delhi",
         "504701.8"
        ],
        [
         "West Bengal",
         "499406.89"
        ],
        [
         "Telangana",
         "497797.19"
        ],
        [
         "Karnataka",
         "478600.79"
        ],
        [
         "Tamil Nadu",
         "460685.66"
        ],
        [
         "Uttar Pradesh",
         "455261.74"
        ],
        [
         "Gujarat",
         "446995.14"
        ]
       ],
       "shape": {
        "columns": 1,
        "rows": 10
       }
      },
      "text/plain": [
       "State\n",
       "Rajasthan        598599.55\n",
       "Maharashtra      586270.66\n",
       "Kerala           514884.05\n",
       "Delhi            504701.80\n",
       "West Bengal      499406.89\n",
       "Telangana        497797.19\n",
       "Karnataka        478600.79\n",
       "Tamil Nadu       460685.66\n",
       "Uttar Pradesh    455261.74\n",
       "Gujarat          446995.14\n",
       "Name: Revenue, dtype: float64"
      ]
     },
     "execution_count": 5,
     "metadata": {},
     "output_type": "execute_result"
    }
   ],
   "source": [
    "df.groupby('State')['Revenue'].sum().sort_values(ascending=False)"
   ]
  },
  {
   "cell_type": "code",
   "execution_count": 22,
   "id": "68eac794",
   "metadata": {},
   "outputs": [
    {
     "data": {
      "application/vnd.microsoft.datawrangler.viewer.v0+json": {
       "columns": [
        {
         "name": "State",
         "rawType": "object",
         "type": "string"
        },
        {
         "name": "Return_Rate",
         "rawType": "float64",
         "type": "float"
        }
       ],
       "ref": "79a98f2f-b693-42e5-a8c4-589332c0f3c9",
       "rows": [
        [
         "Uttar Pradesh",
         "0.17404494382022473"
        ],
        [
         "Telangana",
         "0.1689108910891089"
        ],
        [
         "West Bengal",
         "0.16212121212121214"
        ],
        [
         "Kerala",
         "0.16106796116504854"
        ],
        [
         "Maharashtra",
         "0.16042735042735043"
        ],
        [
         "Rajasthan",
         "0.15966666666666668"
        ],
        [
         "Delhi",
         "0.159"
        ],
        [
         "Gujarat",
         "0.15674418604651164"
        ],
        [
         "Karnataka",
         "0.14978494623655914"
        ],
        [
         "Tamil Nadu",
         "0.14847826086956523"
        ]
       ],
       "shape": {
        "columns": 1,
        "rows": 10
       }
      },
      "text/plain": [
       "State\n",
       "Uttar Pradesh    0.174045\n",
       "Telangana        0.168911\n",
       "West Bengal      0.162121\n",
       "Kerala           0.161068\n",
       "Maharashtra      0.160427\n",
       "Rajasthan        0.159667\n",
       "Delhi            0.159000\n",
       "Gujarat          0.156744\n",
       "Karnataka        0.149785\n",
       "Tamil Nadu       0.148478\n",
       "Name: Return_Rate, dtype: float64"
      ]
     },
     "execution_count": 22,
     "metadata": {},
     "output_type": "execute_result"
    }
   ],
   "source": [
    "df.groupby('State')['Return_Rate'].mean().sort_values(ascending=False)"
   ]
  },
  {
   "cell_type": "code",
   "execution_count": 7,
   "id": "8527b0a6",
   "metadata": {},
   "outputs": [],
   "source": [
    "grouped = df.groupby('State').agg({\n",
    "    'Orders': 'sum',\n",
    "    'Revenue': 'sum',\n",
    "    'Return_Rate': 'mean'\n",
    "}).reset_index().sort_values(by='Revenue', ascending=False)\n"
   ]
  },
  {
   "cell_type": "code",
   "execution_count": 8,
   "id": "eb3a94a0",
   "metadata": {},
   "outputs": [
    {
     "data": {
      "application/vnd.microsoft.datawrangler.viewer.v0+json": {
       "columns": [
        {
         "name": "index",
         "rawType": "int64",
         "type": "integer"
        },
        {
         "name": "State",
         "rawType": "object",
         "type": "string"
        },
        {
         "name": "Orders",
         "rawType": "int32",
         "type": "integer"
        },
        {
         "name": "Revenue",
         "rawType": "float64",
         "type": "float"
        },
        {
         "name": "Return_Rate",
         "rawType": "float64",
         "type": "float"
        },
        {
         "name": "Revenue_per_Order",
         "rawType": "float64",
         "type": "float"
        }
       ],
       "ref": "bedf432d-cd6b-4fb1-be0a-f40d7ec67bd1",
       "rows": [
        [
         "5",
         "Rajasthan",
         "2312",
         "598599.55",
         "0.15966666666666668",
         "258.90983996539796"
        ],
        [
         "4",
         "Maharashtra",
         "2293",
         "586270.66",
         "0.16042735042735043",
         "255.6784387265591"
        ],
        [
         "3",
         "Kerala",
         "2075",
         "514884.05",
         "0.16106796116504854",
         "248.13689156626506"
        ],
        [
         "0",
         "Delhi",
         "2010",
         "504701.8",
         "0.159",
         "251.09542288557213"
        ],
        [
         "9",
         "West Bengal",
         "2043",
         "499406.89",
         "0.16212121212121214",
         "244.44781693587862"
        ],
        [
         "7",
         "Telangana",
         "2077",
         "497797.19",
         "0.1689108910891089",
         "239.67125180548868"
        ],
        [
         "2",
         "Karnataka",
         "1922",
         "478600.79",
         "0.14978494623655914",
         "249.0118574401665"
        ],
        [
         "6",
         "Tamil Nadu",
         "1849",
         "460685.66",
         "0.14847826086956523",
         "249.15395348837208"
        ],
        [
         "8",
         "Uttar Pradesh",
         "1822",
         "455261.74",
         "0.17404494382022473",
         "249.86923161361142"
        ],
        [
         "1",
         "Gujarat",
         "1764",
         "446995.14",
         "0.15674418604651164",
         "253.3986054421769"
        ]
       ],
       "shape": {
        "columns": 5,
        "rows": 10
       }
      },
      "text/html": [
       "<div>\n",
       "<style scoped>\n",
       "    .dataframe tbody tr th:only-of-type {\n",
       "        vertical-align: middle;\n",
       "    }\n",
       "\n",
       "    .dataframe tbody tr th {\n",
       "        vertical-align: top;\n",
       "    }\n",
       "\n",
       "    .dataframe thead th {\n",
       "        text-align: right;\n",
       "    }\n",
       "</style>\n",
       "<table border=\"1\" class=\"dataframe\">\n",
       "  <thead>\n",
       "    <tr style=\"text-align: right;\">\n",
       "      <th></th>\n",
       "      <th>State</th>\n",
       "      <th>Orders</th>\n",
       "      <th>Revenue</th>\n",
       "      <th>Return_Rate</th>\n",
       "      <th>Revenue_per_Order</th>\n",
       "    </tr>\n",
       "  </thead>\n",
       "  <tbody>\n",
       "    <tr>\n",
       "      <th>5</th>\n",
       "      <td>Rajasthan</td>\n",
       "      <td>2312</td>\n",
       "      <td>598599.55</td>\n",
       "      <td>0.159667</td>\n",
       "      <td>258.909840</td>\n",
       "    </tr>\n",
       "    <tr>\n",
       "      <th>4</th>\n",
       "      <td>Maharashtra</td>\n",
       "      <td>2293</td>\n",
       "      <td>586270.66</td>\n",
       "      <td>0.160427</td>\n",
       "      <td>255.678439</td>\n",
       "    </tr>\n",
       "    <tr>\n",
       "      <th>3</th>\n",
       "      <td>Kerala</td>\n",
       "      <td>2075</td>\n",
       "      <td>514884.05</td>\n",
       "      <td>0.161068</td>\n",
       "      <td>248.136892</td>\n",
       "    </tr>\n",
       "    <tr>\n",
       "      <th>0</th>\n",
       "      <td>Delhi</td>\n",
       "      <td>2010</td>\n",
       "      <td>504701.80</td>\n",
       "      <td>0.159000</td>\n",
       "      <td>251.095423</td>\n",
       "    </tr>\n",
       "    <tr>\n",
       "      <th>9</th>\n",
       "      <td>West Bengal</td>\n",
       "      <td>2043</td>\n",
       "      <td>499406.89</td>\n",
       "      <td>0.162121</td>\n",
       "      <td>244.447817</td>\n",
       "    </tr>\n",
       "    <tr>\n",
       "      <th>7</th>\n",
       "      <td>Telangana</td>\n",
       "      <td>2077</td>\n",
       "      <td>497797.19</td>\n",
       "      <td>0.168911</td>\n",
       "      <td>239.671252</td>\n",
       "    </tr>\n",
       "    <tr>\n",
       "      <th>2</th>\n",
       "      <td>Karnataka</td>\n",
       "      <td>1922</td>\n",
       "      <td>478600.79</td>\n",
       "      <td>0.149785</td>\n",
       "      <td>249.011857</td>\n",
       "    </tr>\n",
       "    <tr>\n",
       "      <th>6</th>\n",
       "      <td>Tamil Nadu</td>\n",
       "      <td>1849</td>\n",
       "      <td>460685.66</td>\n",
       "      <td>0.148478</td>\n",
       "      <td>249.153953</td>\n",
       "    </tr>\n",
       "    <tr>\n",
       "      <th>8</th>\n",
       "      <td>Uttar Pradesh</td>\n",
       "      <td>1822</td>\n",
       "      <td>455261.74</td>\n",
       "      <td>0.174045</td>\n",
       "      <td>249.869232</td>\n",
       "    </tr>\n",
       "    <tr>\n",
       "      <th>1</th>\n",
       "      <td>Gujarat</td>\n",
       "      <td>1764</td>\n",
       "      <td>446995.14</td>\n",
       "      <td>0.156744</td>\n",
       "      <td>253.398605</td>\n",
       "    </tr>\n",
       "  </tbody>\n",
       "</table>\n",
       "</div>"
      ],
      "text/plain": [
       "           State  Orders    Revenue  Return_Rate  Revenue_per_Order\n",
       "5      Rajasthan    2312  598599.55     0.159667         258.909840\n",
       "4    Maharashtra    2293  586270.66     0.160427         255.678439\n",
       "3         Kerala    2075  514884.05     0.161068         248.136892\n",
       "0          Delhi    2010  504701.80     0.159000         251.095423\n",
       "9    West Bengal    2043  499406.89     0.162121         244.447817\n",
       "7      Telangana    2077  497797.19     0.168911         239.671252\n",
       "2      Karnataka    1922  478600.79     0.149785         249.011857\n",
       "6     Tamil Nadu    1849  460685.66     0.148478         249.153953\n",
       "8  Uttar Pradesh    1822  455261.74     0.174045         249.869232\n",
       "1        Gujarat    1764  446995.14     0.156744         253.398605"
      ]
     },
     "execution_count": 8,
     "metadata": {},
     "output_type": "execute_result"
    }
   ],
   "source": [
    "grouped['Revenue_per_Order'] = grouped['Revenue'] / grouped['Orders']\n",
    "\n",
    "grouped"
   ]
  },
  {
   "cell_type": "code",
   "execution_count": 9,
   "id": "edf152a6",
   "metadata": {},
   "outputs": [
    {
     "data": {
      "application/vnd.microsoft.datawrangler.viewer.v0+json": {
       "columns": [
        {
         "name": "index",
         "rawType": "object",
         "type": "string"
        },
        {
         "name": "Orders",
         "rawType": "float64",
         "type": "float"
        }
       ],
       "ref": "b144a5d4-b418-4933-869a-5ec412247477",
       "rows": [
        [
         "count",
         "1000.0"
        ],
        [
         "mean",
         "20.167"
        ],
        [
         "std",
         "4.582806248698838"
        ],
        [
         "min",
         "8.0"
        ],
        [
         "25%",
         "17.0"
        ],
        [
         "50%",
         "20.0"
        ],
        [
         "75%",
         "23.0"
        ],
        [
         "max",
         "38.0"
        ]
       ],
       "shape": {
        "columns": 1,
        "rows": 8
       }
      },
      "text/plain": [
       "count    1000.000000\n",
       "mean       20.167000\n",
       "std         4.582806\n",
       "min         8.000000\n",
       "25%        17.000000\n",
       "50%        20.000000\n",
       "75%        23.000000\n",
       "max        38.000000\n",
       "Name: Orders, dtype: float64"
      ]
     },
     "execution_count": 9,
     "metadata": {},
     "output_type": "execute_result"
    }
   ],
   "source": [
    "df['Orders'].describe()"
   ]
  },
  {
   "cell_type": "code",
   "execution_count": 10,
   "id": "793d3b10",
   "metadata": {},
   "outputs": [
    {
     "data": {
      "application/vnd.microsoft.datawrangler.viewer.v0+json": {
       "columns": [
        {
         "name": "index",
         "rawType": "object",
         "type": "string"
        },
        {
         "name": "Revenue",
         "rawType": "float64",
         "type": "float"
        }
       ],
       "ref": "18c166cc-a5aa-4098-8a9c-3445a774aa35",
       "rows": [
        [
         "count",
         "1000.0"
        ],
        [
         "mean",
         "5043.20347"
        ],
        [
         "std",
         "774.9243358179571"
        ],
        [
         "min",
         "2607.99"
        ],
        [
         "25%",
         "4516.202499999999"
        ],
        [
         "50%",
         "5043.38"
        ],
        [
         "75%",
         "5551.4875"
        ],
        [
         "max",
         "7613.66"
        ]
       ],
       "shape": {
        "columns": 1,
        "rows": 8
       }
      },
      "text/plain": [
       "count    1000.000000\n",
       "mean     5043.203470\n",
       "std       774.924336\n",
       "min      2607.990000\n",
       "25%      4516.202500\n",
       "50%      5043.380000\n",
       "75%      5551.487500\n",
       "max      7613.660000\n",
       "Name: Revenue, dtype: float64"
      ]
     },
     "execution_count": 10,
     "metadata": {},
     "output_type": "execute_result"
    }
   ],
   "source": [
    "df['Revenue'].describe()"
   ]
  },
  {
   "cell_type": "code",
   "execution_count": 11,
   "id": "c6f8ec31",
   "metadata": {},
   "outputs": [],
   "source": [
    "# df['Revenue'].quantile(0.75)\n",
    "# min(df['Revenue'])"
   ]
  },
  {
   "cell_type": "code",
   "execution_count": 12,
   "id": "8313fe0a",
   "metadata": {},
   "outputs": [
    {
     "data": {
      "application/vnd.microsoft.datawrangler.viewer.v0+json": {
       "columns": [
        {
         "name": "index",
         "rawType": "int64",
         "type": "integer"
        },
        {
         "name": "State",
         "rawType": "object",
         "type": "string"
        },
        {
         "name": "Orders",
         "rawType": "int32",
         "type": "integer"
        },
        {
         "name": "Revenue",
         "rawType": "float64",
         "type": "float"
        },
        {
         "name": "Return_Rate",
         "rawType": "float64",
         "type": "float"
        },
        {
         "name": "Revenue_per_Order",
         "rawType": "float64",
         "type": "float"
        }
       ],
       "ref": "c08c0862-a7c2-4ffe-a317-0536274c65dd",
       "rows": [
        [
         "5",
         "Rajasthan",
         "2312",
         "598599.55",
         "0.15966666666666668",
         "258.90983996539796"
        ],
        [
         "4",
         "Maharashtra",
         "2293",
         "586270.66",
         "0.16042735042735043",
         "255.6784387265591"
        ],
        [
         "3",
         "Kerala",
         "2075",
         "514884.05",
         "0.16106796116504854",
         "248.13689156626506"
        ],
        [
         "0",
         "Delhi",
         "2010",
         "504701.8",
         "0.159",
         "251.09542288557213"
        ],
        [
         "9",
         "West Bengal",
         "2043",
         "499406.89",
         "0.16212121212121214",
         "244.44781693587862"
        ],
        [
         "7",
         "Telangana",
         "2077",
         "497797.19",
         "0.1689108910891089",
         "239.67125180548868"
        ],
        [
         "2",
         "Karnataka",
         "1922",
         "478600.79",
         "0.14978494623655914",
         "249.0118574401665"
        ],
        [
         "6",
         "Tamil Nadu",
         "1849",
         "460685.66",
         "0.14847826086956523",
         "249.15395348837208"
        ],
        [
         "8",
         "Uttar Pradesh",
         "1822",
         "455261.74",
         "0.17404494382022473",
         "249.86923161361142"
        ],
        [
         "1",
         "Gujarat",
         "1764",
         "446995.14",
         "0.15674418604651164",
         "253.3986054421769"
        ]
       ],
       "shape": {
        "columns": 5,
        "rows": 10
       }
      },
      "text/html": [
       "<div>\n",
       "<style scoped>\n",
       "    .dataframe tbody tr th:only-of-type {\n",
       "        vertical-align: middle;\n",
       "    }\n",
       "\n",
       "    .dataframe tbody tr th {\n",
       "        vertical-align: top;\n",
       "    }\n",
       "\n",
       "    .dataframe thead th {\n",
       "        text-align: right;\n",
       "    }\n",
       "</style>\n",
       "<table border=\"1\" class=\"dataframe\">\n",
       "  <thead>\n",
       "    <tr style=\"text-align: right;\">\n",
       "      <th></th>\n",
       "      <th>State</th>\n",
       "      <th>Orders</th>\n",
       "      <th>Revenue</th>\n",
       "      <th>Return_Rate</th>\n",
       "      <th>Revenue_per_Order</th>\n",
       "    </tr>\n",
       "  </thead>\n",
       "  <tbody>\n",
       "    <tr>\n",
       "      <th>5</th>\n",
       "      <td>Rajasthan</td>\n",
       "      <td>2312</td>\n",
       "      <td>598599.55</td>\n",
       "      <td>0.159667</td>\n",
       "      <td>258.909840</td>\n",
       "    </tr>\n",
       "    <tr>\n",
       "      <th>4</th>\n",
       "      <td>Maharashtra</td>\n",
       "      <td>2293</td>\n",
       "      <td>586270.66</td>\n",
       "      <td>0.160427</td>\n",
       "      <td>255.678439</td>\n",
       "    </tr>\n",
       "    <tr>\n",
       "      <th>3</th>\n",
       "      <td>Kerala</td>\n",
       "      <td>2075</td>\n",
       "      <td>514884.05</td>\n",
       "      <td>0.161068</td>\n",
       "      <td>248.136892</td>\n",
       "    </tr>\n",
       "    <tr>\n",
       "      <th>0</th>\n",
       "      <td>Delhi</td>\n",
       "      <td>2010</td>\n",
       "      <td>504701.80</td>\n",
       "      <td>0.159000</td>\n",
       "      <td>251.095423</td>\n",
       "    </tr>\n",
       "    <tr>\n",
       "      <th>9</th>\n",
       "      <td>West Bengal</td>\n",
       "      <td>2043</td>\n",
       "      <td>499406.89</td>\n",
       "      <td>0.162121</td>\n",
       "      <td>244.447817</td>\n",
       "    </tr>\n",
       "    <tr>\n",
       "      <th>7</th>\n",
       "      <td>Telangana</td>\n",
       "      <td>2077</td>\n",
       "      <td>497797.19</td>\n",
       "      <td>0.168911</td>\n",
       "      <td>239.671252</td>\n",
       "    </tr>\n",
       "    <tr>\n",
       "      <th>2</th>\n",
       "      <td>Karnataka</td>\n",
       "      <td>1922</td>\n",
       "      <td>478600.79</td>\n",
       "      <td>0.149785</td>\n",
       "      <td>249.011857</td>\n",
       "    </tr>\n",
       "    <tr>\n",
       "      <th>6</th>\n",
       "      <td>Tamil Nadu</td>\n",
       "      <td>1849</td>\n",
       "      <td>460685.66</td>\n",
       "      <td>0.148478</td>\n",
       "      <td>249.153953</td>\n",
       "    </tr>\n",
       "    <tr>\n",
       "      <th>8</th>\n",
       "      <td>Uttar Pradesh</td>\n",
       "      <td>1822</td>\n",
       "      <td>455261.74</td>\n",
       "      <td>0.174045</td>\n",
       "      <td>249.869232</td>\n",
       "    </tr>\n",
       "    <tr>\n",
       "      <th>1</th>\n",
       "      <td>Gujarat</td>\n",
       "      <td>1764</td>\n",
       "      <td>446995.14</td>\n",
       "      <td>0.156744</td>\n",
       "      <td>253.398605</td>\n",
       "    </tr>\n",
       "  </tbody>\n",
       "</table>\n",
       "</div>"
      ],
      "text/plain": [
       "           State  Orders    Revenue  Return_Rate  Revenue_per_Order\n",
       "5      Rajasthan    2312  598599.55     0.159667         258.909840\n",
       "4    Maharashtra    2293  586270.66     0.160427         255.678439\n",
       "3         Kerala    2075  514884.05     0.161068         248.136892\n",
       "0          Delhi    2010  504701.80     0.159000         251.095423\n",
       "9    West Bengal    2043  499406.89     0.162121         244.447817\n",
       "7      Telangana    2077  497797.19     0.168911         239.671252\n",
       "2      Karnataka    1922  478600.79     0.149785         249.011857\n",
       "6     Tamil Nadu    1849  460685.66     0.148478         249.153953\n",
       "8  Uttar Pradesh    1822  455261.74     0.174045         249.869232\n",
       "1        Gujarat    1764  446995.14     0.156744         253.398605"
      ]
     },
     "execution_count": 12,
     "metadata": {},
     "output_type": "execute_result"
    }
   ],
   "source": [
    "grouped"
   ]
  },
  {
   "cell_type": "code",
   "execution_count": 13,
   "id": "f00f8ad0",
   "metadata": {},
   "outputs": [],
   "source": [
    "# Flag the outliers\n",
    "\n",
    "# high orders but low revenue\n",
    "high_order_low_revenue = grouped[(grouped['Orders'] > grouped['Orders'].quantile(0.75)) & (grouped['Revenue'] < grouped['Revenue'].quantile(0.25))]\n",
    "\n",
    "# low orders high low revenue\n",
    "low_order_high_revenue = grouped[(grouped['Orders'] < grouped['Orders'].quantile(0.25)) & (grouped['Revenue'] > grouped['Revenue'].quantile(0.75))]\n"
   ]
  },
  {
   "cell_type": "code",
   "execution_count": 14,
   "id": "5cc46afa",
   "metadata": {},
   "outputs": [
    {
     "name": "stdout",
     "output_type": "stream",
     "text": [
      "High Orders but Low Revenue States:\n",
      "Empty DataFrame\n",
      "Columns: [State, Orders, Revenue]\n",
      "Index: []\n",
      "\n",
      "Low Orders but High Revenue States:\n",
      "Empty DataFrame\n",
      "Columns: [State, Orders, Revenue]\n",
      "Index: []\n"
     ]
    }
   ],
   "source": [
    "print(\"High Orders but Low Revenue States:\")\n",
    "print(high_order_low_revenue[['State', 'Orders', 'Revenue']])\n",
    "\n",
    "print(\"\\nLow Orders but High Revenue States:\")\n",
    "print(low_order_high_revenue[['State', 'Orders', 'Revenue']])\n"
   ]
  },
  {
   "cell_type": "code",
   "execution_count": 15,
   "id": "0df1faa0",
   "metadata": {},
   "outputs": [],
   "source": [
    "grouped['Revenue_per_Order'] = grouped['Revenue'] / grouped['Orders']\n",
    "\n",
    "# Highest orders, lowest revenue per order\n",
    "suspicious_high_orders = grouped.sort_values(by=['Orders', 'Revenue_per_Order'], ascending=[False, True])\n",
    "\n",
    "# Lowest orders, highest revenue per order\n",
    "suspicious_low_orders = grouped.sort_values(by=['Orders', 'Revenue_per_Order'], ascending=[True, False])\n",
    "\n",
    "\n"
   ]
  },
  {
   "cell_type": "code",
   "execution_count": 16,
   "id": "945f9454",
   "metadata": {},
   "outputs": [
    {
     "data": {
      "application/vnd.microsoft.datawrangler.viewer.v0+json": {
       "columns": [
        {
         "name": "index",
         "rawType": "int64",
         "type": "integer"
        },
        {
         "name": "State",
         "rawType": "object",
         "type": "string"
        },
        {
         "name": "Orders",
         "rawType": "int32",
         "type": "integer"
        },
        {
         "name": "Revenue",
         "rawType": "float64",
         "type": "float"
        },
        {
         "name": "Return_Rate",
         "rawType": "float64",
         "type": "float"
        },
        {
         "name": "Revenue_per_Order",
         "rawType": "float64",
         "type": "float"
        }
       ],
       "ref": "bbc2e4dd-953f-43ac-b8e7-6518bce2c278",
       "rows": [
        [
         "5",
         "Rajasthan",
         "2312",
         "598599.55",
         "0.15966666666666668",
         "258.90983996539796"
        ],
        [
         "4",
         "Maharashtra",
         "2293",
         "586270.66",
         "0.16042735042735043",
         "255.6784387265591"
        ],
        [
         "7",
         "Telangana",
         "2077",
         "497797.19",
         "0.1689108910891089",
         "239.67125180548868"
        ]
       ],
       "shape": {
        "columns": 5,
        "rows": 3
       }
      },
      "text/html": [
       "<div>\n",
       "<style scoped>\n",
       "    .dataframe tbody tr th:only-of-type {\n",
       "        vertical-align: middle;\n",
       "    }\n",
       "\n",
       "    .dataframe tbody tr th {\n",
       "        vertical-align: top;\n",
       "    }\n",
       "\n",
       "    .dataframe thead th {\n",
       "        text-align: right;\n",
       "    }\n",
       "</style>\n",
       "<table border=\"1\" class=\"dataframe\">\n",
       "  <thead>\n",
       "    <tr style=\"text-align: right;\">\n",
       "      <th></th>\n",
       "      <th>State</th>\n",
       "      <th>Orders</th>\n",
       "      <th>Revenue</th>\n",
       "      <th>Return_Rate</th>\n",
       "      <th>Revenue_per_Order</th>\n",
       "    </tr>\n",
       "  </thead>\n",
       "  <tbody>\n",
       "    <tr>\n",
       "      <th>5</th>\n",
       "      <td>Rajasthan</td>\n",
       "      <td>2312</td>\n",
       "      <td>598599.55</td>\n",
       "      <td>0.159667</td>\n",
       "      <td>258.909840</td>\n",
       "    </tr>\n",
       "    <tr>\n",
       "      <th>4</th>\n",
       "      <td>Maharashtra</td>\n",
       "      <td>2293</td>\n",
       "      <td>586270.66</td>\n",
       "      <td>0.160427</td>\n",
       "      <td>255.678439</td>\n",
       "    </tr>\n",
       "    <tr>\n",
       "      <th>7</th>\n",
       "      <td>Telangana</td>\n",
       "      <td>2077</td>\n",
       "      <td>497797.19</td>\n",
       "      <td>0.168911</td>\n",
       "      <td>239.671252</td>\n",
       "    </tr>\n",
       "  </tbody>\n",
       "</table>\n",
       "</div>"
      ],
      "text/plain": [
       "         State  Orders    Revenue  Return_Rate  Revenue_per_Order\n",
       "5    Rajasthan    2312  598599.55     0.159667         258.909840\n",
       "4  Maharashtra    2293  586270.66     0.160427         255.678439\n",
       "7    Telangana    2077  497797.19     0.168911         239.671252"
      ]
     },
     "execution_count": 16,
     "metadata": {},
     "output_type": "execute_result"
    }
   ],
   "source": [
    "suspicious_high_orders.head(3)\n"
   ]
  },
  {
   "cell_type": "code",
   "execution_count": 17,
   "id": "51ca5bef",
   "metadata": {},
   "outputs": [
    {
     "data": {
      "application/vnd.microsoft.datawrangler.viewer.v0+json": {
       "columns": [
        {
         "name": "index",
         "rawType": "int64",
         "type": "integer"
        },
        {
         "name": "State",
         "rawType": "object",
         "type": "string"
        },
        {
         "name": "Orders",
         "rawType": "int32",
         "type": "integer"
        },
        {
         "name": "Revenue",
         "rawType": "float64",
         "type": "float"
        },
        {
         "name": "Return_Rate",
         "rawType": "float64",
         "type": "float"
        },
        {
         "name": "Revenue_per_Order",
         "rawType": "float64",
         "type": "float"
        }
       ],
       "ref": "6ec92b3b-f24c-45e2-98e4-435e90063036",
       "rows": [
        [
         "1",
         "Gujarat",
         "1764",
         "446995.14",
         "0.15674418604651164",
         "253.3986054421769"
        ],
        [
         "8",
         "Uttar Pradesh",
         "1822",
         "455261.74",
         "0.17404494382022473",
         "249.86923161361142"
        ],
        [
         "6",
         "Tamil Nadu",
         "1849",
         "460685.66",
         "0.14847826086956523",
         "249.15395348837208"
        ]
       ],
       "shape": {
        "columns": 5,
        "rows": 3
       }
      },
      "text/html": [
       "<div>\n",
       "<style scoped>\n",
       "    .dataframe tbody tr th:only-of-type {\n",
       "        vertical-align: middle;\n",
       "    }\n",
       "\n",
       "    .dataframe tbody tr th {\n",
       "        vertical-align: top;\n",
       "    }\n",
       "\n",
       "    .dataframe thead th {\n",
       "        text-align: right;\n",
       "    }\n",
       "</style>\n",
       "<table border=\"1\" class=\"dataframe\">\n",
       "  <thead>\n",
       "    <tr style=\"text-align: right;\">\n",
       "      <th></th>\n",
       "      <th>State</th>\n",
       "      <th>Orders</th>\n",
       "      <th>Revenue</th>\n",
       "      <th>Return_Rate</th>\n",
       "      <th>Revenue_per_Order</th>\n",
       "    </tr>\n",
       "  </thead>\n",
       "  <tbody>\n",
       "    <tr>\n",
       "      <th>1</th>\n",
       "      <td>Gujarat</td>\n",
       "      <td>1764</td>\n",
       "      <td>446995.14</td>\n",
       "      <td>0.156744</td>\n",
       "      <td>253.398605</td>\n",
       "    </tr>\n",
       "    <tr>\n",
       "      <th>8</th>\n",
       "      <td>Uttar Pradesh</td>\n",
       "      <td>1822</td>\n",
       "      <td>455261.74</td>\n",
       "      <td>0.174045</td>\n",
       "      <td>249.869232</td>\n",
       "    </tr>\n",
       "    <tr>\n",
       "      <th>6</th>\n",
       "      <td>Tamil Nadu</td>\n",
       "      <td>1849</td>\n",
       "      <td>460685.66</td>\n",
       "      <td>0.148478</td>\n",
       "      <td>249.153953</td>\n",
       "    </tr>\n",
       "  </tbody>\n",
       "</table>\n",
       "</div>"
      ],
      "text/plain": [
       "           State  Orders    Revenue  Return_Rate  Revenue_per_Order\n",
       "1        Gujarat    1764  446995.14     0.156744         253.398605\n",
       "8  Uttar Pradesh    1822  455261.74     0.174045         249.869232\n",
       "6     Tamil Nadu    1849  460685.66     0.148478         249.153953"
      ]
     },
     "execution_count": 17,
     "metadata": {},
     "output_type": "execute_result"
    }
   ],
   "source": [
    "suspicious_low_orders.head(3)"
   ]
  },
  {
   "cell_type": "code",
   "execution_count": 18,
   "id": "650da90a",
   "metadata": {},
   "outputs": [],
   "source": [
    "import matplotlib.pyplot as plt \n",
    "%matplotlib inline"
   ]
  },
  {
   "cell_type": "code",
   "execution_count": 19,
   "id": "cf405fa6",
   "metadata": {},
   "outputs": [
    {
     "data": {
      "image/png": "[encoded data removed]",
      "text/plain": [
       "<Figure size 1400x800 with 1 Axes>"
      ]
     },
     "metadata": {},
     "output_type": "display_data"
    }
   ],
   "source": [
    "plt.figure(figsize=(14, 8))\n",
    "plt.plot(grouped['Orders'], grouped['Revenue'], color='skyblue')\n",
    "# Annotate each point with state name\n",
    "for i in range(len(grouped)):\n",
    "    plt.text(grouped['Orders'][i]+5, grouped['Revenue'][i]+1000, grouped['State'][i], fontsize=9)\n",
    "\n",
    "# Plot settings\n",
    "plt.title('Orders vs Revenue by State')\n",
    "plt.xlabel('Total Orders')\n",
    "plt.ylabel('Total Revenue (INR)')\n",
    "plt.grid(True)\n",
    "plt.tight_layout()\n",
    "plt.show()\n",
    "plt.show()"
   ]
  },
  {
   "cell_type": "code",
   "execution_count": 24,
   "id": "f5b22fdc",
   "metadata": {},
   "outputs": [],
   "source": [
    "grouped.to_csv('grouped.csv', index=False)"
   ]
  },
  {
   "cell_type": "code",
   "execution_count": null,
   "id": "9e22c30e",
   "metadata": {},
   "outputs": [],
   "source": []
  },
  {
   "cell_type": "code",
   "execution_count": null,
   "id": "7e1f1e64",
   "metadata": {},
   "outputs": [],
   "source": []
  },
  {
   "cell_type": "code",
   "execution_count": null,
   "id": "45e3e2a2",
   "metadata": {},
   "outputs": [],
   "source": []
  }
 ],
 "metadata": {
  "kernelspec": {
   "display_name": "Python 3",
   "language": "python",
   "name": "python3"
  },
  "language_info": {
   "codemirror_mode": {
    "name": "ipython",
    "version": 3
   },
   "file_extension": ".py",
   "mimetype": "text/x-python",
   "name": "python",
   "nbconvert_exporter": "python",
   "pygments_lexer": "ipython3",
   "version": "3.10.0"
  }
 },
 "nbformat": 4,
 "nbformat_minor": 5
}
