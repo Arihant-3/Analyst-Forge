{
 "cells": [
  {
   "cell_type": "markdown",
   "id": "e6126dee",
   "metadata": {},
   "source": [
    "DATA CREATION"
   ]
  },
  {
   "cell_type": "code",
   "execution_count": 1,
   "id": "c3d76641",
   "metadata": {},
   "outputs": [],
   "source": [
    "import pandas as pd\n",
    "import numpy as np\n",
    "\n",
    "np.random.seed(42)\n",
    "n = 1000\n",
    "\n",
    "customer_ids = np.random.randint(1000, 1100, n)\n",
    "dates = pd.to_datetime(np.random.choice(pd.date_range(\"2022-01-01\", \"2023-12-31\"), n))\n",
    "amounts = np.round(np.random.exponential(scale=100, size=n), 2)\n",
    "\n",
    "df = pd.DataFrame({\n",
    "    'Customer_ID': customer_ids,\n",
    "    'Order_Date': dates,\n",
    "    'Amount': amounts\n",
    "})\n",
    "df.to_csv(\"ecommerce_rfm.csv\", index=False)\n"
   ]
  },
  {
   "cell_type": "markdown",
   "id": "3f48b259",
   "metadata": {},
   "source": [
    "## Tasks:\n",
    "1. Create RFM metrics per customer:\n",
    "    - Recency: Days since last purchase\n",
    "    - Frequency: Total number of purchases\n",
    "    - Monetary: Total spending\n",
    "\n",
    "2. Assign RFM scores (1–5) for each dimension (use quantiles or bins)\n",
    "\n",
    "3. Combine them into a single RFM Segment label (e.g., R=5, F=1, M=3 → \"513\")\n",
    "\n",
    "4. Create a summary table showing:\n",
    "    - Count of customers per segment\n",
    "    - Average monetary value per segment\n",
    "\n",
    "5. Identify:\n",
    "    - Your most valuable customer segment\n",
    "    - What segment needs reactivation marketing\n",
    "\n",
    "\n"
   ]
  },
  {
   "cell_type": "code",
   "execution_count": 2,
   "id": "9bd26755",
   "metadata": {},
   "outputs": [
    {
     "data": {
      "application/vnd.microsoft.datawrangler.viewer.v0+json": {
       "columns": [
        {
         "name": "index",
         "rawType": "int64",
         "type": "integer"
        },
        {
         "name": "Customer_ID",
         "rawType": "int32",
         "type": "integer"
        },
        {
         "name": "Order_Date",
         "rawType": "datetime64[ns]",
         "type": "datetime"
        },
        {
         "name": "Amount",
         "rawType": "float64",
         "type": "float"
        }
       ],
       "ref": "213d80f3-e4fe-4779-a514-0dbae1cdd9e5",
       "rows": [
        [
         "0",
         "1051",
         "2022-02-03 00:00:00",
         "192.68"
        ],
        [
         "1",
         "1092",
         "2023-09-15 00:00:00",
         "67.78"
        ],
        [
         "2",
         "1014",
         "2023-01-04 00:00:00",
         "28.4"
        ],
        [
         "3",
         "1071",
         "2023-08-18 00:00:00",
         "204.6"
        ],
        [
         "4",
         "1060",
         "2023-07-08 00:00:00",
         "58.93"
        ]
       ],
       "shape": {
        "columns": 3,
        "rows": 5
       }
      },
      "text/html": [
       "<div>\n",
       "<style scoped>\n",
       "    .dataframe tbody tr th:only-of-type {\n",
       "        vertical-align: middle;\n",
       "    }\n",
       "\n",
       "    .dataframe tbody tr th {\n",
       "        vertical-align: top;\n",
       "    }\n",
       "\n",
       "    .dataframe thead th {\n",
       "        text-align: right;\n",
       "    }\n",
       "</style>\n",
       "<table border=\"1\" class=\"dataframe\">\n",
       "  <thead>\n",
       "    <tr style=\"text-align: right;\">\n",
       "      <th></th>\n",
       "      <th>Customer_ID</th>\n",
       "      <th>Order_Date</th>\n",
       "      <th>Amount</th>\n",
       "    </tr>\n",
       "  </thead>\n",
       "  <tbody>\n",
       "    <tr>\n",
       "      <th>0</th>\n",
       "      <td>1051</td>\n",
       "      <td>2022-02-03</td>\n",
       "      <td>192.68</td>\n",
       "    </tr>\n",
       "    <tr>\n",
       "      <th>1</th>\n",
       "      <td>1092</td>\n",
       "      <td>2023-09-15</td>\n",
       "      <td>67.78</td>\n",
       "    </tr>\n",
       "    <tr>\n",
       "      <th>2</th>\n",
       "      <td>1014</td>\n",
       "      <td>2023-01-04</td>\n",
       "      <td>28.40</td>\n",
       "    </tr>\n",
       "    <tr>\n",
       "      <th>3</th>\n",
       "      <td>1071</td>\n",
       "      <td>2023-08-18</td>\n",
       "      <td>204.60</td>\n",
       "    </tr>\n",
       "    <tr>\n",
       "      <th>4</th>\n",
       "      <td>1060</td>\n",
       "      <td>2023-07-08</td>\n",
       "      <td>58.93</td>\n",
       "    </tr>\n",
       "  </tbody>\n",
       "</table>\n",
       "</div>"
      ],
      "text/plain": [
       "   Customer_ID Order_Date  Amount\n",
       "0         1051 2022-02-03  192.68\n",
       "1         1092 2023-09-15   67.78\n",
       "2         1014 2023-01-04   28.40\n",
       "3         1071 2023-08-18  204.60\n",
       "4         1060 2023-07-08   58.93"
      ]
     },
     "execution_count": 2,
     "metadata": {},
     "output_type": "execute_result"
    }
   ],
   "source": [
    "df.head()"
   ]
  },
  {
   "cell_type": "code",
   "execution_count": 3,
   "id": "6f2eae65",
   "metadata": {},
   "outputs": [
    {
     "name": "stdout",
     "output_type": "stream",
     "text": [
      "<class 'pandas.core.frame.DataFrame'>\n",
      "RangeIndex: 1000 entries, 0 to 999\n",
      "Data columns (total 3 columns):\n",
      " #   Column       Non-Null Count  Dtype         \n",
      "---  ------       --------------  -----         \n",
      " 0   Customer_ID  1000 non-null   int32         \n",
      " 1   Order_Date   1000 non-null   datetime64[ns]\n",
      " 2   Amount       1000 non-null   float64       \n",
      "dtypes: datetime64[ns](1), float64(1), int32(1)\n",
      "memory usage: 19.7 KB\n"
     ]
    }
   ],
   "source": [
    "df.info()"
   ]
  },
  {
   "cell_type": "code",
   "execution_count": 4,
   "id": "2dc0af16",
   "metadata": {},
   "outputs": [
    {
     "data": {
      "application/vnd.microsoft.datawrangler.viewer.v0+json": {
       "columns": [
        {
         "name": "index",
         "rawType": "object",
         "type": "string"
        },
        {
         "name": "Amount",
         "rawType": "float64",
         "type": "float"
        }
       ],
       "ref": "526a424e-f3a2-49fe-ac62-4920be1a8b74",
       "rows": [
        [
         "count",
         "1000.0"
        ],
        [
         "mean",
         "98.91738000000001"
        ],
        [
         "std",
         "98.73091477783677"
        ],
        [
         "min",
         "0.16"
        ],
        [
         "25%",
         "28.55"
        ],
        [
         "50%",
         "71.11"
        ],
        [
         "75%",
         "133.84"
        ],
        [
         "max",
         "744.17"
        ]
       ],
       "shape": {
        "columns": 1,
        "rows": 8
       }
      },
      "text/plain": [
       "count    1000.000000\n",
       "mean       98.917380\n",
       "std        98.730915\n",
       "min         0.160000\n",
       "25%        28.550000\n",
       "50%        71.110000\n",
       "75%       133.840000\n",
       "max       744.170000\n",
       "Name: Amount, dtype: float64"
      ]
     },
     "execution_count": 4,
     "metadata": {},
     "output_type": "execute_result"
    }
   ],
   "source": [
    "df['Amount'].describe()"
   ]
  },
  {
   "cell_type": "code",
   "execution_count": 5,
   "id": "1a2d5a71",
   "metadata": {},
   "outputs": [
    {
     "data": {
      "application/vnd.microsoft.datawrangler.viewer.v0+json": {
       "columns": [
        {
         "name": "index",
         "rawType": "int64",
         "type": "integer"
        },
        {
         "name": "Customer_ID",
         "rawType": "int32",
         "type": "integer"
        },
        {
         "name": "Order_Date",
         "rawType": "datetime64[ns]",
         "type": "datetime"
        },
        {
         "name": "Amount",
         "rawType": "float64",
         "type": "float"
        },
        {
         "name": "date",
         "rawType": "int32",
         "type": "integer"
        },
        {
         "name": "month",
         "rawType": "int32",
         "type": "integer"
        },
        {
         "name": "year",
         "rawType": "int32",
         "type": "integer"
        }
       ],
       "ref": "8a35e417-2bcc-4c85-af8a-de03d413df24",
       "rows": [
        [
         "0",
         "1051",
         "2022-02-03 00:00:00",
         "192.68",
         "3",
         "2",
         "2022"
        ],
        [
         "1",
         "1092",
         "2023-09-15 00:00:00",
         "67.78",
         "15",
         "9",
         "2023"
        ],
        [
         "2",
         "1014",
         "2023-01-04 00:00:00",
         "28.4",
         "4",
         "1",
         "2023"
        ],
        [
         "3",
         "1071",
         "2023-08-18 00:00:00",
         "204.6",
         "18",
         "8",
         "2023"
        ],
        [
         "4",
         "1060",
         "2023-07-08 00:00:00",
         "58.93",
         "8",
         "7",
         "2023"
        ]
       ],
       "shape": {
        "columns": 6,
        "rows": 5
       }
      },
      "text/html": [
       "<div>\n",
       "<style scoped>\n",
       "    .dataframe tbody tr th:only-of-type {\n",
       "        vertical-align: middle;\n",
       "    }\n",
       "\n",
       "    .dataframe tbody tr th {\n",
       "        vertical-align: top;\n",
       "    }\n",
       "\n",
       "    .dataframe thead th {\n",
       "        text-align: right;\n",
       "    }\n",
       "</style>\n",
       "<table border=\"1\" class=\"dataframe\">\n",
       "  <thead>\n",
       "    <tr style=\"text-align: right;\">\n",
       "      <th></th>\n",
       "      <th>Customer_ID</th>\n",
       "      <th>Order_Date</th>\n",
       "      <th>Amount</th>\n",
       "      <th>date</th>\n",
       "      <th>month</th>\n",
       "      <th>year</th>\n",
       "    </tr>\n",
       "  </thead>\n",
       "  <tbody>\n",
       "    <tr>\n",
       "      <th>0</th>\n",
       "      <td>1051</td>\n",
       "      <td>2022-02-03</td>\n",
       "      <td>192.68</td>\n",
       "      <td>3</td>\n",
       "      <td>2</td>\n",
       "      <td>2022</td>\n",
       "    </tr>\n",
       "    <tr>\n",
       "      <th>1</th>\n",
       "      <td>1092</td>\n",
       "      <td>2023-09-15</td>\n",
       "      <td>67.78</td>\n",
       "      <td>15</td>\n",
       "      <td>9</td>\n",
       "      <td>2023</td>\n",
       "    </tr>\n",
       "    <tr>\n",
       "      <th>2</th>\n",
       "      <td>1014</td>\n",
       "      <td>2023-01-04</td>\n",
       "      <td>28.40</td>\n",
       "      <td>4</td>\n",
       "      <td>1</td>\n",
       "      <td>2023</td>\n",
       "    </tr>\n",
       "    <tr>\n",
       "      <th>3</th>\n",
       "      <td>1071</td>\n",
       "      <td>2023-08-18</td>\n",
       "      <td>204.60</td>\n",
       "      <td>18</td>\n",
       "      <td>8</td>\n",
       "      <td>2023</td>\n",
       "    </tr>\n",
       "    <tr>\n",
       "      <th>4</th>\n",
       "      <td>1060</td>\n",
       "      <td>2023-07-08</td>\n",
       "      <td>58.93</td>\n",
       "      <td>8</td>\n",
       "      <td>7</td>\n",
       "      <td>2023</td>\n",
       "    </tr>\n",
       "  </tbody>\n",
       "</table>\n",
       "</div>"
      ],
      "text/plain": [
       "   Customer_ID Order_Date  Amount  date  month  year\n",
       "0         1051 2022-02-03  192.68     3      2  2022\n",
       "1         1092 2023-09-15   67.78    15      9  2023\n",
       "2         1014 2023-01-04   28.40     4      1  2023\n",
       "3         1071 2023-08-18  204.60    18      8  2023\n",
       "4         1060 2023-07-08   58.93     8      7  2023"
      ]
     },
     "execution_count": 5,
     "metadata": {},
     "output_type": "execute_result"
    }
   ],
   "source": [
    "df['date']=df['Order_Date'].dt.day\n",
    "df['month']=df['Order_Date'].dt.month\n",
    "df['year']=df['Order_Date'].dt.year\n",
    "\n",
    "df.head()"
   ]
  },
  {
   "cell_type": "code",
   "execution_count": 6,
   "id": "c5dec1c3",
   "metadata": {},
   "outputs": [
    {
     "data": {
      "application/vnd.microsoft.datawrangler.viewer.v0+json": {
       "columns": [
        {
         "name": "index",
         "rawType": "int64",
         "type": "integer"
        },
        {
         "name": "Customer_ID",
         "rawType": "int32",
         "type": "integer"
        },
        {
         "name": "Order_Date",
         "rawType": "datetime64[ns]",
         "type": "datetime"
        },
        {
         "name": "Amount",
         "rawType": "float64",
         "type": "float"
        },
        {
         "name": "date",
         "rawType": "int32",
         "type": "integer"
        },
        {
         "name": "month",
         "rawType": "int32",
         "type": "integer"
        },
        {
         "name": "year",
         "rawType": "int32",
         "type": "integer"
        }
       ],
       "ref": "7b469913-c9d2-4f5f-a19b-26884d426f8f",
       "rows": [
        [
         "0",
         "1000",
         "2022-07-02 00:00:00",
         "45.88",
         "2",
         "7",
         "2022"
        ],
        [
         "1",
         "1000",
         "2023-01-22 00:00:00",
         "47.87",
         "22",
         "1",
         "2023"
        ],
        [
         "2",
         "1000",
         "2022-10-16 00:00:00",
         "27.9",
         "16",
         "10",
         "2022"
        ],
        [
         "3",
         "1000",
         "2023-07-28 00:00:00",
         "39.24",
         "28",
         "7",
         "2023"
        ],
        [
         "4",
         "1000",
         "2023-07-24 00:00:00",
         "118.47",
         "24",
         "7",
         "2023"
        ],
        [
         "5",
         "1000",
         "2022-08-21 00:00:00",
         "15.17",
         "21",
         "8",
         "2022"
        ],
        [
         "6",
         "1000",
         "2023-06-08 00:00:00",
         "71.88",
         "8",
         "6",
         "2023"
        ],
        [
         "7",
         "1000",
         "2022-02-04 00:00:00",
         "310.24",
         "4",
         "2",
         "2022"
        ],
        [
         "8",
         "1000",
         "2022-11-14 00:00:00",
         "140.67",
         "14",
         "11",
         "2022"
        ],
        [
         "9",
         "1000",
         "2022-08-04 00:00:00",
         "184.52",
         "4",
         "8",
         "2022"
        ],
        [
         "10",
         "1000",
         "2023-04-30 00:00:00",
         "78.75",
         "30",
         "4",
         "2023"
        ],
        [
         "11",
         "1000",
         "2022-08-03 00:00:00",
         "13.66",
         "3",
         "8",
         "2022"
        ],
        [
         "12",
         "1000",
         "2022-11-09 00:00:00",
         "25.7",
         "9",
         "11",
         "2022"
        ],
        [
         "13",
         "1000",
         "2023-01-06 00:00:00",
         "251.82",
         "6",
         "1",
         "2023"
        ],
        [
         "14",
         "1000",
         "2023-06-19 00:00:00",
         "60.01",
         "19",
         "6",
         "2023"
        ],
        [
         "15",
         "1000",
         "2023-01-31 00:00:00",
         "172.94",
         "31",
         "1",
         "2023"
        ],
        [
         "16",
         "1001",
         "2023-08-13 00:00:00",
         "72.5",
         "13",
         "8",
         "2023"
        ],
        [
         "17",
         "1001",
         "2023-01-06 00:00:00",
         "86.37",
         "6",
         "1",
         "2023"
        ],
        [
         "18",
         "1001",
         "2023-10-23 00:00:00",
         "32.04",
         "23",
         "10",
         "2023"
        ],
        [
         "19",
         "1001",
         "2023-09-14 00:00:00",
         "117.91",
         "14",
         "9",
         "2023"
        ],
        [
         "20",
         "1001",
         "2023-01-12 00:00:00",
         "6.03",
         "12",
         "1",
         "2023"
        ],
        [
         "21",
         "1001",
         "2022-12-15 00:00:00",
         "45.94",
         "15",
         "12",
         "2022"
        ],
        [
         "22",
         "1001",
         "2023-10-24 00:00:00",
         "350.06",
         "24",
         "10",
         "2023"
        ],
        [
         "23",
         "1001",
         "2023-11-21 00:00:00",
         "202.6",
         "21",
         "11",
         "2023"
        ],
        [
         "24",
         "1001",
         "2023-08-11 00:00:00",
         "154.6",
         "11",
         "8",
         "2023"
        ],
        [
         "25",
         "1001",
         "2022-06-01 00:00:00",
         "54.29",
         "1",
         "6",
         "2022"
        ],
        [
         "26",
         "1001",
         "2023-10-28 00:00:00",
         "7.2",
         "28",
         "10",
         "2023"
        ],
        [
         "27",
         "1001",
         "2022-08-13 00:00:00",
         "60.65",
         "13",
         "8",
         "2022"
        ],
        [
         "28",
         "1001",
         "2023-05-18 00:00:00",
         "18.6",
         "18",
         "5",
         "2023"
        ],
        [
         "29",
         "1002",
         "2023-01-12 00:00:00",
         "39.33",
         "12",
         "1",
         "2023"
        ],
        [
         "30",
         "1002",
         "2023-08-07 00:00:00",
         "145.27",
         "7",
         "8",
         "2023"
        ],
        [
         "31",
         "1002",
         "2023-10-31 00:00:00",
         "228.31",
         "31",
         "10",
         "2023"
        ],
        [
         "32",
         "1002",
         "2022-07-29 00:00:00",
         "97.78",
         "29",
         "7",
         "2022"
        ],
        [
         "33",
         "1002",
         "2023-10-05 00:00:00",
         "163.95",
         "5",
         "10",
         "2023"
        ],
        [
         "34",
         "1002",
         "2023-03-02 00:00:00",
         "419.9",
         "2",
         "3",
         "2023"
        ],
        [
         "35",
         "1002",
         "2023-02-24 00:00:00",
         "473.94",
         "24",
         "2",
         "2023"
        ],
        [
         "36",
         "1002",
         "2022-06-05 00:00:00",
         "141.13",
         "5",
         "6",
         "2022"
        ],
        [
         "37",
         "1002",
         "2022-04-27 00:00:00",
         "36.35",
         "27",
         "4",
         "2022"
        ],
        [
         "38",
         "1002",
         "2023-07-28 00:00:00",
         "4.01",
         "28",
         "7",
         "2023"
        ],
        [
         "39",
         "1002",
         "2023-02-16 00:00:00",
         "20.36",
         "16",
         "2",
         "2023"
        ],
        [
         "40",
         "1002",
         "2022-09-07 00:00:00",
         "110.43",
         "7",
         "9",
         "2022"
        ],
        [
         "41",
         "1003",
         "2023-12-17 00:00:00",
         "7.36",
         "17",
         "12",
         "2023"
        ],
        [
         "42",
         "1003",
         "2023-01-13 00:00:00",
         "4.29",
         "13",
         "1",
         "2023"
        ],
        [
         "43",
         "1003",
         "2023-10-12 00:00:00",
         "182.09",
         "12",
         "10",
         "2023"
        ],
        [
         "44",
         "1003",
         "2022-08-13 00:00:00",
         "72.87",
         "13",
         "8",
         "2022"
        ],
        [
         "45",
         "1003",
         "2022-02-08 00:00:00",
         "16.12",
         "8",
         "2",
         "2022"
        ],
        [
         "46",
         "1003",
         "2022-06-22 00:00:00",
         "16.06",
         "22",
         "6",
         "2022"
        ],
        [
         "47",
         "1003",
         "2023-11-04 00:00:00",
         "58.65",
         "4",
         "11",
         "2023"
        ],
        [
         "48",
         "1003",
         "2022-09-21 00:00:00",
         "29.36",
         "21",
         "9",
         "2022"
        ],
        [
         "49",
         "1003",
         "2023-05-21 00:00:00",
         "55.53",
         "21",
         "5",
         "2023"
        ]
       ],
       "shape": {
        "columns": 6,
        "rows": 1000
       }
      },
      "text/html": [
       "<div>\n",
       "<style scoped>\n",
       "    .dataframe tbody tr th:only-of-type {\n",
       "        vertical-align: middle;\n",
       "    }\n",
       "\n",
       "    .dataframe tbody tr th {\n",
       "        vertical-align: top;\n",
       "    }\n",
       "\n",
       "    .dataframe thead th {\n",
       "        text-align: right;\n",
       "    }\n",
       "</style>\n",
       "<table border=\"1\" class=\"dataframe\">\n",
       "  <thead>\n",
       "    <tr style=\"text-align: right;\">\n",
       "      <th></th>\n",
       "      <th>Customer_ID</th>\n",
       "      <th>Order_Date</th>\n",
       "      <th>Amount</th>\n",
       "      <th>date</th>\n",
       "      <th>month</th>\n",
       "      <th>year</th>\n",
       "    </tr>\n",
       "  </thead>\n",
       "  <tbody>\n",
       "    <tr>\n",
       "      <th>0</th>\n",
       "      <td>1000</td>\n",
       "      <td>2022-07-02</td>\n",
       "      <td>45.88</td>\n",
       "      <td>2</td>\n",
       "      <td>7</td>\n",
       "      <td>2022</td>\n",
       "    </tr>\n",
       "    <tr>\n",
       "      <th>1</th>\n",
       "      <td>1000</td>\n",
       "      <td>2023-01-22</td>\n",
       "      <td>47.87</td>\n",
       "      <td>22</td>\n",
       "      <td>1</td>\n",
       "      <td>2023</td>\n",
       "    </tr>\n",
       "    <tr>\n",
       "      <th>2</th>\n",
       "      <td>1000</td>\n",
       "      <td>2022-10-16</td>\n",
       "      <td>27.90</td>\n",
       "      <td>16</td>\n",
       "      <td>10</td>\n",
       "      <td>2022</td>\n",
       "    </tr>\n",
       "    <tr>\n",
       "      <th>3</th>\n",
       "      <td>1000</td>\n",
       "      <td>2023-07-28</td>\n",
       "      <td>39.24</td>\n",
       "      <td>28</td>\n",
       "      <td>7</td>\n",
       "      <td>2023</td>\n",
       "    </tr>\n",
       "    <tr>\n",
       "      <th>4</th>\n",
       "      <td>1000</td>\n",
       "      <td>2023-07-24</td>\n",
       "      <td>118.47</td>\n",
       "      <td>24</td>\n",
       "      <td>7</td>\n",
       "      <td>2023</td>\n",
       "    </tr>\n",
       "    <tr>\n",
       "      <th>...</th>\n",
       "      <td>...</td>\n",
       "      <td>...</td>\n",
       "      <td>...</td>\n",
       "      <td>...</td>\n",
       "      <td>...</td>\n",
       "      <td>...</td>\n",
       "    </tr>\n",
       "    <tr>\n",
       "      <th>995</th>\n",
       "      <td>1099</td>\n",
       "      <td>2022-03-29</td>\n",
       "      <td>14.52</td>\n",
       "      <td>29</td>\n",
       "      <td>3</td>\n",
       "      <td>2022</td>\n",
       "    </tr>\n",
       "    <tr>\n",
       "      <th>996</th>\n",
       "      <td>1099</td>\n",
       "      <td>2023-06-10</td>\n",
       "      <td>153.15</td>\n",
       "      <td>10</td>\n",
       "      <td>6</td>\n",
       "      <td>2023</td>\n",
       "    </tr>\n",
       "    <tr>\n",
       "      <th>997</th>\n",
       "      <td>1099</td>\n",
       "      <td>2023-01-07</td>\n",
       "      <td>22.82</td>\n",
       "      <td>7</td>\n",
       "      <td>1</td>\n",
       "      <td>2023</td>\n",
       "    </tr>\n",
       "    <tr>\n",
       "      <th>998</th>\n",
       "      <td>1099</td>\n",
       "      <td>2023-01-10</td>\n",
       "      <td>105.64</td>\n",
       "      <td>10</td>\n",
       "      <td>1</td>\n",
       "      <td>2023</td>\n",
       "    </tr>\n",
       "    <tr>\n",
       "      <th>999</th>\n",
       "      <td>1099</td>\n",
       "      <td>2023-07-04</td>\n",
       "      <td>112.86</td>\n",
       "      <td>4</td>\n",
       "      <td>7</td>\n",
       "      <td>2023</td>\n",
       "    </tr>\n",
       "  </tbody>\n",
       "</table>\n",
       "<p>1000 rows × 6 columns</p>\n",
       "</div>"
      ],
      "text/plain": [
       "     Customer_ID Order_Date  Amount  date  month  year\n",
       "0           1000 2022-07-02   45.88     2      7  2022\n",
       "1           1000 2023-01-22   47.87    22      1  2023\n",
       "2           1000 2022-10-16   27.90    16     10  2022\n",
       "3           1000 2023-07-28   39.24    28      7  2023\n",
       "4           1000 2023-07-24  118.47    24      7  2023\n",
       "..           ...        ...     ...   ...    ...   ...\n",
       "995         1099 2022-03-29   14.52    29      3  2022\n",
       "996         1099 2023-06-10  153.15    10      6  2023\n",
       "997         1099 2023-01-07   22.82     7      1  2023\n",
       "998         1099 2023-01-10  105.64    10      1  2023\n",
       "999         1099 2023-07-04  112.86     4      7  2023\n",
       "\n",
       "[1000 rows x 6 columns]"
      ]
     },
     "execution_count": 6,
     "metadata": {},
     "output_type": "execute_result"
    }
   ],
   "source": [
    "df = df.sort_values('Customer_ID').reset_index(drop=True)\n",
    "\n",
    "df\n"
   ]
  },
  {
   "cell_type": "code",
   "execution_count": 7,
   "id": "a23afbbc",
   "metadata": {},
   "outputs": [
    {
     "data": {
      "application/vnd.microsoft.datawrangler.viewer.v0+json": {
       "columns": [
        {
         "name": "index",
         "rawType": "int64",
         "type": "integer"
        },
        {
         "name": "Customer_ID",
         "rawType": "int32",
         "type": "integer"
        },
        {
         "name": "Recency",
         "rawType": "int64",
         "type": "integer"
        },
        {
         "name": "Frequency",
         "rawType": "int64",
         "type": "integer"
        },
        {
         "name": "Monetary",
         "rawType": "float64",
         "type": "float"
        }
       ],
       "ref": "506aa547-9621-4f00-9e6f-2fe1aa434558",
       "rows": [
        [
         "0",
         "1000",
         "156",
         "16",
         "1604.72"
        ],
        [
         "1",
         "1001",
         "40",
         "13",
         "1208.79"
        ],
        [
         "2",
         "1002",
         "61",
         "12",
         "1880.76"
        ],
        [
         "3",
         "1003",
         "14",
         "11",
         "685.4"
        ],
        [
         "4",
         "1004",
         "39",
         "11",
         "1806.82"
        ]
       ],
       "shape": {
        "columns": 4,
        "rows": 5
       }
      },
      "text/html": [
       "<div>\n",
       "<style scoped>\n",
       "    .dataframe tbody tr th:only-of-type {\n",
       "        vertical-align: middle;\n",
       "    }\n",
       "\n",
       "    .dataframe tbody tr th {\n",
       "        vertical-align: top;\n",
       "    }\n",
       "\n",
       "    .dataframe thead th {\n",
       "        text-align: right;\n",
       "    }\n",
       "</style>\n",
       "<table border=\"1\" class=\"dataframe\">\n",
       "  <thead>\n",
       "    <tr style=\"text-align: right;\">\n",
       "      <th></th>\n",
       "      <th>Customer_ID</th>\n",
       "      <th>Recency</th>\n",
       "      <th>Frequency</th>\n",
       "      <th>Monetary</th>\n",
       "    </tr>\n",
       "  </thead>\n",
       "  <tbody>\n",
       "    <tr>\n",
       "      <th>0</th>\n",
       "      <td>1000</td>\n",
       "      <td>156</td>\n",
       "      <td>16</td>\n",
       "      <td>1604.72</td>\n",
       "    </tr>\n",
       "    <tr>\n",
       "      <th>1</th>\n",
       "      <td>1001</td>\n",
       "      <td>40</td>\n",
       "      <td>13</td>\n",
       "      <td>1208.79</td>\n",
       "    </tr>\n",
       "    <tr>\n",
       "      <th>2</th>\n",
       "      <td>1002</td>\n",
       "      <td>61</td>\n",
       "      <td>12</td>\n",
       "      <td>1880.76</td>\n",
       "    </tr>\n",
       "    <tr>\n",
       "      <th>3</th>\n",
       "      <td>1003</td>\n",
       "      <td>14</td>\n",
       "      <td>11</td>\n",
       "      <td>685.40</td>\n",
       "    </tr>\n",
       "    <tr>\n",
       "      <th>4</th>\n",
       "      <td>1004</td>\n",
       "      <td>39</td>\n",
       "      <td>11</td>\n",
       "      <td>1806.82</td>\n",
       "    </tr>\n",
       "  </tbody>\n",
       "</table>\n",
       "</div>"
      ],
      "text/plain": [
       "   Customer_ID  Recency  Frequency  Monetary\n",
       "0         1000      156         16   1604.72\n",
       "1         1001       40         13   1208.79\n",
       "2         1002       61         12   1880.76\n",
       "3         1003       14         11    685.40\n",
       "4         1004       39         11   1806.82"
      ]
     },
     "execution_count": 7,
     "metadata": {},
     "output_type": "execute_result"
    }
   ],
   "source": [
    "# Set snapshot date: usually the day after the most recent order\n",
    "snapshot_date = df['Order_Date'].max() + pd.Timedelta(days=1)\n",
    "\n",
    "# RFM Calculation\n",
    "rfm = df.groupby('Customer_ID').agg(\n",
    "    Recency=('Order_Date', lambda x: (snapshot_date - x.max()).days),\n",
    "    Frequency=('Order_Date', 'count'),\n",
    "    Monetary=('Amount', 'sum')\n",
    ").reset_index()\n",
    "\n",
    "# Preview\n",
    "rfm.head()\n"
   ]
  },
  {
   "cell_type": "code",
   "execution_count": 8,
   "id": "d95466a6",
   "metadata": {},
   "outputs": [
    {
     "data": {
      "application/vnd.microsoft.datawrangler.viewer.v0+json": {
       "columns": [
        {
         "name": "index",
         "rawType": "int64",
         "type": "integer"
        },
        {
         "name": "Customer_ID",
         "rawType": "int32",
         "type": "integer"
        },
        {
         "name": "Recency",
         "rawType": "int64",
         "type": "integer"
        },
        {
         "name": "Frequency",
         "rawType": "int64",
         "type": "integer"
        },
        {
         "name": "Monetary",
         "rawType": "float64",
         "type": "float"
        },
        {
         "name": "R_Score",
         "rawType": "int64",
         "type": "integer"
        },
        {
         "name": "F_Score",
         "rawType": "int64",
         "type": "integer"
        },
        {
         "name": "M_Score",
         "rawType": "int64",
         "type": "integer"
        },
        {
         "name": "RFM_Segment",
         "rawType": "object",
         "type": "string"
        },
        {
         "name": "RFM_Total",
         "rawType": "int64",
         "type": "integer"
        }
       ],
       "ref": "d1e76203-a82e-492d-8f86-b572857fe55e",
       "rows": [
        [
         "0",
         "1000",
         "156",
         "16",
         "1604.72",
         "1",
         "5",
         "5",
         "155",
         "11"
        ],
        [
         "1",
         "1001",
         "40",
         "13",
         "1208.79",
         "3",
         "5",
         "4",
         "354",
         "12"
        ],
        [
         "2",
         "1002",
         "61",
         "12",
         "1880.76",
         "2",
         "4",
         "5",
         "245",
         "11"
        ],
        [
         "3",
         "1003",
         "14",
         "11",
         "685.4",
         "5",
         "4",
         "2",
         "542",
         "11"
        ],
        [
         "4",
         "1004",
         "39",
         "11",
         "1806.82",
         "3",
         "4",
         "5",
         "345",
         "12"
        ]
       ],
       "shape": {
        "columns": 9,
        "rows": 5
       }
      },
      "text/html": [
       "<div>\n",
       "<style scoped>\n",
       "    .dataframe tbody tr th:only-of-type {\n",
       "        vertical-align: middle;\n",
       "    }\n",
       "\n",
       "    .dataframe tbody tr th {\n",
       "        vertical-align: top;\n",
       "    }\n",
       "\n",
       "    .dataframe thead th {\n",
       "        text-align: right;\n",
       "    }\n",
       "</style>\n",
       "<table border=\"1\" class=\"dataframe\">\n",
       "  <thead>\n",
       "    <tr style=\"text-align: right;\">\n",
       "      <th></th>\n",
       "      <th>Customer_ID</th>\n",
       "      <th>Recency</th>\n",
       "      <th>Frequency</th>\n",
       "      <th>Monetary</th>\n",
       "      <th>R_Score</th>\n",
       "      <th>F_Score</th>\n",
       "      <th>M_Score</th>\n",
       "      <th>RFM_Segment</th>\n",
       "      <th>RFM_Total</th>\n",
       "    </tr>\n",
       "  </thead>\n",
       "  <tbody>\n",
       "    <tr>\n",
       "      <th>0</th>\n",
       "      <td>1000</td>\n",
       "      <td>156</td>\n",
       "      <td>16</td>\n",
       "      <td>1604.72</td>\n",
       "      <td>1</td>\n",
       "      <td>5</td>\n",
       "      <td>5</td>\n",
       "      <td>155</td>\n",
       "      <td>11</td>\n",
       "    </tr>\n",
       "    <tr>\n",
       "      <th>1</th>\n",
       "      <td>1001</td>\n",
       "      <td>40</td>\n",
       "      <td>13</td>\n",
       "      <td>1208.79</td>\n",
       "      <td>3</td>\n",
       "      <td>5</td>\n",
       "      <td>4</td>\n",
       "      <td>354</td>\n",
       "      <td>12</td>\n",
       "    </tr>\n",
       "    <tr>\n",
       "      <th>2</th>\n",
       "      <td>1002</td>\n",
       "      <td>61</td>\n",
       "      <td>12</td>\n",
       "      <td>1880.76</td>\n",
       "      <td>2</td>\n",
       "      <td>4</td>\n",
       "      <td>5</td>\n",
       "      <td>245</td>\n",
       "      <td>11</td>\n",
       "    </tr>\n",
       "    <tr>\n",
       "      <th>3</th>\n",
       "      <td>1003</td>\n",
       "      <td>14</td>\n",
       "      <td>11</td>\n",
       "      <td>685.40</td>\n",
       "      <td>5</td>\n",
       "      <td>4</td>\n",
       "      <td>2</td>\n",
       "      <td>542</td>\n",
       "      <td>11</td>\n",
       "    </tr>\n",
       "    <tr>\n",
       "      <th>4</th>\n",
       "      <td>1004</td>\n",
       "      <td>39</td>\n",
       "      <td>11</td>\n",
       "      <td>1806.82</td>\n",
       "      <td>3</td>\n",
       "      <td>4</td>\n",
       "      <td>5</td>\n",
       "      <td>345</td>\n",
       "      <td>12</td>\n",
       "    </tr>\n",
       "  </tbody>\n",
       "</table>\n",
       "</div>"
      ],
      "text/plain": [
       "   Customer_ID  Recency  Frequency  Monetary  R_Score  F_Score  M_Score  \\\n",
       "0         1000      156         16   1604.72        1        5        5   \n",
       "1         1001       40         13   1208.79        3        5        4   \n",
       "2         1002       61         12   1880.76        2        4        5   \n",
       "3         1003       14         11    685.40        5        4        2   \n",
       "4         1004       39         11   1806.82        3        4        5   \n",
       "\n",
       "  RFM_Segment  RFM_Total  \n",
       "0         155         11  \n",
       "1         354         12  \n",
       "2         245         11  \n",
       "3         542         11  \n",
       "4         345         12  "
      ]
     },
     "execution_count": 8,
     "metadata": {},
     "output_type": "execute_result"
    }
   ],
   "source": [
    "# RFM Scoring using quantiles\n",
    "\n",
    "# Recency: lower is better → score 5 means most recent\n",
    "rfm['R_Score'] = pd.qcut(rfm['Recency'], 5, labels=[5, 4, 3, 2, 1]).astype(int)\n",
    "\n",
    "# Frequency: higher is better → score 5 means most purchases\n",
    "rfm['F_Score'] = pd.qcut(rfm['Frequency'].rank(method='first'), 5, labels=[1, 2, 3, 4, 5]).astype(int)\n",
    "\n",
    "# Monetary: higher is better → score 5 means highest spending\n",
    "rfm['M_Score'] = pd.qcut(rfm['Monetary'], 5, labels=[1, 2, 3, 4, 5]).astype(int)\n",
    "\n",
    "# Combine RFM Scores into one string segment: e.g., 513\n",
    "rfm['RFM_Segment'] = rfm['R_Score'].astype(str) + rfm['F_Score'].astype(str) + rfm['M_Score'].astype(str)\n",
    "\n",
    "# Optional: also calculate RFM Total Score\n",
    "rfm['RFM_Total'] = rfm[['R_Score', 'F_Score', 'M_Score']].sum(axis=1)\n",
    "\n",
    "# View result\n",
    "rfm.head()\n"
   ]
  },
  {
   "cell_type": "code",
   "execution_count": 9,
   "id": "a829d4e7",
   "metadata": {},
   "outputs": [
    {
     "data": {
      "application/vnd.microsoft.datawrangler.viewer.v0+json": {
       "columns": [
        {
         "name": "index",
         "rawType": "int64",
         "type": "integer"
        },
        {
         "name": "RFM_Segment",
         "rawType": "object",
         "type": "string"
        },
        {
         "name": "Customer_Count",
         "rawType": "int64",
         "type": "integer"
        },
        {
         "name": "Average_Monetary_Value",
         "rawType": "float64",
         "type": "float"
        }
       ],
       "ref": "eaec93b3-c37a-43d7-8828-1dff4dc1dcba",
       "rows": [
        [
         "11",
         "211",
         "6",
         "409.92"
        ],
        [
         "0",
         "111",
         "4",
         "338.445"
        ],
        [
         "38",
         "355",
         "4",
         "1603.225"
        ],
        [
         "40",
         "412",
         "3",
         "715.9766666666666"
        ],
        [
         "3",
         "122",
         "3",
         "792.0799999999999"
        ]
       ],
       "shape": {
        "columns": 3,
        "rows": 5
       }
      },
      "text/html": [
       "<div>\n",
       "<style scoped>\n",
       "    .dataframe tbody tr th:only-of-type {\n",
       "        vertical-align: middle;\n",
       "    }\n",
       "\n",
       "    .dataframe tbody tr th {\n",
       "        vertical-align: top;\n",
       "    }\n",
       "\n",
       "    .dataframe thead th {\n",
       "        text-align: right;\n",
       "    }\n",
       "</style>\n",
       "<table border=\"1\" class=\"dataframe\">\n",
       "  <thead>\n",
       "    <tr style=\"text-align: right;\">\n",
       "      <th></th>\n",
       "      <th>RFM_Segment</th>\n",
       "      <th>Customer_Count</th>\n",
       "      <th>Average_Monetary_Value</th>\n",
       "    </tr>\n",
       "  </thead>\n",
       "  <tbody>\n",
       "    <tr>\n",
       "      <th>11</th>\n",
       "      <td>211</td>\n",
       "      <td>6</td>\n",
       "      <td>409.920000</td>\n",
       "    </tr>\n",
       "    <tr>\n",
       "      <th>0</th>\n",
       "      <td>111</td>\n",
       "      <td>4</td>\n",
       "      <td>338.445000</td>\n",
       "    </tr>\n",
       "    <tr>\n",
       "      <th>38</th>\n",
       "      <td>355</td>\n",
       "      <td>4</td>\n",
       "      <td>1603.225000</td>\n",
       "    </tr>\n",
       "    <tr>\n",
       "      <th>40</th>\n",
       "      <td>412</td>\n",
       "      <td>3</td>\n",
       "      <td>715.976667</td>\n",
       "    </tr>\n",
       "    <tr>\n",
       "      <th>3</th>\n",
       "      <td>122</td>\n",
       "      <td>3</td>\n",
       "      <td>792.080000</td>\n",
       "    </tr>\n",
       "  </tbody>\n",
       "</table>\n",
       "</div>"
      ],
      "text/plain": [
       "   RFM_Segment  Customer_Count  Average_Monetary_Value\n",
       "11         211               6              409.920000\n",
       "0          111               4              338.445000\n",
       "38         355               4             1603.225000\n",
       "40         412               3              715.976667\n",
       "3          122               3              792.080000"
      ]
     },
     "execution_count": 9,
     "metadata": {},
     "output_type": "execute_result"
    }
   ],
   "source": [
    "rfm_summary = rfm.groupby('RFM_Segment').agg(\n",
    "    Customer_Count = ('Customer_ID', 'count'),\n",
    "    Average_Monetary_Value =  ('Monetary', 'mean')\n",
    ").reset_index()\n",
    "\n",
    "rfm_summary = rfm_summary.sort_values(by='Customer_Count', ascending=False)\n",
    "rfm_summary.head()"
   ]
  },
  {
   "cell_type": "code",
   "execution_count": 10,
   "id": "ca3ec486",
   "metadata": {},
   "outputs": [],
   "source": [
    "import seaborn as sns\n",
    "import matplotlib.pyplot as plt\n",
    "%matplotlib inline"
   ]
  },
  {
   "cell_type": "code",
   "execution_count": 11,
   "id": "a73e4dc0",
   "metadata": {},
   "outputs": [
    {
     "data": {
      "image/png": "[encoded data removed]",
      "text/plain": [
       "<Figure size 1200x600 with 1 Axes>"
      ]
     },
     "metadata": {},
     "output_type": "display_data"
    }
   ],
   "source": [
    "# Example segment distribution plot\n",
    "plt.figure(figsize=(12, 6))\n",
    "sns.countplot(data=rfm, x='RFM_Segment', order=rfm['RFM_Segment'].value_counts().index)\n",
    "plt.xticks(rotation=90)\n",
    "plt.title(\"Customer Segments by RFM Score\")\n",
    "plt.show()"
   ]
  },
  {
   "cell_type": "code",
   "execution_count": 12,
   "id": "f4b677c9",
   "metadata": {},
   "outputs": [
    {
     "name": "stdout",
     "output_type": "stream",
     "text": [
      "['155' '133' '111' '113' '122' '132' '112' '144' '154' '123' '131']\n"
     ]
    }
   ],
   "source": [
    "# Filter rows who need reactivation marketing\n",
    "mask = (rfm['R_Score'] == 1)\n",
    "\n",
    "# Print matching RFM_Segment values\n",
    "print(rfm.loc[mask, 'RFM_Segment'].unique())\n"
   ]
  },
  {
   "cell_type": "code",
   "execution_count": null,
   "id": "331eb606",
   "metadata": {},
   "outputs": [
    {
     "name": "stdout",
     "output_type": "stream",
     "text": [
      "['155' '245' '255' '144' '154' '254']\n"
     ]
    }
   ],
   "source": [
    "# Filter rows based on drop-offs but good history\n",
    "mask = (rfm['R_Score'] <= 2) & (rfm['F_Score'] >= 4) & (rfm['M_Score'] >= 4)\n",
    "\n",
    "# Print matching RFM_Segment values\n",
    "print(rfm.loc[mask, 'RFM_Segment'].unique())\n",
    "\n"
   ]
  },
  {
   "cell_type": "code",
   "execution_count": 14,
   "id": "54bc79a5",
   "metadata": {},
   "outputs": [
    {
     "name": "stdout",
     "output_type": "stream",
     "text": [
      "['354' '345' '454' '355' '554' '444' '545' '544' '455' '555' '344' '445']\n"
     ]
    }
   ],
   "source": [
    "# Filter loyal big spenders\n",
    "mask = (rfm['R_Score'] >= 3) & (rfm['F_Score'] >= 4) & (rfm['M_Score'] >= 4)\n",
    "\n",
    "# Print matching RFM_Segment values\n",
    "print(rfm.loc[mask, 'RFM_Segment'].unique())"
   ]
  },
  {
   "cell_type": "code",
   "execution_count": null,
   "id": "95e2e4c9",
   "metadata": {},
   "outputs": [],
   "source": []
  },
  {
   "cell_type": "code",
   "execution_count": null,
   "id": "b90af132",
   "metadata": {},
   "outputs": [],
   "source": []
  },
  {
   "cell_type": "code",
   "execution_count": null,
   "id": "06b0ec9a",
   "metadata": {},
   "outputs": [],
   "source": []
  }
 ],
 "metadata": {
  "kernelspec": {
   "display_name": "Python 3",
   "language": "python",
   "name": "python3"
  },
  "language_info": {
   "codemirror_mode": {
    "name": "ipython",
    "version": 3
   },
   "file_extension": ".py",
   "mimetype": "text/x-python",
   "name": "python",
   "nbconvert_exporter": "python",
   "pygments_lexer": "ipython3",
   "version": "3.10.0"
  }
 },
 "nbformat": 4,
 "nbformat_minor": 5
}
