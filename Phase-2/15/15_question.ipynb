{
 "cells": [
  {
   "cell_type": "markdown",
   "id": "1312e134",
   "metadata": {},
   "source": [
    "DATA CREATION"
   ]
  },
  {
   "cell_type": "code",
   "execution_count": 1,
   "id": "f678dd1e",
   "metadata": {},
   "outputs": [],
   "source": [
    "import pandas as pd\n",
    "import numpy as np\n",
    "\n",
    "np.random.seed(42)\n",
    "n = 1000\n",
    "\n",
    "df = pd.DataFrame({\n",
    "    'Order_ID': range(1, n+1),\n",
    "    'Customer_ID': np.random.randint(1000, 1100, size=n),\n",
    "    'Order_Value': np.round(np.random.exponential(scale=80, size=n), 2),\n",
    "    'Items_Ordered': np.random.randint(1, 5, size=n),\n",
    "    'Payment_Method': np.random.choice(['Credit Card', 'Debit Card', 'UPI', 'Wallet', 'COD'], size=n),\n",
    "    'Shipping_Days': np.random.randint(1, 10, size=n),\n",
    "    'Returned': np.random.choice([0, 1], size=n, p=[0.85, 0.15])\n",
    "})\n",
    "\n",
    "df.to_csv(\"returns_feature_engineering.csv\", index=False)\n"
   ]
  },
  {
   "cell_type": "markdown",
   "id": "76557f65",
   "metadata": {},
   "source": [
    "## Tasks:\n",
    "\n",
    "1. Engineer at least 3 new features (numerical or categorical). Ideas:\n",
    "\n",
    "    - Order value per item\n",
    "    - Fast shipping flag\n",
    "    - High-risk payment method flag\n",
    "\n",
    "2. Encode categorical variables if needed\n",
    "\n",
    "3. Use any model (e.g., logistic regression, decision tree) to assess feature impact on Returned\n",
    "\n",
    "4. Rank features by importance (e.g., .coef_ or .feature_importances_)\n",
    "\n",
    "5. Share:\n",
    "\n",
    "    - Which engineered feature was most important?\n",
    "    - How much did it improve prediction?\n",
    "\n"
   ]
  },
  {
   "cell_type": "code",
   "execution_count": 2,
   "id": "bcb57bd1",
   "metadata": {},
   "outputs": [
    {
     "data": {
      "application/vnd.microsoft.datawrangler.viewer.v0+json": {
       "columns": [
        {
         "name": "index",
         "rawType": "int64",
         "type": "integer"
        },
        {
         "name": "Order_ID",
         "rawType": "int64",
         "type": "integer"
        },
        {
         "name": "Customer_ID",
         "rawType": "int32",
         "type": "integer"
        },
        {
         "name": "Order_Value",
         "rawType": "float64",
         "type": "float"
        },
        {
         "name": "Items_Ordered",
         "rawType": "int32",
         "type": "integer"
        },
        {
         "name": "Payment_Method",
         "rawType": "object",
         "type": "string"
        },
        {
         "name": "Shipping_Days",
         "rawType": "int32",
         "type": "integer"
        },
        {
         "name": "Returned",
         "rawType": "int64",
         "type": "integer"
        }
       ],
       "ref": "eb299f7a-d931-4fed-b6b4-5bf28d2cd408",
       "rows": [
        [
         "0",
         "1",
         "1051",
         "70.71",
         "2",
         "COD",
         "6",
         "0"
        ],
        [
         "1",
         "2",
         "1092",
         "109.46",
         "1",
         "Wallet",
         "5",
         "0"
        ],
        [
         "2",
         "3",
         "1014",
         "45.2",
         "2",
         "Debit Card",
         "8",
         "0"
        ],
        [
         "3",
         "4",
         "1071",
         "10.92",
         "1",
         "Credit Card",
         "1",
         "0"
        ],
        [
         "4",
         "5",
         "1060",
         "26.7",
         "1",
         "COD",
         "7",
         "0"
        ]
       ],
       "shape": {
        "columns": 7,
        "rows": 5
       }
      },
      "text/html": [
       "<div>\n",
       "<style scoped>\n",
       "    .dataframe tbody tr th:only-of-type {\n",
       "        vertical-align: middle;\n",
       "    }\n",
       "\n",
       "    .dataframe tbody tr th {\n",
       "        vertical-align: top;\n",
       "    }\n",
       "\n",
       "    .dataframe thead th {\n",
       "        text-align: right;\n",
       "    }\n",
       "</style>\n",
       "<table border=\"1\" class=\"dataframe\">\n",
       "  <thead>\n",
       "    <tr style=\"text-align: right;\">\n",
       "      <th></th>\n",
       "      <th>Order_ID</th>\n",
       "      <th>Customer_ID</th>\n",
       "      <th>Order_Value</th>\n",
       "      <th>Items_Ordered</th>\n",
       "      <th>Payment_Method</th>\n",
       "      <th>Shipping_Days</th>\n",
       "      <th>Returned</th>\n",
       "    </tr>\n",
       "  </thead>\n",
       "  <tbody>\n",
       "    <tr>\n",
       "      <th>0</th>\n",
       "      <td>1</td>\n",
       "      <td>1051</td>\n",
       "      <td>70.71</td>\n",
       "      <td>2</td>\n",
       "      <td>COD</td>\n",
       "      <td>6</td>\n",
       "      <td>0</td>\n",
       "    </tr>\n",
       "    <tr>\n",
       "      <th>1</th>\n",
       "      <td>2</td>\n",
       "      <td>1092</td>\n",
       "      <td>109.46</td>\n",
       "      <td>1</td>\n",
       "      <td>Wallet</td>\n",
       "      <td>5</td>\n",
       "      <td>0</td>\n",
       "    </tr>\n",
       "    <tr>\n",
       "      <th>2</th>\n",
       "      <td>3</td>\n",
       "      <td>1014</td>\n",
       "      <td>45.20</td>\n",
       "      <td>2</td>\n",
       "      <td>Debit Card</td>\n",
       "      <td>8</td>\n",
       "      <td>0</td>\n",
       "    </tr>\n",
       "    <tr>\n",
       "      <th>3</th>\n",
       "      <td>4</td>\n",
       "      <td>1071</td>\n",
       "      <td>10.92</td>\n",
       "      <td>1</td>\n",
       "      <td>Credit Card</td>\n",
       "      <td>1</td>\n",
       "      <td>0</td>\n",
       "    </tr>\n",
       "    <tr>\n",
       "      <th>4</th>\n",
       "      <td>5</td>\n",
       "      <td>1060</td>\n",
       "      <td>26.70</td>\n",
       "      <td>1</td>\n",
       "      <td>COD</td>\n",
       "      <td>7</td>\n",
       "      <td>0</td>\n",
       "    </tr>\n",
       "  </tbody>\n",
       "</table>\n",
       "</div>"
      ],
      "text/plain": [
       "   Order_ID  Customer_ID  Order_Value  Items_Ordered Payment_Method  \\\n",
       "0         1         1051        70.71              2            COD   \n",
       "1         2         1092       109.46              1         Wallet   \n",
       "2         3         1014        45.20              2     Debit Card   \n",
       "3         4         1071        10.92              1    Credit Card   \n",
       "4         5         1060        26.70              1            COD   \n",
       "\n",
       "   Shipping_Days  Returned  \n",
       "0              6         0  \n",
       "1              5         0  \n",
       "2              8         0  \n",
       "3              1         0  \n",
       "4              7         0  "
      ]
     },
     "execution_count": 2,
     "metadata": {},
     "output_type": "execute_result"
    }
   ],
   "source": [
    "df.head()"
   ]
  },
  {
   "cell_type": "code",
   "execution_count": 3,
   "id": "bd4bab69",
   "metadata": {},
   "outputs": [
    {
     "name": "stdout",
     "output_type": "stream",
     "text": [
      "<class 'pandas.core.frame.DataFrame'>\n",
      "RangeIndex: 1000 entries, 0 to 999\n",
      "Data columns (total 7 columns):\n",
      " #   Column          Non-Null Count  Dtype  \n",
      "---  ------          --------------  -----  \n",
      " 0   Order_ID        1000 non-null   int64  \n",
      " 1   Customer_ID     1000 non-null   int32  \n",
      " 2   Order_Value     1000 non-null   float64\n",
      " 3   Items_Ordered   1000 non-null   int32  \n",
      " 4   Payment_Method  1000 non-null   object \n",
      " 5   Shipping_Days   1000 non-null   int32  \n",
      " 6   Returned        1000 non-null   int64  \n",
      "dtypes: float64(1), int32(3), int64(2), object(1)\n",
      "memory usage: 43.1+ KB\n"
     ]
    }
   ],
   "source": [
    "df.info()"
   ]
  },
  {
   "cell_type": "code",
   "execution_count": 12,
   "id": "d12ffac1",
   "metadata": {},
   "outputs": [
    {
     "data": {
      "application/vnd.microsoft.datawrangler.viewer.v0+json": {
       "columns": [
        {
         "name": "Returned",
         "rawType": "int64",
         "type": "integer"
        },
        {
         "name": "count",
         "rawType": "int64",
         "type": "integer"
        }
       ],
       "ref": "ebcc567d-204f-483a-a646-54f35b461083",
       "rows": [
        [
         "0",
         "863"
        ],
        [
         "1",
         "137"
        ]
       ],
       "shape": {
        "columns": 1,
        "rows": 2
       }
      },
      "text/plain": [
       "Returned\n",
       "0    863\n",
       "1    137\n",
       "Name: count, dtype: int64"
      ]
     },
     "execution_count": 12,
     "metadata": {},
     "output_type": "execute_result"
    }
   ],
   "source": [
    "df['Returned'].value_counts(sort=True)"
   ]
  },
  {
   "cell_type": "code",
   "execution_count": 13,
   "id": "d7c65b22",
   "metadata": {},
   "outputs": [
    {
     "data": {
      "application/vnd.microsoft.datawrangler.viewer.v0+json": {
       "columns": [
        {
         "name": "index",
         "rawType": "int64",
         "type": "integer"
        },
        {
         "name": "Order_ID",
         "rawType": "int64",
         "type": "integer"
        },
        {
         "name": "Customer_ID",
         "rawType": "int32",
         "type": "integer"
        },
        {
         "name": "Order_Value",
         "rawType": "float64",
         "type": "float"
        },
        {
         "name": "Items_Ordered",
         "rawType": "int32",
         "type": "integer"
        },
        {
         "name": "Payment_Method",
         "rawType": "object",
         "type": "string"
        },
        {
         "name": "Shipping_Days",
         "rawType": "int32",
         "type": "integer"
        },
        {
         "name": "Returned",
         "rawType": "int64",
         "type": "integer"
        }
       ],
       "ref": "817ec09b-5a81-4689-b37d-68166969b3e3",
       "rows": [
        [
         "0",
         "1",
         "1051",
         "70.71",
         "2",
         "COD",
         "6",
         "0"
        ],
        [
         "1",
         "2",
         "1092",
         "109.46",
         "1",
         "Wallet",
         "5",
         "0"
        ],
        [
         "2",
         "3",
         "1014",
         "45.2",
         "2",
         "Debit Card",
         "8",
         "0"
        ]
       ],
       "shape": {
        "columns": 7,
        "rows": 3
       }
      },
      "text/html": [
       "<div>\n",
       "<style scoped>\n",
       "    .dataframe tbody tr th:only-of-type {\n",
       "        vertical-align: middle;\n",
       "    }\n",
       "\n",
       "    .dataframe tbody tr th {\n",
       "        vertical-align: top;\n",
       "    }\n",
       "\n",
       "    .dataframe thead th {\n",
       "        text-align: right;\n",
       "    }\n",
       "</style>\n",
       "<table border=\"1\" class=\"dataframe\">\n",
       "  <thead>\n",
       "    <tr style=\"text-align: right;\">\n",
       "      <th></th>\n",
       "      <th>Order_ID</th>\n",
       "      <th>Customer_ID</th>\n",
       "      <th>Order_Value</th>\n",
       "      <th>Items_Ordered</th>\n",
       "      <th>Payment_Method</th>\n",
       "      <th>Shipping_Days</th>\n",
       "      <th>Returned</th>\n",
       "    </tr>\n",
       "  </thead>\n",
       "  <tbody>\n",
       "    <tr>\n",
       "      <th>0</th>\n",
       "      <td>1</td>\n",
       "      <td>1051</td>\n",
       "      <td>70.71</td>\n",
       "      <td>2</td>\n",
       "      <td>COD</td>\n",
       "      <td>6</td>\n",
       "      <td>0</td>\n",
       "    </tr>\n",
       "    <tr>\n",
       "      <th>1</th>\n",
       "      <td>2</td>\n",
       "      <td>1092</td>\n",
       "      <td>109.46</td>\n",
       "      <td>1</td>\n",
       "      <td>Wallet</td>\n",
       "      <td>5</td>\n",
       "      <td>0</td>\n",
       "    </tr>\n",
       "    <tr>\n",
       "      <th>2</th>\n",
       "      <td>3</td>\n",
       "      <td>1014</td>\n",
       "      <td>45.20</td>\n",
       "      <td>2</td>\n",
       "      <td>Debit Card</td>\n",
       "      <td>8</td>\n",
       "      <td>0</td>\n",
       "    </tr>\n",
       "  </tbody>\n",
       "</table>\n",
       "</div>"
      ],
      "text/plain": [
       "   Order_ID  Customer_ID  Order_Value  Items_Ordered Payment_Method  \\\n",
       "0         1         1051        70.71              2            COD   \n",
       "1         2         1092       109.46              1         Wallet   \n",
       "2         3         1014        45.20              2     Debit Card   \n",
       "\n",
       "   Shipping_Days  Returned  \n",
       "0              6         0  \n",
       "1              5         0  \n",
       "2              8         0  "
      ]
     },
     "execution_count": 13,
     "metadata": {},
     "output_type": "execute_result"
    }
   ],
   "source": [
    "df.head(3)"
   ]
  },
  {
   "cell_type": "code",
   "execution_count": 18,
   "id": "d4b832dc",
   "metadata": {},
   "outputs": [
    {
     "data": {
      "text/plain": [
       "array(['COD', 'Wallet', 'Debit Card', 'Credit Card', 'UPI'], dtype=object)"
      ]
     },
     "execution_count": 18,
     "metadata": {},
     "output_type": "execute_result"
    }
   ],
   "source": [
    "df['Payment_Method'].unique()"
   ]
  },
  {
   "cell_type": "code",
   "execution_count": 19,
   "id": "5ca2fb87",
   "metadata": {},
   "outputs": [],
   "source": [
    "df['Order_value_per_item'] = df['Order_Value'] / df['Items_Ordered']\n",
    "df['Fast_shipping'] = (df['Shipping_Days'] <= 2).astype(int)\n",
    "df['High_risk_payment'] = df['Payment_Method'].isin(['COD', 'Wallet']).astype(int)"
   ]
  },
  {
   "cell_type": "code",
   "execution_count": 28,
   "id": "a5c5e688",
   "metadata": {},
   "outputs": [],
   "source": [
    "df_encoded = pd.get_dummies(df, columns=['Payment_Method'])\n",
    "df_encoded = df_encoded.drop(columns=['Payment_Method_COD', 'Payment_Method_Wallet'])"
   ]
  },
  {
   "cell_type": "code",
   "execution_count": 29,
   "id": "f7f97488",
   "metadata": {},
   "outputs": [
    {
     "name": "stdout",
     "output_type": "stream",
     "text": [
      "<class 'pandas.core.frame.DataFrame'>\n",
      "RangeIndex: 1000 entries, 0 to 999\n",
      "Data columns (total 12 columns):\n",
      " #   Column                      Non-Null Count  Dtype  \n",
      "---  ------                      --------------  -----  \n",
      " 0   Order_ID                    1000 non-null   int64  \n",
      " 1   Customer_ID                 1000 non-null   int32  \n",
      " 2   Order_Value                 1000 non-null   float64\n",
      " 3   Items_Ordered               1000 non-null   int32  \n",
      " 4   Shipping_Days               1000 non-null   int32  \n",
      " 5   Returned                    1000 non-null   int64  \n",
      " 6   Fast_shipping               1000 non-null   int64  \n",
      " 7   Order_value_per_item        1000 non-null   float64\n",
      " 8   High_risk_payment           1000 non-null   int64  \n",
      " 9   Payment_Method_Credit Card  1000 non-null   bool   \n",
      " 10  Payment_Method_Debit Card   1000 non-null   bool   \n",
      " 11  Payment_Method_UPI          1000 non-null   bool   \n",
      "dtypes: bool(3), float64(2), int32(3), int64(4)\n",
      "memory usage: 61.6 KB\n"
     ]
    }
   ],
   "source": [
    "df_encoded.info()"
   ]
  },
  {
   "cell_type": "code",
   "execution_count": 34,
   "id": "393dad93",
   "metadata": {},
   "outputs": [
    {
     "name": "stdout",
     "output_type": "stream",
     "text": [
      "              precision    recall  f1-score   support\n",
      "\n",
      "           0       0.86      0.44      0.58       174\n",
      "           1       0.12      0.50      0.19        26\n",
      "\n",
      "    accuracy                           0.45       200\n",
      "   macro avg       0.49      0.47      0.39       200\n",
      "weighted avg       0.76      0.45      0.53       200\n",
      "\n"
     ]
    }
   ],
   "source": [
    "from sklearn.model_selection import train_test_split\n",
    "from sklearn.linear_model import LogisticRegression\n",
    "from sklearn.preprocessing import StandardScaler\n",
    "from sklearn.metrics import classification_report\n",
    "\n",
    "# Features\n",
    "X = df_encoded.drop(columns=['Order_ID', 'Customer_ID', 'Returned'])\n",
    "y = df_encoded['Returned']\n",
    "\n",
    "# Standardize numeric features\n",
    "scaler = StandardScaler()\n",
    "X_scaled = scaler.fit_transform(X)\n",
    "\n",
    "# Train-test split\n",
    "X_train, X_test, y_train, y_test = train_test_split(X_scaled, y, test_size=0.2, random_state=42)\n",
    "\n",
    "# Model\n",
    "model = LogisticRegression(class_weight='balanced')  # This tells the model to pay more attention to the minority class\n",
    "model.fit(X_train, y_train)\n",
    "\n",
    "# Predict and evaluate\n",
    "y_pred = model.predict(X_test)\n",
    "print(classification_report(y_test, y_pred))\n"
   ]
  },
  {
   "cell_type": "code",
   "execution_count": 32,
   "id": "75e17749",
   "metadata": {},
   "outputs": [
    {
     "name": "stdout",
     "output_type": "stream",
     "text": [
      "                      Feature  Importance\n",
      "4        Order_value_per_item    0.263796\n",
      "2               Shipping_Days    0.242377\n",
      "7   Payment_Method_Debit Card    0.226552\n",
      "6  Payment_Method_Credit Card    0.153582\n",
      "1               Items_Ordered    0.096009\n",
      "3               Fast_shipping    0.091231\n",
      "5           High_risk_payment    0.056003\n",
      "0                 Order_Value    0.049041\n",
      "8          Payment_Method_UPI    0.012406\n"
     ]
    }
   ],
   "source": [
    "import numpy as np\n",
    "\n",
    "feature_names = X.columns\n",
    "coefficients = model.coef_[0]\n",
    "\n",
    "# Create DataFrame for ranking\n",
    "importance_df = pd.DataFrame({\n",
    "    'Feature': feature_names,\n",
    "    'Importance': np.abs(coefficients)\n",
    "}).sort_values(by='Importance', ascending=False)\n",
    "\n",
    "print(importance_df)\n"
   ]
  },
  {
   "cell_type": "code",
   "execution_count": null,
   "id": "ec167fe5",
   "metadata": {},
   "outputs": [],
   "source": []
  },
  {
   "cell_type": "code",
   "execution_count": null,
   "id": "9528d04c",
   "metadata": {},
   "outputs": [],
   "source": []
  },
  {
   "cell_type": "code",
   "execution_count": null,
   "id": "88e8452b",
   "metadata": {},
   "outputs": [],
   "source": []
  }
 ],
 "metadata": {
  "kernelspec": {
   "display_name": "Python 3",
   "language": "python",
   "name": "python3"
  },
  "language_info": {
   "codemirror_mode": {
    "name": "ipython",
    "version": 3
   },
   "file_extension": ".py",
   "mimetype": "text/x-python",
   "name": "python",
   "nbconvert_exporter": "python",
   "pygments_lexer": "ipython3",
   "version": "3.10.0"
  }
 },
 "nbformat": 4,
 "nbformat_minor": 5
}
