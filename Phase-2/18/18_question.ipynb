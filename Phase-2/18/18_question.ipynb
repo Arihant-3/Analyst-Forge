{
 "cells": [
  {
   "cell_type": "markdown",
   "id": "235b3a9a",
   "metadata": {},
   "source": [
    "DATA CREATION"
   ]
  },
  {
   "cell_type": "code",
   "execution_count": 1,
   "id": "82537bde",
   "metadata": {},
   "outputs": [],
   "source": [
    "import pandas as pd\n",
    "import numpy as np\n",
    "\n",
    "np.random.seed(42)\n",
    "n = 100\n",
    "\n",
    "ad_spend = np.random.normal(5000, 1500, size=n)\n",
    "sales = 2000 + ad_spend * 0.6 + np.random.normal(0, 1000, size=n)  # some noise\n",
    "season_index = np.random.choice([1, 2, 3], size=n, p=[0.5, 0.3, 0.2])  # represents low, mid, peak season\n",
    "\n",
    "df = pd.DataFrame({\n",
    "    'Week': pd.date_range(start=\"2022-01-01\", periods=n, freq='W'),\n",
    "    'Ad_Spend': ad_spend,\n",
    "    'Sales': sales,\n",
    "    'Season': season_index\n",
    "})\n",
    "df.to_csv(\"ad_vs_sales.csv\", index=False)\n"
   ]
  },
  {
   "cell_type": "markdown",
   "id": "0aef50b3",
   "metadata": {},
   "source": [
    "## Tasks:\n",
    "1. Compute correlation between Ad Spend and Sales (Pearson r).\n",
    "\n",
    "2. Create a scatter plot with regression line.\n",
    "\n",
    "3. Check whether Season might be a confounding variable.\n",
    "\n",
    "4. Run a multiple regression: `Sales ~ Ad_Spend + Season`\n",
    "\n",
    "5. Interpret:\n",
    "\n",
    "    - Does Ad Spend still significantly impact Sales?\n",
    "    - What role does Season play?"
   ]
  },
  {
   "cell_type": "code",
   "execution_count": 2,
   "id": "ee10f96d",
   "metadata": {},
   "outputs": [
    {
     "data": {
      "application/vnd.microsoft.datawrangler.viewer.v0+json": {
       "columns": [
        {
         "name": "index",
         "rawType": "int64",
         "type": "integer"
        },
        {
         "name": "Week",
         "rawType": "datetime64[ns]",
         "type": "datetime"
        },
        {
         "name": "Ad_Spend",
         "rawType": "float64",
         "type": "float"
        },
        {
         "name": "Sales",
         "rawType": "float64",
         "type": "float"
        },
        {
         "name": "Season",
         "rawType": "int64",
         "type": "integer"
        }
       ],
       "ref": "f264578f-5bb6-47b0-a69e-ea87ffc96d3b",
       "rows": [
        [
         "0",
         "2022-01-02 00:00:00",
         "5745.071229516849",
         "4031.6719956596953",
         "3"
        ],
        [
         "1",
         "2022-01-09 00:00:00",
         "4792.603548243223",
         "4454.916806180575",
         "2"
        ],
        [
         "2",
         "2022-01-16 00:00:00",
         "5971.5328071510385",
         "5240.205167763854",
         "2"
        ],
        [
         "3",
         "2022-01-23 00:00:00",
         "7284.544784612038",
         "5568.449601545604",
         "2"
        ],
        [
         "4",
         "2022-01-30 00:00:00",
         "4648.769937914996",
         "4627.976251082989",
         "1"
        ]
       ],
       "shape": {
        "columns": 4,
        "rows": 5
       }
      },
      "text/html": [
       "<div>\n",
       "<style scoped>\n",
       "    .dataframe tbody tr th:only-of-type {\n",
       "        vertical-align: middle;\n",
       "    }\n",
       "\n",
       "    .dataframe tbody tr th {\n",
       "        vertical-align: top;\n",
       "    }\n",
       "\n",
       "    .dataframe thead th {\n",
       "        text-align: right;\n",
       "    }\n",
       "</style>\n",
       "<table border=\"1\" class=\"dataframe\">\n",
       "  <thead>\n",
       "    <tr style=\"text-align: right;\">\n",
       "      <th></th>\n",
       "      <th>Week</th>\n",
       "      <th>Ad_Spend</th>\n",
       "      <th>Sales</th>\n",
       "      <th>Season</th>\n",
       "    </tr>\n",
       "  </thead>\n",
       "  <tbody>\n",
       "    <tr>\n",
       "      <th>0</th>\n",
       "      <td>2022-01-02</td>\n",
       "      <td>5745.071230</td>\n",
       "      <td>4031.671996</td>\n",
       "      <td>3</td>\n",
       "    </tr>\n",
       "    <tr>\n",
       "      <th>1</th>\n",
       "      <td>2022-01-09</td>\n",
       "      <td>4792.603548</td>\n",
       "      <td>4454.916806</td>\n",
       "      <td>2</td>\n",
       "    </tr>\n",
       "    <tr>\n",
       "      <th>2</th>\n",
       "      <td>2022-01-16</td>\n",
       "      <td>5971.532807</td>\n",
       "      <td>5240.205168</td>\n",
       "      <td>2</td>\n",
       "    </tr>\n",
       "    <tr>\n",
       "      <th>3</th>\n",
       "      <td>2022-01-23</td>\n",
       "      <td>7284.544785</td>\n",
       "      <td>5568.449602</td>\n",
       "      <td>2</td>\n",
       "    </tr>\n",
       "    <tr>\n",
       "      <th>4</th>\n",
       "      <td>2022-01-30</td>\n",
       "      <td>4648.769938</td>\n",
       "      <td>4627.976251</td>\n",
       "      <td>1</td>\n",
       "    </tr>\n",
       "  </tbody>\n",
       "</table>\n",
       "</div>"
      ],
      "text/plain": [
       "        Week     Ad_Spend        Sales  Season\n",
       "0 2022-01-02  5745.071230  4031.671996       3\n",
       "1 2022-01-09  4792.603548  4454.916806       2\n",
       "2 2022-01-16  5971.532807  5240.205168       2\n",
       "3 2022-01-23  7284.544785  5568.449602       2\n",
       "4 2022-01-30  4648.769938  4627.976251       1"
      ]
     },
     "execution_count": 2,
     "metadata": {},
     "output_type": "execute_result"
    }
   ],
   "source": [
    "df.head()"
   ]
  },
  {
   "cell_type": "code",
   "execution_count": 3,
   "id": "0a133ca5",
   "metadata": {},
   "outputs": [
    {
     "name": "stdout",
     "output_type": "stream",
     "text": [
      "<class 'pandas.core.frame.DataFrame'>\n",
      "RangeIndex: 100 entries, 0 to 99\n",
      "Data columns (total 4 columns):\n",
      " #   Column    Non-Null Count  Dtype         \n",
      "---  ------    --------------  -----         \n",
      " 0   Week      100 non-null    datetime64[ns]\n",
      " 1   Ad_Spend  100 non-null    float64       \n",
      " 2   Sales     100 non-null    float64       \n",
      " 3   Season    100 non-null    int64         \n",
      "dtypes: datetime64[ns](1), float64(2), int64(1)\n",
      "memory usage: 3.2 KB\n"
     ]
    }
   ],
   "source": [
    "df.info()"
   ]
  },
  {
   "cell_type": "code",
   "execution_count": 24,
   "id": "aaa6d905",
   "metadata": {},
   "outputs": [
    {
     "data": {
      "application/vnd.microsoft.datawrangler.viewer.v0+json": {
       "columns": [
        {
         "name": "index",
         "rawType": "object",
         "type": "string"
        },
        {
         "name": "Ad_Spend",
         "rawType": "float64",
         "type": "float"
        },
        {
         "name": "Sales",
         "rawType": "float64",
         "type": "float"
        },
        {
         "name": "Season",
         "rawType": "float64",
         "type": "float"
        }
       ],
       "ref": "cdceeff3-1c5c-41a0-adbc-806809d694f7",
       "rows": [
        [
         "count",
         "100.0",
         "100.0",
         "100.0"
        ],
        [
         "mean",
         "4844.230223908859",
         "4928.842721395239",
         "1.68"
        ],
        [
         "std",
         "1362.252642011701",
         "1168.276749657919",
         "0.708961397134049"
        ],
        [
         "min",
         "1070.3823438653835",
         "2315.8755696156086",
         "1.0"
        ],
        [
         "25%",
         "4098.64149425532",
         "4064.550500305891",
         "1.0"
        ],
        [
         "50%",
         "4809.565562330431",
         "4902.147693944442",
         "2.0"
        ],
        [
         "75%",
         "5608.928078018093",
         "5581.3350823454575",
         "2.0"
        ],
        [
         "max",
         "7778.417276763406",
         "8307.477435167182",
         "3.0"
        ]
       ],
       "shape": {
        "columns": 3,
        "rows": 8
       }
      },
      "text/html": [
       "<div>\n",
       "<style scoped>\n",
       "    .dataframe tbody tr th:only-of-type {\n",
       "        vertical-align: middle;\n",
       "    }\n",
       "\n",
       "    .dataframe tbody tr th {\n",
       "        vertical-align: top;\n",
       "    }\n",
       "\n",
       "    .dataframe thead th {\n",
       "        text-align: right;\n",
       "    }\n",
       "</style>\n",
       "<table border=\"1\" class=\"dataframe\">\n",
       "  <thead>\n",
       "    <tr style=\"text-align: right;\">\n",
       "      <th></th>\n",
       "      <th>Ad_Spend</th>\n",
       "      <th>Sales</th>\n",
       "      <th>Season</th>\n",
       "    </tr>\n",
       "  </thead>\n",
       "  <tbody>\n",
       "    <tr>\n",
       "      <th>count</th>\n",
       "      <td>100.000000</td>\n",
       "      <td>100.000000</td>\n",
       "      <td>100.000000</td>\n",
       "    </tr>\n",
       "    <tr>\n",
       "      <th>mean</th>\n",
       "      <td>4844.230224</td>\n",
       "      <td>4928.842721</td>\n",
       "      <td>1.680000</td>\n",
       "    </tr>\n",
       "    <tr>\n",
       "      <th>std</th>\n",
       "      <td>1362.252642</td>\n",
       "      <td>1168.276750</td>\n",
       "      <td>0.708961</td>\n",
       "    </tr>\n",
       "    <tr>\n",
       "      <th>min</th>\n",
       "      <td>1070.382344</td>\n",
       "      <td>2315.875570</td>\n",
       "      <td>1.000000</td>\n",
       "    </tr>\n",
       "    <tr>\n",
       "      <th>25%</th>\n",
       "      <td>4098.641494</td>\n",
       "      <td>4064.550500</td>\n",
       "      <td>1.000000</td>\n",
       "    </tr>\n",
       "    <tr>\n",
       "      <th>50%</th>\n",
       "      <td>4809.565562</td>\n",
       "      <td>4902.147694</td>\n",
       "      <td>2.000000</td>\n",
       "    </tr>\n",
       "    <tr>\n",
       "      <th>75%</th>\n",
       "      <td>5608.928078</td>\n",
       "      <td>5581.335082</td>\n",
       "      <td>2.000000</td>\n",
       "    </tr>\n",
       "    <tr>\n",
       "      <th>max</th>\n",
       "      <td>7778.417277</td>\n",
       "      <td>8307.477435</td>\n",
       "      <td>3.000000</td>\n",
       "    </tr>\n",
       "  </tbody>\n",
       "</table>\n",
       "</div>"
      ],
      "text/plain": [
       "          Ad_Spend        Sales      Season\n",
       "count   100.000000   100.000000  100.000000\n",
       "mean   4844.230224  4928.842721    1.680000\n",
       "std    1362.252642  1168.276750    0.708961\n",
       "min    1070.382344  2315.875570    1.000000\n",
       "25%    4098.641494  4064.550500    1.000000\n",
       "50%    4809.565562  4902.147694    2.000000\n",
       "75%    5608.928078  5581.335082    2.000000\n",
       "max    7778.417277  8307.477435    3.000000"
      ]
     },
     "execution_count": 24,
     "metadata": {},
     "output_type": "execute_result"
    }
   ],
   "source": [
    "df[['Ad_Spend','Sales', 'Season']].describe()"
   ]
  },
  {
   "cell_type": "code",
   "execution_count": 5,
   "id": "9bc2ab2f",
   "metadata": {},
   "outputs": [
    {
     "data": {
      "application/vnd.microsoft.datawrangler.viewer.v0+json": {
       "columns": [
        {
         "name": "index",
         "rawType": "object",
         "type": "string"
        },
        {
         "name": "Ad_Spend",
         "rawType": "float64",
         "type": "float"
        },
        {
         "name": "Sales",
         "rawType": "float64",
         "type": "float"
        }
       ],
       "ref": "23dc9e49-1442-4062-aae0-7931413958dc",
       "rows": [
        [
         "Ad_Spend",
         "1.0",
         "0.5882595501140245"
        ],
        [
         "Sales",
         "0.5882595501140245",
         "1.0"
        ]
       ],
       "shape": {
        "columns": 2,
        "rows": 2
       }
      },
      "text/html": [
       "<div>\n",
       "<style scoped>\n",
       "    .dataframe tbody tr th:only-of-type {\n",
       "        vertical-align: middle;\n",
       "    }\n",
       "\n",
       "    .dataframe tbody tr th {\n",
       "        vertical-align: top;\n",
       "    }\n",
       "\n",
       "    .dataframe thead th {\n",
       "        text-align: right;\n",
       "    }\n",
       "</style>\n",
       "<table border=\"1\" class=\"dataframe\">\n",
       "  <thead>\n",
       "    <tr style=\"text-align: right;\">\n",
       "      <th></th>\n",
       "      <th>Ad_Spend</th>\n",
       "      <th>Sales</th>\n",
       "    </tr>\n",
       "  </thead>\n",
       "  <tbody>\n",
       "    <tr>\n",
       "      <th>Ad_Spend</th>\n",
       "      <td>1.00000</td>\n",
       "      <td>0.58826</td>\n",
       "    </tr>\n",
       "    <tr>\n",
       "      <th>Sales</th>\n",
       "      <td>0.58826</td>\n",
       "      <td>1.00000</td>\n",
       "    </tr>\n",
       "  </tbody>\n",
       "</table>\n",
       "</div>"
      ],
      "text/plain": [
       "          Ad_Spend    Sales\n",
       "Ad_Spend   1.00000  0.58826\n",
       "Sales      0.58826  1.00000"
      ]
     },
     "execution_count": 5,
     "metadata": {},
     "output_type": "execute_result"
    }
   ],
   "source": [
    "df[['Ad_Spend', 'Sales']].corr(method='pearson')"
   ]
  },
  {
   "cell_type": "code",
   "execution_count": 6,
   "id": "025038b1",
   "metadata": {},
   "outputs": [],
   "source": [
    "import seaborn as sns\n",
    "import matplotlib.pyplot as plt\n",
    "%matplotlib inline"
   ]
  },
  {
   "cell_type": "code",
   "execution_count": 7,
   "id": "62f7dcaf",
   "metadata": {},
   "outputs": [
    {
     "data": {
      "image/png": "[encoded data removed]",
      "text/plain": [
       "<Figure size 500x500 with 1 Axes>"
      ]
     },
     "metadata": {},
     "output_type": "display_data"
    }
   ],
   "source": [
    "sns.lmplot(data=df, x='Ad_Spend', y='Sales')\n",
    "plt.title('Ad Spend vs Sales')\n",
    "plt.show()"
   ]
  },
  {
   "cell_type": "code",
   "execution_count": 8,
   "id": "01deec17",
   "metadata": {},
   "outputs": [
    {
     "name": "stdout",
     "output_type": "stream",
     "text": [
      "                            OLS Regression Results                            \n",
      "==============================================================================\n",
      "Dep. Variable:                  Sales   R-squared:                       0.346\n",
      "Model:                            OLS   Adj. R-squared:                  0.333\n",
      "Method:                 Least Squares   F-statistic:                     25.70\n",
      "Date:                Tue, 01 Jul 2025   Prob (F-statistic):           1.10e-09\n",
      "Time:                        20:21:41   Log-Likelihood:                -826.46\n",
      "No. Observations:                 100   AIC:                             1659.\n",
      "Df Residuals:                      97   BIC:                             1667.\n",
      "Df Model:                           2                                         \n",
      "Covariance Type:            nonrobust                                         \n",
      "==============================================================================\n",
      "                 coef    std err          t      P>|t|      [0.025      0.975]\n",
      "------------------------------------------------------------------------------\n",
      "const       2435.1690    415.723      5.858      0.000    1610.074    3260.264\n",
      "Ad_Spend       0.5040      0.070      7.157      0.000       0.364       0.644\n",
      "Season        30.9343    135.321      0.229      0.820    -237.639     299.508\n",
      "==============================================================================\n",
      "Omnibus:                        1.925   Durbin-Watson:                   2.190\n",
      "Prob(Omnibus):                  0.382   Jarque-Bera (JB):                1.892\n",
      "Skew:                           0.325   Prob(JB):                        0.388\n",
      "Kurtosis:                       2.822   Cond. No.                     2.23e+04\n",
      "==============================================================================\n",
      "\n",
      "Notes:\n",
      "[1] Standard Errors assume that the covariance matrix of the errors is correctly specified.\n",
      "[2] The condition number is large, 2.23e+04. This might indicate that there are\n",
      "strong multicollinearity or other numerical problems.\n"
     ]
    }
   ],
   "source": [
    "import statsmodels.api as sm\n",
    "X = pd.get_dummies(df[['Ad_Spend', 'Season']], drop_first=True)\n",
    "y = df['Sales']\n",
    "\n",
    "X = sm.add_constant(X)\n",
    "model = sm.OLS(y, X).fit()\n",
    "print(model.summary())\n"
   ]
  },
  {
   "cell_type": "code",
   "execution_count": 9,
   "id": "081a1058",
   "metadata": {},
   "outputs": [
    {
     "data": {
      "application/vnd.microsoft.datawrangler.viewer.v0+json": {
       "columns": [
        {
         "name": "index",
         "rawType": "int64",
         "type": "integer"
        },
        {
         "name": "Week",
         "rawType": "datetime64[ns]",
         "type": "datetime"
        },
        {
         "name": "Ad_Spend",
         "rawType": "float64",
         "type": "float"
        },
        {
         "name": "Sales",
         "rawType": "float64",
         "type": "float"
        },
        {
         "name": "Season",
         "rawType": "int64",
         "type": "integer"
        }
       ],
       "ref": "baa885e5-a5c0-4d4e-bb07-b4d5b1b0447d",
       "rows": [
        [
         "0",
         "2022-01-02 00:00:00",
         "5745.071229516849",
         "4031.6719956596953",
         "3"
        ],
        [
         "1",
         "2022-01-09 00:00:00",
         "4792.603548243223",
         "4454.916806180575",
         "2"
        ],
        [
         "2",
         "2022-01-16 00:00:00",
         "5971.5328071510385",
         "5240.205167763854",
         "2"
        ],
        [
         "3",
         "2022-01-23 00:00:00",
         "7284.544784612038",
         "5568.449601545604",
         "2"
        ],
        [
         "4",
         "2022-01-30 00:00:00",
         "4648.769937914996",
         "4627.976251082989",
         "1"
        ]
       ],
       "shape": {
        "columns": 4,
        "rows": 5
       }
      },
      "text/html": [
       "<div>\n",
       "<style scoped>\n",
       "    .dataframe tbody tr th:only-of-type {\n",
       "        vertical-align: middle;\n",
       "    }\n",
       "\n",
       "    .dataframe tbody tr th {\n",
       "        vertical-align: top;\n",
       "    }\n",
       "\n",
       "    .dataframe thead th {\n",
       "        text-align: right;\n",
       "    }\n",
       "</style>\n",
       "<table border=\"1\" class=\"dataframe\">\n",
       "  <thead>\n",
       "    <tr style=\"text-align: right;\">\n",
       "      <th></th>\n",
       "      <th>Week</th>\n",
       "      <th>Ad_Spend</th>\n",
       "      <th>Sales</th>\n",
       "      <th>Season</th>\n",
       "    </tr>\n",
       "  </thead>\n",
       "  <tbody>\n",
       "    <tr>\n",
       "      <th>0</th>\n",
       "      <td>2022-01-02</td>\n",
       "      <td>5745.071230</td>\n",
       "      <td>4031.671996</td>\n",
       "      <td>3</td>\n",
       "    </tr>\n",
       "    <tr>\n",
       "      <th>1</th>\n",
       "      <td>2022-01-09</td>\n",
       "      <td>4792.603548</td>\n",
       "      <td>4454.916806</td>\n",
       "      <td>2</td>\n",
       "    </tr>\n",
       "    <tr>\n",
       "      <th>2</th>\n",
       "      <td>2022-01-16</td>\n",
       "      <td>5971.532807</td>\n",
       "      <td>5240.205168</td>\n",
       "      <td>2</td>\n",
       "    </tr>\n",
       "    <tr>\n",
       "      <th>3</th>\n",
       "      <td>2022-01-23</td>\n",
       "      <td>7284.544785</td>\n",
       "      <td>5568.449602</td>\n",
       "      <td>2</td>\n",
       "    </tr>\n",
       "    <tr>\n",
       "      <th>4</th>\n",
       "      <td>2022-01-30</td>\n",
       "      <td>4648.769938</td>\n",
       "      <td>4627.976251</td>\n",
       "      <td>1</td>\n",
       "    </tr>\n",
       "  </tbody>\n",
       "</table>\n",
       "</div>"
      ],
      "text/plain": [
       "        Week     Ad_Spend        Sales  Season\n",
       "0 2022-01-02  5745.071230  4031.671996       3\n",
       "1 2022-01-09  4792.603548  4454.916806       2\n",
       "2 2022-01-16  5971.532807  5240.205168       2\n",
       "3 2022-01-23  7284.544785  5568.449602       2\n",
       "4 2022-01-30  4648.769938  4627.976251       1"
      ]
     },
     "execution_count": 9,
     "metadata": {},
     "output_type": "execute_result"
    }
   ],
   "source": [
    "df.head()"
   ]
  },
  {
   "cell_type": "code",
   "execution_count": 11,
   "id": "d32ebecf",
   "metadata": {},
   "outputs": [
    {
     "data": {
      "application/vnd.microsoft.datawrangler.viewer.v0+json": {
       "columns": [
        {
         "name": "index",
         "rawType": "object",
         "type": "string"
        },
        {
         "name": "Season",
         "rawType": "float64",
         "type": "float"
        },
        {
         "name": "Sales",
         "rawType": "float64",
         "type": "float"
        },
        {
         "name": "Ad_Spend",
         "rawType": "float64",
         "type": "float"
        }
       ],
       "ref": "ee2949f5-578d-41b1-9214-22ced416a6af",
       "rows": [
        [
         "Season",
         "1.0",
         "0.0352532181292334",
         "0.028041518737393092"
        ],
        [
         "Sales",
         "0.0352532181292334",
         "1.0",
         "0.5882595501140245"
        ],
        [
         "Ad_Spend",
         "0.028041518737393092",
         "0.5882595501140245",
         "1.0"
        ]
       ],
       "shape": {
        "columns": 3,
        "rows": 3
       }
      },
      "text/html": [
       "<div>\n",
       "<style scoped>\n",
       "    .dataframe tbody tr th:only-of-type {\n",
       "        vertical-align: middle;\n",
       "    }\n",
       "\n",
       "    .dataframe tbody tr th {\n",
       "        vertical-align: top;\n",
       "    }\n",
       "\n",
       "    .dataframe thead th {\n",
       "        text-align: right;\n",
       "    }\n",
       "</style>\n",
       "<table border=\"1\" class=\"dataframe\">\n",
       "  <thead>\n",
       "    <tr style=\"text-align: right;\">\n",
       "      <th></th>\n",
       "      <th>Season</th>\n",
       "      <th>Sales</th>\n",
       "      <th>Ad_Spend</th>\n",
       "    </tr>\n",
       "  </thead>\n",
       "  <tbody>\n",
       "    <tr>\n",
       "      <th>Season</th>\n",
       "      <td>1.000000</td>\n",
       "      <td>0.035253</td>\n",
       "      <td>0.028042</td>\n",
       "    </tr>\n",
       "    <tr>\n",
       "      <th>Sales</th>\n",
       "      <td>0.035253</td>\n",
       "      <td>1.000000</td>\n",
       "      <td>0.588260</td>\n",
       "    </tr>\n",
       "    <tr>\n",
       "      <th>Ad_Spend</th>\n",
       "      <td>0.028042</td>\n",
       "      <td>0.588260</td>\n",
       "      <td>1.000000</td>\n",
       "    </tr>\n",
       "  </tbody>\n",
       "</table>\n",
       "</div>"
      ],
      "text/plain": [
       "            Season     Sales  Ad_Spend\n",
       "Season    1.000000  0.035253  0.028042\n",
       "Sales     0.035253  1.000000  0.588260\n",
       "Ad_Spend  0.028042  0.588260  1.000000"
      ]
     },
     "execution_count": 11,
     "metadata": {},
     "output_type": "execute_result"
    }
   ],
   "source": [
    "df[['Season', 'Sales', 'Ad_Spend']].corr()"
   ]
  },
  {
   "cell_type": "code",
   "execution_count": 13,
   "id": "d29359ef",
   "metadata": {},
   "outputs": [
    {
     "name": "stdout",
     "output_type": "stream",
     "text": [
      "Season\n",
      "1    4815.647635\n",
      "2    4842.942068\n",
      "3    4941.824891\n",
      "Name: Ad_Spend, dtype: float64\n",
      "Season\n",
      "1    4916.091892\n",
      "2    4885.902252\n",
      "3    5093.425360\n",
      "Name: Sales, dtype: float64\n"
     ]
    }
   ],
   "source": [
    "print(df.groupby('Season')['Ad_Spend'].mean())\n",
    "print(df.groupby('Season')['Sales'].mean())"
   ]
  },
  {
   "cell_type": "code",
   "execution_count": 15,
   "id": "5dde35b2",
   "metadata": {},
   "outputs": [
    {
     "name": "stdout",
     "output_type": "stream",
     "text": [
      "\n",
      "Model 1 (without Season):\n",
      "                            OLS Regression Results                            \n",
      "==============================================================================\n",
      "Dep. Variable:                  Sales   R-squared:                       0.346\n",
      "Model:                            OLS   Adj. R-squared:                  0.339\n",
      "Method:                 Least Squares   F-statistic:                     51.86\n",
      "Date:                Tue, 01 Jul 2025   Prob (F-statistic):           1.23e-10\n",
      "Time:                        20:30:58   Log-Likelihood:                -826.48\n",
      "No. Observations:                 100   AIC:                             1657.\n",
      "Df Residuals:                      98   BIC:                             1662.\n",
      "Df Model:                           1                                         \n",
      "Covariance Type:            nonrobust                                         \n",
      "==============================================================================\n",
      "                 coef    std err          t      P>|t|      [0.025      0.975]\n",
      "------------------------------------------------------------------------------\n",
      "const       2484.9517    352.403      7.051      0.000    1785.619    3184.284\n",
      "Ad_Spend       0.5045      0.070      7.201      0.000       0.365       0.644\n",
      "==============================================================================\n",
      "Omnibus:                        1.950   Durbin-Watson:                   2.194\n",
      "Prob(Omnibus):                  0.377   Jarque-Bera (JB):                1.909\n",
      "Skew:                           0.327   Prob(JB):                        0.385\n",
      "Kurtosis:                       2.829   Cond. No.                     1.87e+04\n",
      "==============================================================================\n",
      "\n",
      "Notes:\n",
      "[1] Standard Errors assume that the covariance matrix of the errors is correctly specified.\n",
      "[2] The condition number is large, 1.87e+04. This might indicate that there are\n",
      "strong multicollinearity or other numerical problems.\n",
      "\n",
      "Model 2 (with Season):\n",
      "                            OLS Regression Results                            \n",
      "==============================================================================\n",
      "Dep. Variable:                  Sales   R-squared:                       0.348\n",
      "Model:                            OLS   Adj. R-squared:                  0.328\n",
      "Method:                 Least Squares   F-statistic:                     17.08\n",
      "Date:                Tue, 01 Jul 2025   Prob (F-statistic):           5.76e-09\n",
      "Time:                        20:30:58   Log-Likelihood:                -826.34\n",
      "No. Observations:                 100   AIC:                             1661.\n",
      "Df Residuals:                      96   BIC:                             1671.\n",
      "Df Model:                           3                                         \n",
      "Covariance Type:            nonrobust                                         \n",
      "==============================================================================\n",
      "                 coef    std err          t      P>|t|      [0.025      0.975]\n",
      "------------------------------------------------------------------------------\n",
      "const       2490.9779    368.625      6.757      0.000    1759.262    3222.693\n",
      "Ad_Spend       0.5036      0.071      7.122      0.000       0.363       0.644\n",
      "Season_2     -43.9238    207.121     -0.212      0.833    -455.055     367.207\n",
      "Season_3     113.7241    292.549      0.389      0.698    -466.982     694.430\n",
      "==============================================================================\n",
      "Omnibus:                        2.268   Durbin-Watson:                   2.189\n",
      "Prob(Omnibus):                  0.322   Jarque-Bera (JB):                2.212\n",
      "Skew:                           0.355   Prob(JB):                        0.331\n",
      "Kurtosis:                       2.833   Cond. No.                     2.01e+04\n",
      "==============================================================================\n",
      "\n",
      "Notes:\n",
      "[1] Standard Errors assume that the covariance matrix of the errors is correctly specified.\n",
      "[2] The condition number is large, 2.01e+04. This might indicate that there are\n",
      "strong multicollinearity or other numerical problems.\n"
     ]
    }
   ],
   "source": [
    "# One-hot encode Season (as it's categorical)\n",
    "df_encoded = pd.get_dummies(df, columns=[\"Season\"], drop_first=True)\n",
    "\n",
    "# Model 1: Sales ~ Ad_Spend\n",
    "X1 = sm.add_constant(df_encoded[['Ad_Spend']])\n",
    "model1 = sm.OLS(df['Sales'], X1).fit()\n",
    "\n",
    "# Model 2: Sales ~ Ad_Spend + Season dummies\n",
    "X2 = sm.add_constant(df_encoded[['Ad_Spend', 'Season_2', 'Season_3']].astype(int))\n",
    "model2 = sm.OLS(df['Sales'], X2).fit()\n",
    "\n",
    "# Compare coefficients\n",
    "print(\"\\nModel 1 (without Season):\")\n",
    "print(model1.summary())\n",
    "\n",
    "print(\"\\nModel 2 (with Season):\")\n",
    "print(model2.summary())"
   ]
  },
  {
   "cell_type": "code",
   "execution_count": 18,
   "id": "22447580",
   "metadata": {},
   "outputs": [
    {
     "data": {
      "application/vnd.microsoft.datawrangler.viewer.v0+json": {
       "columns": [
        {
         "name": "index",
         "rawType": "int64",
         "type": "integer"
        },
        {
         "name": "Week",
         "rawType": "datetime64[ns]",
         "type": "datetime"
        },
        {
         "name": "Ad_Spend",
         "rawType": "float64",
         "type": "float"
        },
        {
         "name": "Sales",
         "rawType": "float64",
         "type": "float"
        }
       ],
       "ref": "9301f73f-29b1-4505-8ef5-9658fc03fc4f",
       "rows": [
        [
         "0",
         "2022-01-02 00:00:00",
         "5745.071229516849",
         "4031.6719956596953"
        ],
        [
         "1",
         "2022-01-09 00:00:00",
         "4792.603548243223",
         "4454.916806180575"
        ],
        [
         "2",
         "2022-01-16 00:00:00",
         "5971.5328071510385",
         "5240.205167763854"
        ],
        [
         "3",
         "2022-01-23 00:00:00",
         "7284.544784612038",
         "5568.449601545604"
        ],
        [
         "4",
         "2022-01-30 00:00:00",
         "4648.769937914996",
         "4627.976251082989"
        ],
        [
         "5",
         "2022-02-06 00:00:00",
         "4648.794564576229",
         "5193.327595560276"
        ],
        [
         "6",
         "2022-02-13 00:00:00",
         "7368.819223261087",
         "8307.477435167182"
        ],
        [
         "7",
         "2022-02-20 00:00:00",
         "6151.152093729363",
         "5865.269069069456"
        ],
        [
         "8",
         "2022-02-27 00:00:00",
         "4295.788421097572",
         "4835.023443381307"
        ],
        [
         "9",
         "2022-03-06 00:00:00",
         "5813.840065378947",
         "5413.858123461201"
        ],
        [
         "10",
         "2022-03-13 00:00:00",
         "4304.873460781307",
         "2664.152861169742"
        ],
        [
         "11",
         "2022-03-20 00:00:00",
         "4301.405369644614",
         "4554.329346337551"
        ],
        [
         "12",
         "2022-03-27 00:00:00",
         "5362.943407349051",
         "5277.996254350457"
        ],
        [
         "13",
         "2022-04-03 00:00:00",
         "2130.079633013303",
         "5741.289892293268"
        ],
        [
         "14",
         "2022-04-10 00:00:00",
         "2412.623251230451",
         "3255.212985957148"
        ],
        [
         "15",
         "2022-04-17 00:00:00",
         "4156.568706138541",
         "4795.488566016737"
        ],
        [
         "16",
         "2022-04-24 00:00:00",
         "3480.7533194983644",
         "4053.7402219937753"
        ],
        [
         "17",
         "2022-05-01 00:00:00",
         "5471.37099889291",
         "4114.144561716214"
        ],
        [
         "18",
         "2022-05-08 00:00:00",
         "3637.963886718184",
         "5325.6011465459305"
        ],
        [
         "19",
         "2022-05-15 00:00:00",
         "2881.544447997063",
         "4480.859701485012"
        ],
        [
         "20",
         "2022-05-22 00:00:00",
         "7198.473153382331",
         "7110.115839072445"
        ],
        [
         "21",
         "2022-05-29 00:00:00",
         "4661.335549270197",
         "3887.4138747673796"
        ],
        [
         "22",
         "2022-06-05 00:00:00",
         "5101.292307031886",
         "6463.569695155231"
        ],
        [
         "23",
         "2022-06-12 00:00:00",
         "2862.877720679815",
         "2315.8755696156086"
        ],
        [
         "24",
         "2022-06-19 00:00:00",
         "4183.425913212226",
         "5096.912641727606"
        ],
        [
         "25",
         "2022-06-26 00:00:00",
         "5166.383884564799",
         "7290.285956548858"
        ],
        [
         "26",
         "2022-07-03 00:00:00",
         "3273.5096338665458",
         "2973.569455189239"
        ],
        [
         "27",
         "2022-07-10 00:00:00",
         "5563.547027518508",
         "4771.830486908332"
        ],
        [
         "28",
         "2022-07-17 00:00:00",
         "4099.041965121793",
         "4559.076544160717"
        ],
        [
         "29",
         "2022-07-24 00:00:00",
         "4562.459375310085",
         "4233.999971069851"
        ],
        [
         "30",
         "2022-07-31 00:00:00",
         "4097.440081655905",
         "2907.80061792741"
        ],
        [
         "31",
         "2022-08-07 00:00:00",
         "7778.417276763406",
         "6735.613340864071"
        ],
        [
         "32",
         "2022-08-14 00:00:00",
         "4979.754162893099",
         "3925.5487840097544"
        ],
        [
         "33",
         "2022-08-21 00:00:00",
         "3413.433606566149",
         "4521.652594574871"
        ],
        [
         "34",
         "2022-08-28 00:00:00",
         "6233.817368154783",
         "4820.866186659067"
        ],
        [
         "35",
         "2022-09-04 00:00:00",
         "3168.7345250434664",
         "5451.175120043619"
        ],
        [
         "36",
         "2022-09-11 00:00:00",
         "5313.295392507133",
         "4404.723943168044"
        ],
        [
         "37",
         "2022-09-18 00:00:00",
         "2060.4948141803366",
         "2914.2353723025262"
        ],
        [
         "38",
         "2022-09-25 00:00:00",
         "3007.720926652354",
         "4618.149773361082"
        ],
        [
         "39",
         "2022-10-02 00:00:00",
         "5295.291853803686",
         "3946.310795848256"
        ],
        [
         "40",
         "2022-10-09 00:00:00",
         "6107.6998699931155",
         "5892.0798565999985"
        ],
        [
         "41",
         "2022-10-16 00:00:00",
         "5257.052421784956",
         "6461.374207353401"
        ],
        [
         "42",
         "2022-10-23 00:00:00",
         "4826.5275764176395",
         "3288.4333112893555"
        ],
        [
         "43",
         "2022-10-30 00:00:00",
         "4548.344456616067",
         "4913.640532501944"
        ],
        [
         "44",
         "2022-11-06 00:00:00",
         "2782.217014448859",
         "3929.2130029177392"
        ],
        [
         "45",
         "2022-11-13 00:00:00",
         "3920.233687407937",
         "5133.963084222072"
        ],
        [
         "46",
         "2022-11-20 00:00:00",
         "4309.041843560319",
         "3348.4743952581093"
        ],
        [
         "47",
         "2022-11-27 00:00:00",
         "6585.683339328374",
         "4630.953390512748"
        ],
        [
         "48",
         "2022-12-04 00:00:00",
         "5515.427434352692",
         "5831.198026228513"
        ],
        [
         "49",
         "2022-12-11 00:00:00",
         "2355.439766955899",
         "3710.2485334067255"
        ]
       ],
       "shape": {
        "columns": 3,
        "rows": 100
       }
      },
      "text/html": [
       "<div>\n",
       "<style scoped>\n",
       "    .dataframe tbody tr th:only-of-type {\n",
       "        vertical-align: middle;\n",
       "    }\n",
       "\n",
       "    .dataframe tbody tr th {\n",
       "        vertical-align: top;\n",
       "    }\n",
       "\n",
       "    .dataframe thead th {\n",
       "        text-align: right;\n",
       "    }\n",
       "</style>\n",
       "<table border=\"1\" class=\"dataframe\">\n",
       "  <thead>\n",
       "    <tr style=\"text-align: right;\">\n",
       "      <th></th>\n",
       "      <th>Week</th>\n",
       "      <th>Ad_Spend</th>\n",
       "      <th>Sales</th>\n",
       "    </tr>\n",
       "  </thead>\n",
       "  <tbody>\n",
       "    <tr>\n",
       "      <th>0</th>\n",
       "      <td>2022-01-02</td>\n",
       "      <td>5745.071230</td>\n",
       "      <td>4031.671996</td>\n",
       "    </tr>\n",
       "    <tr>\n",
       "      <th>1</th>\n",
       "      <td>2022-01-09</td>\n",
       "      <td>4792.603548</td>\n",
       "      <td>4454.916806</td>\n",
       "    </tr>\n",
       "    <tr>\n",
       "      <th>2</th>\n",
       "      <td>2022-01-16</td>\n",
       "      <td>5971.532807</td>\n",
       "      <td>5240.205168</td>\n",
       "    </tr>\n",
       "    <tr>\n",
       "      <th>3</th>\n",
       "      <td>2022-01-23</td>\n",
       "      <td>7284.544785</td>\n",
       "      <td>5568.449602</td>\n",
       "    </tr>\n",
       "    <tr>\n",
       "      <th>4</th>\n",
       "      <td>2022-01-30</td>\n",
       "      <td>4648.769938</td>\n",
       "      <td>4627.976251</td>\n",
       "    </tr>\n",
       "    <tr>\n",
       "      <th>...</th>\n",
       "      <td>...</td>\n",
       "      <td>...</td>\n",
       "      <td>...</td>\n",
       "    </tr>\n",
       "    <tr>\n",
       "      <th>95</th>\n",
       "      <td>2023-10-29</td>\n",
       "      <td>2804.727578</td>\n",
       "      <td>4068.153926</td>\n",
       "    </tr>\n",
       "    <tr>\n",
       "      <th>96</th>\n",
       "      <td>2023-11-05</td>\n",
       "      <td>5444.180416</td>\n",
       "      <td>4382.650813</td>\n",
       "    </tr>\n",
       "    <tr>\n",
       "      <th>97</th>\n",
       "      <td>2023-11-12</td>\n",
       "      <td>5391.582908</td>\n",
       "      <td>5388.674851</td>\n",
       "    </tr>\n",
       "    <tr>\n",
       "      <th>98</th>\n",
       "      <td>2023-11-19</td>\n",
       "      <td>5007.670185</td>\n",
       "      <td>5062.810829</td>\n",
       "    </tr>\n",
       "    <tr>\n",
       "      <th>99</th>\n",
       "      <td>2023-11-26</td>\n",
       "      <td>4648.119300</td>\n",
       "      <td>3645.901282</td>\n",
       "    </tr>\n",
       "  </tbody>\n",
       "</table>\n",
       "<p>100 rows × 3 columns</p>\n",
       "</div>"
      ],
      "text/plain": [
       "         Week     Ad_Spend        Sales\n",
       "0  2022-01-02  5745.071230  4031.671996\n",
       "1  2022-01-09  4792.603548  4454.916806\n",
       "2  2022-01-16  5971.532807  5240.205168\n",
       "3  2022-01-23  7284.544785  5568.449602\n",
       "4  2022-01-30  4648.769938  4627.976251\n",
       "..        ...          ...          ...\n",
       "95 2023-10-29  2804.727578  4068.153926\n",
       "96 2023-11-05  5444.180416  4382.650813\n",
       "97 2023-11-12  5391.582908  5388.674851\n",
       "98 2023-11-19  5007.670185  5062.810829\n",
       "99 2023-11-26  4648.119300  3645.901282\n",
       "\n",
       "[100 rows x 3 columns]"
      ]
     },
     "execution_count": 18,
     "metadata": {},
     "output_type": "execute_result"
    }
   ],
   "source": [
    "df_new = df.drop(columns=['Season'])\n",
    "df_new"
   ]
  },
  {
   "cell_type": "code",
   "execution_count": 19,
   "id": "949d3db1",
   "metadata": {},
   "outputs": [
    {
     "data": {
      "application/vnd.microsoft.datawrangler.viewer.v0+json": {
       "columns": [
        {
         "name": "index",
         "rawType": "object",
         "type": "string"
        },
        {
         "name": "Week",
         "rawType": "float64",
         "type": "float"
        },
        {
         "name": "Ad_Spend",
         "rawType": "float64",
         "type": "float"
        },
        {
         "name": "Sales",
         "rawType": "float64",
         "type": "float"
        }
       ],
       "ref": "f39ea2c1-2535-4fde-82b5-8b15303c52e4",
       "rows": [
        [
         "Week",
         "1.0",
         "0.044507748273485685",
         "0.03619800762375441"
        ],
        [
         "Ad_Spend",
         "0.044507748273485685",
         "1.0",
         "0.5882595501140245"
        ],
        [
         "Sales",
         "0.03619800762375441",
         "0.5882595501140245",
         "1.0"
        ]
       ],
       "shape": {
        "columns": 3,
        "rows": 3
       }
      },
      "text/html": [
       "<div>\n",
       "<style scoped>\n",
       "    .dataframe tbody tr th:only-of-type {\n",
       "        vertical-align: middle;\n",
       "    }\n",
       "\n",
       "    .dataframe tbody tr th {\n",
       "        vertical-align: top;\n",
       "    }\n",
       "\n",
       "    .dataframe thead th {\n",
       "        text-align: right;\n",
       "    }\n",
       "</style>\n",
       "<table border=\"1\" class=\"dataframe\">\n",
       "  <thead>\n",
       "    <tr style=\"text-align: right;\">\n",
       "      <th></th>\n",
       "      <th>Week</th>\n",
       "      <th>Ad_Spend</th>\n",
       "      <th>Sales</th>\n",
       "    </tr>\n",
       "  </thead>\n",
       "  <tbody>\n",
       "    <tr>\n",
       "      <th>Week</th>\n",
       "      <td>1.000000</td>\n",
       "      <td>0.044508</td>\n",
       "      <td>0.036198</td>\n",
       "    </tr>\n",
       "    <tr>\n",
       "      <th>Ad_Spend</th>\n",
       "      <td>0.044508</td>\n",
       "      <td>1.000000</td>\n",
       "      <td>0.588260</td>\n",
       "    </tr>\n",
       "    <tr>\n",
       "      <th>Sales</th>\n",
       "      <td>0.036198</td>\n",
       "      <td>0.588260</td>\n",
       "      <td>1.000000</td>\n",
       "    </tr>\n",
       "  </tbody>\n",
       "</table>\n",
       "</div>"
      ],
      "text/plain": [
       "              Week  Ad_Spend     Sales\n",
       "Week      1.000000  0.044508  0.036198\n",
       "Ad_Spend  0.044508  1.000000  0.588260\n",
       "Sales     0.036198  0.588260  1.000000"
      ]
     },
     "execution_count": 19,
     "metadata": {},
     "output_type": "execute_result"
    }
   ],
   "source": [
    "df_new.corr(method='pearson')"
   ]
  },
  {
   "cell_type": "code",
   "execution_count": null,
   "id": "e4eddc5f",
   "metadata": {},
   "outputs": [],
   "source": []
  },
  {
   "cell_type": "code",
   "execution_count": null,
   "id": "5edb0bcc",
   "metadata": {},
   "outputs": [],
   "source": []
  },
  {
   "cell_type": "code",
   "execution_count": null,
   "id": "6e646c89",
   "metadata": {},
   "outputs": [],
   "source": []
  }
 ],
 "metadata": {
  "kernelspec": {
   "display_name": "Python 3",
   "language": "python",
   "name": "python3"
  },
  "language_info": {
   "codemirror_mode": {
    "name": "ipython",
    "version": 3
   },
   "file_extension": ".py",
   "mimetype": "text/x-python",
   "name": "python",
   "nbconvert_exporter": "python",
   "pygments_lexer": "ipython3",
   "version": "3.10.0"
  }
 },
 "nbformat": 4,
 "nbformat_minor": 5
}
