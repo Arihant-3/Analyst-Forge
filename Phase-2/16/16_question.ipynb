{
 "cells": [
  {
   "cell_type": "markdown",
   "id": "94bbdd3e",
   "metadata": {},
   "source": [
    "DATA CREATION"
   ]
  },
  {
   "cell_type": "code",
   "execution_count": 1,
   "id": "ecefb048",
   "metadata": {},
   "outputs": [],
   "source": [
    "import pandas as pd\n",
    "import numpy as np\n",
    "\n",
    "np.random.seed(42)\n",
    "dates = pd.date_range(start=\"2023-01-01\", end=\"2023-12-31\", freq=\"D\")\n",
    "n = len(dates)\n",
    "\n",
    "data = {\n",
    "    'Date': dates,\n",
    "    'Region': np.random.choice(['North', 'South', 'East', 'West'], n),\n",
    "    'Sales': np.round(np.random.exponential(scale=2000, size=n), 2),\n",
    "    'Units_Sold': np.random.randint(1, 50, size=n),\n",
    "    'Product': np.random.choice(['A', 'B', 'C', 'D'], n)\n",
    "}\n",
    "\n",
    "df = pd.DataFrame(data)\n",
    "df.to_csv(\"daily_sales_dashboard.csv\", index=False)\n"
   ]
  },
  {
   "cell_type": "markdown",
   "id": "95b33c0e",
   "metadata": {},
   "source": [
    "## Tasks:\n",
    "1. Create the following aggregated metrics:\n",
    "\n",
    "    - Total sales per region\n",
    "    - Average units per product\n",
    "    - Monthly revenue trend\n",
    "\n",
    "2. Create a dashboard with:\n",
    "\n",
    "    - Line chart (monthly revenue)\n",
    "    - Bar chart (sales by region)\n",
    "    - Pie/donut (product share)\n",
    "    - KPI boxes (e.g., total revenue, average units)\n",
    "\n",
    "3. Use either Python (Plotly/Dash, Matplotlib, Seaborn)\n",
    "or Power BI — your choice!\n",
    "\n",
    "4. Interpret:\n",
    "\n",
    "    - Which region is performing best?\n",
    "    - Which product has the biggest share?\n",
    "    - Is sales growing or declining over months?"
   ]
  },
  {
   "cell_type": "code",
   "execution_count": 2,
   "id": "9419703c",
   "metadata": {},
   "outputs": [
    {
     "data": {
      "application/vnd.microsoft.datawrangler.viewer.v0+json": {
       "columns": [
        {
         "name": "index",
         "rawType": "int64",
         "type": "integer"
        },
        {
         "name": "Date",
         "rawType": "datetime64[ns]",
         "type": "datetime"
        },
        {
         "name": "Region",
         "rawType": "object",
         "type": "string"
        },
        {
         "name": "Sales",
         "rawType": "float64",
         "type": "float"
        },
        {
         "name": "Units_Sold",
         "rawType": "int32",
         "type": "integer"
        },
        {
         "name": "Product",
         "rawType": "object",
         "type": "string"
        }
       ],
       "ref": "f0d95927-ab22-4601-b067-ceac8398362e",
       "rows": [
        [
         "0",
         "2023-01-01 00:00:00",
         "East",
         "1559.36",
         "34",
         "B"
        ],
        [
         "1",
         "2023-01-02 00:00:00",
         "West",
         "2380.04",
         "3",
         "D"
        ],
        [
         "2",
         "2023-01-03 00:00:00",
         "North",
         "518.97",
         "12",
         "C"
        ],
        [
         "3",
         "2023-01-04 00:00:00",
         "East",
         "384.63",
         "1",
         "C"
        ],
        [
         "4",
         "2023-01-05 00:00:00",
         "East",
         "8053.56",
         "44",
         "B"
        ]
       ],
       "shape": {
        "columns": 5,
        "rows": 5
       }
      },
      "text/html": [
       "<div>\n",
       "<style scoped>\n",
       "    .dataframe tbody tr th:only-of-type {\n",
       "        vertical-align: middle;\n",
       "    }\n",
       "\n",
       "    .dataframe tbody tr th {\n",
       "        vertical-align: top;\n",
       "    }\n",
       "\n",
       "    .dataframe thead th {\n",
       "        text-align: right;\n",
       "    }\n",
       "</style>\n",
       "<table border=\"1\" class=\"dataframe\">\n",
       "  <thead>\n",
       "    <tr style=\"text-align: right;\">\n",
       "      <th></th>\n",
       "      <th>Date</th>\n",
       "      <th>Region</th>\n",
       "      <th>Sales</th>\n",
       "      <th>Units_Sold</th>\n",
       "      <th>Product</th>\n",
       "    </tr>\n",
       "  </thead>\n",
       "  <tbody>\n",
       "    <tr>\n",
       "      <th>0</th>\n",
       "      <td>2023-01-01</td>\n",
       "      <td>East</td>\n",
       "      <td>1559.36</td>\n",
       "      <td>34</td>\n",
       "      <td>B</td>\n",
       "    </tr>\n",
       "    <tr>\n",
       "      <th>1</th>\n",
       "      <td>2023-01-02</td>\n",
       "      <td>West</td>\n",
       "      <td>2380.04</td>\n",
       "      <td>3</td>\n",
       "      <td>D</td>\n",
       "    </tr>\n",
       "    <tr>\n",
       "      <th>2</th>\n",
       "      <td>2023-01-03</td>\n",
       "      <td>North</td>\n",
       "      <td>518.97</td>\n",
       "      <td>12</td>\n",
       "      <td>C</td>\n",
       "    </tr>\n",
       "    <tr>\n",
       "      <th>3</th>\n",
       "      <td>2023-01-04</td>\n",
       "      <td>East</td>\n",
       "      <td>384.63</td>\n",
       "      <td>1</td>\n",
       "      <td>C</td>\n",
       "    </tr>\n",
       "    <tr>\n",
       "      <th>4</th>\n",
       "      <td>2023-01-05</td>\n",
       "      <td>East</td>\n",
       "      <td>8053.56</td>\n",
       "      <td>44</td>\n",
       "      <td>B</td>\n",
       "    </tr>\n",
       "  </tbody>\n",
       "</table>\n",
       "</div>"
      ],
      "text/plain": [
       "        Date Region    Sales  Units_Sold Product\n",
       "0 2023-01-01   East  1559.36          34       B\n",
       "1 2023-01-02   West  2380.04           3       D\n",
       "2 2023-01-03  North   518.97          12       C\n",
       "3 2023-01-04   East   384.63           1       C\n",
       "4 2023-01-05   East  8053.56          44       B"
      ]
     },
     "execution_count": 2,
     "metadata": {},
     "output_type": "execute_result"
    }
   ],
   "source": [
    "df.head()"
   ]
  },
  {
   "cell_type": "code",
   "execution_count": 5,
   "id": "370e7514",
   "metadata": {},
   "outputs": [
    {
     "name": "stdout",
     "output_type": "stream",
     "text": [
      "<class 'pandas.core.frame.DataFrame'>\n",
      "RangeIndex: 365 entries, 0 to 364\n",
      "Data columns (total 5 columns):\n",
      " #   Column      Non-Null Count  Dtype         \n",
      "---  ------      --------------  -----         \n",
      " 0   Date        365 non-null    datetime64[ns]\n",
      " 1   Region      365 non-null    object        \n",
      " 2   Sales       365 non-null    float64       \n",
      " 3   Units_Sold  365 non-null    int32         \n",
      " 4   Product     365 non-null    object        \n",
      "dtypes: datetime64[ns](1), float64(1), int32(1), object(2)\n",
      "memory usage: 13.0+ KB\n"
     ]
    }
   ],
   "source": [
    "df.info()"
   ]
  },
  {
   "cell_type": "code",
   "execution_count": 14,
   "id": "24823355",
   "metadata": {},
   "outputs": [],
   "source": [
    "# Total sales per region\n",
    "df_sales_region = df.groupby('Region')['Sales'].sum()"
   ]
  },
  {
   "cell_type": "code",
   "execution_count": 15,
   "id": "8bdd9d37",
   "metadata": {},
   "outputs": [],
   "source": [
    "# Average units per product\n",
    "df_avg_units = df.groupby('Product')['Units_Sold'].mean()"
   ]
  },
  {
   "cell_type": "code",
   "execution_count": 16,
   "id": "2ee94bdd",
   "metadata": {},
   "outputs": [
    {
     "data": {
      "application/vnd.microsoft.datawrangler.viewer.v0+json": {
       "columns": [
        {
         "name": "index",
         "rawType": "int64",
         "type": "integer"
        },
        {
         "name": "Date",
         "rawType": "datetime64[ns]",
         "type": "datetime"
        },
        {
         "name": "Region",
         "rawType": "object",
         "type": "string"
        },
        {
         "name": "Sales",
         "rawType": "float64",
         "type": "float"
        },
        {
         "name": "Units_Sold",
         "rawType": "int32",
         "type": "integer"
        },
        {
         "name": "Product",
         "rawType": "object",
         "type": "string"
        },
        {
         "name": "Month",
         "rawType": "int32",
         "type": "integer"
        }
       ],
       "ref": "60fa8f82-9404-4665-883c-f5350c3c4702",
       "rows": [
        [
         "0",
         "2023-01-01 00:00:00",
         "East",
         "1559.36",
         "34",
         "B",
         "1"
        ],
        [
         "1",
         "2023-01-02 00:00:00",
         "West",
         "2380.04",
         "3",
         "D",
         "1"
        ],
        [
         "2",
         "2023-01-03 00:00:00",
         "North",
         "518.97",
         "12",
         "C",
         "1"
        ],
        [
         "3",
         "2023-01-04 00:00:00",
         "East",
         "384.63",
         "1",
         "C",
         "1"
        ],
        [
         "4",
         "2023-01-05 00:00:00",
         "East",
         "8053.56",
         "44",
         "B",
         "1"
        ]
       ],
       "shape": {
        "columns": 6,
        "rows": 5
       }
      },
      "text/html": [
       "<div>\n",
       "<style scoped>\n",
       "    .dataframe tbody tr th:only-of-type {\n",
       "        vertical-align: middle;\n",
       "    }\n",
       "\n",
       "    .dataframe tbody tr th {\n",
       "        vertical-align: top;\n",
       "    }\n",
       "\n",
       "    .dataframe thead th {\n",
       "        text-align: right;\n",
       "    }\n",
       "</style>\n",
       "<table border=\"1\" class=\"dataframe\">\n",
       "  <thead>\n",
       "    <tr style=\"text-align: right;\">\n",
       "      <th></th>\n",
       "      <th>Date</th>\n",
       "      <th>Region</th>\n",
       "      <th>Sales</th>\n",
       "      <th>Units_Sold</th>\n",
       "      <th>Product</th>\n",
       "      <th>Month</th>\n",
       "    </tr>\n",
       "  </thead>\n",
       "  <tbody>\n",
       "    <tr>\n",
       "      <th>0</th>\n",
       "      <td>2023-01-01</td>\n",
       "      <td>East</td>\n",
       "      <td>1559.36</td>\n",
       "      <td>34</td>\n",
       "      <td>B</td>\n",
       "      <td>1</td>\n",
       "    </tr>\n",
       "    <tr>\n",
       "      <th>1</th>\n",
       "      <td>2023-01-02</td>\n",
       "      <td>West</td>\n",
       "      <td>2380.04</td>\n",
       "      <td>3</td>\n",
       "      <td>D</td>\n",
       "      <td>1</td>\n",
       "    </tr>\n",
       "    <tr>\n",
       "      <th>2</th>\n",
       "      <td>2023-01-03</td>\n",
       "      <td>North</td>\n",
       "      <td>518.97</td>\n",
       "      <td>12</td>\n",
       "      <td>C</td>\n",
       "      <td>1</td>\n",
       "    </tr>\n",
       "    <tr>\n",
       "      <th>3</th>\n",
       "      <td>2023-01-04</td>\n",
       "      <td>East</td>\n",
       "      <td>384.63</td>\n",
       "      <td>1</td>\n",
       "      <td>C</td>\n",
       "      <td>1</td>\n",
       "    </tr>\n",
       "    <tr>\n",
       "      <th>4</th>\n",
       "      <td>2023-01-05</td>\n",
       "      <td>East</td>\n",
       "      <td>8053.56</td>\n",
       "      <td>44</td>\n",
       "      <td>B</td>\n",
       "      <td>1</td>\n",
       "    </tr>\n",
       "  </tbody>\n",
       "</table>\n",
       "</div>"
      ],
      "text/plain": [
       "        Date Region    Sales  Units_Sold Product  Month\n",
       "0 2023-01-01   East  1559.36          34       B      1\n",
       "1 2023-01-02   West  2380.04           3       D      1\n",
       "2 2023-01-03  North   518.97          12       C      1\n",
       "3 2023-01-04   East   384.63           1       C      1\n",
       "4 2023-01-05   East  8053.56          44       B      1"
      ]
     },
     "execution_count": 16,
     "metadata": {},
     "output_type": "execute_result"
    }
   ],
   "source": [
    "df['Month']=df['Date'].dt.month\n",
    "df.head()"
   ]
  },
  {
   "cell_type": "code",
   "execution_count": 17,
   "id": "b10a7b6f",
   "metadata": {},
   "outputs": [],
   "source": [
    "# Monthly revenue trend\n",
    "df_monthly = df.groupby('Month')['Sales'].sum()"
   ]
  },
  {
   "cell_type": "code",
   "execution_count": 18,
   "id": "f7eccfa5",
   "metadata": {},
   "outputs": [],
   "source": [
    "import seaborn as sns \n",
    "import matplotlib.pyplot as plt \n",
    "%matplotlib inline"
   ]
  },
  {
   "cell_type": "code",
   "execution_count": 24,
   "id": "64703d56",
   "metadata": {},
   "outputs": [
    {
     "data": {
      "image/png": "[encoded data removed]",
      "text/plain": [
       "<Figure size 640x480 with 1 Axes>"
      ]
     },
     "metadata": {},
     "output_type": "display_data"
    }
   ],
   "source": [
    "sns.lineplot(df_monthly)\n",
    "plt.title('Monthly Revenue Trend')\n",
    "plt.show()"
   ]
  },
  {
   "cell_type": "code",
   "execution_count": 56,
   "id": "d927a1c3",
   "metadata": {},
   "outputs": [
    {
     "data": {
      "image/png": "[encoded data removed]",
      "text/plain": [
       "<Figure size 640x480 with 1 Axes>"
      ]
     },
     "metadata": {},
     "output_type": "display_data"
    }
   ],
   "source": [
    "sns.barplot(x=df_sales_region.index, y=df_sales_region.values)\n",
    "plt.title(\"Total Sales by Region\")\n",
    "plt.ylabel(\"Sales\")\n",
    "plt.xlabel(\"Region\")\n",
    "plt.show()\n"
   ]
  },
  {
   "cell_type": "code",
   "execution_count": 41,
   "id": "e337947d",
   "metadata": {},
   "outputs": [
    {
     "data": {
      "application/vnd.microsoft.datawrangler.viewer.v0+json": {
       "columns": [
        {
         "name": "Product",
         "rawType": "object",
         "type": "string"
        },
        {
         "name": "Units_Sold",
         "rawType": "float64",
         "type": "float"
        }
       ],
       "ref": "123bcb26-38a6-43ab-85aa-90abab242c55",
       "rows": [
        [
         "A",
         "23.72340425531915"
        ],
        [
         "B",
         "25.708333333333332"
        ],
        [
         "C",
         "22.35483870967742"
        ],
        [
         "D",
         "26.024390243902438"
        ]
       ],
       "shape": {
        "columns": 1,
        "rows": 4
       }
      },
      "text/plain": [
       "Product\n",
       "A    23.723404\n",
       "B    25.708333\n",
       "C    22.354839\n",
       "D    26.024390\n",
       "Name: Units_Sold, dtype: float64"
      ]
     },
     "execution_count": 41,
     "metadata": {},
     "output_type": "execute_result"
    }
   ],
   "source": [
    "df_avg_units"
   ]
  },
  {
   "cell_type": "code",
   "execution_count": 57,
   "id": "2be4b11d",
   "metadata": {},
   "outputs": [
    {
     "data": {
      "image/png": "[encoded data removed]",
      "text/plain": [
       "<Figure size 640x480 with 1 Axes>"
      ]
     },
     "metadata": {},
     "output_type": "display_data"
    }
   ],
   "source": [
    "plt.pie(df_avg_units, labels=df_avg_units.index, autopct='%1.1f%%')\n",
    "plt.show()"
   ]
  },
  {
   "cell_type": "code",
   "execution_count": 62,
   "id": "110c243d",
   "metadata": {},
   "outputs": [
    {
     "data": {
      "image/png": "[encoded data removed]",
      "text/plain": [
       "<Figure size 640x480 with 1 Axes>"
      ]
     },
     "metadata": {},
     "output_type": "display_data"
    }
   ],
   "source": [
    "# KPI Dashboard\n",
    "total_revenue = df['Sales'].sum()\n",
    "average_units = df['Units_Sold'].mean()\n",
    "\n",
    "plt.axis('off')\n",
    "plt.text(0.1, 0.6, f\"Total Revenue:\\n${total_revenue:,.2f}\", fontsize=14, weight='bold')\n",
    "plt.text(0.1, 0.3, f\"Avg Units Sold:\\n{average_units:.2f} units\", fontsize=14, weight='bold')\n",
    "\n",
    "plt.tight_layout(rect=[0, 0, 1, 0.95])\n",
    "plt.show()"
   ]
  },
  {
   "cell_type": "code",
   "execution_count": 64,
   "id": "f173110e",
   "metadata": {},
   "outputs": [
    {
     "data": {
      "application/vnd.microsoft.datawrangler.viewer.v0+json": {
       "columns": [
        {
         "name": "Product",
         "rawType": "object",
         "type": "string"
        },
        {
         "name": "count",
         "rawType": "int64",
         "type": "integer"
        }
       ],
       "ref": "365ca657-362d-497b-b71b-f9042f56d35c",
       "rows": [
        [
         "B",
         "96"
        ],
        [
         "A",
         "94"
        ],
        [
         "C",
         "93"
        ],
        [
         "D",
         "82"
        ]
       ],
       "shape": {
        "columns": 1,
        "rows": 4
       }
      },
      "text/plain": [
       "Product\n",
       "B    96\n",
       "A    94\n",
       "C    93\n",
       "D    82\n",
       "Name: count, dtype: int64"
      ]
     },
     "execution_count": 64,
     "metadata": {},
     "output_type": "execute_result"
    }
   ],
   "source": [
    "product_counts = df['Product'].value_counts()\n",
    "product_counts"
   ]
  },
  {
   "cell_type": "code",
   "execution_count": null,
   "id": "dfa4c7a7",
   "metadata": {},
   "outputs": [
    {
     "data": {
      "text/plain": [
       "<Axes: xlabel='Region'>"
      ]
     },
     "execution_count": 65,
     "metadata": {},
     "output_type": "execute_result"
    },
    {
     "data": {
      "image/png": "[encoded data removed]",
      "text/plain": [
       "<Figure size 640x480 with 1 Axes>"
      ]
     },
     "metadata": {},
     "output_type": "display_data"
    }
   ],
   "source": [
    "df.groupby(['Region', 'Product']).size().unstack().plot(kind='bar', stacked=True)"
   ]
  },
  {
   "cell_type": "code",
   "execution_count": null,
   "id": "826783a3",
   "metadata": {},
   "outputs": [],
   "source": []
  },
  {
   "cell_type": "code",
   "execution_count": null,
   "id": "56de54d4",
   "metadata": {},
   "outputs": [],
   "source": []
  },
  {
   "cell_type": "code",
   "execution_count": null,
   "id": "75f33141",
   "metadata": {},
   "outputs": [],
   "source": []
  },
  {
   "cell_type": "code",
   "execution_count": null,
   "id": "fdff400f",
   "metadata": {},
   "outputs": [],
   "source": []
  }
 ],
 "metadata": {
  "kernelspec": {
   "display_name": "Python 3",
   "language": "python",
   "name": "python3"
  },
  "language_info": {
   "codemirror_mode": {
    "name": "ipython",
    "version": 3
   },
   "file_extension": ".py",
   "mimetype": "text/x-python",
   "name": "python",
   "nbconvert_exporter": "python",
   "pygments_lexer": "ipython3",
   "version": "3.10.0"
  }
 },
 "nbformat": 4,
 "nbformat_minor": 5
}
