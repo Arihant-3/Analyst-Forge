{
 "cells": [
  {
   "cell_type": "markdown",
   "id": "fe35249a",
   "metadata": {},
   "source": [
    "DATA CREATION"
   ]
  },
  {
   "cell_type": "code",
   "execution_count": 1,
   "id": "e0786553",
   "metadata": {},
   "outputs": [],
   "source": [
    "import pandas as pd\n",
    "import numpy as np\n",
    "\n",
    "np.random.seed(42)\n",
    "n = 1000\n",
    "\n",
    "df = pd.DataFrame({\n",
    "    'User_ID': range(1, n+1),\n",
    "    'Group': np.random.choice(['A', 'B'], size=n, p=[0.5, 0.5]),\n",
    "    'Converted': np.nan\n",
    "})\n",
    "\n",
    "# Group A: 11% conversion, Group B: 14% conversion\n",
    "df.loc[df['Group'] == 'A', 'Converted'] = np.random.binomial(1, 0.11, size=(df['Group'] == 'A').sum())\n",
    "df.loc[df['Group'] == 'B', 'Converted'] = np.random.binomial(1, 0.14, size=(df['Group'] == 'B').sum())\n",
    "\n",
    "df.to_csv(\"ab_test_checkout.csv\", index=False)\n"
   ]
  },
  {
   "cell_type": "markdown",
   "id": "ed9ab639",
   "metadata": {},
   "source": [
    "## Tasks:\n",
    "1. Compute conversion rates for Group A and B.\n",
    "\n",
    "2. Conduct a two-proportion z-test to check if the difference is statistically significant.\n",
    "\n",
    "3. Visualize conversions using a bar plot with error bars.\n",
    "\n",
    "4. Conclude:\n",
    "\n",
    "    - Is B significantly better?\n",
    "    - Should we roll it out?\n",
    "\n"
   ]
  },
  {
   "cell_type": "code",
   "execution_count": 2,
   "id": "0d4fe3d7",
   "metadata": {},
   "outputs": [
    {
     "name": "stdout",
     "output_type": "stream",
     "text": [
      "<class 'pandas.core.frame.DataFrame'>\n",
      "RangeIndex: 1000 entries, 0 to 999\n",
      "Data columns (total 3 columns):\n",
      " #   Column     Non-Null Count  Dtype  \n",
      "---  ------     --------------  -----  \n",
      " 0   User_ID    1000 non-null   int64  \n",
      " 1   Group      1000 non-null   object \n",
      " 2   Converted  1000 non-null   float64\n",
      "dtypes: float64(1), int64(1), object(1)\n",
      "memory usage: 23.6+ KB\n"
     ]
    }
   ],
   "source": [
    "df.info()"
   ]
  },
  {
   "cell_type": "code",
   "execution_count": 3,
   "id": "9493b1c9",
   "metadata": {},
   "outputs": [
    {
     "data": {
      "application/vnd.microsoft.datawrangler.viewer.v0+json": {
       "columns": [
        {
         "name": "index",
         "rawType": "int64",
         "type": "integer"
        },
        {
         "name": "User_ID",
         "rawType": "int64",
         "type": "integer"
        },
        {
         "name": "Group",
         "rawType": "object",
         "type": "string"
        },
        {
         "name": "Converted",
         "rawType": "float64",
         "type": "float"
        }
       ],
       "ref": "4c592731-0e70-48b4-8d38-ab377fcfbb0b",
       "rows": [
        [
         "0",
         "1",
         "A",
         "0.0"
        ],
        [
         "1",
         "2",
         "B",
         "0.0"
        ],
        [
         "2",
         "3",
         "B",
         "0.0"
        ],
        [
         "3",
         "4",
         "B",
         "0.0"
        ],
        [
         "4",
         "5",
         "A",
         "0.0"
        ]
       ],
       "shape": {
        "columns": 3,
        "rows": 5
       }
      },
      "text/html": [
       "<div>\n",
       "<style scoped>\n",
       "    .dataframe tbody tr th:only-of-type {\n",
       "        vertical-align: middle;\n",
       "    }\n",
       "\n",
       "    .dataframe tbody tr th {\n",
       "        vertical-align: top;\n",
       "    }\n",
       "\n",
       "    .dataframe thead th {\n",
       "        text-align: right;\n",
       "    }\n",
       "</style>\n",
       "<table border=\"1\" class=\"dataframe\">\n",
       "  <thead>\n",
       "    <tr style=\"text-align: right;\">\n",
       "      <th></th>\n",
       "      <th>User_ID</th>\n",
       "      <th>Group</th>\n",
       "      <th>Converted</th>\n",
       "    </tr>\n",
       "  </thead>\n",
       "  <tbody>\n",
       "    <tr>\n",
       "      <th>0</th>\n",
       "      <td>1</td>\n",
       "      <td>A</td>\n",
       "      <td>0.0</td>\n",
       "    </tr>\n",
       "    <tr>\n",
       "      <th>1</th>\n",
       "      <td>2</td>\n",
       "      <td>B</td>\n",
       "      <td>0.0</td>\n",
       "    </tr>\n",
       "    <tr>\n",
       "      <th>2</th>\n",
       "      <td>3</td>\n",
       "      <td>B</td>\n",
       "      <td>0.0</td>\n",
       "    </tr>\n",
       "    <tr>\n",
       "      <th>3</th>\n",
       "      <td>4</td>\n",
       "      <td>B</td>\n",
       "      <td>0.0</td>\n",
       "    </tr>\n",
       "    <tr>\n",
       "      <th>4</th>\n",
       "      <td>5</td>\n",
       "      <td>A</td>\n",
       "      <td>0.0</td>\n",
       "    </tr>\n",
       "  </tbody>\n",
       "</table>\n",
       "</div>"
      ],
      "text/plain": [
       "   User_ID Group  Converted\n",
       "0        1     A        0.0\n",
       "1        2     B        0.0\n",
       "2        3     B        0.0\n",
       "3        4     B        0.0\n",
       "4        5     A        0.0"
      ]
     },
     "execution_count": 3,
     "metadata": {},
     "output_type": "execute_result"
    }
   ],
   "source": [
    "df.head()"
   ]
  },
  {
   "cell_type": "code",
   "execution_count": 13,
   "id": "e4ab6c1c",
   "metadata": {},
   "outputs": [
    {
     "data": {
      "text/plain": [
       "np.float64(116.0)"
      ]
     },
     "execution_count": 13,
     "metadata": {},
     "output_type": "execute_result"
    }
   ],
   "source": [
    "df['Converted'].sum()"
   ]
  },
  {
   "cell_type": "code",
   "execution_count": 12,
   "id": "efee35f6",
   "metadata": {},
   "outputs": [
    {
     "data": {
      "application/vnd.microsoft.datawrangler.viewer.v0+json": {
       "columns": [
        {
         "name": "Group",
         "rawType": "object",
         "type": "string"
        },
        {
         "name": "Converted",
         "rawType": "float64",
         "type": "float"
        }
       ],
       "ref": "85b97cb1-3211-4ab3-bbea-3e8e75ee0508",
       "rows": [
        [
         "A",
         "55.0"
        ],
        [
         "B",
         "61.0"
        ]
       ],
       "shape": {
        "columns": 1,
        "rows": 2
       }
      },
      "text/plain": [
       "Group\n",
       "A    55.0\n",
       "B    61.0\n",
       "Name: Converted, dtype: float64"
      ]
     },
     "execution_count": 12,
     "metadata": {},
     "output_type": "execute_result"
    }
   ],
   "source": [
    "df.groupby('Group')['Converted'].sum()"
   ]
  },
  {
   "cell_type": "code",
   "execution_count": 14,
   "id": "89498b91",
   "metadata": {},
   "outputs": [],
   "source": [
    "import seaborn as sns \n",
    "import matplotlib.pyplot as plt \n",
    "%matplotlib inline"
   ]
  },
  {
   "cell_type": "code",
   "execution_count": 31,
   "id": "2f708cb5",
   "metadata": {},
   "outputs": [
    {
     "name": "stdout",
     "output_type": "stream",
     "text": [
      "Conversion Rates:\n",
      " Group\n",
      "A    0.109344\n",
      "B    0.122736\n",
      "Name: Converted, dtype: float64\n"
     ]
    }
   ],
   "source": [
    "conversion_rates = df.groupby('Group')['Converted'].mean()\n",
    "print(\"Conversion Rates:\\n\", conversion_rates)"
   ]
  },
  {
   "cell_type": "code",
   "execution_count": 24,
   "id": "e67ffe2e",
   "metadata": {},
   "outputs": [],
   "source": [
    "from statsmodels.stats.proportion import proportions_ztest\n",
    "\n",
    "successes = [df[df['Group'] == 'A']['Converted'].sum(), df[df['Group'] == 'B']['Converted'].sum()]\n",
    "n_obs = [df[df['Group'] == 'A'].shape[0], df[df['Group'] == 'B'].shape[0]]\n",
    "\n",
    "stat, pval = proportions_ztest(successes, n_obs)\n"
   ]
  },
  {
   "cell_type": "code",
   "execution_count": 25,
   "id": "53cf4806",
   "metadata": {},
   "outputs": [
    {
     "data": {
      "text/plain": [
       "(np.float64(-0.6612537307432664), np.float64(0.5084496087000363))"
      ]
     },
     "execution_count": 25,
     "metadata": {},
     "output_type": "execute_result"
    }
   ],
   "source": [
    "stat, pval"
   ]
  },
  {
   "cell_type": "code",
   "execution_count": 33,
   "id": "bce8f1da",
   "metadata": {},
   "outputs": [
    {
     "name": "stdout",
     "output_type": "stream",
     "text": [
      "\n",
      "Result: The difference is NOT statistically significant (p ≥ 0.05).\n",
      "Recommendation: Stick to current version or collect more data.\n"
     ]
    }
   ],
   "source": [
    "if pval < 0.05:\n",
    "    print(\"\\nResult: The difference is statistically significant (p < 0.05).\")\n",
    "    print(\"Recommendation: Group B has higher conversion — consider rolling it out.\")\n",
    "else:\n",
    "    print(\"\\nResult: The difference is NOT statistically significant (p ≥ 0.05).\")\n",
    "    print(\"Recommendation: Stick to current version or collect more data.\")"
   ]
  },
  {
   "cell_type": "code",
   "execution_count": 27,
   "id": "8796396a",
   "metadata": {},
   "outputs": [
    {
     "data": {
      "image/png": "[encoded data removed]",
      "text/plain": [
       "<Figure size 640x480 with 1 Axes>"
      ]
     },
     "metadata": {},
     "output_type": "display_data"
    }
   ],
   "source": [
    "sns.barplot(data=df, x='Group', y='Converted', errorbar=('ci', 95))\n",
    "plt.show()"
   ]
  },
  {
   "cell_type": "code",
   "execution_count": null,
   "id": "f833b29b",
   "metadata": {},
   "outputs": [],
   "source": []
  },
  {
   "cell_type": "code",
   "execution_count": null,
   "id": "1ab59a1f",
   "metadata": {},
   "outputs": [],
   "source": []
  },
  {
   "cell_type": "code",
   "execution_count": null,
   "id": "05a3b544",
   "metadata": {},
   "outputs": [],
   "source": []
  }
 ],
 "metadata": {
  "kernelspec": {
   "display_name": "Python 3",
   "language": "python",
   "name": "python3"
  },
  "language_info": {
   "codemirror_mode": {
    "name": "ipython",
    "version": 3
   },
   "file_extension": ".py",
   "mimetype": "text/x-python",
   "name": "python",
   "nbconvert_exporter": "python",
   "pygments_lexer": "ipython3",
   "version": "3.10.0"
  }
 },
 "nbformat": 4,
 "nbformat_minor": 5
}
