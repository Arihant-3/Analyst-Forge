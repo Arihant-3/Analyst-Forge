{
 "cells": [
  {
   "cell_type": "markdown",
   "id": "1a53b711",
   "metadata": {},
   "source": [
    "DATA CREATION"
   ]
  },
  {
   "cell_type": "code",
   "execution_count": 1,
   "id": "44923bf2",
   "metadata": {},
   "outputs": [],
   "source": [
    "import pandas as pd\n",
    "import numpy as np\n",
    "\n",
    "np.random.seed(42)\n",
    "n = 500\n",
    "\n",
    "orders = pd.DataFrame({\n",
    "    'Order_ID': range(1, n+1),\n",
    "    'Customer_ID': np.random.randint(100, 150, size=n),\n",
    "    'Product_ID': np.random.randint(1000, 1020, size=n),\n",
    "    'Quantity': np.random.randint(1, 5, size=n),\n",
    "    'Order_Date': pd.to_datetime(np.random.choice(pd.date_range(\"2023-01-01\", \"2023-06-30\"), size=n))\n",
    "})\n",
    "orders.to_csv(\"orders.csv\", index=False)\n"
   ]
  },
  {
   "cell_type": "code",
   "execution_count": 2,
   "id": "ef2f2cce",
   "metadata": {},
   "outputs": [],
   "source": [
    "products = pd.DataFrame({\n",
    "    'Product_ID': range(1000, 1020),\n",
    "    'Product_Name': [f\"Item_{i}\" for i in range(20)],\n",
    "    'Price': np.round(np.random.uniform(10, 100, 20), 2)\n",
    "})\n",
    "products.to_csv(\"products.csv\", index=False)\n"
   ]
  },
  {
   "cell_type": "code",
   "execution_count": 3,
   "id": "92e01a5c",
   "metadata": {},
   "outputs": [],
   "source": [
    "customers = pd.DataFrame({\n",
    "    'Customer_ID': range(100, 160),\n",
    "    'Region': np.random.choice(['North', 'South', 'East', 'West'], size=60),\n",
    "    'Signup_Date': pd.to_datetime(np.random.choice(pd.date_range(\"2022-01-01\", \"2023-01-01\"), size=60))\n",
    "})\n",
    "customers.to_csv(\"customers.csv\", index=False)\n"
   ]
  },
  {
   "cell_type": "markdown",
   "id": "e1d7d8b8",
   "metadata": {},
   "source": [
    "## Tasks:\n",
    "1. Clean:\n",
    "\n",
    "    - Check for and handle duplicates or nulls.\n",
    "    - Ensure data types are correct (Order_Date, Signup_Date)\n",
    "\n",
    "2. Merge:\n",
    "\n",
    "    - Join all 3 files into 1 master_df (on Customer_ID, Product_ID)\n",
    "    - Create Revenue = Quantity × Price\n",
    "\n",
    "3. Enrich:\n",
    "\n",
    "    - Create new columns:\n",
    "        - Days_Since_Signup = Order_Date − Signup_Date\n",
    "        - Revenue_Category = low (<100), medium (100–250), high (>250)\n",
    "\n",
    "4. Summarize:\n",
    "\n",
    "    - Total revenue by Region\n",
    "    - Most sold product by quantity\n",
    "    - Average revenue per order\n",
    "\n"
   ]
  },
  {
   "cell_type": "code",
   "execution_count": 2,
   "id": "b356687d",
   "metadata": {},
   "outputs": [],
   "source": [
    "import pandas as pd\n",
    "import numpy as np\n",
    "import seaborn as sns\n",
    "import matplotlib.pyplot as plt\n",
    "%matplotlib inline"
   ]
  },
  {
   "cell_type": "code",
   "execution_count": 3,
   "id": "7ea907b8",
   "metadata": {},
   "outputs": [],
   "source": [
    "df_customer = pd.read_csv(\"customers.csv\")\n",
    "df_orders = pd.read_csv(\"orders.csv\")\n",
    "df_products = pd.read_csv(\"products.csv\")"
   ]
  },
  {
   "cell_type": "code",
   "execution_count": 4,
   "id": "c3869e0d",
   "metadata": {},
   "outputs": [
    {
     "name": "stdout",
     "output_type": "stream",
     "text": [
      "<class 'pandas.core.frame.DataFrame'>\n",
      "RangeIndex: 500 entries, 0 to 499\n",
      "Data columns (total 5 columns):\n",
      " #   Column       Non-Null Count  Dtype \n",
      "---  ------       --------------  ----- \n",
      " 0   Order_ID     500 non-null    int64 \n",
      " 1   Customer_ID  500 non-null    int64 \n",
      " 2   Product_ID   500 non-null    int64 \n",
      " 3   Quantity     500 non-null    int64 \n",
      " 4   Order_Date   500 non-null    object\n",
      "dtypes: int64(4), object(1)\n",
      "memory usage: 19.7+ KB\n",
      "<class 'pandas.core.frame.DataFrame'>\n",
      "RangeIndex: 20 entries, 0 to 19\n",
      "Data columns (total 3 columns):\n",
      " #   Column        Non-Null Count  Dtype  \n",
      "---  ------        --------------  -----  \n",
      " 0   Product_ID    20 non-null     int64  \n",
      " 1   Product_Name  20 non-null     object \n",
      " 2   Price         20 non-null     float64\n",
      "dtypes: float64(1), int64(1), object(1)\n",
      "memory usage: 608.0+ bytes\n",
      "<class 'pandas.core.frame.DataFrame'>\n",
      "RangeIndex: 60 entries, 0 to 59\n",
      "Data columns (total 3 columns):\n",
      " #   Column       Non-Null Count  Dtype \n",
      "---  ------       --------------  ----- \n",
      " 0   Customer_ID  60 non-null     int64 \n",
      " 1   Region       60 non-null     object\n",
      " 2   Signup_Date  60 non-null     object\n",
      "dtypes: int64(1), object(2)\n",
      "memory usage: 1.5+ KB\n"
     ]
    },
    {
     "data": {
      "text/plain": [
       "(None, None, None)"
      ]
     },
     "execution_count": 4,
     "metadata": {},
     "output_type": "execute_result"
    }
   ],
   "source": [
    "df_orders.info(), df_products.info(), df_customer.info()"
   ]
  },
  {
   "cell_type": "code",
   "execution_count": 5,
   "id": "660d7015",
   "metadata": {},
   "outputs": [
    {
     "data": {
      "text/plain": [
       "(Order_ID       0\n",
       " Customer_ID    0\n",
       " Product_ID     0\n",
       " Quantity       0\n",
       " Order_Date     0\n",
       " dtype: int64,\n",
       " Product_ID      0\n",
       " Product_Name    0\n",
       " Price           0\n",
       " dtype: int64,\n",
       " Customer_ID    0\n",
       " Region         0\n",
       " Signup_Date    0\n",
       " dtype: int64)"
      ]
     },
     "execution_count": 5,
     "metadata": {},
     "output_type": "execute_result"
    }
   ],
   "source": [
    "df_orders.isnull().sum(), df_products.isnull().sum(), df_customer.isnull().sum()"
   ]
  },
  {
   "cell_type": "code",
   "execution_count": 8,
   "id": "af2b8479",
   "metadata": {},
   "outputs": [
    {
     "data": {
      "text/plain": [
       "(np.int64(0), np.int64(0), np.int64(0))"
      ]
     },
     "execution_count": 8,
     "metadata": {},
     "output_type": "execute_result"
    }
   ],
   "source": [
    "df_orders.duplicated().sum(), df_products.duplicated().sum(), df_customer.duplicated().sum()"
   ]
  },
  {
   "cell_type": "code",
   "execution_count": null,
   "id": "d7b8ec57",
   "metadata": {},
   "outputs": [],
   "source": [
    "df_orders['Order_Date'] = pd.to_datetime(df_orders['Order_Date'])\n",
    "df_customer['Signup_Date'] = pd.to_datetime(df_customer['Signup_Date'])"
   ]
  },
  {
   "cell_type": "code",
   "execution_count": 21,
   "id": "43434e29",
   "metadata": {},
   "outputs": [],
   "source": [
    "df_temp = pd.merge(df_orders, df_products, on= 'Product_ID')\n",
    "df_master = pd.merge(df_temp, df_customer, on='Customer_ID')"
   ]
  },
  {
   "cell_type": "code",
   "execution_count": 23,
   "id": "5d182862",
   "metadata": {},
   "outputs": [],
   "source": [
    "df_master['Revenue'] = df_master['Quantity'] * df_master['Price']"
   ]
  },
  {
   "cell_type": "code",
   "execution_count": 24,
   "id": "629ba3fc",
   "metadata": {},
   "outputs": [
    {
     "data": {
      "application/vnd.microsoft.datawrangler.viewer.v0+json": {
       "columns": [
        {
         "name": "index",
         "rawType": "int64",
         "type": "integer"
        },
        {
         "name": "Order_ID",
         "rawType": "int64",
         "type": "integer"
        },
        {
         "name": "Customer_ID",
         "rawType": "int64",
         "type": "integer"
        },
        {
         "name": "Product_ID",
         "rawType": "int64",
         "type": "integer"
        },
        {
         "name": "Quantity",
         "rawType": "int64",
         "type": "integer"
        },
        {
         "name": "Order_Date",
         "rawType": "datetime64[ns]",
         "type": "datetime"
        },
        {
         "name": "Product_Name",
         "rawType": "object",
         "type": "string"
        },
        {
         "name": "Price",
         "rawType": "float64",
         "type": "float"
        },
        {
         "name": "Region",
         "rawType": "object",
         "type": "string"
        },
        {
         "name": "Signup_Date",
         "rawType": "datetime64[ns]",
         "type": "datetime"
        },
        {
         "name": "Revenue",
         "rawType": "float64",
         "type": "float"
        }
       ],
       "ref": "e89f70c2-0057-4be9-8a60-e81855dad82c",
       "rows": [
        [
         "0",
         "1",
         "138",
         "1015",
         "1",
         "2023-01-12 00:00:00",
         "Item_15",
         "66.84",
         "West",
         "2022-08-04 00:00:00",
         "66.84"
        ],
        [
         "1",
         "2",
         "128",
         "1006",
         "1",
         "2023-01-19 00:00:00",
         "Item_6",
         "53.8",
         "North",
         "2022-09-02 00:00:00",
         "53.8"
        ],
        [
         "2",
         "3",
         "114",
         "1003",
         "1",
         "2023-04-11 00:00:00",
         "Item_3",
         "62.08",
         "West",
         "2022-06-05 00:00:00",
         "62.08"
        ],
        [
         "3",
         "4",
         "142",
         "1000",
         "1",
         "2023-02-13 00:00:00",
         "Item_0",
         "98.89",
         "East",
         "2022-08-05 00:00:00",
         "98.89"
        ],
        [
         "4",
         "5",
         "107",
         "1004",
         "3",
         "2023-02-18 00:00:00",
         "Item_4",
         "49.48",
         "North",
         "2022-06-24 00:00:00",
         "148.44"
        ],
        [
         "5",
         "6",
         "120",
         "1009",
         "3",
         "2023-01-17 00:00:00",
         "Item_9",
         "47.95",
         "North",
         "2022-10-20 00:00:00",
         "143.85000000000002"
        ],
        [
         "6",
         "7",
         "138",
         "1004",
         "2",
         "2023-03-15 00:00:00",
         "Item_4",
         "49.48",
         "West",
         "2022-08-04 00:00:00",
         "98.96"
        ],
        [
         "7",
         "8",
         "118",
         "1003",
         "2",
         "2023-02-26 00:00:00",
         "Item_3",
         "62.08",
         "West",
         "2022-11-30 00:00:00",
         "124.16"
        ],
        [
         "8",
         "9",
         "122",
         "1001",
         "1",
         "2023-02-24 00:00:00",
         "Item_1",
         "13.61",
         "South",
         "2022-10-09 00:00:00",
         "13.61"
        ],
        [
         "9",
         "10",
         "110",
         "1019",
         "4",
         "2023-02-16 00:00:00",
         "Item_19",
         "91.81",
         "North",
         "2022-11-01 00:00:00",
         "367.24"
        ],
        [
         "10",
         "11",
         "110",
         "1009",
         "4",
         "2023-01-12 00:00:00",
         "Item_9",
         "47.95",
         "North",
         "2022-11-01 00:00:00",
         "191.8"
        ],
        [
         "11",
         "12",
         "123",
         "1018",
         "3",
         "2023-03-03 00:00:00",
         "Item_18",
         "74.42",
         "East",
         "2022-10-12 00:00:00",
         "223.26"
        ],
        [
         "12",
         "13",
         "135",
         "1000",
         "3",
         "2023-03-21 00:00:00",
         "Item_0",
         "98.89",
         "North",
         "2022-10-03 00:00:00",
         "296.67"
        ],
        [
         "13",
         "14",
         "139",
         "1004",
         "3",
         "2023-03-24 00:00:00",
         "Item_4",
         "49.48",
         "West",
         "2022-09-08 00:00:00",
         "148.44"
        ],
        [
         "14",
         "15",
         "123",
         "1012",
         "2",
         "2023-01-08 00:00:00",
         "Item_12",
         "92.11",
         "East",
         "2022-10-12 00:00:00",
         "184.22"
        ],
        [
         "15",
         "16",
         "102",
         "1003",
         "2",
         "2023-05-29 00:00:00",
         "Item_3",
         "62.08",
         "West",
         "2022-11-09 00:00:00",
         "124.16"
        ],
        [
         "16",
         "17",
         "121",
         "1015",
         "3",
         "2023-03-22 00:00:00",
         "Item_15",
         "66.84",
         "West",
         "2022-01-20 00:00:00",
         "200.52"
        ],
        [
         "17",
         "18",
         "101",
         "1015",
         "3",
         "2023-04-28 00:00:00",
         "Item_15",
         "66.84",
         "South",
         "2022-01-01 00:00:00",
         "200.52"
        ],
        [
         "18",
         "19",
         "123",
         "1001",
         "3",
         "2023-01-25 00:00:00",
         "Item_1",
         "13.61",
         "East",
         "2022-10-12 00:00:00",
         "40.83"
        ],
        [
         "19",
         "20",
         "143",
         "1016",
         "4",
         "2023-03-30 00:00:00",
         "Item_16",
         "75.98",
         "East",
         "2022-11-02 00:00:00",
         "303.92"
        ],
        [
         "20",
         "21",
         "129",
         "1019",
         "2",
         "2023-01-12 00:00:00",
         "Item_19",
         "91.81",
         "West",
         "2022-02-28 00:00:00",
         "183.62"
        ],
        [
         "21",
         "22",
         "137",
         "1011",
         "4",
         "2023-05-23 00:00:00",
         "Item_11",
         "63.31",
         "West",
         "2022-08-30 00:00:00",
         "253.24"
        ],
        [
         "22",
         "23",
         "101",
         "1017",
         "4",
         "2023-02-28 00:00:00",
         "Item_17",
         "21.84",
         "South",
         "2022-01-01 00:00:00",
         "87.36"
        ],
        [
         "23",
         "24",
         "120",
         "1002",
         "3",
         "2023-06-03 00:00:00",
         "Item_2",
         "88.03",
         "North",
         "2022-10-20 00:00:00",
         "264.09000000000003"
        ],
        [
         "24",
         "25",
         "132",
         "1000",
         "3",
         "2023-04-19 00:00:00",
         "Item_0",
         "98.89",
         "North",
         "2022-06-28 00:00:00",
         "296.67"
        ],
        [
         "25",
         "26",
         "111",
         "1000",
         "1",
         "2023-01-26 00:00:00",
         "Item_0",
         "98.89",
         "North",
         "2022-04-30 00:00:00",
         "98.89"
        ],
        [
         "26",
         "27",
         "121",
         "1018",
         "1",
         "2023-02-16 00:00:00",
         "Item_18",
         "74.42",
         "West",
         "2022-01-20 00:00:00",
         "74.42"
        ],
        [
         "27",
         "28",
         "143",
         "1010",
         "4",
         "2023-02-01 00:00:00",
         "Item_10",
         "34.91",
         "East",
         "2022-11-02 00:00:00",
         "139.64"
        ],
        [
         "28",
         "29",
         "124",
         "1004",
         "2",
         "2023-01-10 00:00:00",
         "Item_4",
         "49.48",
         "South",
         "2022-01-01 00:00:00",
         "98.96"
        ],
        [
         "29",
         "30",
         "148",
         "1011",
         "3",
         "2023-01-16 00:00:00",
         "Item_11",
         "63.31",
         "South",
         "2022-07-03 00:00:00",
         "189.93"
        ],
        [
         "30",
         "31",
         "126",
         "1002",
         "3",
         "2023-05-25 00:00:00",
         "Item_2",
         "88.03",
         "East",
         "2022-02-04 00:00:00",
         "264.09000000000003"
        ],
        [
         "31",
         "32",
         "141",
         "1000",
         "4",
         "2023-05-31 00:00:00",
         "Item_0",
         "98.89",
         "East",
         "2022-05-06 00:00:00",
         "395.56"
        ],
        [
         "32",
         "33",
         "127",
         "1000",
         "1",
         "2023-01-26 00:00:00",
         "Item_0",
         "98.89",
         "North",
         "2022-07-17 00:00:00",
         "98.89"
        ],
        [
         "33",
         "34",
         "115",
         "1007",
         "2",
         "2023-03-27 00:00:00",
         "Item_7",
         "88.61",
         "North",
         "2022-07-26 00:00:00",
         "177.22"
        ],
        [
         "34",
         "35",
         "114",
         "1009",
         "1",
         "2023-05-15 00:00:00",
         "Item_9",
         "47.95",
         "West",
         "2022-06-05 00:00:00",
         "47.95"
        ],
        [
         "35",
         "36",
         "146",
         "1010",
         "1",
         "2023-01-14 00:00:00",
         "Item_10",
         "34.91",
         "East",
         "2022-02-08 00:00:00",
         "34.91"
        ],
        [
         "36",
         "37",
         "143",
         "1011",
         "1",
         "2023-03-20 00:00:00",
         "Item_11",
         "63.31",
         "East",
         "2022-11-02 00:00:00",
         "63.31"
        ],
        [
         "37",
         "38",
         "102",
         "1012",
         "1",
         "2023-04-27 00:00:00",
         "Item_12",
         "92.11",
         "West",
         "2022-11-09 00:00:00",
         "92.11"
        ],
        [
         "38",
         "39",
         "136",
         "1011",
         "3",
         "2023-01-07 00:00:00",
         "Item_11",
         "63.31",
         "West",
         "2022-06-30 00:00:00",
         "189.93"
        ],
        [
         "39",
         "40",
         "106",
         "1013",
         "3",
         "2023-05-17 00:00:00",
         "Item_13",
         "28.96",
         "East",
         "2022-04-17 00:00:00",
         "86.88"
        ],
        [
         "40",
         "41",
         "120",
         "1001",
         "1",
         "2023-04-25 00:00:00",
         "Item_1",
         "13.61",
         "North",
         "2022-10-20 00:00:00",
         "13.61"
        ],
        [
         "41",
         "42",
         "108",
         "1018",
         "2",
         "2023-06-25 00:00:00",
         "Item_18",
         "74.42",
         "North",
         "2022-07-23 00:00:00",
         "148.84"
        ],
        [
         "42",
         "43",
         "138",
         "1017",
         "4",
         "2023-03-13 00:00:00",
         "Item_17",
         "21.84",
         "West",
         "2022-08-04 00:00:00",
         "87.36"
        ],
        [
         "43",
         "44",
         "117",
         "1002",
         "2",
         "2023-02-28 00:00:00",
         "Item_2",
         "88.03",
         "South",
         "2022-09-08 00:00:00",
         "176.06"
        ],
        [
         "44",
         "45",
         "103",
         "1016",
         "2",
         "2023-03-23 00:00:00",
         "Item_16",
         "75.98",
         "South",
         "2022-03-05 00:00:00",
         "151.96"
        ],
        [
         "45",
         "46",
         "124",
         "1007",
         "2",
         "2023-04-26 00:00:00",
         "Item_7",
         "88.61",
         "South",
         "2022-01-01 00:00:00",
         "177.22"
        ],
        [
         "46",
         "47",
         "113",
         "1009",
         "1",
         "2023-06-16 00:00:00",
         "Item_9",
         "47.95",
         "South",
         "2022-11-08 00:00:00",
         "47.95"
        ],
        [
         "47",
         "48",
         "149",
         "1001",
         "3",
         "2023-05-26 00:00:00",
         "Item_1",
         "13.61",
         "West",
         "2022-06-27 00:00:00",
         "40.83"
        ],
        [
         "48",
         "49",
         "108",
         "1018",
         "2",
         "2023-04-13 00:00:00",
         "Item_18",
         "74.42",
         "North",
         "2022-07-23 00:00:00",
         "148.84"
        ],
        [
         "49",
         "50",
         "125",
         "1008",
         "1",
         "2023-01-17 00:00:00",
         "Item_8",
         "91.06",
         "North",
         "2022-04-29 00:00:00",
         "91.06"
        ]
       ],
       "shape": {
        "columns": 10,
        "rows": 500
       }
      },
      "text/html": [
       "<div>\n",
       "<style scoped>\n",
       "    .dataframe tbody tr th:only-of-type {\n",
       "        vertical-align: middle;\n",
       "    }\n",
       "\n",
       "    .dataframe tbody tr th {\n",
       "        vertical-align: top;\n",
       "    }\n",
       "\n",
       "    .dataframe thead th {\n",
       "        text-align: right;\n",
       "    }\n",
       "</style>\n",
       "<table border=\"1\" class=\"dataframe\">\n",
       "  <thead>\n",
       "    <tr style=\"text-align: right;\">\n",
       "      <th></th>\n",
       "      <th>Order_ID</th>\n",
       "      <th>Customer_ID</th>\n",
       "      <th>Product_ID</th>\n",
       "      <th>Quantity</th>\n",
       "      <th>Order_Date</th>\n",
       "      <th>Product_Name</th>\n",
       "      <th>Price</th>\n",
       "      <th>Region</th>\n",
       "      <th>Signup_Date</th>\n",
       "      <th>Revenue</th>\n",
       "    </tr>\n",
       "  </thead>\n",
       "  <tbody>\n",
       "    <tr>\n",
       "      <th>0</th>\n",
       "      <td>1</td>\n",
       "      <td>138</td>\n",
       "      <td>1015</td>\n",
       "      <td>1</td>\n",
       "      <td>2023-01-12</td>\n",
       "      <td>Item_15</td>\n",
       "      <td>66.84</td>\n",
       "      <td>West</td>\n",
       "      <td>2022-08-04</td>\n",
       "      <td>66.84</td>\n",
       "    </tr>\n",
       "    <tr>\n",
       "      <th>1</th>\n",
       "      <td>2</td>\n",
       "      <td>128</td>\n",
       "      <td>1006</td>\n",
       "      <td>1</td>\n",
       "      <td>2023-01-19</td>\n",
       "      <td>Item_6</td>\n",
       "      <td>53.80</td>\n",
       "      <td>North</td>\n",
       "      <td>2022-09-02</td>\n",
       "      <td>53.80</td>\n",
       "    </tr>\n",
       "    <tr>\n",
       "      <th>2</th>\n",
       "      <td>3</td>\n",
       "      <td>114</td>\n",
       "      <td>1003</td>\n",
       "      <td>1</td>\n",
       "      <td>2023-04-11</td>\n",
       "      <td>Item_3</td>\n",
       "      <td>62.08</td>\n",
       "      <td>West</td>\n",
       "      <td>2022-06-05</td>\n",
       "      <td>62.08</td>\n",
       "    </tr>\n",
       "    <tr>\n",
       "      <th>3</th>\n",
       "      <td>4</td>\n",
       "      <td>142</td>\n",
       "      <td>1000</td>\n",
       "      <td>1</td>\n",
       "      <td>2023-02-13</td>\n",
       "      <td>Item_0</td>\n",
       "      <td>98.89</td>\n",
       "      <td>East</td>\n",
       "      <td>2022-08-05</td>\n",
       "      <td>98.89</td>\n",
       "    </tr>\n",
       "    <tr>\n",
       "      <th>4</th>\n",
       "      <td>5</td>\n",
       "      <td>107</td>\n",
       "      <td>1004</td>\n",
       "      <td>3</td>\n",
       "      <td>2023-02-18</td>\n",
       "      <td>Item_4</td>\n",
       "      <td>49.48</td>\n",
       "      <td>North</td>\n",
       "      <td>2022-06-24</td>\n",
       "      <td>148.44</td>\n",
       "    </tr>\n",
       "    <tr>\n",
       "      <th>...</th>\n",
       "      <td>...</td>\n",
       "      <td>...</td>\n",
       "      <td>...</td>\n",
       "      <td>...</td>\n",
       "      <td>...</td>\n",
       "      <td>...</td>\n",
       "      <td>...</td>\n",
       "      <td>...</td>\n",
       "      <td>...</td>\n",
       "      <td>...</td>\n",
       "    </tr>\n",
       "    <tr>\n",
       "      <th>495</th>\n",
       "      <td>496</td>\n",
       "      <td>104</td>\n",
       "      <td>1013</td>\n",
       "      <td>4</td>\n",
       "      <td>2023-05-28</td>\n",
       "      <td>Item_13</td>\n",
       "      <td>28.96</td>\n",
       "      <td>South</td>\n",
       "      <td>2022-10-11</td>\n",
       "      <td>115.84</td>\n",
       "    </tr>\n",
       "    <tr>\n",
       "      <th>496</th>\n",
       "      <td>497</td>\n",
       "      <td>111</td>\n",
       "      <td>1018</td>\n",
       "      <td>3</td>\n",
       "      <td>2023-02-06</td>\n",
       "      <td>Item_18</td>\n",
       "      <td>74.42</td>\n",
       "      <td>North</td>\n",
       "      <td>2022-04-30</td>\n",
       "      <td>223.26</td>\n",
       "    </tr>\n",
       "    <tr>\n",
       "      <th>497</th>\n",
       "      <td>498</td>\n",
       "      <td>115</td>\n",
       "      <td>1005</td>\n",
       "      <td>2</td>\n",
       "      <td>2023-01-04</td>\n",
       "      <td>Item_5</td>\n",
       "      <td>75.27</td>\n",
       "      <td>North</td>\n",
       "      <td>2022-07-26</td>\n",
       "      <td>150.54</td>\n",
       "    </tr>\n",
       "    <tr>\n",
       "      <th>498</th>\n",
       "      <td>499</td>\n",
       "      <td>125</td>\n",
       "      <td>1000</td>\n",
       "      <td>2</td>\n",
       "      <td>2023-04-18</td>\n",
       "      <td>Item_0</td>\n",
       "      <td>98.89</td>\n",
       "      <td>North</td>\n",
       "      <td>2022-04-29</td>\n",
       "      <td>197.78</td>\n",
       "    </tr>\n",
       "    <tr>\n",
       "      <th>499</th>\n",
       "      <td>500</td>\n",
       "      <td>125</td>\n",
       "      <td>1014</td>\n",
       "      <td>2</td>\n",
       "      <td>2023-05-06</td>\n",
       "      <td>Item_14</td>\n",
       "      <td>66.07</td>\n",
       "      <td>North</td>\n",
       "      <td>2022-04-29</td>\n",
       "      <td>132.14</td>\n",
       "    </tr>\n",
       "  </tbody>\n",
       "</table>\n",
       "<p>500 rows × 10 columns</p>\n",
       "</div>"
      ],
      "text/plain": [
       "     Order_ID  Customer_ID  Product_ID  Quantity Order_Date Product_Name  \\\n",
       "0           1          138        1015         1 2023-01-12      Item_15   \n",
       "1           2          128        1006         1 2023-01-19       Item_6   \n",
       "2           3          114        1003         1 2023-04-11       Item_3   \n",
       "3           4          142        1000         1 2023-02-13       Item_0   \n",
       "4           5          107        1004         3 2023-02-18       Item_4   \n",
       "..        ...          ...         ...       ...        ...          ...   \n",
       "495       496          104        1013         4 2023-05-28      Item_13   \n",
       "496       497          111        1018         3 2023-02-06      Item_18   \n",
       "497       498          115        1005         2 2023-01-04       Item_5   \n",
       "498       499          125        1000         2 2023-04-18       Item_0   \n",
       "499       500          125        1014         2 2023-05-06      Item_14   \n",
       "\n",
       "     Price Region Signup_Date  Revenue  \n",
       "0    66.84   West  2022-08-04    66.84  \n",
       "1    53.80  North  2022-09-02    53.80  \n",
       "2    62.08   West  2022-06-05    62.08  \n",
       "3    98.89   East  2022-08-05    98.89  \n",
       "4    49.48  North  2022-06-24   148.44  \n",
       "..     ...    ...         ...      ...  \n",
       "495  28.96  South  2022-10-11   115.84  \n",
       "496  74.42  North  2022-04-30   223.26  \n",
       "497  75.27  North  2022-07-26   150.54  \n",
       "498  98.89  North  2022-04-29   197.78  \n",
       "499  66.07  North  2022-04-29   132.14  \n",
       "\n",
       "[500 rows x 10 columns]"
      ]
     },
     "execution_count": 24,
     "metadata": {},
     "output_type": "execute_result"
    }
   ],
   "source": [
    "df_master"
   ]
  },
  {
   "cell_type": "code",
   "execution_count": null,
   "id": "6f361a23",
   "metadata": {},
   "outputs": [],
   "source": [
    "df_master['Days_Since_Signup'] = (df_master['Order_Date'] - df_master['Signup_Date']).dt.days\n"
   ]
  },
  {
   "cell_type": "code",
   "execution_count": 28,
   "id": "f5e8187a",
   "metadata": {},
   "outputs": [],
   "source": [
    "bins = [float('-inf'), 100, 250, float('inf')]\n",
    "labels = ['Low', 'medium', 'High']\n",
    "\n",
    "df_master['Revenue_Category'] = pd.cut(df_master['Revenue'], bins=bins, labels=labels, right=False)"
   ]
  },
  {
   "cell_type": "code",
   "execution_count": 30,
   "id": "5bb69e0b",
   "metadata": {},
   "outputs": [
    {
     "name": "stdout",
     "output_type": "stream",
     "text": [
      "<class 'pandas.core.frame.DataFrame'>\n",
      "RangeIndex: 500 entries, 0 to 499\n",
      "Data columns (total 12 columns):\n",
      " #   Column             Non-Null Count  Dtype         \n",
      "---  ------             --------------  -----         \n",
      " 0   Order_ID           500 non-null    int64         \n",
      " 1   Customer_ID        500 non-null    int64         \n",
      " 2   Product_ID         500 non-null    int64         \n",
      " 3   Quantity           500 non-null    int64         \n",
      " 4   Order_Date         500 non-null    datetime64[ns]\n",
      " 5   Product_Name       500 non-null    object        \n",
      " 6   Price              500 non-null    float64       \n",
      " 7   Region             500 non-null    object        \n",
      " 8   Signup_Date        500 non-null    datetime64[ns]\n",
      " 9   Revenue            500 non-null    float64       \n",
      " 10  Days_Since_Signup  500 non-null    int64         \n",
      " 11  Revenue_Category   500 non-null    category      \n",
      "dtypes: category(1), datetime64[ns](2), float64(2), int64(5), object(2)\n",
      "memory usage: 43.7+ KB\n"
     ]
    }
   ],
   "source": [
    "df_master.info()"
   ]
  },
  {
   "cell_type": "code",
   "execution_count": 32,
   "id": "82a9b97e",
   "metadata": {},
   "outputs": [
    {
     "data": {
      "application/vnd.microsoft.datawrangler.viewer.v0+json": {
       "columns": [
        {
         "name": "Region",
         "rawType": "object",
         "type": "string"
        },
        {
         "name": "Revenue",
         "rawType": "float64",
         "type": "float"
        }
       ],
       "ref": "8bb20e4f-a199-4fdd-8f1a-fadc2d303b27",
       "rows": [
        [
         "East",
         "22094.92"
        ],
        [
         "North",
         "20522.74"
        ],
        [
         "South",
         "18989.25"
        ],
        [
         "West",
         "16061.42"
        ]
       ],
       "shape": {
        "columns": 1,
        "rows": 4
       }
      },
      "text/plain": [
       "Region\n",
       "East     22094.92\n",
       "North    20522.74\n",
       "South    18989.25\n",
       "West     16061.42\n",
       "Name: Revenue, dtype: float64"
      ]
     },
     "execution_count": 32,
     "metadata": {},
     "output_type": "execute_result"
    }
   ],
   "source": [
    "df_master.groupby('Region')['Revenue'].sum()"
   ]
  },
  {
   "cell_type": "code",
   "execution_count": 39,
   "id": "ad530a69",
   "metadata": {},
   "outputs": [
    {
     "data": {
      "application/vnd.microsoft.datawrangler.viewer.v0+json": {
       "columns": [
        {
         "name": "Product_Name",
         "rawType": "object",
         "type": "string"
        },
        {
         "name": "Quantity",
         "rawType": "int64",
         "type": "integer"
        }
       ],
       "ref": "85f6a0bf-6968-4d2f-829a-4f83f5f7bcb2",
       "rows": [
        [
         "Item_4",
         "100"
        ],
        [
         "Item_16",
         "85"
        ],
        [
         "Item_18",
         "69"
        ],
        [
         "Item_14",
         "68"
        ],
        [
         "Item_2",
         "68"
        ],
        [
         "Item_1",
         "66"
        ],
        [
         "Item_3",
         "65"
        ]
       ],
       "shape": {
        "columns": 1,
        "rows": 7
       }
      },
      "text/plain": [
       "Product_Name\n",
       "Item_4     100\n",
       "Item_16     85\n",
       "Item_18     69\n",
       "Item_14     68\n",
       "Item_2      68\n",
       "Item_1      66\n",
       "Item_3      65\n",
       "Name: Quantity, dtype: int64"
      ]
     },
     "execution_count": 39,
     "metadata": {},
     "output_type": "execute_result"
    }
   ],
   "source": [
    "df_master.groupby('Product_Name')['Quantity'].sum().sort_values(ascending=False).head(7)\n"
   ]
  },
  {
   "cell_type": "code",
   "execution_count": 47,
   "id": "de27de3b",
   "metadata": {},
   "outputs": [
    {
     "data": {
      "text/plain": [
       "True"
      ]
     },
     "execution_count": 47,
     "metadata": {},
     "output_type": "execute_result"
    }
   ],
   "source": [
    "df_master['Order_ID'].is_unique"
   ]
  },
  {
   "cell_type": "code",
   "execution_count": 48,
   "id": "db39cf84",
   "metadata": {},
   "outputs": [
    {
     "data": {
      "application/vnd.microsoft.datawrangler.viewer.v0+json": {
       "columns": [
        {
         "name": "Order_ID",
         "rawType": "int64",
         "type": "integer"
        },
        {
         "name": "Revenue",
         "rawType": "float64",
         "type": "float"
        }
       ],
       "ref": "259e959f-b97f-4234-b1f3-45d164f7bf45",
       "rows": [
        [
         "1",
         "66.84"
        ],
        [
         "2",
         "53.8"
        ],
        [
         "3",
         "62.08"
        ],
        [
         "4",
         "98.89"
        ],
        [
         "5",
         "148.44"
        ],
        [
         "6",
         "143.85000000000002"
        ],
        [
         "7",
         "98.96"
        ],
        [
         "8",
         "124.16"
        ],
        [
         "9",
         "13.61"
        ],
        [
         "10",
         "367.24"
        ],
        [
         "11",
         "191.8"
        ],
        [
         "12",
         "223.26"
        ],
        [
         "13",
         "296.67"
        ],
        [
         "14",
         "148.44"
        ],
        [
         "15",
         "184.22"
        ],
        [
         "16",
         "124.16"
        ],
        [
         "17",
         "200.52"
        ],
        [
         "18",
         "200.52"
        ],
        [
         "19",
         "40.83"
        ],
        [
         "20",
         "303.92"
        ],
        [
         "21",
         "183.62"
        ],
        [
         "22",
         "253.24"
        ],
        [
         "23",
         "87.36"
        ],
        [
         "24",
         "264.09000000000003"
        ],
        [
         "25",
         "296.67"
        ],
        [
         "26",
         "98.89"
        ],
        [
         "27",
         "74.42"
        ],
        [
         "28",
         "139.64"
        ],
        [
         "29",
         "98.96"
        ],
        [
         "30",
         "189.93"
        ],
        [
         "31",
         "264.09000000000003"
        ],
        [
         "32",
         "395.56"
        ],
        [
         "33",
         "98.89"
        ],
        [
         "34",
         "177.22"
        ],
        [
         "35",
         "47.95"
        ],
        [
         "36",
         "34.91"
        ],
        [
         "37",
         "63.31"
        ],
        [
         "38",
         "92.11"
        ],
        [
         "39",
         "189.93"
        ],
        [
         "40",
         "86.88"
        ],
        [
         "41",
         "13.61"
        ],
        [
         "42",
         "148.84"
        ],
        [
         "43",
         "87.36"
        ],
        [
         "44",
         "176.06"
        ],
        [
         "45",
         "151.96"
        ],
        [
         "46",
         "177.22"
        ],
        [
         "47",
         "47.95"
        ],
        [
         "48",
         "40.83"
        ],
        [
         "49",
         "148.84"
        ],
        [
         "50",
         "91.06"
        ]
       ],
       "shape": {
        "columns": 1,
        "rows": 500
       }
      },
      "text/plain": [
       "Order_ID\n",
       "1       66.84\n",
       "2       53.80\n",
       "3       62.08\n",
       "4       98.89\n",
       "5      148.44\n",
       "        ...  \n",
       "496    115.84\n",
       "497    223.26\n",
       "498    150.54\n",
       "499    197.78\n",
       "500    132.14\n",
       "Name: Revenue, Length: 500, dtype: float64"
      ]
     },
     "execution_count": 48,
     "metadata": {},
     "output_type": "execute_result"
    }
   ],
   "source": [
    "# mean revenue per order and sum of revenue per order is equal as 'Order_ID' is unique\n",
    "df_master.groupby('Order_ID')['Revenue'].mean() "
   ]
  },
  {
   "cell_type": "code",
   "execution_count": 50,
   "id": "789b581b",
   "metadata": {},
   "outputs": [],
   "source": [
    "df_master.to_csv(\"df_master.csv\", index=False)"
   ]
  },
  {
   "cell_type": "code",
   "execution_count": null,
   "id": "c9c3116f",
   "metadata": {},
   "outputs": [],
   "source": []
  },
  {
   "cell_type": "code",
   "execution_count": null,
   "id": "a9a83136",
   "metadata": {},
   "outputs": [],
   "source": []
  },
  {
   "cell_type": "code",
   "execution_count": null,
   "id": "329f8f1a",
   "metadata": {},
   "outputs": [],
   "source": []
  }
 ],
 "metadata": {
  "kernelspec": {
   "display_name": "Python 3",
   "language": "python",
   "name": "python3"
  },
  "language_info": {
   "codemirror_mode": {
    "name": "ipython",
    "version": 3
   },
   "file_extension": ".py",
   "mimetype": "text/x-python",
   "name": "python",
   "nbconvert_exporter": "python",
   "pygments_lexer": "ipython3",
   "version": "3.10.0"
  }
 },
 "nbformat": 4,
 "nbformat_minor": 5
}
