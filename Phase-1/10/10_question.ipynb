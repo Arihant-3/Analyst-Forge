{
 "cells": [
  {
   "cell_type": "markdown",
   "id": "78b86c90",
   "metadata": {},
   "source": [
    "DATA CREATION"
   ]
  },
  {
   "cell_type": "code",
   "execution_count": 1,
   "id": "56e7d8e6",
   "metadata": {},
   "outputs": [],
   "source": [
    "import pandas as pd\n",
    "import numpy as np\n",
    "\n",
    "np.random.seed(42)\n",
    "keywords = ['good', 'bad', 'fast', 'slow', 'cheap', 'expensive', 'useful', 'useless', 'durable', 'broken']\n",
    "\n",
    "reviews = []\n",
    "for _ in range(1000):\n",
    "    num_words = np.random.randint(5, 20)\n",
    "    review = ' '.join(np.random.choice(keywords, num_words))\n",
    "    reviews.append(review)\n",
    "\n",
    "df = pd.DataFrame({'Review_ID': range(1, 1001), 'Text': reviews})\n",
    "df.to_csv(\"product_reviews.csv\", index=False)\n"
   ]
  },
  {
   "cell_type": "markdown",
   "id": "230fa33d",
   "metadata": {},
   "source": [
    "## Tasks:\n",
    "1. Tokenize and clean the text (remove punctuation, lowercase).\n",
    "\n",
    "2. Generate a frequency distribution of all keywords.\n",
    "\n",
    "3. Visualize it using:\n",
    "\n",
    "- Bar chart for top words\n",
    "\n",
    "- Optional: Word cloud\n",
    "\n",
    "4. Identify:\n",
    "\n",
    "- Top 3 positive words and their frequency\n",
    "\n",
    "- Top 3 negative words and their frequency\n",
    "\n"
   ]
  },
  {
   "cell_type": "code",
   "execution_count": 2,
   "id": "bf30c3dc",
   "metadata": {},
   "outputs": [
    {
     "data": {
      "application/vnd.microsoft.datawrangler.viewer.v0+json": {
       "columns": [
        {
         "name": "index",
         "rawType": "int64",
         "type": "integer"
        },
        {
         "name": "Review_ID",
         "rawType": "int64",
         "type": "integer"
        },
        {
         "name": "Text",
         "rawType": "object",
         "type": "string"
        }
       ],
       "ref": "ebc1a544-96d3-4893-9201-420ed3ef8497",
       "rows": [
        [
         "0",
         "1",
         "slow useless cheap useful broken fast useful useless cheap slow useless"
        ],
        [
         "1",
         "2",
         "fast expensive cheap bad useless expensive bad cheap good broken expensive durable"
        ],
        [
         "2",
         "3",
         "broken fast useful slow durable"
        ],
        [
         "3",
         "4",
         "cheap fast useful cheap durable useful bad"
        ],
        [
         "4",
         "5",
         "durable bad broken durable broken cheap bad slow"
        ]
       ],
       "shape": {
        "columns": 2,
        "rows": 5
       }
      },
      "text/html": [
       "<div>\n",
       "<style scoped>\n",
       "    .dataframe tbody tr th:only-of-type {\n",
       "        vertical-align: middle;\n",
       "    }\n",
       "\n",
       "    .dataframe tbody tr th {\n",
       "        vertical-align: top;\n",
       "    }\n",
       "\n",
       "    .dataframe thead th {\n",
       "        text-align: right;\n",
       "    }\n",
       "</style>\n",
       "<table border=\"1\" class=\"dataframe\">\n",
       "  <thead>\n",
       "    <tr style=\"text-align: right;\">\n",
       "      <th></th>\n",
       "      <th>Review_ID</th>\n",
       "      <th>Text</th>\n",
       "    </tr>\n",
       "  </thead>\n",
       "  <tbody>\n",
       "    <tr>\n",
       "      <th>0</th>\n",
       "      <td>1</td>\n",
       "      <td>slow useless cheap useful broken fast useful u...</td>\n",
       "    </tr>\n",
       "    <tr>\n",
       "      <th>1</th>\n",
       "      <td>2</td>\n",
       "      <td>fast expensive cheap bad useless expensive bad...</td>\n",
       "    </tr>\n",
       "    <tr>\n",
       "      <th>2</th>\n",
       "      <td>3</td>\n",
       "      <td>broken fast useful slow durable</td>\n",
       "    </tr>\n",
       "    <tr>\n",
       "      <th>3</th>\n",
       "      <td>4</td>\n",
       "      <td>cheap fast useful cheap durable useful bad</td>\n",
       "    </tr>\n",
       "    <tr>\n",
       "      <th>4</th>\n",
       "      <td>5</td>\n",
       "      <td>durable bad broken durable broken cheap bad slow</td>\n",
       "    </tr>\n",
       "  </tbody>\n",
       "</table>\n",
       "</div>"
      ],
      "text/plain": [
       "   Review_ID                                               Text\n",
       "0          1  slow useless cheap useful broken fast useful u...\n",
       "1          2  fast expensive cheap bad useless expensive bad...\n",
       "2          3                    broken fast useful slow durable\n",
       "3          4         cheap fast useful cheap durable useful bad\n",
       "4          5   durable bad broken durable broken cheap bad slow"
      ]
     },
     "execution_count": 2,
     "metadata": {},
     "output_type": "execute_result"
    }
   ],
   "source": [
    "df.head()"
   ]
  },
  {
   "cell_type": "code",
   "execution_count": 3,
   "id": "74829da6",
   "metadata": {},
   "outputs": [],
   "source": [
    "df['Text'] = df['Text'].str.lower()  # Convert to lowercase"
   ]
  },
  {
   "cell_type": "code",
   "execution_count": 4,
   "id": "32ab149f",
   "metadata": {},
   "outputs": [
    {
     "data": {
      "text/plain": [
       "array([False])"
      ]
     },
     "execution_count": 4,
     "metadata": {},
     "output_type": "execute_result"
    }
   ],
   "source": [
    "import string\n",
    "def contain_punctuation(text):\n",
    "    return any(char in string.punctuation for char in text)\n",
    "\n",
    "df['Contains_Punctuation'] = df['Text'].apply(contain_punctuation)\n",
    "df['Contains_Punctuation'].unique()"
   ]
  },
  {
   "cell_type": "code",
   "execution_count": 5,
   "id": "b9041f40",
   "metadata": {},
   "outputs": [
    {
     "data": {
      "application/vnd.microsoft.datawrangler.viewer.v0+json": {
       "columns": [
        {
         "name": "index",
         "rawType": "int64",
         "type": "integer"
        },
        {
         "name": "Review_ID",
         "rawType": "int64",
         "type": "integer"
        },
        {
         "name": "Text",
         "rawType": "object",
         "type": "string"
        },
        {
         "name": "Contains_Punctuation",
         "rawType": "bool",
         "type": "boolean"
        },
        {
         "name": "Token",
         "rawType": "object",
         "type": "unknown"
        }
       ],
       "ref": "31de4d11-d181-42ad-aef9-2fe99965fca7",
       "rows": [
        [
         "0",
         "1",
         "slow useless cheap useful broken fast useful useless cheap slow useless",
         "False",
         "['slow', 'useless', 'cheap', 'useful', 'broken', 'fast', 'useful', 'useless', 'cheap', 'slow', 'useless']"
        ],
        [
         "1",
         "2",
         "fast expensive cheap bad useless expensive bad cheap good broken expensive durable",
         "False",
         "['fast', 'expensive', 'cheap', 'bad', 'useless', 'expensive', 'bad', 'cheap', 'good', 'broken', 'expensive', 'durable']"
        ],
        [
         "2",
         "3",
         "broken fast useful slow durable",
         "False",
         "['broken', 'fast', 'useful', 'slow', 'durable']"
        ],
        [
         "3",
         "4",
         "cheap fast useful cheap durable useful bad",
         "False",
         "['cheap', 'fast', 'useful', 'cheap', 'durable', 'useful', 'bad']"
        ],
        [
         "4",
         "5",
         "durable bad broken durable broken cheap bad slow",
         "False",
         "['durable', 'bad', 'broken', 'durable', 'broken', 'cheap', 'bad', 'slow']"
        ]
       ],
       "shape": {
        "columns": 4,
        "rows": 5
       }
      },
      "text/html": [
       "<div>\n",
       "<style scoped>\n",
       "    .dataframe tbody tr th:only-of-type {\n",
       "        vertical-align: middle;\n",
       "    }\n",
       "\n",
       "    .dataframe tbody tr th {\n",
       "        vertical-align: top;\n",
       "    }\n",
       "\n",
       "    .dataframe thead th {\n",
       "        text-align: right;\n",
       "    }\n",
       "</style>\n",
       "<table border=\"1\" class=\"dataframe\">\n",
       "  <thead>\n",
       "    <tr style=\"text-align: right;\">\n",
       "      <th></th>\n",
       "      <th>Review_ID</th>\n",
       "      <th>Text</th>\n",
       "      <th>Contains_Punctuation</th>\n",
       "      <th>Token</th>\n",
       "    </tr>\n",
       "  </thead>\n",
       "  <tbody>\n",
       "    <tr>\n",
       "      <th>0</th>\n",
       "      <td>1</td>\n",
       "      <td>slow useless cheap useful broken fast useful u...</td>\n",
       "      <td>False</td>\n",
       "      <td>[slow, useless, cheap, useful, broken, fast, u...</td>\n",
       "    </tr>\n",
       "    <tr>\n",
       "      <th>1</th>\n",
       "      <td>2</td>\n",
       "      <td>fast expensive cheap bad useless expensive bad...</td>\n",
       "      <td>False</td>\n",
       "      <td>[fast, expensive, cheap, bad, useless, expensi...</td>\n",
       "    </tr>\n",
       "    <tr>\n",
       "      <th>2</th>\n",
       "      <td>3</td>\n",
       "      <td>broken fast useful slow durable</td>\n",
       "      <td>False</td>\n",
       "      <td>[broken, fast, useful, slow, durable]</td>\n",
       "    </tr>\n",
       "    <tr>\n",
       "      <th>3</th>\n",
       "      <td>4</td>\n",
       "      <td>cheap fast useful cheap durable useful bad</td>\n",
       "      <td>False</td>\n",
       "      <td>[cheap, fast, useful, cheap, durable, useful, ...</td>\n",
       "    </tr>\n",
       "    <tr>\n",
       "      <th>4</th>\n",
       "      <td>5</td>\n",
       "      <td>durable bad broken durable broken cheap bad slow</td>\n",
       "      <td>False</td>\n",
       "      <td>[durable, bad, broken, durable, broken, cheap,...</td>\n",
       "    </tr>\n",
       "  </tbody>\n",
       "</table>\n",
       "</div>"
      ],
      "text/plain": [
       "   Review_ID                                               Text  \\\n",
       "0          1  slow useless cheap useful broken fast useful u...   \n",
       "1          2  fast expensive cheap bad useless expensive bad...   \n",
       "2          3                    broken fast useful slow durable   \n",
       "3          4         cheap fast useful cheap durable useful bad   \n",
       "4          5   durable bad broken durable broken cheap bad slow   \n",
       "\n",
       "   Contains_Punctuation                                              Token  \n",
       "0                 False  [slow, useless, cheap, useful, broken, fast, u...  \n",
       "1                 False  [fast, expensive, cheap, bad, useless, expensi...  \n",
       "2                 False              [broken, fast, useful, slow, durable]  \n",
       "3                 False  [cheap, fast, useful, cheap, durable, useful, ...  \n",
       "4                 False  [durable, bad, broken, durable, broken, cheap,...  "
      ]
     },
     "execution_count": 5,
     "metadata": {},
     "output_type": "execute_result"
    }
   ],
   "source": [
    "df['Token'] = df['Text'].str.split()  # Tokenize the text\n",
    "df.head()"
   ]
  },
  {
   "cell_type": "code",
   "execution_count": 6,
   "id": "5d167258",
   "metadata": {},
   "outputs": [],
   "source": [
    "import seaborn as sns\n",
    "import matplotlib.pyplot as plt\n",
    "%matplotlib inline"
   ]
  },
  {
   "cell_type": "code",
   "execution_count": 7,
   "id": "154db4eb",
   "metadata": {},
   "outputs": [
    {
     "data": {
      "image/png": "[encoded data removed]",
      "text/plain": [
       "<Figure size 640x480 with 1 Axes>"
      ]
     },
     "metadata": {},
     "output_type": "display_data"
    },
    {
     "data": {
      "image/jpeg": "[encoded data removed]",
      "image/png": "[encoded data removed]",
      "text/plain": [
       "<PIL.Image.Image image mode=RGB size=800x400>"
      ]
     },
     "execution_count": 7,
     "metadata": {},
     "output_type": "execute_result"
    }
   ],
   "source": [
    "from collections import Counter\n",
    "from wordcloud import WordCloud\n",
    "\n",
    "words = ' '.join(df['Text']).lower().split()\n",
    "word_freq = Counter(words)\n",
    "\n",
    "# Bar chart\n",
    "freq_df = pd.DataFrame(word_freq.items(), columns=['Word', 'Frequency']).sort_values(by='Frequency', ascending=False)\n",
    "sns.barplot(data=freq_df.head(10), x='Frequency', y='Word')\n",
    "plt.title(\"Top Words in Product Reviews\")\n",
    "plt.show()\n",
    "\n",
    "# WordCloud (optional)\n",
    "WordCloud(width=800, height=400).generate_from_frequencies(word_freq).to_image()\n"
   ]
  },
  {
   "cell_type": "code",
   "execution_count": 8,
   "id": "f7e8a9ea",
   "metadata": {},
   "outputs": [
    {
     "data": {
      "application/vnd.microsoft.datawrangler.viewer.v0+json": {
       "columns": [
        {
         "name": "index",
         "rawType": "int64",
         "type": "integer"
        },
        {
         "name": "Review_ID",
         "rawType": "int64",
         "type": "integer"
        },
        {
         "name": "Text",
         "rawType": "object",
         "type": "string"
        },
        {
         "name": "Contains_Punctuation",
         "rawType": "bool",
         "type": "boolean"
        },
        {
         "name": "Token",
         "rawType": "object",
         "type": "unknown"
        }
       ],
       "ref": "0452a596-14d3-4818-ac77-8a47a9c6edd4",
       "rows": [
        [
         "0",
         "1",
         "slow useless cheap useful broken fast useful useless cheap slow useless",
         "False",
         "['slow', 'useless', 'cheap', 'useful', 'broken', 'fast', 'useful', 'useless', 'cheap', 'slow', 'useless']"
        ],
        [
         "1",
         "2",
         "fast expensive cheap bad useless expensive bad cheap good broken expensive durable",
         "False",
         "['fast', 'expensive', 'cheap', 'bad', 'useless', 'expensive', 'bad', 'cheap', 'good', 'broken', 'expensive', 'durable']"
        ],
        [
         "2",
         "3",
         "broken fast useful slow durable",
         "False",
         "['broken', 'fast', 'useful', 'slow', 'durable']"
        ],
        [
         "3",
         "4",
         "cheap fast useful cheap durable useful bad",
         "False",
         "['cheap', 'fast', 'useful', 'cheap', 'durable', 'useful', 'bad']"
        ],
        [
         "4",
         "5",
         "durable bad broken durable broken cheap bad slow",
         "False",
         "['durable', 'bad', 'broken', 'durable', 'broken', 'cheap', 'bad', 'slow']"
        ]
       ],
       "shape": {
        "columns": 4,
        "rows": 5
       }
      },
      "text/html": [
       "<div>\n",
       "<style scoped>\n",
       "    .dataframe tbody tr th:only-of-type {\n",
       "        vertical-align: middle;\n",
       "    }\n",
       "\n",
       "    .dataframe tbody tr th {\n",
       "        vertical-align: top;\n",
       "    }\n",
       "\n",
       "    .dataframe thead th {\n",
       "        text-align: right;\n",
       "    }\n",
       "</style>\n",
       "<table border=\"1\" class=\"dataframe\">\n",
       "  <thead>\n",
       "    <tr style=\"text-align: right;\">\n",
       "      <th></th>\n",
       "      <th>Review_ID</th>\n",
       "      <th>Text</th>\n",
       "      <th>Contains_Punctuation</th>\n",
       "      <th>Token</th>\n",
       "    </tr>\n",
       "  </thead>\n",
       "  <tbody>\n",
       "    <tr>\n",
       "      <th>0</th>\n",
       "      <td>1</td>\n",
       "      <td>slow useless cheap useful broken fast useful u...</td>\n",
       "      <td>False</td>\n",
       "      <td>[slow, useless, cheap, useful, broken, fast, u...</td>\n",
       "    </tr>\n",
       "    <tr>\n",
       "      <th>1</th>\n",
       "      <td>2</td>\n",
       "      <td>fast expensive cheap bad useless expensive bad...</td>\n",
       "      <td>False</td>\n",
       "      <td>[fast, expensive, cheap, bad, useless, expensi...</td>\n",
       "    </tr>\n",
       "    <tr>\n",
       "      <th>2</th>\n",
       "      <td>3</td>\n",
       "      <td>broken fast useful slow durable</td>\n",
       "      <td>False</td>\n",
       "      <td>[broken, fast, useful, slow, durable]</td>\n",
       "    </tr>\n",
       "    <tr>\n",
       "      <th>3</th>\n",
       "      <td>4</td>\n",
       "      <td>cheap fast useful cheap durable useful bad</td>\n",
       "      <td>False</td>\n",
       "      <td>[cheap, fast, useful, cheap, durable, useful, ...</td>\n",
       "    </tr>\n",
       "    <tr>\n",
       "      <th>4</th>\n",
       "      <td>5</td>\n",
       "      <td>durable bad broken durable broken cheap bad slow</td>\n",
       "      <td>False</td>\n",
       "      <td>[durable, bad, broken, durable, broken, cheap,...</td>\n",
       "    </tr>\n",
       "  </tbody>\n",
       "</table>\n",
       "</div>"
      ],
      "text/plain": [
       "   Review_ID                                               Text  \\\n",
       "0          1  slow useless cheap useful broken fast useful u...   \n",
       "1          2  fast expensive cheap bad useless expensive bad...   \n",
       "2          3                    broken fast useful slow durable   \n",
       "3          4         cheap fast useful cheap durable useful bad   \n",
       "4          5   durable bad broken durable broken cheap bad slow   \n",
       "\n",
       "   Contains_Punctuation                                              Token  \n",
       "0                 False  [slow, useless, cheap, useful, broken, fast, u...  \n",
       "1                 False  [fast, expensive, cheap, bad, useless, expensi...  \n",
       "2                 False              [broken, fast, useful, slow, durable]  \n",
       "3                 False  [cheap, fast, useful, cheap, durable, useful, ...  \n",
       "4                 False  [durable, bad, broken, durable, broken, cheap,...  "
      ]
     },
     "execution_count": 8,
     "metadata": {},
     "output_type": "execute_result"
    }
   ],
   "source": [
    "df.head()"
   ]
  },
  {
   "cell_type": "code",
   "execution_count": 9,
   "id": "3c060c64",
   "metadata": {},
   "outputs": [
    {
     "data": {
      "text/plain": [
       "(689, 698, 697)"
      ]
     },
     "execution_count": 9,
     "metadata": {},
     "output_type": "execute_result"
    }
   ],
   "source": [
    "def freq_word(word):\n",
    "    return sum(word in review for review in df['Token'])\n",
    "    \n",
    "freq_word('good'), freq_word('useful'), freq_word('durable')"
   ]
  },
  {
   "cell_type": "code",
   "execution_count": 10,
   "id": "71ea3097",
   "metadata": {},
   "outputs": [
    {
     "data": {
      "text/plain": [
       "(1227, 1199, 1187)"
      ]
     },
     "execution_count": 10,
     "metadata": {},
     "output_type": "execute_result"
    }
   ],
   "source": [
    "def total_occurrence(word):\n",
    "    return sum(review.count(word) for review in df['Token'])\n",
    "\n",
    "total_occurrence('good'), total_occurrence('useful'), total_occurrence('durable')"
   ]
  },
  {
   "cell_type": "code",
   "execution_count": 11,
   "id": "5c554e2a",
   "metadata": {},
   "outputs": [],
   "source": [
    "# Top 3 positive words and their frequency\n",
    "positive_words = ['good', 'useful', 'durable']\n",
    "# Top 3 negative words and their frequency\n",
    "negative_words = ['expensive', 'useless', 'broken']\n",
    "\n",
    "pos_word_freq=pd.DataFrame({\n",
    "    'positive_word' : positive_words,\n",
    "    'positive_frequency': [freq_word(word) for word in positive_words]\n",
    "}).set_index('positive_word')\n",
    "\n",
    "neg_word_freq=pd.DataFrame({\n",
    "    'negative_word' : negative_words,\n",
    "    'negative_frequncy' : [freq_word(word) for word in negative_words]\n",
    "}).set_index('negative_word')\n",
    "\n"
   ]
  },
  {
   "cell_type": "code",
   "execution_count": 12,
   "id": "bbfecce6",
   "metadata": {},
   "outputs": [
    {
     "data": {
      "application/vnd.microsoft.datawrangler.viewer.v0+json": {
       "columns": [
        {
         "name": "positive_word",
         "rawType": "object",
         "type": "string"
        },
        {
         "name": "positive_frequency",
         "rawType": "int64",
         "type": "integer"
        }
       ],
       "ref": "c467684c-f300-4306-93b5-d85538c632fd",
       "rows": [
        [
         "good",
         "689"
        ],
        [
         "useful",
         "698"
        ],
        [
         "durable",
         "697"
        ]
       ],
       "shape": {
        "columns": 1,
        "rows": 3
       }
      },
      "text/html": [
       "<div>\n",
       "<style scoped>\n",
       "    .dataframe tbody tr th:only-of-type {\n",
       "        vertical-align: middle;\n",
       "    }\n",
       "\n",
       "    .dataframe tbody tr th {\n",
       "        vertical-align: top;\n",
       "    }\n",
       "\n",
       "    .dataframe thead th {\n",
       "        text-align: right;\n",
       "    }\n",
       "</style>\n",
       "<table border=\"1\" class=\"dataframe\">\n",
       "  <thead>\n",
       "    <tr style=\"text-align: right;\">\n",
       "      <th></th>\n",
       "      <th>positive_frequency</th>\n",
       "    </tr>\n",
       "    <tr>\n",
       "      <th>positive_word</th>\n",
       "      <th></th>\n",
       "    </tr>\n",
       "  </thead>\n",
       "  <tbody>\n",
       "    <tr>\n",
       "      <th>good</th>\n",
       "      <td>689</td>\n",
       "    </tr>\n",
       "    <tr>\n",
       "      <th>useful</th>\n",
       "      <td>698</td>\n",
       "    </tr>\n",
       "    <tr>\n",
       "      <th>durable</th>\n",
       "      <td>697</td>\n",
       "    </tr>\n",
       "  </tbody>\n",
       "</table>\n",
       "</div>"
      ],
      "text/plain": [
       "               positive_frequency\n",
       "positive_word                    \n",
       "good                          689\n",
       "useful                        698\n",
       "durable                       697"
      ]
     },
     "execution_count": 12,
     "metadata": {},
     "output_type": "execute_result"
    }
   ],
   "source": [
    "pos_word_freq.head()"
   ]
  },
  {
   "cell_type": "code",
   "execution_count": 13,
   "id": "fdd50576",
   "metadata": {},
   "outputs": [
    {
     "data": {
      "application/vnd.microsoft.datawrangler.viewer.v0+json": {
       "columns": [
        {
         "name": "negative_word",
         "rawType": "object",
         "type": "string"
        },
        {
         "name": "negative_frequncy",
         "rawType": "int64",
         "type": "integer"
        }
       ],
       "ref": "1741edd8-cd7b-44d6-9c9f-df5012eb3f5d",
       "rows": [
        [
         "expensive",
         "693"
        ],
        [
         "useless",
         "670"
        ],
        [
         "broken",
         "689"
        ]
       ],
       "shape": {
        "columns": 1,
        "rows": 3
       }
      },
      "text/html": [
       "<div>\n",
       "<style scoped>\n",
       "    .dataframe tbody tr th:only-of-type {\n",
       "        vertical-align: middle;\n",
       "    }\n",
       "\n",
       "    .dataframe tbody tr th {\n",
       "        vertical-align: top;\n",
       "    }\n",
       "\n",
       "    .dataframe thead th {\n",
       "        text-align: right;\n",
       "    }\n",
       "</style>\n",
       "<table border=\"1\" class=\"dataframe\">\n",
       "  <thead>\n",
       "    <tr style=\"text-align: right;\">\n",
       "      <th></th>\n",
       "      <th>negative_frequncy</th>\n",
       "    </tr>\n",
       "    <tr>\n",
       "      <th>negative_word</th>\n",
       "      <th></th>\n",
       "    </tr>\n",
       "  </thead>\n",
       "  <tbody>\n",
       "    <tr>\n",
       "      <th>expensive</th>\n",
       "      <td>693</td>\n",
       "    </tr>\n",
       "    <tr>\n",
       "      <th>useless</th>\n",
       "      <td>670</td>\n",
       "    </tr>\n",
       "    <tr>\n",
       "      <th>broken</th>\n",
       "      <td>689</td>\n",
       "    </tr>\n",
       "  </tbody>\n",
       "</table>\n",
       "</div>"
      ],
      "text/plain": [
       "               negative_frequncy\n",
       "negative_word                   \n",
       "expensive                    693\n",
       "useless                      670\n",
       "broken                       689"
      ]
     },
     "execution_count": 13,
     "metadata": {},
     "output_type": "execute_result"
    }
   ],
   "source": [
    "neg_word_freq.head()"
   ]
  },
  {
   "cell_type": "code",
   "execution_count": null,
   "id": "37949cae",
   "metadata": {},
   "outputs": [],
   "source": [
    "# Step 1: Get all words from token lists\n",
    "all_words = [word for review in df['Token'] for word in review]\n",
    "\n",
    "# Step 2: Get unique words to avoid repetition\n",
    "unique_words = set(all_words)\n",
    "\n",
    "# Step 3: Apply freq_word() to each unique word\n",
    "word_freq = pd.DataFrame({\n",
    "    'word': list(unique_words),\n",
    "    'frequency': [freq_word(word) for word in unique_words]\n",
    "}).sort_values(by='frequency', ascending=False)\n"
   ]
  },
  {
   "cell_type": "code",
   "execution_count": 26,
   "id": "549da49d",
   "metadata": {},
   "outputs": [
    {
     "data": {
      "application/vnd.microsoft.datawrangler.viewer.v0+json": {
       "columns": [
        {
         "name": "index",
         "rawType": "int64",
         "type": "integer"
        },
        {
         "name": "word",
         "rawType": "object",
         "type": "string"
        },
        {
         "name": "frequency",
         "rawType": "int64",
         "type": "integer"
        }
       ],
       "ref": "90a6f6a0-6705-41ac-b003-a52b0f40f9c6",
       "rows": [
        [
         "6",
         "useful",
         "698"
        ],
        [
         "4",
         "durable",
         "697"
        ],
        [
         "5",
         "expensive",
         "693"
        ],
        [
         "8",
         "cheap",
         "690"
        ],
        [
         "2",
         "broken",
         "689"
        ],
        [
         "3",
         "good",
         "689"
        ],
        [
         "7",
         "bad",
         "678"
        ],
        [
         "0",
         "useless",
         "670"
        ],
        [
         "9",
         "fast",
         "670"
        ],
        [
         "1",
         "slow",
         "661"
        ]
       ],
       "shape": {
        "columns": 2,
        "rows": 10
       }
      },
      "text/html": [
       "<div>\n",
       "<style scoped>\n",
       "    .dataframe tbody tr th:only-of-type {\n",
       "        vertical-align: middle;\n",
       "    }\n",
       "\n",
       "    .dataframe tbody tr th {\n",
       "        vertical-align: top;\n",
       "    }\n",
       "\n",
       "    .dataframe thead th {\n",
       "        text-align: right;\n",
       "    }\n",
       "</style>\n",
       "<table border=\"1\" class=\"dataframe\">\n",
       "  <thead>\n",
       "    <tr style=\"text-align: right;\">\n",
       "      <th></th>\n",
       "      <th>word</th>\n",
       "      <th>frequency</th>\n",
       "    </tr>\n",
       "  </thead>\n",
       "  <tbody>\n",
       "    <tr>\n",
       "      <th>6</th>\n",
       "      <td>useful</td>\n",
       "      <td>698</td>\n",
       "    </tr>\n",
       "    <tr>\n",
       "      <th>4</th>\n",
       "      <td>durable</td>\n",
       "      <td>697</td>\n",
       "    </tr>\n",
       "    <tr>\n",
       "      <th>5</th>\n",
       "      <td>expensive</td>\n",
       "      <td>693</td>\n",
       "    </tr>\n",
       "    <tr>\n",
       "      <th>8</th>\n",
       "      <td>cheap</td>\n",
       "      <td>690</td>\n",
       "    </tr>\n",
       "    <tr>\n",
       "      <th>2</th>\n",
       "      <td>broken</td>\n",
       "      <td>689</td>\n",
       "    </tr>\n",
       "    <tr>\n",
       "      <th>3</th>\n",
       "      <td>good</td>\n",
       "      <td>689</td>\n",
       "    </tr>\n",
       "    <tr>\n",
       "      <th>7</th>\n",
       "      <td>bad</td>\n",
       "      <td>678</td>\n",
       "    </tr>\n",
       "    <tr>\n",
       "      <th>0</th>\n",
       "      <td>useless</td>\n",
       "      <td>670</td>\n",
       "    </tr>\n",
       "    <tr>\n",
       "      <th>9</th>\n",
       "      <td>fast</td>\n",
       "      <td>670</td>\n",
       "    </tr>\n",
       "    <tr>\n",
       "      <th>1</th>\n",
       "      <td>slow</td>\n",
       "      <td>661</td>\n",
       "    </tr>\n",
       "  </tbody>\n",
       "</table>\n",
       "</div>"
      ],
      "text/plain": [
       "        word  frequency\n",
       "6     useful        698\n",
       "4    durable        697\n",
       "5  expensive        693\n",
       "8      cheap        690\n",
       "2     broken        689\n",
       "3       good        689\n",
       "7        bad        678\n",
       "0    useless        670\n",
       "9       fast        670\n",
       "1       slow        661"
      ]
     },
     "execution_count": 26,
     "metadata": {},
     "output_type": "execute_result"
    }
   ],
   "source": [
    "word_freq"
   ]
  },
  {
   "cell_type": "code",
   "execution_count": null,
   "id": "dc59c945",
   "metadata": {},
   "outputs": [],
   "source": []
  },
  {
   "cell_type": "code",
   "execution_count": null,
   "id": "cb9809cc",
   "metadata": {},
   "outputs": [],
   "source": []
  },
  {
   "cell_type": "code",
   "execution_count": null,
   "id": "8299b9b0",
   "metadata": {},
   "outputs": [],
   "source": []
  }
 ],
 "metadata": {
  "kernelspec": {
   "display_name": "Python 3",
   "language": "python",
   "name": "python3"
  },
  "language_info": {
   "codemirror_mode": {
    "name": "ipython",
    "version": 3
   },
   "file_extension": ".py",
   "mimetype": "text/x-python",
   "name": "python",
   "nbconvert_exporter": "python",
   "pygments_lexer": "ipython3",
   "version": "3.10.0"
  }
 },
 "nbformat": 4,
 "nbformat_minor": 5
}
