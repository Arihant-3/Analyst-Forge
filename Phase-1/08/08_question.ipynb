{
 "cells": [
  {
   "cell_type": "markdown",
   "id": "70086e77",
   "metadata": {},
   "source": [
    "DATA CREATION"
   ]
  },
  {
   "cell_type": "code",
   "execution_count": 2,
   "id": "cbe5e95d",
   "metadata": {},
   "outputs": [],
   "source": [
    "import pandas as pd\n",
    "import numpy as np\n",
    "\n",
    "np.random.seed(42)\n",
    "n = 1000\n",
    "\n",
    "cities = ['Delhi', 'Mumbai', 'Bangalore', 'Kolkata', 'Chennai', 'Hyderabad', 'Ahmedabad']\n",
    "data = {\n",
    "    'Order_ID': range(1, n + 1),\n",
    "    'City': np.random.choice(cities, n),\n",
    "    'Delivery_Time': np.random.normal(4, 1.5, n).clip(1, 10),  # in days\n",
    "    'Is_Delayed': np.random.choice([0, 1], n, p=[0.8, 0.2])  # 20% delayed\n",
    "}\n",
    "\n",
    "df = pd.DataFrame(data)\n",
    "df.to_csv(\"delivery_data.csv\", index=False)\n"
   ]
  },
  {
   "cell_type": "markdown",
   "id": "14522e07",
   "metadata": {},
   "source": [
    "## Tasks:\n",
    "1. For each city, calculate:\n",
    "    - Average delivery time\n",
    "    - % of delayed orders\n",
    "\n",
    "2. Identify which cities are underperforming\n",
    "\n",
    "3. Visualize performance using:\n",
    "    - Bar chart for average delivery time\n",
    "    - Horizontal bar or map-based view (if possible) for delay %\n",
    "\n",
    "4. Suggest 2 data-driven logistics recommendations\n"
   ]
  },
  {
   "cell_type": "code",
   "execution_count": 3,
   "id": "38a76ca4",
   "metadata": {},
   "outputs": [
    {
     "data": {
      "application/vnd.microsoft.datawrangler.viewer.v0+json": {
       "columns": [
        {
         "name": "index",
         "rawType": "int64",
         "type": "integer"
        },
        {
         "name": "Order_ID",
         "rawType": "int64",
         "type": "integer"
        },
        {
         "name": "City",
         "rawType": "object",
         "type": "string"
        },
        {
         "name": "Delivery_Time",
         "rawType": "float64",
         "type": "float"
        },
        {
         "name": "Is_Delayed",
         "rawType": "int64",
         "type": "integer"
        }
       ],
       "ref": "bb250a7c-0175-44ba-8263-16d331d7c9f4",
       "rows": [
        [
         "0",
         "1",
         "Ahmedabad",
         "5.472321065095121",
         "1"
        ],
        [
         "1",
         "2",
         "Kolkata",
         "4.496050835595898",
         "1"
        ],
        [
         "2",
         "3",
         "Chennai",
         "3.977922612047595",
         "0"
        ],
        [
         "3",
         "4",
         "Ahmedabad",
         "5.19460814454449",
         "0"
        ],
        [
         "4",
         "5",
         "Bangalore",
         "3.5779223401733704",
         "0"
        ]
       ],
       "shape": {
        "columns": 4,
        "rows": 5
       }
      },
      "text/html": [
       "<div>\n",
       "<style scoped>\n",
       "    .dataframe tbody tr th:only-of-type {\n",
       "        vertical-align: middle;\n",
       "    }\n",
       "\n",
       "    .dataframe tbody tr th {\n",
       "        vertical-align: top;\n",
       "    }\n",
       "\n",
       "    .dataframe thead th {\n",
       "        text-align: right;\n",
       "    }\n",
       "</style>\n",
       "<table border=\"1\" class=\"dataframe\">\n",
       "  <thead>\n",
       "    <tr style=\"text-align: right;\">\n",
       "      <th></th>\n",
       "      <th>Order_ID</th>\n",
       "      <th>City</th>\n",
       "      <th>Delivery_Time</th>\n",
       "      <th>Is_Delayed</th>\n",
       "    </tr>\n",
       "  </thead>\n",
       "  <tbody>\n",
       "    <tr>\n",
       "      <th>0</th>\n",
       "      <td>1</td>\n",
       "      <td>Ahmedabad</td>\n",
       "      <td>5.472321</td>\n",
       "      <td>1</td>\n",
       "    </tr>\n",
       "    <tr>\n",
       "      <th>1</th>\n",
       "      <td>2</td>\n",
       "      <td>Kolkata</td>\n",
       "      <td>4.496051</td>\n",
       "      <td>1</td>\n",
       "    </tr>\n",
       "    <tr>\n",
       "      <th>2</th>\n",
       "      <td>3</td>\n",
       "      <td>Chennai</td>\n",
       "      <td>3.977923</td>\n",
       "      <td>0</td>\n",
       "    </tr>\n",
       "    <tr>\n",
       "      <th>3</th>\n",
       "      <td>4</td>\n",
       "      <td>Ahmedabad</td>\n",
       "      <td>5.194608</td>\n",
       "      <td>0</td>\n",
       "    </tr>\n",
       "    <tr>\n",
       "      <th>4</th>\n",
       "      <td>5</td>\n",
       "      <td>Bangalore</td>\n",
       "      <td>3.577922</td>\n",
       "      <td>0</td>\n",
       "    </tr>\n",
       "  </tbody>\n",
       "</table>\n",
       "</div>"
      ],
      "text/plain": [
       "   Order_ID       City  Delivery_Time  Is_Delayed\n",
       "0         1  Ahmedabad       5.472321           1\n",
       "1         2    Kolkata       4.496051           1\n",
       "2         3    Chennai       3.977923           0\n",
       "3         4  Ahmedabad       5.194608           0\n",
       "4         5  Bangalore       3.577922           0"
      ]
     },
     "execution_count": 3,
     "metadata": {},
     "output_type": "execute_result"
    }
   ],
   "source": [
    "df.head()"
   ]
  },
  {
   "cell_type": "code",
   "execution_count": 4,
   "id": "453b442a",
   "metadata": {},
   "outputs": [
    {
     "name": "stdout",
     "output_type": "stream",
     "text": [
      "<class 'pandas.core.frame.DataFrame'>\n",
      "RangeIndex: 1000 entries, 0 to 999\n",
      "Data columns (total 4 columns):\n",
      " #   Column         Non-Null Count  Dtype  \n",
      "---  ------         --------------  -----  \n",
      " 0   Order_ID       1000 non-null   int64  \n",
      " 1   City           1000 non-null   object \n",
      " 2   Delivery_Time  1000 non-null   float64\n",
      " 3   Is_Delayed     1000 non-null   int64  \n",
      "dtypes: float64(1), int64(2), object(1)\n",
      "memory usage: 31.4+ KB\n"
     ]
    }
   ],
   "source": [
    "df.info()"
   ]
  },
  {
   "cell_type": "code",
   "execution_count": 5,
   "id": "fe704dca",
   "metadata": {},
   "outputs": [
    {
     "data": {
      "application/vnd.microsoft.datawrangler.viewer.v0+json": {
       "columns": [
        {
         "name": "City",
         "rawType": "object",
         "type": "string"
        },
        {
         "name": "count",
         "rawType": "int64",
         "type": "integer"
        }
       ],
       "ref": "4fb40cc5-43e1-4a10-b86e-c5c9d5f7e03d",
       "rows": [
        [
         "Kolkata",
         "156"
        ],
        [
         "Delhi",
         "156"
        ],
        [
         "Chennai",
         "148"
        ],
        [
         "Ahmedabad",
         "138"
        ],
        [
         "Mumbai",
         "137"
        ],
        [
         "Hyderabad",
         "135"
        ],
        [
         "Bangalore",
         "130"
        ]
       ],
       "shape": {
        "columns": 1,
        "rows": 7
       }
      },
      "text/plain": [
       "City\n",
       "Kolkata      156\n",
       "Delhi        156\n",
       "Chennai      148\n",
       "Ahmedabad    138\n",
       "Mumbai       137\n",
       "Hyderabad    135\n",
       "Bangalore    130\n",
       "Name: count, dtype: int64"
      ]
     },
     "execution_count": 5,
     "metadata": {},
     "output_type": "execute_result"
    }
   ],
   "source": [
    "df['City'].value_counts()"
   ]
  },
  {
   "cell_type": "code",
   "execution_count": 7,
   "id": "7d782e83",
   "metadata": {},
   "outputs": [
    {
     "data": {
      "application/vnd.microsoft.datawrangler.viewer.v0+json": {
       "columns": [
        {
         "name": "City",
         "rawType": "object",
         "type": "string"
        },
        {
         "name": "Delivery_Time",
         "rawType": "float64",
         "type": "float"
        },
        {
         "name": "Delay_Rate",
         "rawType": "float64",
         "type": "float"
        }
       ],
       "ref": "779a3aa5-6696-4235-880f-0cd303a532dd",
       "rows": [
        [
         "Ahmedabad",
         "4.048932516829071",
         "18.12"
        ],
        [
         "Bangalore",
         "3.8614646404099946",
         "25.38"
        ],
        [
         "Chennai",
         "4.119328467839218",
         "22.97"
        ],
        [
         "Delhi",
         "4.130122668203147",
         "14.74"
        ],
        [
         "Hyderabad",
         "3.72849177421953",
         "22.96"
        ],
        [
         "Kolkata",
         "3.83655032142021",
         "17.31"
        ],
        [
         "Mumbai",
         "3.997411681668462",
         "16.06"
        ]
       ],
       "shape": {
        "columns": 2,
        "rows": 7
       }
      },
      "text/html": [
       "<div>\n",
       "<style scoped>\n",
       "    .dataframe tbody tr th:only-of-type {\n",
       "        vertical-align: middle;\n",
       "    }\n",
       "\n",
       "    .dataframe tbody tr th {\n",
       "        vertical-align: top;\n",
       "    }\n",
       "\n",
       "    .dataframe thead th {\n",
       "        text-align: right;\n",
       "    }\n",
       "</style>\n",
       "<table border=\"1\" class=\"dataframe\">\n",
       "  <thead>\n",
       "    <tr style=\"text-align: right;\">\n",
       "      <th></th>\n",
       "      <th>Delivery_Time</th>\n",
       "      <th>Delay_Rate</th>\n",
       "    </tr>\n",
       "    <tr>\n",
       "      <th>City</th>\n",
       "      <th></th>\n",
       "      <th></th>\n",
       "    </tr>\n",
       "  </thead>\n",
       "  <tbody>\n",
       "    <tr>\n",
       "      <th>Ahmedabad</th>\n",
       "      <td>4.048933</td>\n",
       "      <td>18.12</td>\n",
       "    </tr>\n",
       "    <tr>\n",
       "      <th>Bangalore</th>\n",
       "      <td>3.861465</td>\n",
       "      <td>25.38</td>\n",
       "    </tr>\n",
       "    <tr>\n",
       "      <th>Chennai</th>\n",
       "      <td>4.119328</td>\n",
       "      <td>22.97</td>\n",
       "    </tr>\n",
       "    <tr>\n",
       "      <th>Delhi</th>\n",
       "      <td>4.130123</td>\n",
       "      <td>14.74</td>\n",
       "    </tr>\n",
       "    <tr>\n",
       "      <th>Hyderabad</th>\n",
       "      <td>3.728492</td>\n",
       "      <td>22.96</td>\n",
       "    </tr>\n",
       "    <tr>\n",
       "      <th>Kolkata</th>\n",
       "      <td>3.836550</td>\n",
       "      <td>17.31</td>\n",
       "    </tr>\n",
       "    <tr>\n",
       "      <th>Mumbai</th>\n",
       "      <td>3.997412</td>\n",
       "      <td>16.06</td>\n",
       "    </tr>\n",
       "  </tbody>\n",
       "</table>\n",
       "</div>"
      ],
      "text/plain": [
       "           Delivery_Time  Delay_Rate\n",
       "City                                \n",
       "Ahmedabad       4.048933       18.12\n",
       "Bangalore       3.861465       25.38\n",
       "Chennai         4.119328       22.97\n",
       "Delhi           4.130123       14.74\n",
       "Hyderabad       3.728492       22.96\n",
       "Kolkata         3.836550       17.31\n",
       "Mumbai          3.997412       16.06"
      ]
     },
     "execution_count": 7,
     "metadata": {},
     "output_type": "execute_result"
    }
   ],
   "source": [
    "city_perf = df.groupby('City').agg({\n",
    "    'Delivery_Time': 'mean',\n",
    "    'Is_Delayed': 'mean'\n",
    "}).rename(columns={'Is_Delayed': 'Delay_Rate'})\n",
    "\n",
    "city_perf['Delay_Rate'] = (city_perf['Delay_Rate'] * 100).round(2)\n",
    "city_perf "
   ]
  },
  {
   "cell_type": "code",
   "execution_count": 10,
   "id": "c4f844cf",
   "metadata": {},
   "outputs": [
    {
     "data": {
      "image/png": "[encoded data removed]",
      "text/plain": [
       "<Figure size 640x480 with 1 Axes>"
      ]
     },
     "metadata": {},
     "output_type": "display_data"
    }
   ],
   "source": [
    "import seaborn as sns\n",
    "import matplotlib.pyplot as plt\n",
    "%matplotlib inline\n",
    "\n",
    "sns.barplot(data=city_perf.reset_index(), x='Delivery_Time', y='City')\n",
    "plt.title('Average Delivery Time by City')\n",
    "plt.show()"
   ]
  },
  {
   "cell_type": "code",
   "execution_count": 22,
   "id": "4359c1aa",
   "metadata": {},
   "outputs": [
    {
     "data": {
      "image/png": "[encoded data removed]",
      "text/plain": [
       "<Figure size 1000x600 with 1 Axes>"
      ]
     },
     "metadata": {},
     "output_type": "display_data"
    }
   ],
   "source": [
    "# Horizontal bar plot for delay %\n",
    "plt.figure(figsize=(10, 6))\n",
    "sns.barplot(x='Delay_Rate', y=city_perf.index, data=city_perf, hue='Delay_Rate', palette='viridis')\n",
    "plt.xlabel(\"Delay Percentage (%)\")\n",
    "plt.ylabel(\"City\")\n",
    "plt.title(\"Delivery Delay Percentage by City\")\n",
    "plt.tight_layout()\n",
    "plt.show()\n"
   ]
  },
  {
   "cell_type": "code",
   "execution_count": 26,
   "id": "0f94e0a4",
   "metadata": {},
   "outputs": [
    {
     "name": "stdout",
     "output_type": "stream",
     "text": [
      "19.648571428571426\n"
     ]
    }
   ],
   "source": [
    "avg_delay_rate = city_perf['Delay_Rate'].mean()\n",
    "print(avg_delay_rate)"
   ]
  },
  {
   "cell_type": "code",
   "execution_count": 28,
   "id": "54796d03",
   "metadata": {},
   "outputs": [
    {
     "name": "stdout",
     "output_type": "stream",
     "text": [
      "3.9603288672270907\n"
     ]
    }
   ],
   "source": [
    "avg_delivery_time = city_perf['Delivery_Time'].mean()\n",
    "print(avg_delivery_time)"
   ]
  },
  {
   "cell_type": "code",
   "execution_count": 38,
   "id": "bf7e3031",
   "metadata": {},
   "outputs": [
    {
     "name": "stdout",
     "output_type": "stream",
     "text": [
      "Underperforming Cities:\n",
      "\n",
      "           Delivery_Time  Delay_Rate\n",
      "City                                \n",
      "Bangalore       3.861465       25.38\n",
      "Chennai         4.119328       22.97\n",
      "Hyderabad       3.728492       22.96\n"
     ]
    }
   ],
   "source": [
    "# Set thresholds\n",
    "avg_time_threshold = 3.7\n",
    "delay_rate_threshold = 20\n",
    "\n",
    "# Filter underperformers\n",
    "underperforming = city_perf[\n",
    "    (city_perf['Delivery_Time'] > avg_time_threshold) &\n",
    "    (city_perf['Delay_Rate'] > delay_rate_threshold)\n",
    "]\n",
    "\n",
    "print(\"Underperforming Cities:\\n\")\n",
    "print(underperforming.sort_values(by=['Delay_Rate', 'Delivery_Time'], ascending=False))\n"
   ]
  },
  {
   "cell_type": "code",
   "execution_count": null,
   "id": "c097fab1",
   "metadata": {},
   "outputs": [],
   "source": []
  },
  {
   "cell_type": "code",
   "execution_count": null,
   "id": "347ed48b",
   "metadata": {},
   "outputs": [],
   "source": []
  },
  {
   "cell_type": "code",
   "execution_count": null,
   "id": "cc8a2957",
   "metadata": {},
   "outputs": [],
   "source": []
  }
 ],
 "metadata": {
  "kernelspec": {
   "display_name": "Python 3",
   "language": "python",
   "name": "python3"
  },
  "language_info": {
   "codemirror_mode": {
    "name": "ipython",
    "version": 3
   },
   "file_extension": ".py",
   "mimetype": "text/x-python",
   "name": "python",
   "nbconvert_exporter": "python",
   "pygments_lexer": "ipython3",
   "version": "3.10.0"
  }
 },
 "nbformat": 4,
 "nbformat_minor": 5
}
