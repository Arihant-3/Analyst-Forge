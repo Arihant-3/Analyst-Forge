{
 "cells": [
  {
   "cell_type": "markdown",
   "id": "2400106b",
   "metadata": {},
   "source": [
    "DATA CREATION"
   ]
  },
  {
   "cell_type": "code",
   "execution_count": 1,
   "id": "a04a810a",
   "metadata": {},
   "outputs": [],
   "source": [
    "import pandas as pd\n",
    "import numpy as np\n",
    "\n",
    "np.random.seed(42)\n",
    "n = 300\n",
    "\n",
    "df = pd.DataFrame({\n",
    "    'Math': np.random.normal(70, 10, n),\n",
    "    'Science': np.random.normal(72, 12, n),\n",
    "    'English': np.random.normal(65, 9, n),\n",
    "    'History': np.random.normal(68, 11, n),\n",
    "    'Attendance (%)': np.random.uniform(75, 100, n),\n",
    "    'Extra_Curricular_Score': np.random.normal(50, 15, n)\n",
    "})\n",
    "\n",
    "# Inject correlations\n",
    "df['Science'] += 0.3 * df['Math']\n",
    "df['English'] += 0.2 * df['History']\n",
    "df['Extra_Curricular_Score'] -= 0.2 * df['Math']\n",
    "df.to_csv(\"student_performance.csv\", index=False)\n"
   ]
  },
  {
   "cell_type": "markdown",
   "id": "7380dd28",
   "metadata": {},
   "source": [
    "## Tasks:\n",
    "\n",
    "1. Calculate correlation matrix and visualize it using a heatmap.\n",
    "\n",
    "2. Identify the strongest positive and strongest negative correlations.\n",
    "\n",
    "3. Based on the heatmap:\n",
    "\n",
    "    - What might be the best predictor of academic performance?\n",
    "\n",
    "    - Do extra activities interfere or complement academics?\n",
    "\n",
    "4. Show how removing one feature changes the correlation matrix.\n",
    "\n"
   ]
  },
  {
   "cell_type": "code",
   "execution_count": 2,
   "metadata": {},
   "outputs": [
    {
     "data": {
      "application/vnd.microsoft.datawrangler.viewer.v0+json": {
       "columns": [
        {
         "name": "index",
         "rawType": "int64",
         "type": "integer"
        },
        {
         "name": "Math",
         "rawType": "float64",
         "type": "float"
        },
        {
         "name": "Science",
         "rawType": "float64",
         "type": "float"
        },
        {
         "name": "English",
         "rawType": "float64",
         "type": "float"
        },
        {
         "name": "History",
         "rawType": "float64",
         "type": "float"
        },
        {
         "name": "Attendance (%)",
         "rawType": "float64",
         "type": "float"
        },
        {
         "name": "Extra_Curricular_Score",
         "rawType": "float64",
         "type": "float"
        }
       ],
       "ref": "e09204f6-e196-4b78-a474-0e3d088562d0",
       "rows": [
        [
         "0",
         "74.96714153011233",
         "84.54220232796882",
         "86.22397882932856",
         "72.05540639760191",
         "76.08531332137048",
         "39.617672161114044"
        ],
        [
         "1",
         "68.61735698828815",
         "85.86303461412281",
         "69.43516669528118",
         "63.673273064399034",
         "90.82878438985055",
         "48.51258679043182"
        ],
        [
         "2",
         "76.47688538100692",
         "103.91058887578122",
         "86.48969189140755",
         "68.316193052283",
         "98.78508355516642",
         "47.6117252491948"
        ],
        [
         "3",
         "85.23029856408026",
         "104.89353275442565",
         "93.61333482698062",
         "82.06297048868029",
         "90.04029550365829",
         "24.20777870864987"
        ],
        [
         "4",
         "67.65846625276664",
         "92.04672074826021",
         "82.7413320786571",
         "70.10208974821893",
         "95.47972148566976",
         "33.9614810426505"
        ]
       ],
       "shape": {
        "columns": 6,
        "rows": 5
       }
      },
      "text/html": [
       "<div>\n",
       "<style scoped>\n",
       "    .dataframe tbody tr th:only-of-type {\n",
       "        vertical-align: middle;\n",
       "    }\n",
       "\n",
       "    .dataframe tbody tr th {\n",
       "        vertical-align: top;\n",
       "    }\n",
       "\n",
       "    .dataframe thead th {\n",
       "        text-align: right;\n",
       "    }\n",
       "</style>\n",
       "<table border=\"1\" class=\"dataframe\">\n",
       "  <thead>\n",
       "    <tr style=\"text-align: right;\">\n",
       "      <th></th>\n",
       "      <th>Math</th>\n",
       "      <th>Science</th>\n",
       "      <th>English</th>\n",
       "      <th>History</th>\n",
       "      <th>Attendance (%)</th>\n",
       "      <th>Extra_Curricular_Score</th>\n",
       "    </tr>\n",
       "  </thead>\n",
       "  <tbody>\n",
       "    <tr>\n",
       "      <th>0</th>\n",
       "      <td>74.967142</td>\n",
       "      <td>84.542202</td>\n",
       "      <td>86.223979</td>\n",
       "      <td>72.055406</td>\n",
       "      <td>76.085313</td>\n",
       "      <td>39.617672</td>\n",
       "    </tr>\n",
       "    <tr>\n",
       "      <th>1</th>\n",
       "      <td>68.617357</td>\n",
       "      <td>85.863035</td>\n",
       "      <td>69.435167</td>\n",
       "      <td>63.673273</td>\n",
       "      <td>90.828784</td>\n",
       "      <td>48.512587</td>\n",
       "    </tr>\n",
       "    <tr>\n",
       "      <th>2</th>\n",
       "      <td>76.476885</td>\n",
       "      <td>103.910589</td>\n",
       "      <td>86.489692</td>\n",
       "      <td>68.316193</td>\n",
       "      <td>98.785084</td>\n",
       "      <td>47.611725</td>\n",
       "    </tr>\n",
       "    <tr>\n",
       "      <th>3</th>\n",
       "      <td>85.230299</td>\n",
       "      <td>104.893533</td>\n",
       "      <td>93.613335</td>\n",
       "      <td>82.062970</td>\n",
       "      <td>90.040296</td>\n",
       "      <td>24.207779</td>\n",
       "    </tr>\n",
       "    <tr>\n",
       "      <th>4</th>\n",
       "      <td>67.658466</td>\n",
       "      <td>92.046721</td>\n",
       "      <td>82.741332</td>\n",
       "      <td>70.102090</td>\n",
       "      <td>95.479721</td>\n",
       "      <td>33.961481</td>\n",
       "    </tr>\n",
       "  </tbody>\n",
       "</table>\n",
       "</div>"
      ],
      "text/plain": [
       "        Math     Science    English    History  Attendance (%)  \\\n",
       "0  74.967142   84.542202  86.223979  72.055406       76.085313   \n",
       "1  68.617357   85.863035  69.435167  63.673273       90.828784   \n",
       "2  76.476885  103.910589  86.489692  68.316193       98.785084   \n",
       "3  85.230299  104.893533  93.613335  82.062970       90.040296   \n",
       "4  67.658466   92.046721  82.741332  70.102090       95.479721   \n",
       "\n",
       "   Extra_Curricular_Score  \n",
       "0               39.617672  \n",
       "1               48.512587  \n",
       "2               47.611725  \n",
       "3               24.207779  \n",
       "4               33.961481  "
      ]
     },
     "execution_count": 2,
     "metadata": {},
     "output_type": "execute_result"
    }
   ],
   "source": [
    "df.head()"
   ]
  },
  {
   "cell_type": "code",
   "execution_count": 3,
   "id": "12786dd4",
   "metadata": {},
   "outputs": [
    {
     "data": {
      "application/vnd.microsoft.datawrangler.viewer.v0+json": {
       "columns": [
        {
         "name": "index",
         "rawType": "object",
         "type": "string"
        },
        {
         "name": "Math",
         "rawType": "float64",
         "type": "float"
        },
        {
         "name": "Science",
         "rawType": "float64",
         "type": "float"
        },
        {
         "name": "English",
         "rawType": "float64",
         "type": "float"
        },
        {
         "name": "History",
         "rawType": "float64",
         "type": "float"
        },
        {
         "name": "Attendance (%)",
         "rawType": "float64",
         "type": "float"
        },
        {
         "name": "Extra_Curricular_Score",
         "rawType": "float64",
         "type": "float"
        }
       ],
       "ref": "3368649b-1e2f-4a2e-bccf-c916a33468cc",
       "rows": [
        [
         "count",
         "300.0",
         "300.0",
         "300.0",
         "300.0",
         "300.0",
         "300.0"
        ],
        [
         "mean",
         "69.94451440918759",
         "92.72547453045257",
         "79.55616830434434",
         "69.08210614188143",
         "87.30527279708045",
         "37.769456686873845"
        ],
        [
         "std",
         "9.841936889704249",
         "11.794733337167388",
         "9.221354561348528",
         "11.107949261737982",
         "7.306130998211344",
         "14.969406053915169"
        ],
        [
         "min",
         "37.58732659930927",
         "59.739376777305196",
         "50.971864837491424",
         "36.14119083986942",
         "75.27578161071618",
         "-9.394426459904015"
        ],
        [
         "25%",
         "63.16754060000969",
         "84.5447233991862",
         "73.03963395537932",
         "61.882568824784244",
         "80.69309823796115",
         "27.956683608880326"
        ],
        [
         "50%",
         "70.59219464193512",
         "92.82583176431243",
         "79.55471964584238",
         "69.8167218096338",
         "87.42162927206249",
         "38.02272489679483"
        ],
        [
         "75%",
         "76.26657721304659",
         "100.42189773001792",
         "85.50319059094406",
         "76.24364554163817",
         "93.43631041014666",
         "47.47085472695535"
        ],
        [
         "max",
         "108.52731490654722",
         "129.15259920174898",
         "104.16804538523778",
         "94.837276469732",
         "99.91742134632442",
         "82.46861252948872"
        ]
       ],
       "shape": {
        "columns": 6,
        "rows": 8
       }
      },
      "text/html": [
       "<div>\n",
       "<style scoped>\n",
       "    .dataframe tbody tr th:only-of-type {\n",
       "        vertical-align: middle;\n",
       "    }\n",
       "\n",
       "    .dataframe tbody tr th {\n",
       "        vertical-align: top;\n",
       "    }\n",
       "\n",
       "    .dataframe thead th {\n",
       "        text-align: right;\n",
       "    }\n",
       "</style>\n",
       "<table border=\"1\" class=\"dataframe\">\n",
       "  <thead>\n",
       "    <tr style=\"text-align: right;\">\n",
       "      <th></th>\n",
       "      <th>Math</th>\n",
       "      <th>Science</th>\n",
       "      <th>English</th>\n",
       "      <th>History</th>\n",
       "      <th>Attendance (%)</th>\n",
       "      <th>Extra_Curricular_Score</th>\n",
       "    </tr>\n",
       "  </thead>\n",
       "  <tbody>\n",
       "    <tr>\n",
       "      <th>count</th>\n",
       "      <td>300.000000</td>\n",
       "      <td>300.000000</td>\n",
       "      <td>300.000000</td>\n",
       "      <td>300.000000</td>\n",
       "      <td>300.000000</td>\n",
       "      <td>300.000000</td>\n",
       "    </tr>\n",
       "    <tr>\n",
       "      <th>mean</th>\n",
       "      <td>69.944514</td>\n",
       "      <td>92.725475</td>\n",
       "      <td>79.556168</td>\n",
       "      <td>69.082106</td>\n",
       "      <td>87.305273</td>\n",
       "      <td>37.769457</td>\n",
       "    </tr>\n",
       "    <tr>\n",
       "      <th>std</th>\n",
       "      <td>9.841937</td>\n",
       "      <td>11.794733</td>\n",
       "      <td>9.221355</td>\n",
       "      <td>11.107949</td>\n",
       "      <td>7.306131</td>\n",
       "      <td>14.969406</td>\n",
       "    </tr>\n",
       "    <tr>\n",
       "      <th>min</th>\n",
       "      <td>37.587327</td>\n",
       "      <td>59.739377</td>\n",
       "      <td>50.971865</td>\n",
       "      <td>36.141191</td>\n",
       "      <td>75.275782</td>\n",
       "      <td>-9.394426</td>\n",
       "    </tr>\n",
       "    <tr>\n",
       "      <th>25%</th>\n",
       "      <td>63.167541</td>\n",
       "      <td>84.544723</td>\n",
       "      <td>73.039634</td>\n",
       "      <td>61.882569</td>\n",
       "      <td>80.693098</td>\n",
       "      <td>27.956684</td>\n",
       "    </tr>\n",
       "    <tr>\n",
       "      <th>50%</th>\n",
       "      <td>70.592195</td>\n",
       "      <td>92.825832</td>\n",
       "      <td>79.554720</td>\n",
       "      <td>69.816722</td>\n",
       "      <td>87.421629</td>\n",
       "      <td>38.022725</td>\n",
       "    </tr>\n",
       "    <tr>\n",
       "      <th>75%</th>\n",
       "      <td>76.266577</td>\n",
       "      <td>100.421898</td>\n",
       "      <td>85.503191</td>\n",
       "      <td>76.243646</td>\n",
       "      <td>93.436310</td>\n",
       "      <td>47.470855</td>\n",
       "    </tr>\n",
       "    <tr>\n",
       "      <th>max</th>\n",
       "      <td>108.527315</td>\n",
       "      <td>129.152599</td>\n",
       "      <td>104.168045</td>\n",
       "      <td>94.837276</td>\n",
       "      <td>99.917421</td>\n",
       "      <td>82.468613</td>\n",
       "    </tr>\n",
       "  </tbody>\n",
       "</table>\n",
       "</div>"
      ],
      "text/plain": [
       "             Math     Science     English     History  Attendance (%)  \\\n",
       "count  300.000000  300.000000  300.000000  300.000000      300.000000   \n",
       "mean    69.944514   92.725475   79.556168   69.082106       87.305273   \n",
       "std      9.841937   11.794733    9.221355   11.107949        7.306131   \n",
       "min     37.587327   59.739377   50.971865   36.141191       75.275782   \n",
       "25%     63.167541   84.544723   73.039634   61.882569       80.693098   \n",
       "50%     70.592195   92.825832   79.554720   69.816722       87.421629   \n",
       "75%     76.266577  100.421898   85.503191   76.243646       93.436310   \n",
       "max    108.527315  129.152599  104.168045   94.837276       99.917421   \n",
       "\n",
       "       Extra_Curricular_Score  \n",
       "count              300.000000  \n",
       "mean                37.769457  \n",
       "std                 14.969406  \n",
       "min                 -9.394426  \n",
       "25%                 27.956684  \n",
       "50%                 38.022725  \n",
       "75%                 47.470855  \n",
       "max                 82.468613  "
      ]
     },
     "execution_count": 3,
     "metadata": {},
     "output_type": "execute_result"
    }
   ],
   "source": [
    "df.describe()"
   ]
  },
  {
   "cell_type": "code",
   "execution_count": 4,
   "id": "6c7fbcd6",
   "metadata": {},
   "outputs": [
    {
     "name": "stdout",
     "output_type": "stream",
     "text": [
      "<class 'pandas.core.frame.DataFrame'>\n",
      "RangeIndex: 300 entries, 0 to 299\n",
      "Data columns (total 6 columns):\n",
      " #   Column                  Non-Null Count  Dtype  \n",
      "---  ------                  --------------  -----  \n",
      " 0   Math                    300 non-null    float64\n",
      " 1   Science                 300 non-null    float64\n",
      " 2   English                 300 non-null    float64\n",
      " 3   History                 300 non-null    float64\n",
      " 4   Attendance (%)          300 non-null    float64\n",
      " 5   Extra_Curricular_Score  300 non-null    float64\n",
      "dtypes: float64(6)\n",
      "memory usage: 14.2 KB\n"
     ]
    }
   ],
   "source": [
    "df.info()"
   ]
  },
  {
   "cell_type": "code",
   "execution_count": 5,
   "id": "4b57fe50",
   "metadata": {},
   "outputs": [],
   "source": [
    "import seaborn as sns\n",
    "import matplotlib.pyplot as plt\n",
    "%matplotlib inline"
   ]
  },
  {
   "cell_type": "code",
   "execution_count": 7,
   "id": "887a2037",
   "metadata": {},
   "outputs": [
    {
     "data": {
      "image/png": "[encoded data removed]",
      "text/plain": [
       "<Figure size 1000x800 with 2 Axes>"
      ]
     },
     "metadata": {},
     "output_type": "display_data"
    }
   ],
   "source": [
    "corr = df.corr(numeric_only=True)\n",
    "plt.figure(figsize=(10,8))\n",
    "sns.heatmap(corr, annot=True, cmap='coolwarm', center=0)\n",
    "plt.title(\"Student Performance Correlation Heatmap\")\n",
    "plt.show()"
   ]
  },
  {
   "cell_type": "code",
   "execution_count": 8,
   "id": "23245274",
   "metadata": {},
   "outputs": [
    {
     "data": {
      "image/png": "[encoded data removed]",
      "text/plain": [
       "<Figure size 1000x800 with 2 Axes>"
      ]
     },
     "metadata": {},
     "output_type": "display_data"
    }
   ],
   "source": [
    "df_rm = df.drop(columns=['Extra_Curricular_Score'])\n",
    "\n",
    "corr = df_rm.corr(numeric_only=True)\n",
    "plt.figure(figsize=(10,8))\n",
    "sns.heatmap(corr, annot=True, cmap='coolwarm', center=0)\n",
    "plt.title(\"Student Performance Correlation Heatmap without Extra_Curricular_Score\")\n",
    "plt.show()"
   ]
  },
  {
   "cell_type": "code",
   "execution_count": 10,
   "id": "d00993de",
   "metadata": {},
   "outputs": [
    {
     "data": {
      "application/vnd.microsoft.datawrangler.viewer.v0+json": {
       "columns": [
        {
         "name": "index",
         "rawType": "int64",
         "type": "integer"
        },
        {
         "name": "Math",
         "rawType": "float64",
         "type": "float"
        },
        {
         "name": "Science",
         "rawType": "float64",
         "type": "float"
        },
        {
         "name": "English",
         "rawType": "float64",
         "type": "float"
        },
        {
         "name": "History",
         "rawType": "float64",
         "type": "float"
        },
        {
         "name": "Attendance (%)",
         "rawType": "float64",
         "type": "float"
        },
        {
         "name": "Extra_Curricular_Score",
         "rawType": "float64",
         "type": "float"
        },
        {
         "name": "Average_Grade",
         "rawType": "float64",
         "type": "float"
        }
       ],
       "ref": "d831252d-9260-4d9c-b4b0-c69b602a6bda",
       "rows": [
        [
         "0",
         "74.96714153011233",
         "84.54220232796882",
         "86.22397882932856",
         "72.05540639760191",
         "76.08531332137048",
         "39.617672161114044",
         "79.4471822712529"
        ],
        [
         "1",
         "68.61735698828815",
         "85.86303461412281",
         "69.43516669528118",
         "63.673273064399034",
         "90.82878438985055",
         "48.51258679043182",
         "71.8972078405228"
        ],
        [
         "2",
         "76.47688538100692",
         "103.91058887578122",
         "86.48969189140755",
         "68.316193052283",
         "98.78508355516642",
         "47.6117252491948",
         "83.79833980011966"
        ],
        [
         "3",
         "85.23029856408026",
         "104.89353275442565",
         "93.61333482698062",
         "82.06297048868029",
         "90.04029550365829",
         "24.20777870864987",
         "91.45003415854171"
        ],
        [
         "4",
         "67.65846625276664",
         "92.04672074826021",
         "82.7413320786571",
         "70.10208974821893",
         "95.47972148566976",
         "33.9614810426505",
         "78.13715220697571"
        ]
       ],
       "shape": {
        "columns": 7,
        "rows": 5
       }
      },
      "text/html": [
       "<div>\n",
       "<style scoped>\n",
       "    .dataframe tbody tr th:only-of-type {\n",
       "        vertical-align: middle;\n",
       "    }\n",
       "\n",
       "    .dataframe tbody tr th {\n",
       "        vertical-align: top;\n",
       "    }\n",
       "\n",
       "    .dataframe thead th {\n",
       "        text-align: right;\n",
       "    }\n",
       "</style>\n",
       "<table border=\"1\" class=\"dataframe\">\n",
       "  <thead>\n",
       "    <tr style=\"text-align: right;\">\n",
       "      <th></th>\n",
       "      <th>Math</th>\n",
       "      <th>Science</th>\n",
       "      <th>English</th>\n",
       "      <th>History</th>\n",
       "      <th>Attendance (%)</th>\n",
       "      <th>Extra_Curricular_Score</th>\n",
       "      <th>Average_Grade</th>\n",
       "    </tr>\n",
       "  </thead>\n",
       "  <tbody>\n",
       "    <tr>\n",
       "      <th>0</th>\n",
       "      <td>74.967142</td>\n",
       "      <td>84.542202</td>\n",
       "      <td>86.223979</td>\n",
       "      <td>72.055406</td>\n",
       "      <td>76.085313</td>\n",
       "      <td>39.617672</td>\n",
       "      <td>79.447182</td>\n",
       "    </tr>\n",
       "    <tr>\n",
       "      <th>1</th>\n",
       "      <td>68.617357</td>\n",
       "      <td>85.863035</td>\n",
       "      <td>69.435167</td>\n",
       "      <td>63.673273</td>\n",
       "      <td>90.828784</td>\n",
       "      <td>48.512587</td>\n",
       "      <td>71.897208</td>\n",
       "    </tr>\n",
       "    <tr>\n",
       "      <th>2</th>\n",
       "      <td>76.476885</td>\n",
       "      <td>103.910589</td>\n",
       "      <td>86.489692</td>\n",
       "      <td>68.316193</td>\n",
       "      <td>98.785084</td>\n",
       "      <td>47.611725</td>\n",
       "      <td>83.798340</td>\n",
       "    </tr>\n",
       "    <tr>\n",
       "      <th>3</th>\n",
       "      <td>85.230299</td>\n",
       "      <td>104.893533</td>\n",
       "      <td>93.613335</td>\n",
       "      <td>82.062970</td>\n",
       "      <td>90.040296</td>\n",
       "      <td>24.207779</td>\n",
       "      <td>91.450034</td>\n",
       "    </tr>\n",
       "    <tr>\n",
       "      <th>4</th>\n",
       "      <td>67.658466</td>\n",
       "      <td>92.046721</td>\n",
       "      <td>82.741332</td>\n",
       "      <td>70.102090</td>\n",
       "      <td>95.479721</td>\n",
       "      <td>33.961481</td>\n",
       "      <td>78.137152</td>\n",
       "    </tr>\n",
       "  </tbody>\n",
       "</table>\n",
       "</div>"
      ],
      "text/plain": [
       "        Math     Science    English    History  Attendance (%)  \\\n",
       "0  74.967142   84.542202  86.223979  72.055406       76.085313   \n",
       "1  68.617357   85.863035  69.435167  63.673273       90.828784   \n",
       "2  76.476885  103.910589  86.489692  68.316193       98.785084   \n",
       "3  85.230299  104.893533  93.613335  82.062970       90.040296   \n",
       "4  67.658466   92.046721  82.741332  70.102090       95.479721   \n",
       "\n",
       "   Extra_Curricular_Score  Average_Grade  \n",
       "0               39.617672      79.447182  \n",
       "1               48.512587      71.897208  \n",
       "2               47.611725      83.798340  \n",
       "3               24.207779      91.450034  \n",
       "4               33.961481      78.137152  "
      ]
     },
     "execution_count": 10,
     "metadata": {},
     "output_type": "execute_result"
    }
   ],
   "source": [
    "df['Average_Grade'] = df[['Math', 'Science', 'English', 'History']].mean(axis=1)\n",
    "df.head()"
   ]
  },
  {
   "cell_type": "code",
   "execution_count": 11,
   "id": "b58f3533",
   "metadata": {},
   "outputs": [
    {
     "name": "stdout",
     "output_type": "stream",
     "text": [
      "Average_Grade             1.000000\n",
      "History                   0.586764\n",
      "Science                   0.566980\n",
      "Math                      0.558131\n",
      "English                   0.478251\n",
      "Attendance (%)            0.056915\n",
      "Extra_Curricular_Score   -0.041141\n",
      "Name: Average_Grade, dtype: float64\n"
     ]
    }
   ],
   "source": [
    "correlations = df.corr()['Average_Grade'].sort_values(ascending=False)\n",
    "print(correlations)\n"
   ]
  },
  {
   "cell_type": "code",
   "execution_count": null,
   "id": "7c166b30",
   "metadata": {},
   "outputs": [],
   "source": []
  },
  {
   "cell_type": "code",
   "execution_count": null,
   "id": "a81ead28",
   "metadata": {},
   "outputs": [],
   "source": []
  },
  {
   "cell_type": "code",
   "execution_count": null,
   "id": "369df428",
   "metadata": {},
   "outputs": [],
   "source": []
  }
 ],
 "metadata": {
  "kernelspec": {
   "display_name": "Python 3",
   "language": "python",
   "name": "python3"
  },
  "language_info": {
   "codemirror_mode": {
    "name": "ipython",
    "version": 3
   },
   "file_extension": ".py",
   "mimetype": "text/x-python",
   "name": "python",
   "nbconvert_exporter": "python",
   "pygments_lexer": "ipython3",
   "version": "3.10.0"
  }
 },
 "nbformat": 4,
 "nbformat_minor": 5
}
