{
 "cells": [
  {
   "cell_type": "markdown",
   "id": "a7ebede4",
   "metadata": {},
   "source": [
    "DATA CREATION"
   ]
  },
  {
   "cell_type": "code",
   "execution_count": 1,
   "id": "3f9ab7df",
   "metadata": {},
   "outputs": [],
   "source": [
    "import pandas as pd\n",
    "import numpy as np\n",
    "\n",
    "np.random.seed(42)\n",
    "n = 1000\n",
    "\n",
    "amounts = np.concatenate([\n",
    "    np.random.normal(500, 100, size=int(0.95 * n)),   # Normal spending\n",
    "    np.random.normal(2000, 300, size=int(0.05 * n))   # Outlier spending\n",
    "])\n",
    "\n",
    "df = pd.DataFrame({\n",
    "    'Transaction_ID': range(1, n + 1),\n",
    "    'Amount': np.round(amounts, 2),\n",
    "    'Customer_ID': np.random.randint(1000, 1100, size=n),\n",
    "    'Merchant_Type': np.random.choice(['Grocery', 'Electronics', 'Luxury', 'Travel'], size=n)\n",
    "})\n",
    "\n",
    "df.to_csv(\"transactions.csv\", index=False)\n"
   ]
  },
  {
   "cell_type": "markdown",
   "id": "83b9c705",
   "metadata": {},
   "source": [
    "## Tasks:\n",
    "1. How many outliers were found (Z-score vs. IQR)\n",
    "\n",
    "2. What merchant type had the most outliers\n",
    "\n",
    "3. Difference in average spend with/without outliers\n",
    "\n",
    "4. Your thoughts on outlier handling in real finance\n",
    "\n"
   ]
  },
  {
   "cell_type": "code",
   "execution_count": 2,
   "id": "f4fdbc28",
   "metadata": {},
   "outputs": [
    {
     "name": "stdout",
     "output_type": "stream",
     "text": [
      "<class 'pandas.core.frame.DataFrame'>\n",
      "RangeIndex: 1000 entries, 0 to 999\n",
      "Data columns (total 4 columns):\n",
      " #   Column          Non-Null Count  Dtype  \n",
      "---  ------          --------------  -----  \n",
      " 0   Transaction_ID  1000 non-null   int64  \n",
      " 1   Amount          1000 non-null   float64\n",
      " 2   Customer_ID     1000 non-null   int32  \n",
      " 3   Merchant_Type   1000 non-null   object \n",
      "dtypes: float64(1), int32(1), int64(1), object(1)\n",
      "memory usage: 27.5+ KB\n"
     ]
    }
   ],
   "source": [
    "df.info()"
   ]
  },
  {
   "cell_type": "code",
   "execution_count": 3,
   "id": "e983762b",
   "metadata": {},
   "outputs": [
    {
     "data": {
      "application/vnd.microsoft.datawrangler.viewer.v0+json": {
       "columns": [
        {
         "name": "index",
         "rawType": "int64",
         "type": "integer"
        },
        {
         "name": "Transaction_ID",
         "rawType": "int64",
         "type": "integer"
        },
        {
         "name": "Amount",
         "rawType": "float64",
         "type": "float"
        },
        {
         "name": "Customer_ID",
         "rawType": "int32",
         "type": "integer"
        },
        {
         "name": "Merchant_Type",
         "rawType": "object",
         "type": "string"
        }
       ],
       "ref": "d5d8de94-c6e4-4b14-b040-7f6d98b08eb6",
       "rows": [
        [
         "0",
         "1",
         "549.67",
         "1043",
         "Luxury"
        ],
        [
         "1",
         "2",
         "486.17",
         "1048",
         "Grocery"
        ],
        [
         "2",
         "3",
         "564.77",
         "1074",
         "Luxury"
        ],
        [
         "3",
         "4",
         "652.3",
         "1060",
         "Electronics"
        ],
        [
         "4",
         "5",
         "476.58",
         "1066",
         "Luxury"
        ]
       ],
       "shape": {
        "columns": 4,
        "rows": 5
       }
      },
      "text/html": [
       "<div>\n",
       "<style scoped>\n",
       "    .dataframe tbody tr th:only-of-type {\n",
       "        vertical-align: middle;\n",
       "    }\n",
       "\n",
       "    .dataframe tbody tr th {\n",
       "        vertical-align: top;\n",
       "    }\n",
       "\n",
       "    .dataframe thead th {\n",
       "        text-align: right;\n",
       "    }\n",
       "</style>\n",
       "<table border=\"1\" class=\"dataframe\">\n",
       "  <thead>\n",
       "    <tr style=\"text-align: right;\">\n",
       "      <th></th>\n",
       "      <th>Transaction_ID</th>\n",
       "      <th>Amount</th>\n",
       "      <th>Customer_ID</th>\n",
       "      <th>Merchant_Type</th>\n",
       "    </tr>\n",
       "  </thead>\n",
       "  <tbody>\n",
       "    <tr>\n",
       "      <th>0</th>\n",
       "      <td>1</td>\n",
       "      <td>549.67</td>\n",
       "      <td>1043</td>\n",
       "      <td>Luxury</td>\n",
       "    </tr>\n",
       "    <tr>\n",
       "      <th>1</th>\n",
       "      <td>2</td>\n",
       "      <td>486.17</td>\n",
       "      <td>1048</td>\n",
       "      <td>Grocery</td>\n",
       "    </tr>\n",
       "    <tr>\n",
       "      <th>2</th>\n",
       "      <td>3</td>\n",
       "      <td>564.77</td>\n",
       "      <td>1074</td>\n",
       "      <td>Luxury</td>\n",
       "    </tr>\n",
       "    <tr>\n",
       "      <th>3</th>\n",
       "      <td>4</td>\n",
       "      <td>652.30</td>\n",
       "      <td>1060</td>\n",
       "      <td>Electronics</td>\n",
       "    </tr>\n",
       "    <tr>\n",
       "      <th>4</th>\n",
       "      <td>5</td>\n",
       "      <td>476.58</td>\n",
       "      <td>1066</td>\n",
       "      <td>Luxury</td>\n",
       "    </tr>\n",
       "  </tbody>\n",
       "</table>\n",
       "</div>"
      ],
      "text/plain": [
       "   Transaction_ID  Amount  Customer_ID Merchant_Type\n",
       "0               1  549.67         1043        Luxury\n",
       "1               2  486.17         1048       Grocery\n",
       "2               3  564.77         1074        Luxury\n",
       "3               4  652.30         1060   Electronics\n",
       "4               5  476.58         1066        Luxury"
      ]
     },
     "execution_count": 3,
     "metadata": {},
     "output_type": "execute_result"
    }
   ],
   "source": [
    "df.head()"
   ]
  },
  {
   "cell_type": "code",
   "execution_count": 4,
   "id": "75034561",
   "metadata": {},
   "outputs": [
    {
     "data": {
      "application/vnd.microsoft.datawrangler.viewer.v0+json": {
       "columns": [
        {
         "name": "Merchant_Type",
         "rawType": "object",
         "type": "string"
        },
        {
         "name": "count",
         "rawType": "int64",
         "type": "integer"
        }
       ],
       "ref": "1a8a10ba-8346-406b-81c9-c0fa5a8111c0",
       "rows": [
        [
         "Grocery",
         "259"
        ],
        [
         "Travel",
         "259"
        ],
        [
         "Luxury",
         "245"
        ],
        [
         "Electronics",
         "237"
        ]
       ],
       "shape": {
        "columns": 1,
        "rows": 4
       }
      },
      "text/plain": [
       "Merchant_Type\n",
       "Grocery        259\n",
       "Travel         259\n",
       "Luxury         245\n",
       "Electronics    237\n",
       "Name: count, dtype: int64"
      ]
     },
     "execution_count": 4,
     "metadata": {},
     "output_type": "execute_result"
    }
   ],
   "source": [
    "df['Merchant_Type'].value_counts()"
   ]
  },
  {
   "cell_type": "code",
   "execution_count": 5,
   "id": "dab0a5e0",
   "metadata": {},
   "outputs": [],
   "source": [
    "import seaborn as sns\n",
    "import matplotlib.pyplot as plt\n",
    "%matplotlib inline\n"
   ]
  },
  {
   "cell_type": "code",
   "execution_count": 6,
   "id": "edf15710",
   "metadata": {},
   "outputs": [
    {
     "data": {
      "image/png": "[encoded data removed]",
      "text/plain": [
       "<Figure size 640x480 with 1 Axes>"
      ]
     },
     "metadata": {},
     "output_type": "display_data"
    }
   ],
   "source": [
    "sns.boxplot(data=df, x='Amount')\n",
    "plt.show()"
   ]
  },
  {
   "cell_type": "code",
   "execution_count": 7,
   "id": "2c31096a",
   "metadata": {},
   "outputs": [
    {
     "data": {
      "application/vnd.microsoft.datawrangler.viewer.v0+json": {
       "columns": [
        {
         "name": "Outlier_Z",
         "rawType": "bool",
         "type": "boolean"
        },
        {
         "name": "count",
         "rawType": "int64",
         "type": "integer"
        }
       ],
       "ref": "f2052b09-f858-4478-8808-f0c7cef11540",
       "rows": [
        [
         "False",
         "955"
        ],
        [
         "True",
         "45"
        ]
       ],
       "shape": {
        "columns": 1,
        "rows": 2
       }
      },
      "text/plain": [
       "Outlier_Z\n",
       "False    955\n",
       "True      45\n",
       "Name: count, dtype: int64"
      ]
     },
     "execution_count": 7,
     "metadata": {},
     "output_type": "execute_result"
    }
   ],
   "source": [
    "from scipy.stats import zscore\n",
    "\n",
    "df['Z'] = zscore(df['Amount'])\n",
    "df['Outlier_Z'] = df['Z'].abs() > 3\n",
    "df['Outlier_Z'].value_counts()\n"
   ]
  },
  {
   "cell_type": "code",
   "execution_count": 8,
   "id": "1eed4287",
   "metadata": {},
   "outputs": [
    {
     "data": {
      "application/vnd.microsoft.datawrangler.viewer.v0+json": {
       "columns": [
        {
         "name": "Outlier_IQR",
         "rawType": "bool",
         "type": "boolean"
        },
        {
         "name": "count",
         "rawType": "int64",
         "type": "integer"
        }
       ],
       "ref": "390f351e-3316-49f2-9257-f7c833a29b90",
       "rows": [
        [
         "False",
         "946"
        ],
        [
         "True",
         "54"
        ]
       ],
       "shape": {
        "columns": 1,
        "rows": 2
       }
      },
      "text/plain": [
       "Outlier_IQR\n",
       "False    946\n",
       "True      54\n",
       "Name: count, dtype: int64"
      ]
     },
     "execution_count": 8,
     "metadata": {},
     "output_type": "execute_result"
    }
   ],
   "source": [
    "Q1 = df['Amount'].quantile(0.25)\n",
    "Q3 = df['Amount'].quantile(0.75)\n",
    "IQR = Q3 - Q1\n",
    "\n",
    "df['Outlier_IQR'] = (df['Amount'] < (Q1 - 1.5 * IQR)) | (df['Amount'] > (Q3 + 1.5 * IQR))\n",
    "df['Outlier_IQR'].value_counts()"
   ]
  },
  {
   "cell_type": "code",
   "execution_count": 9,
   "id": "c955aa73",
   "metadata": {},
   "outputs": [
    {
     "data": {
      "image/png": "[encoded data removed]",
      "text/plain": [
       "<Figure size 640x480 with 1 Axes>"
      ]
     },
     "metadata": {},
     "output_type": "display_data"
    }
   ],
   "source": [
    "sns.histplot(df['Amount'], bins=30, kde=True)\n",
    "plt.show()"
   ]
  },
  {
   "cell_type": "code",
   "execution_count": 10,
   "id": "a75ea751",
   "metadata": {},
   "outputs": [
    {
     "data": {
      "application/vnd.microsoft.datawrangler.viewer.v0+json": {
       "columns": [
        {
         "name": "index",
         "rawType": "int64",
         "type": "integer"
        },
        {
         "name": "Transaction_ID",
         "rawType": "int64",
         "type": "integer"
        },
        {
         "name": "Amount",
         "rawType": "float64",
         "type": "float"
        },
        {
         "name": "Customer_ID",
         "rawType": "int32",
         "type": "integer"
        },
        {
         "name": "Merchant_Type",
         "rawType": "object",
         "type": "string"
        },
        {
         "name": "Z",
         "rawType": "float64",
         "type": "float"
        },
        {
         "name": "Outlier_Z",
         "rawType": "bool",
         "type": "boolean"
        },
        {
         "name": "Outlier_IQR",
         "rawType": "bool",
         "type": "boolean"
        }
       ],
       "ref": "4586e72f-37f6-4cd5-9218-f09a181f4296",
       "rows": [
        [
         "0",
         "1",
         "549.67",
         "1043",
         "Luxury",
         "-0.07879290027033589",
         "False",
         "False"
        ],
        [
         "1",
         "2",
         "486.17",
         "1048",
         "Grocery",
         "-0.26197303278809836",
         "False",
         "False"
        ],
        [
         "2",
         "3",
         "564.77",
         "1074",
         "Luxury",
         "-0.03523353017556078",
         "False",
         "False"
        ],
        [
         "3",
         "4",
         "652.3",
         "1060",
         "Electronics",
         "0.2172665800493173",
         "False",
         "False"
        ],
        [
         "4",
         "5",
         "476.58",
         "1066",
         "Luxury",
         "-0.2896375598880251",
         "False",
         "False"
        ]
       ],
       "shape": {
        "columns": 7,
        "rows": 5
       }
      },
      "text/html": [
       "<div>\n",
       "<style scoped>\n",
       "    .dataframe tbody tr th:only-of-type {\n",
       "        vertical-align: middle;\n",
       "    }\n",
       "\n",
       "    .dataframe tbody tr th {\n",
       "        vertical-align: top;\n",
       "    }\n",
       "\n",
       "    .dataframe thead th {\n",
       "        text-align: right;\n",
       "    }\n",
       "</style>\n",
       "<table border=\"1\" class=\"dataframe\">\n",
       "  <thead>\n",
       "    <tr style=\"text-align: right;\">\n",
       "      <th></th>\n",
       "      <th>Transaction_ID</th>\n",
       "      <th>Amount</th>\n",
       "      <th>Customer_ID</th>\n",
       "      <th>Merchant_Type</th>\n",
       "      <th>Z</th>\n",
       "      <th>Outlier_Z</th>\n",
       "      <th>Outlier_IQR</th>\n",
       "    </tr>\n",
       "  </thead>\n",
       "  <tbody>\n",
       "    <tr>\n",
       "      <th>0</th>\n",
       "      <td>1</td>\n",
       "      <td>549.67</td>\n",
       "      <td>1043</td>\n",
       "      <td>Luxury</td>\n",
       "      <td>-0.078793</td>\n",
       "      <td>False</td>\n",
       "      <td>False</td>\n",
       "    </tr>\n",
       "    <tr>\n",
       "      <th>1</th>\n",
       "      <td>2</td>\n",
       "      <td>486.17</td>\n",
       "      <td>1048</td>\n",
       "      <td>Grocery</td>\n",
       "      <td>-0.261973</td>\n",
       "      <td>False</td>\n",
       "      <td>False</td>\n",
       "    </tr>\n",
       "    <tr>\n",
       "      <th>2</th>\n",
       "      <td>3</td>\n",
       "      <td>564.77</td>\n",
       "      <td>1074</td>\n",
       "      <td>Luxury</td>\n",
       "      <td>-0.035234</td>\n",
       "      <td>False</td>\n",
       "      <td>False</td>\n",
       "    </tr>\n",
       "    <tr>\n",
       "      <th>3</th>\n",
       "      <td>4</td>\n",
       "      <td>652.30</td>\n",
       "      <td>1060</td>\n",
       "      <td>Electronics</td>\n",
       "      <td>0.217267</td>\n",
       "      <td>False</td>\n",
       "      <td>False</td>\n",
       "    </tr>\n",
       "    <tr>\n",
       "      <th>4</th>\n",
       "      <td>5</td>\n",
       "      <td>476.58</td>\n",
       "      <td>1066</td>\n",
       "      <td>Luxury</td>\n",
       "      <td>-0.289638</td>\n",
       "      <td>False</td>\n",
       "      <td>False</td>\n",
       "    </tr>\n",
       "  </tbody>\n",
       "</table>\n",
       "</div>"
      ],
      "text/plain": [
       "   Transaction_ID  Amount  Customer_ID Merchant_Type         Z  Outlier_Z  \\\n",
       "0               1  549.67         1043        Luxury -0.078793      False   \n",
       "1               2  486.17         1048       Grocery -0.261973      False   \n",
       "2               3  564.77         1074        Luxury -0.035234      False   \n",
       "3               4  652.30         1060   Electronics  0.217267      False   \n",
       "4               5  476.58         1066        Luxury -0.289638      False   \n",
       "\n",
       "   Outlier_IQR  \n",
       "0        False  \n",
       "1        False  \n",
       "2        False  \n",
       "3        False  \n",
       "4        False  "
      ]
     },
     "execution_count": 10,
     "metadata": {},
     "output_type": "execute_result"
    }
   ],
   "source": [
    "df.head()"
   ]
  },
  {
   "cell_type": "code",
   "execution_count": 11,
   "id": "9311cef5",
   "metadata": {},
   "outputs": [
    {
     "data": {
      "application/vnd.microsoft.datawrangler.viewer.v0+json": {
       "columns": [
        {
         "name": "index",
         "rawType": "int64",
         "type": "integer"
        },
        {
         "name": "Transaction_ID",
         "rawType": "int64",
         "type": "integer"
        },
        {
         "name": "Amount",
         "rawType": "float64",
         "type": "float"
        },
        {
         "name": "Customer_ID",
         "rawType": "int32",
         "type": "integer"
        },
        {
         "name": "Merchant_Type",
         "rawType": "object",
         "type": "string"
        },
        {
         "name": "Z",
         "rawType": "float64",
         "type": "float"
        },
        {
         "name": "Outlier_Z",
         "rawType": "bool",
         "type": "boolean"
        },
        {
         "name": "Outlier_IQR",
         "rawType": "bool",
         "type": "boolean"
        }
       ],
       "ref": "8121142e-a453-4864-96f5-47109090863f",
       "rows": [
        [
         "950",
         "951",
         "1927.63",
         "1077",
         "Electronics",
         "3.8962448226300768",
         "True",
         "True"
        ],
        [
         "951",
         "952",
         "2105.62",
         "1013",
         "Travel",
         "4.409697291714116",
         "True",
         "True"
        ],
        [
         "952",
         "953",
         "1624.54",
         "1033",
         "Travel",
         "3.021913068853562",
         "True",
         "True"
        ],
        [
         "953",
         "954",
         "2433.13",
         "1052",
         "Luxury",
         "5.354474066531321",
         "True",
         "True"
        ],
        [
         "954",
         "955",
         "1975.35",
         "1019",
         "Luxury",
         "4.033903971035551",
         "True",
         "True"
        ],
        [
         "955",
         "956",
         "2335.19",
         "1074",
         "Luxury",
         "5.071943953479515",
         "True",
         "True"
        ],
        [
         "956",
         "957",
         "2102.82",
         "1015",
         "Grocery",
         "4.401620057524358",
         "True",
         "True"
        ],
        [
         "957",
         "958",
         "2137.03",
         "1094",
         "Travel",
         "4.500306550964242",
         "True",
         "True"
        ],
        [
         "958",
         "959",
         "2170.93",
         "1069",
         "Electronics",
         "4.598098779190259",
         "True",
         "True"
        ],
        [
         "959",
         "960",
         "2134.31",
         "1055",
         "Luxury",
         "4.49246009489419",
         "True",
         "True"
        ],
        [
         "960",
         "961",
         "2192.82",
         "1082",
         "Electronics",
         "4.661245442195202",
         "True",
         "True"
        ],
        [
         "961",
         "962",
         "2398.75",
         "1057",
         "Electronics",
         "5.255297169587058",
         "True",
         "True"
        ],
        [
         "962",
         "963",
         "2058.96",
         "1003",
         "Luxury",
         "4.275095953394766",
         "True",
         "True"
        ],
        [
         "963",
         "964",
         "2212.7",
         "1003",
         "Travel",
         "4.718593804942495",
         "True",
         "True"
        ],
        [
         "965",
         "966",
         "2432.04",
         "1009",
         "Electronics",
         "5.351329714650307",
         "True",
         "True"
        ],
        [
         "970",
         "971",
         "2038.43",
         "1084",
         "Grocery",
         "4.21587251842485",
         "True",
         "True"
        ],
        [
         "972",
         "973",
         "2252.19",
         "1020",
         "Grocery",
         "4.83251165428307",
         "True",
         "True"
        ],
        [
         "975",
         "976",
         "1433.14",
         "1045",
         "Grocery",
         "2.469776417453566",
         "False",
         "True"
        ],
        [
         "977",
         "978",
         "1272.84",
         "1059",
         "Grocery",
         "2.0073547600898274",
         "False",
         "True"
        ],
        [
         "980",
         "981",
         "2235.74",
         "1019",
         "Travel",
         "4.785057903418231",
         "True",
         "True"
        ]
       ],
       "shape": {
        "columns": 7,
        "rows": 20
       }
      },
      "text/html": [
       "<div>\n",
       "<style scoped>\n",
       "    .dataframe tbody tr th:only-of-type {\n",
       "        vertical-align: middle;\n",
       "    }\n",
       "\n",
       "    .dataframe tbody tr th {\n",
       "        vertical-align: top;\n",
       "    }\n",
       "\n",
       "    .dataframe thead th {\n",
       "        text-align: right;\n",
       "    }\n",
       "</style>\n",
       "<table border=\"1\" class=\"dataframe\">\n",
       "  <thead>\n",
       "    <tr style=\"text-align: right;\">\n",
       "      <th></th>\n",
       "      <th>Transaction_ID</th>\n",
       "      <th>Amount</th>\n",
       "      <th>Customer_ID</th>\n",
       "      <th>Merchant_Type</th>\n",
       "      <th>Z</th>\n",
       "      <th>Outlier_Z</th>\n",
       "      <th>Outlier_IQR</th>\n",
       "    </tr>\n",
       "  </thead>\n",
       "  <tbody>\n",
       "    <tr>\n",
       "      <th>950</th>\n",
       "      <td>951</td>\n",
       "      <td>1927.63</td>\n",
       "      <td>1077</td>\n",
       "      <td>Electronics</td>\n",
       "      <td>3.896245</td>\n",
       "      <td>True</td>\n",
       "      <td>True</td>\n",
       "    </tr>\n",
       "    <tr>\n",
       "      <th>951</th>\n",
       "      <td>952</td>\n",
       "      <td>2105.62</td>\n",
       "      <td>1013</td>\n",
       "      <td>Travel</td>\n",
       "      <td>4.409697</td>\n",
       "      <td>True</td>\n",
       "      <td>True</td>\n",
       "    </tr>\n",
       "    <tr>\n",
       "      <th>952</th>\n",
       "      <td>953</td>\n",
       "      <td>1624.54</td>\n",
       "      <td>1033</td>\n",
       "      <td>Travel</td>\n",
       "      <td>3.021913</td>\n",
       "      <td>True</td>\n",
       "      <td>True</td>\n",
       "    </tr>\n",
       "    <tr>\n",
       "      <th>953</th>\n",
       "      <td>954</td>\n",
       "      <td>2433.13</td>\n",
       "      <td>1052</td>\n",
       "      <td>Luxury</td>\n",
       "      <td>5.354474</td>\n",
       "      <td>True</td>\n",
       "      <td>True</td>\n",
       "    </tr>\n",
       "    <tr>\n",
       "      <th>954</th>\n",
       "      <td>955</td>\n",
       "      <td>1975.35</td>\n",
       "      <td>1019</td>\n",
       "      <td>Luxury</td>\n",
       "      <td>4.033904</td>\n",
       "      <td>True</td>\n",
       "      <td>True</td>\n",
       "    </tr>\n",
       "    <tr>\n",
       "      <th>955</th>\n",
       "      <td>956</td>\n",
       "      <td>2335.19</td>\n",
       "      <td>1074</td>\n",
       "      <td>Luxury</td>\n",
       "      <td>5.071944</td>\n",
       "      <td>True</td>\n",
       "      <td>True</td>\n",
       "    </tr>\n",
       "    <tr>\n",
       "      <th>956</th>\n",
       "      <td>957</td>\n",
       "      <td>2102.82</td>\n",
       "      <td>1015</td>\n",
       "      <td>Grocery</td>\n",
       "      <td>4.401620</td>\n",
       "      <td>True</td>\n",
       "      <td>True</td>\n",
       "    </tr>\n",
       "    <tr>\n",
       "      <th>957</th>\n",
       "      <td>958</td>\n",
       "      <td>2137.03</td>\n",
       "      <td>1094</td>\n",
       "      <td>Travel</td>\n",
       "      <td>4.500307</td>\n",
       "      <td>True</td>\n",
       "      <td>True</td>\n",
       "    </tr>\n",
       "    <tr>\n",
       "      <th>958</th>\n",
       "      <td>959</td>\n",
       "      <td>2170.93</td>\n",
       "      <td>1069</td>\n",
       "      <td>Electronics</td>\n",
       "      <td>4.598099</td>\n",
       "      <td>True</td>\n",
       "      <td>True</td>\n",
       "    </tr>\n",
       "    <tr>\n",
       "      <th>959</th>\n",
       "      <td>960</td>\n",
       "      <td>2134.31</td>\n",
       "      <td>1055</td>\n",
       "      <td>Luxury</td>\n",
       "      <td>4.492460</td>\n",
       "      <td>True</td>\n",
       "      <td>True</td>\n",
       "    </tr>\n",
       "    <tr>\n",
       "      <th>960</th>\n",
       "      <td>961</td>\n",
       "      <td>2192.82</td>\n",
       "      <td>1082</td>\n",
       "      <td>Electronics</td>\n",
       "      <td>4.661245</td>\n",
       "      <td>True</td>\n",
       "      <td>True</td>\n",
       "    </tr>\n",
       "    <tr>\n",
       "      <th>961</th>\n",
       "      <td>962</td>\n",
       "      <td>2398.75</td>\n",
       "      <td>1057</td>\n",
       "      <td>Electronics</td>\n",
       "      <td>5.255297</td>\n",
       "      <td>True</td>\n",
       "      <td>True</td>\n",
       "    </tr>\n",
       "    <tr>\n",
       "      <th>962</th>\n",
       "      <td>963</td>\n",
       "      <td>2058.96</td>\n",
       "      <td>1003</td>\n",
       "      <td>Luxury</td>\n",
       "      <td>4.275096</td>\n",
       "      <td>True</td>\n",
       "      <td>True</td>\n",
       "    </tr>\n",
       "    <tr>\n",
       "      <th>963</th>\n",
       "      <td>964</td>\n",
       "      <td>2212.70</td>\n",
       "      <td>1003</td>\n",
       "      <td>Travel</td>\n",
       "      <td>4.718594</td>\n",
       "      <td>True</td>\n",
       "      <td>True</td>\n",
       "    </tr>\n",
       "    <tr>\n",
       "      <th>965</th>\n",
       "      <td>966</td>\n",
       "      <td>2432.04</td>\n",
       "      <td>1009</td>\n",
       "      <td>Electronics</td>\n",
       "      <td>5.351330</td>\n",
       "      <td>True</td>\n",
       "      <td>True</td>\n",
       "    </tr>\n",
       "    <tr>\n",
       "      <th>970</th>\n",
       "      <td>971</td>\n",
       "      <td>2038.43</td>\n",
       "      <td>1084</td>\n",
       "      <td>Grocery</td>\n",
       "      <td>4.215873</td>\n",
       "      <td>True</td>\n",
       "      <td>True</td>\n",
       "    </tr>\n",
       "    <tr>\n",
       "      <th>972</th>\n",
       "      <td>973</td>\n",
       "      <td>2252.19</td>\n",
       "      <td>1020</td>\n",
       "      <td>Grocery</td>\n",
       "      <td>4.832512</td>\n",
       "      <td>True</td>\n",
       "      <td>True</td>\n",
       "    </tr>\n",
       "    <tr>\n",
       "      <th>975</th>\n",
       "      <td>976</td>\n",
       "      <td>1433.14</td>\n",
       "      <td>1045</td>\n",
       "      <td>Grocery</td>\n",
       "      <td>2.469776</td>\n",
       "      <td>False</td>\n",
       "      <td>True</td>\n",
       "    </tr>\n",
       "    <tr>\n",
       "      <th>977</th>\n",
       "      <td>978</td>\n",
       "      <td>1272.84</td>\n",
       "      <td>1059</td>\n",
       "      <td>Grocery</td>\n",
       "      <td>2.007355</td>\n",
       "      <td>False</td>\n",
       "      <td>True</td>\n",
       "    </tr>\n",
       "    <tr>\n",
       "      <th>980</th>\n",
       "      <td>981</td>\n",
       "      <td>2235.74</td>\n",
       "      <td>1019</td>\n",
       "      <td>Travel</td>\n",
       "      <td>4.785058</td>\n",
       "      <td>True</td>\n",
       "      <td>True</td>\n",
       "    </tr>\n",
       "  </tbody>\n",
       "</table>\n",
       "</div>"
      ],
      "text/plain": [
       "     Transaction_ID   Amount  Customer_ID Merchant_Type         Z  Outlier_Z  \\\n",
       "950             951  1927.63         1077   Electronics  3.896245       True   \n",
       "951             952  2105.62         1013        Travel  4.409697       True   \n",
       "952             953  1624.54         1033        Travel  3.021913       True   \n",
       "953             954  2433.13         1052        Luxury  5.354474       True   \n",
       "954             955  1975.35         1019        Luxury  4.033904       True   \n",
       "955             956  2335.19         1074        Luxury  5.071944       True   \n",
       "956             957  2102.82         1015       Grocery  4.401620       True   \n",
       "957             958  2137.03         1094        Travel  4.500307       True   \n",
       "958             959  2170.93         1069   Electronics  4.598099       True   \n",
       "959             960  2134.31         1055        Luxury  4.492460       True   \n",
       "960             961  2192.82         1082   Electronics  4.661245       True   \n",
       "961             962  2398.75         1057   Electronics  5.255297       True   \n",
       "962             963  2058.96         1003        Luxury  4.275096       True   \n",
       "963             964  2212.70         1003        Travel  4.718594       True   \n",
       "965             966  2432.04         1009   Electronics  5.351330       True   \n",
       "970             971  2038.43         1084       Grocery  4.215873       True   \n",
       "972             973  2252.19         1020       Grocery  4.832512       True   \n",
       "975             976  1433.14         1045       Grocery  2.469776      False   \n",
       "977             978  1272.84         1059       Grocery  2.007355      False   \n",
       "980             981  2235.74         1019        Travel  4.785058       True   \n",
       "\n",
       "     Outlier_IQR  \n",
       "950         True  \n",
       "951         True  \n",
       "952         True  \n",
       "953         True  \n",
       "954         True  \n",
       "955         True  \n",
       "956         True  \n",
       "957         True  \n",
       "958         True  \n",
       "959         True  \n",
       "960         True  \n",
       "961         True  \n",
       "962         True  \n",
       "963         True  \n",
       "965         True  \n",
       "970         True  \n",
       "972         True  \n",
       "975         True  \n",
       "977         True  \n",
       "980         True  "
      ]
     },
     "execution_count": 11,
     "metadata": {},
     "output_type": "execute_result"
    }
   ],
   "source": [
    "merchant_outlier = df[df['Amount'] >= 1000].groupby('Merchant_Type')\n",
    "merchant_outlier.head()"
   ]
  },
  {
   "cell_type": "code",
   "execution_count": 12,
   "id": "af3676ac",
   "metadata": {},
   "outputs": [
    {
     "name": "stdout",
     "output_type": "stream",
     "text": [
      "Merchant Type: Electronics\n",
      "Transaction_ID    14\n",
      "Amount            14\n",
      "dtype: int64\n",
      "\n",
      "\n",
      "Merchant Type: Grocery\n",
      "Transaction_ID    13\n",
      "Amount            13\n",
      "dtype: int64\n",
      "\n",
      "\n",
      "Merchant Type: Luxury\n",
      "Transaction_ID    13\n",
      "Amount            13\n",
      "dtype: int64\n",
      "\n",
      "\n",
      "Merchant Type: Travel\n",
      "Transaction_ID    10\n",
      "Amount            10\n",
      "dtype: int64\n",
      "\n",
      "\n"
     ]
    }
   ],
   "source": [
    "for merchant, group in merchant_outlier:\n",
    "    print(f\"Merchant Type: {merchant}\")\n",
    "    print(group[['Transaction_ID', 'Amount']].count())\n",
    "    print(\"\\n\")"
   ]
  },
  {
   "cell_type": "code",
   "execution_count": 13,
   "id": "49c9956a",
   "metadata": {},
   "outputs": [
    {
     "name": "stdout",
     "output_type": "stream",
     "text": [
      "Outliers by Merchant Type around Z score: Merchant_Type\n",
      "Electronics    14\n",
      "Luxury         13\n",
      "Grocery        13\n",
      "Travel         10\n",
      "Name: count, dtype: int64\n"
     ]
    }
   ],
   "source": [
    "merchant_outliers_Z = merchant_outlier.filter(lambda x: x['Outlier_Z'].any())\n",
    "print(\"Outliers by Merchant Type around Z score:\", merchant_outliers_Z['Merchant_Type'].value_counts())"
   ]
  },
  {
   "cell_type": "code",
   "execution_count": 14,
   "id": "04652041",
   "metadata": {},
   "outputs": [
    {
     "name": "stdout",
     "output_type": "stream",
     "text": [
      "Outliers by Merchant Type around IQR: Merchant_Type\n",
      "Electronics    14\n",
      "Luxury         13\n",
      "Grocery        13\n",
      "Travel         10\n",
      "Name: count, dtype: int64\n"
     ]
    }
   ],
   "source": [
    "merchant_outliers_IQR = merchant_outlier.filter(lambda x: x['Outlier_IQR'].any())\n",
    "print(\"Outliers by Merchant Type around IQR:\", merchant_outliers_IQR['Merchant_Type'].value_counts())\n"
   ]
  },
  {
   "cell_type": "code",
   "execution_count": 15,
   "id": "81b54a65",
   "metadata": {},
   "outputs": [
    {
     "data": {
      "image/png": "[encoded data removed]",
      "text/plain": [
       "<Figure size 640x480 with 1 Axes>"
      ]
     },
     "metadata": {},
     "output_type": "display_data"
    }
   ],
   "source": [
    "sns.histplot(df[df['Merchant_Type'] == 'Luxury']['Amount'], bins=30, kde=True)\n",
    "plt.title('Luxury Merchant Transactions')\n",
    "plt.show()"
   ]
  },
  {
   "cell_type": "code",
   "execution_count": 16,
   "id": "3d6b370a",
   "metadata": {},
   "outputs": [
    {
     "data": {
      "image/png": "[encoded data removed]",
      "text/plain": [
       "<Figure size 640x480 with 1 Axes>"
      ]
     },
     "metadata": {},
     "output_type": "display_data"
    }
   ],
   "source": [
    "sns.histplot(df[df['Merchant_Type'] == 'Electronics']['Amount'], bins=30, kde=True)\n",
    "plt.title('Electronics Merchant Transactions')\n",
    "plt.show()\n"
   ]
  },
  {
   "cell_type": "code",
   "execution_count": 17,
   "id": "f4e6c1dd",
   "metadata": {},
   "outputs": [
    {
     "data": {
      "image/png": "[encoded data removed]",
      "text/plain": [
       "<Figure size 640x480 with 1 Axes>"
      ]
     },
     "metadata": {},
     "output_type": "display_data"
    }
   ],
   "source": [
    "sns.histplot(df[df['Merchant_Type'] == 'Grocery']['Amount'], bins=30, kde=True)\n",
    "plt.title('Grocery Merchant Transactions')\n",
    "plt.show()\n"
   ]
  },
  {
   "cell_type": "code",
   "execution_count": 18,
   "id": "95d5623a",
   "metadata": {},
   "outputs": [
    {
     "data": {
      "image/png": "[encoded data removed]",
      "text/plain": [
       "<Figure size 640x480 with 1 Axes>"
      ]
     },
     "metadata": {},
     "output_type": "display_data"
    }
   ],
   "source": [
    "sns.histplot(df[df['Merchant_Type'] == 'Travel']['Amount'], bins=30, kde=True)\n",
    "plt.title('Travel Merchant Transactions')\n",
    "plt.show()"
   ]
  },
  {
   "cell_type": "code",
   "execution_count": 19,
   "id": "cf71b4d4",
   "metadata": {},
   "outputs": [
    {
     "data": {
      "application/vnd.microsoft.datawrangler.viewer.v0+json": {
       "columns": [
        {
         "name": "index",
         "rawType": "object",
         "type": "string"
        },
        {
         "name": "Amount",
         "rawType": "float64",
         "type": "float"
        }
       ],
       "ref": "4086c98d-a4b5-470b-98b7-df29b8947425",
       "rows": [
        [
         "count",
         "1000.0"
        ],
        [
         "mean",
         "576.98382"
        ],
        [
         "std",
         "346.8267707809447"
        ],
        [
         "min",
         "175.87"
        ],
        [
         "25%",
         "439.97"
        ],
        [
         "50%",
         "507.96500000000003"
        ],
        [
         "75%",
         "576.8275"
        ],
        [
         "max",
         "2540.28"
        ]
       ],
       "shape": {
        "columns": 1,
        "rows": 8
       }
      },
      "text/plain": [
       "count    1000.000000\n",
       "mean      576.983820\n",
       "std       346.826771\n",
       "min       175.870000\n",
       "25%       439.970000\n",
       "50%       507.965000\n",
       "75%       576.827500\n",
       "max      2540.280000\n",
       "Name: Amount, dtype: float64"
      ]
     },
     "execution_count": 19,
     "metadata": {},
     "output_type": "execute_result"
    }
   ],
   "source": [
    "# With outliers\n",
    "df['Amount'].describe()"
   ]
  },
  {
   "cell_type": "code",
   "execution_count": 20,
   "id": "7d55fd70",
   "metadata": {},
   "outputs": [
    {
     "data": {
      "application/vnd.microsoft.datawrangler.viewer.v0+json": {
       "columns": [
        {
         "name": "index",
         "rawType": "object",
         "type": "string"
        },
        {
         "name": "Amount_rmoutliers",
         "rawType": "float64",
         "type": "float"
        }
       ],
       "ref": "bb192290-a90d-48df-9530-0d440bf40645",
       "rows": [
        [
         "count",
         "955.0"
        ],
        [
         "mean",
         "506.9080732984293"
        ],
        [
         "std",
         "119.03069299160494"
        ],
        [
         "min",
         "175.87"
        ],
        [
         "25%",
         "435.86"
        ],
        [
         "50%",
         "502.87"
        ],
        [
         "75%",
         "565.55"
        ],
        [
         "max",
         "1570.77"
        ]
       ],
       "shape": {
        "columns": 1,
        "rows": 8
       }
      },
      "text/plain": [
       "count     955.000000\n",
       "mean      506.908073\n",
       "std       119.030693\n",
       "min       175.870000\n",
       "25%       435.860000\n",
       "50%       502.870000\n",
       "75%       565.550000\n",
       "max      1570.770000\n",
       "Name: Amount_rmoutliers, dtype: float64"
      ]
     },
     "execution_count": 20,
     "metadata": {},
     "output_type": "execute_result"
    }
   ],
   "source": [
    "# Without outliers\n",
    "df['Amount_rmoutliers'] = df['Amount'].where(~df['Outlier_Z'], np.nan)\n",
    "df['Amount_rmoutliers'].describe()"
   ]
  },
  {
   "cell_type": "code",
   "execution_count": 23,
   "id": "255521a2",
   "metadata": {},
   "outputs": [
    {
     "data": {
      "text/plain": [
       "np.float64(70.07574670157072)"
      ]
     },
     "execution_count": 23,
     "metadata": {},
     "output_type": "execute_result"
    }
   ],
   "source": [
    "difference = df['Amount'].mean() - df['Amount_rmoutliers'].mean()\n",
    "difference"
   ]
  },
  {
   "cell_type": "code",
   "execution_count": null,
   "id": "5c760f54",
   "metadata": {},
   "outputs": [],
   "source": []
  },
  {
   "cell_type": "markdown",
   "id": "e75df6f5",
   "metadata": {},
   "source": [
    "### Answer\n",
    "\n",
    "1. In Z-score and IQR score, the number of outliers are same i.e. 50.\n",
    "\n",
    "2. Electronics Mechant_type have most of the outliers.  \n",
    "But in luxury and grocery has also have too many outliers(just 1 less than electronics)\n",
    "    - Also in luxury(Merchant_type) the number of customer are more who are spending in one specific range. Wheras in electronics and grocery the no. of customers are distributed along outliers.\n",
    "\n",
    "3. Difference in average spend with/without outliers = 70.075\n",
    "\n",
    "4. As most of the amount lies between 300 to 700, we have to offer more discounts and points over all the merchant_type. And for outliers we have to increase the supply of electronics to get more customers.\n"
   ]
  }
 ],
 "metadata": {
  "kernelspec": {
   "display_name": "Python 3",
   "language": "python",
   "name": "python3"
  },
  "language_info": {
   "codemirror_mode": {
    "name": "ipython",
    "version": 3
   },
   "file_extension": ".py",
   "mimetype": "text/x-python",
   "name": "python",
   "nbconvert_exporter": "python",
   "pygments_lexer": "ipython3",
   "version": "3.10.0"
  }
 },
 "nbformat": 4,
 "nbformat_minor": 5
}
